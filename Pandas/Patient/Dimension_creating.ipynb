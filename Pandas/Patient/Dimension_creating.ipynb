{
 "cells": [
  {
   "cell_type": "code",
   "execution_count": 2,
   "id": "2d6b9dfe-6433-43c3-a5f7-cff758ddaf26",
   "metadata": {},
   "outputs": [],
   "source": [
    "import pandas as pd\n",
    "import numpy as np\n",
    "import warnings\n",
    "warnings.filterwarnings('ignore')"
   ]
  },
  {
   "cell_type": "code",
   "execution_count": null,
   "id": "32f62efc-9f8f-4e72-b918-9401105ca071",
   "metadata": {},
   "outputs": [],
   "source": []
  },
  {
   "cell_type": "code",
   "execution_count": 3,
   "id": "c0fc438b-d13b-48b5-b551-9c95656ebde8",
   "metadata": {},
   "outputs": [],
   "source": [
    "input_df = pd.read_excel('input.xlsx')"
   ]
  },
  {
   "cell_type": "code",
   "execution_count": 5,
   "id": "0ece5778-ed75-44a6-9a6e-7bc70d74cac2",
   "metadata": {},
   "outputs": [
    {
     "data": {
      "text/plain": [
       "Index(['Encounter_Date', 'Facility_Name', 'Appointment_Provider_Name',\n",
       "       'Patient_Account_Number', 'Visit', 'Category', 'Patient_Name',\n",
       "       'Financial_Class', 'Patient_Primary_Insurance_Name',\n",
       "       'Patient_Secondary_Insurance_Name', 'CPT_Code', 'Modifier_1',\n",
       "       'Modifier_2', 'Modifier_3', 'Visit_type', 'ICD_Code_1', 'ICD_Code_2',\n",
       "       'ICD_Code_3', 'ICD_Code_4', 'ICD_Code_5', 'ICD_Code_6', 'ICD_Code_7',\n",
       "       'ICD_Code_8', 'ICD_Code_9', 'Units', 'Arrived_Time', 'Departure_Time',\n",
       "       'New_Patient', 'Encounter_Done_Status', 'Total_Time', 'Procedure_Notes',\n",
       "       'Document_Section', 'GC_NGC', 'Status1', 'Status', 'Arrival_Status',\n",
       "       'POS', 'INS_SelfPay', 'Visit_Notes', 'client'],\n",
       "      dtype='object')"
      ]
     },
     "execution_count": 5,
     "metadata": {},
     "output_type": "execute_result"
    }
   ],
   "source": [
    "input_df.columns"
   ]
  },
  {
   "cell_type": "markdown",
   "id": "a28952f4-3b3b-4317-8ff6-4873a5a16d62",
   "metadata": {},
   "source": [
    "# Pat_dim"
   ]
  },
  {
   "cell_type": "code",
   "execution_count": null,
   "id": "49b86610-0c35-4d6a-87a3-e96c58da3e28",
   "metadata": {},
   "outputs": [],
   "source": [
    "pat_dim = pd.DataFrame(columns=['pat_dim_id','pat_source_key','pat_generated_name','pat_registered_on','pat_year_of_birth',\n",
    "                                    'source_system',\n",
    "                                    'created_date'])\n",
    "\n",
    "pat_dim['pat_source_key'] = input_df['Patient_Account_Number']\n",
    "\n",
    "pat_dim['pat_generated_name'] = input_df['Patient_Name']\n",
    "\n",
    "pat_dim['pat_registered_on'] = input_df['Encounter_Date']\n",
    "\n",
    "pat_dim.drop_duplicates(keep='first',inplace=True,ignore_index=True)\n",
    "\n",
    "pat_id = []\n",
    "\n",
    "for i in range(1,len(pat_dim)+1):\n",
    "    id=f'pat_00{i}'\n",
    "    pat_id.append(id)\n",
    "\n",
    "pat_dim['pat_dim_id'] = pat_id\n",
    "\n",
    "pat_dim['created_date'] = pd.to_datetime('today').date()"
   ]
  },
  {
   "cell_type": "code",
   "execution_count": null,
   "id": "1ab72860-d95c-42fb-ac18-1ddeb0765e31",
   "metadata": {},
   "outputs": [],
   "source": []
  },
  {
   "cell_type": "markdown",
   "id": "d5334e92-1703-47b6-ac18-4d0f500ffe04",
   "metadata": {},
   "source": [
    "# Service_provider_dim"
   ]
  },
  {
   "cell_type": "code",
   "execution_count": null,
   "id": "38d42218-8cec-42bc-a1d9-09f8103ee963",
   "metadata": {},
   "outputs": [],
   "source": [
    "Service_provider_dim=pd.DataFrame(columns=['service_provider_Id',\n",
    "'service_provider_first_name',\n",
    "'service_provider_last_name',\n",
    "'service_provider_specialization',\n",
    "'service_provider_job_role',\n",
    "'service_provider_gender',\n",
    "'service_provider_credential',\n",
    "'service_provider_NPI',\n",
    "'created_date'])\n",
    "\n",
    "sp_name = input_df['Appointment_Provider_Name']\n",
    "\n",
    "sp_name =  sp_name.str.split()\n",
    "\n",
    "fn = []\n",
    "ln = []\n",
    "role = []\n",
    "\n",
    "for i in sp_name:\n",
    "    fn.append(i[-1])\n",
    "    ln.append(i[0])\n",
    "    role.append(i[1][0:-1])\n",
    "\n",
    "Service_provider_dim['service_provider_first_name'] = fn\n",
    "Service_provider_dim['service_provider_last_name'] = ln\n",
    "Service_provider_dim['service_provider_job_role'] = role\n",
    "\n",
    "Service_provider_dim.drop_duplicates(keep='first',inplace=True,ignore_index=True)\n",
    "\n",
    "ser_id = []\n",
    "for i in range(1,len(Service_provider_dim)+1):\n",
    "    id = f'sp_00{i}'\n",
    "    ser_id.append(id)\n",
    "\n",
    "Service_provider_dim['service_provider_Id'] = ser_id\n",
    "\n",
    "Service_provider_dim['created_date'] = pd.to_datetime('today').date()"
   ]
  },
  {
   "cell_type": "code",
   "execution_count": null,
   "id": "094cb641-7ab2-4f6d-85d6-7903d9fa0f55",
   "metadata": {},
   "outputs": [],
   "source": []
  },
  {
   "cell_type": "markdown",
   "id": "19f2f29d-2f8c-4ef2-8dc7-9be5a19cba68",
   "metadata": {},
   "source": [
    "# visit_type_dim"
   ]
  },
  {
   "cell_type": "code",
   "execution_count": null,
   "id": "bca4b818-79a7-4670-bb59-b1097627ff7a",
   "metadata": {},
   "outputs": [],
   "source": [
    "visit_type_dim =pd.DataFrame(columns=['visit_type_dim_id',\n",
    "'visit_type_dim_code',\n",
    "'visit_type_dim_desc',\n",
    "'created_date'])\n",
    "\n",
    "visit_code=input_df['Visit_type'].drop_duplicates(keep='first',ignore_index=True)\n",
    "\n",
    "visit_type_dim['visit_type_dim_code'] = visit_code\n",
    "\n",
    "visit_desc={'P':'Private (Normal treatment)',\n",
    "\t'E': 'EPS (Screening)',\n",
    "\t'W': 'Worker comp',\n",
    "\t'M' : 'Misc  [only Self pay]'}\n",
    "\n",
    "\n",
    "visit_type_dim['visit_type_dim_desc'] = visit_type_dim['visit_type_dim_code'].map(visit_desc)\n",
    "\n",
    "visit_id=[]\n",
    "for i in range(1,len(visit_type_dim)+1):\n",
    "    i=str(i)\n",
    "    if len(i)==1:\n",
    "        id=f'V_00{i}'\n",
    "        visit_id.append(id)\n",
    "    elif len(i)==2:\n",
    "        id=f'V_0{i}'\n",
    "        visit_id.append(id)\n",
    "    else:\n",
    "        id=f'V_{i}'\n",
    "        visit_id.append(id) \n",
    "\n",
    "visit_type_dim['visit_type_dim_id'] = visit_id\n",
    "\n",
    "visit_type_dim['created_date'] = pd.to_datetime('today').date()\n",
    "\n"
   ]
  },
  {
   "cell_type": "markdown",
   "id": "b1b27eb2-13e3-4bcc-abd3-7d3c153fdbc8",
   "metadata": {},
   "source": [
    "# calendar_dim"
   ]
  },
  {
   "cell_type": "code",
   "execution_count": null,
   "id": "37ed29f6-1168-4224-899b-317757e9badf",
   "metadata": {},
   "outputs": [],
   "source": [
    "calendar_dim=pd.DataFrame(columns=['cal_date_id',\n",
    "'cal_date',\n",
    "'cal_year',\n",
    "'cal_month',\n",
    "'cal_quarter',\n",
    "'cal_week_of_year',\n",
    "'cal_day_date',\n",
    "'day_name',                                \n",
    "'created_date'])\n",
    "\n",
    "start_date= pd.to_datetime('today').date()\n",
    "end_date='2026-12-31'\n",
    "\n",
    "calendar_dim['cal_date'] = pd.date_range(start_date,end_date,freq='D')\n",
    "calendar_dim['cal_year'] = calendar_dim['cal_date'].dt.year\n",
    "\n",
    "calendar_dim['cal_month'] = calendar_dim['cal_date'].dt.month\n",
    "calendar_dim['cal_quarter'] = calendar_dim['cal_date'].dt.quarter \n",
    "calendar_dim['cal_day_date'] =  calendar_dim['cal_date'].dt.day\n",
    "calendar_dim['day_name'] = calendar_dim['cal_date'].dt.day_name()\n",
    "calendar_dim['created_date'] = pd.to_datetime('today').date()\n",
    "\n",
    "week = calendar_dim['cal_date'].dt.isocalendar().week-1\n",
    "calendar_dim['cal_week_of_year'] = week\n",
    "\n",
    "cl_id = []\n",
    "for i in range(1,len(calendar_dim)+1):\n",
    "    id = f'cal_date_00{i}'\n",
    "    cl_id.append(id)\n",
    "\n",
    "calendar_dim['cal_date_id'] = cl_id"
   ]
  },
  {
   "cell_type": "code",
   "execution_count": null,
   "id": "9d41f95e-52b4-4269-b182-86e7b3265648",
   "metadata": {},
   "outputs": [],
   "source": []
  },
  {
   "cell_type": "markdown",
   "id": "5a5b7175-0b62-4f7a-a191-88de20832fc7",
   "metadata": {},
   "source": [
    "# visit_category_dim"
   ]
  },
  {
   "cell_type": "code",
   "execution_count": null,
   "id": "aa44014a-c424-436f-9e0f-7d6dfc562d03",
   "metadata": {},
   "outputs": [],
   "source": [
    "visit_category_dim=pd.DataFrame(columns=['visit_category_dim_id',\n",
    "'visit_category_code',\n",
    "'visit_category_desc',\n",
    "'created_date'])\n",
    "\n",
    "visit_category_dim\n",
    "\n",
    "visit_category_dim['visit_category_desc'] = input_df['Category']\n",
    "\n",
    "visit_category_dim['created_date'] = pd.to_datetime('today').date()\n",
    "\n",
    "visit_category_dim['visit_category_code'] = visit_category_dim['visit_category_desc'].apply(lambda x:x[0:3])\n",
    "\n",
    "visit_category_dim.drop_duplicates(keep = 'first',inplace = True,ignore_index=True)\n",
    "\n",
    "vc_id = []\n",
    "for i in range(1,len(visit_category_dim) +1):\n",
    "    id=f'VC_00{i}'\n",
    "    vc_id.append(id)\n",
    "\n",
    "visit_category_dim['visit_category_dim_id'] = vc_id"
   ]
  },
  {
   "cell_type": "code",
   "execution_count": null,
   "id": "2afc5aea-af6f-4d16-91bc-9aa7c2cfe53d",
   "metadata": {},
   "outputs": [],
   "source": []
  },
  {
   "cell_type": "markdown",
   "id": "c1a16787-0dbe-4543-b8a9-d04fe2ecca79",
   "metadata": {},
   "source": [
    "# contract_type_dim"
   ]
  },
  {
   "cell_type": "code",
   "execution_count": null,
   "id": "50830c07-eb58-4d68-9c3f-2dad852290bf",
   "metadata": {},
   "outputs": [],
   "source": [
    "contract_type_dim=pd.DataFrame(columns=['contract_type_id',\n",
    "'contract_type_code',\n",
    "'contract_type_desc',\n",
    "'created_date'])\n",
    "\n",
    "contract_type_desc=input_df['Financial_Class'].drop_duplicates(keep='first',ignore_index=True)\n",
    "\n",
    "contract_type_dim['contract_type_desc']=contract_type_desc\n",
    "contract_type_dim['contract_type_code']=contract_type_dim['contract_type_desc'].apply(lambda x:x[0:3])\n",
    "\n",
    "contract_type_dim['created_date'] = pd.to_datetime('today').date()\n",
    "\n",
    "cc_id = []\n",
    "for i in range(1,len(contract_type_dim) +1):\n",
    "    id=f'C_00{i}'\n",
    "    cc_id.append(id)\n",
    "\n",
    "contract_type_dim['contract_type_id'] = cc_id"
   ]
  },
  {
   "cell_type": "markdown",
   "id": "55c96b56-cbb5-4acd-af53-35a986aa4561",
   "metadata": {},
   "source": [
    "# insurance_firms_dim"
   ]
  },
  {
   "cell_type": "code",
   "execution_count": null,
   "id": "f7ea84c2-503c-44e8-a97b-ff149f6f041c",
   "metadata": {},
   "outputs": [],
   "source": [
    "insurance_firms_dim=pd.DataFrame(columns=['ins_firm_id',\n",
    "'ins_firm_code',\n",
    "'ins_firm_name',\n",
    "'created_date'])\n",
    "\n",
    "ins_firm_name = input_df['Patient_Primary_Insurance_Name'].drop_duplicates(keep='first', ignore_index=True)\n",
    "\n",
    "insurance_firms_dim['ins_firm_name'] = ins_firm_name\n",
    "\n",
    "insurance_firms_dim['ins_firm_code']= insurance_firms_dim['ins_firm_name'].apply(lambda x:x[0:3]) \n",
    "\n",
    "insurance_firms_dim['created_date'] = pd.to_datetime('today').date()\n",
    "\n",
    "if_id = []\n",
    "for i in range(1,len(insurance_firms_dim) +1):\n",
    "    id=f'INS_00{i}'\n",
    "    if_id.append(id)\n",
    "\n",
    "insurance_firms_dim['ins_firm_id'] = if_id"
   ]
  },
  {
   "cell_type": "code",
   "execution_count": null,
   "id": "3f56d464-deb6-45e1-af51-81adac8f6912",
   "metadata": {},
   "outputs": [],
   "source": []
  },
  {
   "cell_type": "markdown",
   "id": "89c563cc-60af-4323-8ae6-1b143c37e671",
   "metadata": {},
   "source": [
    "# financial_class_dim"
   ]
  },
  {
   "cell_type": "code",
   "execution_count": null,
   "id": "6932d57b-fda9-488c-be47-62652930c7a2",
   "metadata": {},
   "outputs": [],
   "source": [
    "financial_class_dim=pd.DataFrame(columns=['financial_class_dim_id',\n",
    "'financial_class_dim_code',\n",
    "'financial_class_dim_desc',\n",
    "'created_date'])\n",
    "\n",
    "financial_class_dim_desc=input_df['Financial_Class'].drop_duplicates(keep='first',ignore_index=True)\n",
    "financial_class_dim['financial_class_dim_desc'] = financial_class_dim_desc\n",
    "financial_class_dim['created_date'] = pd.to_datetime('today').date()\n",
    "financial_class_dim['financial_class_dim_code']=financial_class_dim['financial_class_dim_desc'].apply(lambda x:x[0:3])\n",
    "\n",
    "fin_id = []\n",
    "for i in range(1,len(financial_class_dim) +1):\n",
    "    id=f'FC_00{i}'\n",
    "    fin_id.append(id)\n",
    "\n",
    "financial_class_dim['financial_class_dim_id'] = fin_id"
   ]
  },
  {
   "cell_type": "code",
   "execution_count": null,
   "id": "ec62783f-5d8f-4330-8367-be347017b68b",
   "metadata": {},
   "outputs": [],
   "source": []
  },
  {
   "cell_type": "markdown",
   "id": "80153fa5-b771-4e33-b39e-feb97fdfee55",
   "metadata": {},
   "source": [
    "# cpt_code_dim"
   ]
  },
  {
   "cell_type": "code",
   "execution_count": null,
   "id": "0ad3d1ca-a2f7-46b9-afff-540e721f55bb",
   "metadata": {},
   "outputs": [],
   "source": [
    "cpt_code_dim=pd.DataFrame(columns=['cpt_dim_id',\n",
    "'cpt_code',\n",
    "'cpt_desc',\n",
    "'created_date'])\n",
    "\n",
    "cpt_code = input_df['CPT_Code'].drop_duplicates(keep = 'first',ignore_index=True)\n",
    "cpt_code_dim['cpt_code'] = cpt_code\n",
    "cpt_code_dim['cpt_desc'] = cpt_code_dim['cpt_code'].apply(lambda x:str(x)[0:3]) \n",
    "\n",
    "fin_id = []\n",
    "for i in range(1,len(cpt_code_dim) +1):\n",
    "    id=f'CP_00{i}'\n",
    "    fin_id.append(id)\n",
    "\n",
    "cpt_code_dim['cpt_dim_id'] = fin_id\n",
    "\n",
    "cpt_code_dim['created_date'] = pd.to_datetime('today').date()"
   ]
  },
  {
   "cell_type": "code",
   "execution_count": null,
   "id": "ba37108b-9b8e-4f01-baeb-102a0f18f04e",
   "metadata": {},
   "outputs": [],
   "source": []
  },
  {
   "cell_type": "markdown",
   "id": "c4533c05-ec79-465e-a737-a24ad8edc169",
   "metadata": {},
   "source": [
    "# clinic_dim"
   ]
  },
  {
   "cell_type": "code",
   "execution_count": null,
   "id": "379a7d3e-d6b5-4359-a38c-3b0c83dce0a9",
   "metadata": {},
   "outputs": [],
   "source": [
    "clinic_dim=pd.DataFrame(columns=['clinic_dim_id',\n",
    "'clinic_source_id',\n",
    "'clinic_name',\n",
    "'clinic_type',\n",
    "'clinic_size',\n",
    "'clinic_operational_since',\n",
    "'clinic_region',\n",
    "'client_name',\n",
    "'created_date'])\n",
    "\n",
    "clinic_name=input_df['Facility_Name'].drop_duplicates(keep='first',ignore_index=True)\n",
    "clinic_dim['clinic_name'] = clinic_name\n",
    "clinic_dim['clinic_source_id']=clinic_dim['clinic_name'].apply(lambda x:str(x)[0:3]) \n",
    "clinic_dim['created_date'] = pd.to_datetime('today').date()\n",
    "\n",
    "clinic_dim_id=[]\n",
    "for i in range(1,len(clinic_name)+1):\n",
    "    i=str(i)\n",
    "    if len(i)==1:\n",
    "        id=f'CL_00{i}'\n",
    "        clinic_dim_id.append(id)\n",
    "    elif len(i)==2:\n",
    "        id=f'CL_0{i}'\n",
    "        clinic_dim_id.append(id)\n",
    "    else:\n",
    "        id=f'CL_{i}'\n",
    "        clinic_dim_id.append(id) \n",
    "\n",
    "\n",
    "clinic_dim['clinic_dim_id']=clinic_dim_id"
   ]
  },
  {
   "cell_type": "code",
   "execution_count": 231,
   "id": "ccf71462-70bf-4672-90fd-c84a66b32a2a",
   "metadata": {},
   "outputs": [],
   "source": [
    "with pd.ExcelWriter(\"dimensions.xlsx\") as writer:\n",
    "    pat_dim.to_excel(writer, sheet_name=\"Patient_dim\", index=False)\n",
    "    Service_provider_dim.to_excel(writer, sheet_name=\"Service_provider_dim\", index=False)\n",
    "    visit_type_dim.to_excel(writer, sheet_name=\"visit_type_dim\", index=False)\n",
    "    calendar_dim.to_excel(writer, sheet_name=\"calendar_dim\", index=False)\n",
    "    visit_category_dim.to_excel(writer, sheet_name=\"visit_category_dim\", index=False)\n",
    "    contract_type_dim.to_excel(writer, sheet_name=\"contract_type_dim\", index=False)\n",
    "    insurance_firms_dim.to_excel(writer, sheet_name=\"insurance_firms_dim\", index=False)\n",
    "    financial_class_dim.to_excel(writer, sheet_name=\"financial_class_dim\", index=False)\n",
    "    cpt_code_dim.to_excel(writer, sheet_name=\"cpt_code_dim\", index=False)\n",
    "    clinic_dim.to_excel(writer, sheet_name=\"clinic_dim\", index=False)"
   ]
  },
  {
   "cell_type": "code",
   "execution_count": null,
   "id": "c7ba7e22-5417-464e-bd5c-bee80a631957",
   "metadata": {},
   "outputs": [],
   "source": []
  }
 ],
 "metadata": {
  "kernelspec": {
   "display_name": "Python 3 (ipykernel)",
   "language": "python",
   "name": "python3"
  },
  "language_info": {
   "codemirror_mode": {
    "name": "ipython",
    "version": 3
   },
   "file_extension": ".py",
   "mimetype": "text/x-python",
   "name": "python",
   "nbconvert_exporter": "python",
   "pygments_lexer": "ipython3",
   "version": "3.11.7"
  }
 },
 "nbformat": 4,
 "nbformat_minor": 5
}
