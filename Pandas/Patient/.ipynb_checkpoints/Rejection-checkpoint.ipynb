{
 "cells": [
  {
   "cell_type": "code",
   "execution_count": 72,
   "id": "1bbbc9ef-35fa-403d-a27b-c58cfe4b8201",
   "metadata": {},
   "outputs": [],
   "source": [
    "import pandas as pd\n",
    "import numpy as np\n",
    "import warnings\n",
    "warnings.filterwarnings('ignore')"
   ]
  },
  {
   "cell_type": "code",
   "execution_count": 73,
   "id": "615e412e-0605-49e4-80ec-e31bf2d9b896",
   "metadata": {},
   "outputs": [],
   "source": [
    "df_rej = pd.read_excel('Rejection.xlsx')"
   ]
  },
  {
   "cell_type": "code",
   "execution_count": 74,
   "id": "ae16599f-a63b-483a-aad5-52cc45c429ea",
   "metadata": {},
   "outputs": [
    {
     "data": {
      "text/html": [
       "<div>\n",
       "<style scoped>\n",
       "    .dataframe tbody tr th:only-of-type {\n",
       "        vertical-align: middle;\n",
       "    }\n",
       "\n",
       "    .dataframe tbody tr th {\n",
       "        vertical-align: top;\n",
       "    }\n",
       "\n",
       "    .dataframe thead th {\n",
       "        text-align: right;\n",
       "    }\n",
       "</style>\n",
       "<table border=\"1\" class=\"dataframe\">\n",
       "  <thead>\n",
       "    <tr style=\"text-align: right;\">\n",
       "      <th></th>\n",
       "      <th>Invoice_Number</th>\n",
       "      <th>Patient_LastName</th>\n",
       "      <th>Patient_FirstName</th>\n",
       "      <th>Provider_LastName</th>\n",
       "      <th>Service_Date</th>\n",
       "      <th>Insurance_Name</th>\n",
       "      <th>Claim_Amount</th>\n",
       "      <th>Insurance_Claim_ID</th>\n",
       "      <th>Reject_Date</th>\n",
       "      <th>Reject_By</th>\n",
       "      <th>Rejected_Code</th>\n",
       "      <th>Reject_Message</th>\n",
       "      <th>Status</th>\n",
       "      <th>Reason</th>\n",
       "    </tr>\n",
       "  </thead>\n",
       "  <tbody>\n",
       "    <tr>\n",
       "      <th>0</th>\n",
       "      <td>9107776</td>\n",
       "      <td>JOHNSON</td>\n",
       "      <td>MELISSA</td>\n",
       "      <td>HENDERSON</td>\n",
       "      <td>2023-01-02</td>\n",
       "      <td>FC_WELLCARE/MEDICARE</td>\n",
       "      <td>631.0</td>\n",
       "      <td>2300610113368</td>\n",
       "      <td>2023-01-06</td>\n",
       "      <td>Clearinghouse</td>\n",
       "      <td>HU</td>\n",
       "      <td>INVALID REFERRING PROVIDER NPI</td>\n",
       "      <td>Outstanding</td>\n",
       "      <td>INVALID REFERRING PROVIDER NPI</td>\n",
       "    </tr>\n",
       "    <tr>\n",
       "      <th>1</th>\n",
       "      <td>9107775</td>\n",
       "      <td>SPEARS</td>\n",
       "      <td>STEPHANIE</td>\n",
       "      <td>HENDERSON</td>\n",
       "      <td>2023-01-02</td>\n",
       "      <td>FC_TRICARE EAST</td>\n",
       "      <td>256.0</td>\n",
       "      <td>2300610113377</td>\n",
       "      <td>2023-01-06</td>\n",
       "      <td>Clearinghouse</td>\n",
       "      <td>HU</td>\n",
       "      <td>INVALID REFERRING PROVIDER NPI</td>\n",
       "      <td>Outstanding</td>\n",
       "      <td>INVALID REFERRING PROVIDER NPI</td>\n",
       "    </tr>\n",
       "  </tbody>\n",
       "</table>\n",
       "</div>"
      ],
      "text/plain": [
       "   Invoice_Number Patient_LastName Patient_FirstName Provider_LastName  \\\n",
       "0         9107776          JOHNSON           MELISSA         HENDERSON   \n",
       "1         9107775           SPEARS         STEPHANIE         HENDERSON   \n",
       "\n",
       "  Service_Date        Insurance_Name  Claim_Amount  Insurance_Claim_ID  \\\n",
       "0   2023-01-02  FC_WELLCARE/MEDICARE         631.0       2300610113368   \n",
       "1   2023-01-02       FC_TRICARE EAST         256.0       2300610113377   \n",
       "\n",
       "  Reject_Date      Reject_By Rejected_Code                  Reject_Message  \\\n",
       "0  2023-01-06  Clearinghouse            HU  INVALID REFERRING PROVIDER NPI   \n",
       "1  2023-01-06  Clearinghouse            HU  INVALID REFERRING PROVIDER NPI   \n",
       "\n",
       "        Status                          Reason  \n",
       "0  Outstanding  INVALID REFERRING PROVIDER NPI  \n",
       "1  Outstanding  INVALID REFERRING PROVIDER NPI  "
      ]
     },
     "execution_count": 74,
     "metadata": {},
     "output_type": "execute_result"
    }
   ],
   "source": [
    "df_rej.head(2)"
   ]
  },
  {
   "cell_type": "code",
   "execution_count": 104,
   "id": "63baf223-3ddc-4bc6-bc3f-20cfbd5a7c00",
   "metadata": {},
   "outputs": [
    {
     "data": {
      "text/plain": [
       "Invoice_Number                 int64\n",
       "Patient_pkey                  object\n",
       "Patient_name                  object\n",
       "Hashed_name                   object\n",
       "Provider_LastName             object\n",
       "Service_Date          datetime64[ns]\n",
       "Insurance_Name                object\n",
       "Claim_Amount                 float64\n",
       "Insurance_Claim_ID             int64\n",
       "Reject_Date           datetime64[ns]\n",
       "Reject_By                     object\n",
       "Rejected_Code                 object\n",
       "Reject_Message                object\n",
       "Status                        object\n",
       "Reason                        object\n",
       "Encrypted_Name                object\n",
       "Decrypted_Name                object\n",
       "dtype: object"
      ]
     },
     "execution_count": 104,
     "metadata": {},
     "output_type": "execute_result"
    }
   ],
   "source": [
    "df_rej.dtypes"
   ]
  },
  {
   "cell_type": "code",
   "execution_count": 75,
   "id": "ec015ac7-e7c2-40dc-8096-ab3898a165c0",
   "metadata": {},
   "outputs": [
    {
     "name": "stdout",
     "output_type": "stream",
     "text": [
      "<class 'pandas.core.frame.DataFrame'>\n",
      "RangeIndex: 1000 entries, 0 to 999\n",
      "Data columns (total 14 columns):\n",
      " #   Column              Non-Null Count  Dtype         \n",
      "---  ------              --------------  -----         \n",
      " 0   Invoice_Number      1000 non-null   int64         \n",
      " 1   Patient_LastName    1000 non-null   object        \n",
      " 2   Patient_FirstName   1000 non-null   object        \n",
      " 3   Provider_LastName   1000 non-null   object        \n",
      " 4   Service_Date        1000 non-null   datetime64[ns]\n",
      " 5   Insurance_Name      1000 non-null   object        \n",
      " 6   Claim_Amount        1000 non-null   float64       \n",
      " 7   Insurance_Claim_ID  1000 non-null   int64         \n",
      " 8   Reject_Date         1000 non-null   datetime64[ns]\n",
      " 9   Reject_By           1000 non-null   object        \n",
      " 10  Rejected_Code       1000 non-null   object        \n",
      " 11  Reject_Message      1000 non-null   object        \n",
      " 12  Status              1000 non-null   object        \n",
      " 13  Reason              1000 non-null   object        \n",
      "dtypes: datetime64[ns](2), float64(1), int64(2), object(9)\n",
      "memory usage: 109.5+ KB\n"
     ]
    }
   ],
   "source": [
    "df_rej.info()"
   ]
  },
  {
   "cell_type": "code",
   "execution_count": 76,
   "id": "e90e59e1-f9bc-4226-9fe3-2fbbb883afa6",
   "metadata": {},
   "outputs": [
    {
     "data": {
      "text/plain": [
       "(1000, 14)"
      ]
     },
     "execution_count": 76,
     "metadata": {},
     "output_type": "execute_result"
    }
   ],
   "source": [
    "df_rej.shape"
   ]
  },
  {
   "cell_type": "code",
   "execution_count": 77,
   "id": "af09584b-1730-4a0c-b9d7-b98be3d43c35",
   "metadata": {},
   "outputs": [
    {
     "data": {
      "text/plain": [
       "2"
      ]
     },
     "execution_count": 77,
     "metadata": {},
     "output_type": "execute_result"
    }
   ],
   "source": [
    "df_rej.ndim"
   ]
  },
  {
   "cell_type": "code",
   "execution_count": 78,
   "id": "c9a11fef-96cc-454a-81a2-4ca0042c5cda",
   "metadata": {},
   "outputs": [
    {
     "data": {
      "text/plain": [
       "Invoice_Number        0\n",
       "Patient_LastName      0\n",
       "Patient_FirstName     0\n",
       "Provider_LastName     0\n",
       "Service_Date          0\n",
       "Insurance_Name        0\n",
       "Claim_Amount          0\n",
       "Insurance_Claim_ID    0\n",
       "Reject_Date           0\n",
       "Reject_By             0\n",
       "Rejected_Code         0\n",
       "Reject_Message        0\n",
       "Status                0\n",
       "Reason                0\n",
       "dtype: int64"
      ]
     },
     "execution_count": 78,
     "metadata": {},
     "output_type": "execute_result"
    }
   ],
   "source": [
    "df_rej.isnull().sum() # count of null values"
   ]
  },
  {
   "cell_type": "code",
   "execution_count": 79,
   "id": "57942032-6e89-48b0-a9b8-92080f6d41fb",
   "metadata": {},
   "outputs": [
    {
     "data": {
      "text/plain": [
       "0"
      ]
     },
     "execution_count": 79,
     "metadata": {},
     "output_type": "execute_result"
    }
   ],
   "source": [
    "df_rej.duplicated().sum() # for finding duplicates"
   ]
  },
  {
   "cell_type": "code",
   "execution_count": 80,
   "id": "76be461d-9f7b-4c75-ae1e-75e90a1dcdeb",
   "metadata": {},
   "outputs": [
    {
     "data": {
      "text/plain": [
       "Invoice_Number        1000\n",
       "Patient_LastName       647\n",
       "Patient_FirstName      625\n",
       "Provider_LastName      112\n",
       "Service_Date            42\n",
       "Insurance_Name          59\n",
       "Claim_Amount           178\n",
       "Insurance_Claim_ID    1000\n",
       "Reject_Date            118\n",
       "Reject_By                1\n",
       "Rejected_Code           24\n",
       "Reject_Message          38\n",
       "Status                   1\n",
       "Reason                  32\n",
       "dtype: int64"
      ]
     },
     "execution_count": 80,
     "metadata": {},
     "output_type": "execute_result"
    }
   ],
   "source": [
    "df_rej.nunique()"
   ]
  },
  {
   "cell_type": "code",
   "execution_count": 81,
   "id": "fcea79c0-ca3e-4255-bfaf-92693699912d",
   "metadata": {},
   "outputs": [
    {
     "data": {
      "text/plain": [
       "1000"
      ]
     },
     "execution_count": 81,
     "metadata": {},
     "output_type": "execute_result"
    }
   ],
   "source": [
    "df_rej.value_counts().sum() #For Unique values"
   ]
  },
  {
   "cell_type": "code",
   "execution_count": 82,
   "id": "f35ccd16-41b5-4dc4-aa22-96302ee39545",
   "metadata": {},
   "outputs": [],
   "source": [
    "df_rej['Patient_name'] = df_rej['Patient_FirstName'] + \" \" + df_rej['Patient_LastName']"
   ]
  },
  {
   "cell_type": "code",
   "execution_count": 83,
   "id": "d8a5b7a3-051c-4dad-9f64-506be99a84cd",
   "metadata": {},
   "outputs": [],
   "source": [
    "df_rej.drop('Patient_FirstName',axis=1,inplace=True)\n",
    "df_rej.drop('Patient_LastName',axis=1,inplace=True)"
   ]
  },
  {
   "cell_type": "code",
   "execution_count": 84,
   "id": "908041fd-ad2f-4f53-9a34-958f7c444525",
   "metadata": {},
   "outputs": [],
   "source": [
    "import hashlib"
   ]
  },
  {
   "cell_type": "code",
   "execution_count": 85,
   "id": "7e180fa7-b199-49d5-a902-0b4a959f14a9",
   "metadata": {},
   "outputs": [],
   "source": [
    "def hash_name(name):\n",
    "    return hashlib.sha3_256(name.encode()).hexdigest()"
   ]
  },
  {
   "cell_type": "code",
   "execution_count": 86,
   "id": "0e237c64-1733-46a7-a82e-19b6ba874eea",
   "metadata": {},
   "outputs": [],
   "source": [
    "df_rej['Hashed_name'] = df_rej['Patient_name'].apply(hash_name)"
   ]
  },
  {
   "cell_type": "code",
   "execution_count": 87,
   "id": "ca6e1aa3-dfe8-4ded-a9c3-eb865db15f93",
   "metadata": {},
   "outputs": [
    {
     "data": {
      "text/plain": [
       "922"
      ]
     },
     "execution_count": 87,
     "metadata": {},
     "output_type": "execute_result"
    }
   ],
   "source": [
    "df_rej['Hashed_name'].nunique()"
   ]
  },
  {
   "cell_type": "code",
   "execution_count": 88,
   "id": "966120aa-6e00-4af1-b168-baade53b213d",
   "metadata": {},
   "outputs": [
    {
     "data": {
      "text/html": [
       "<div>\n",
       "<style scoped>\n",
       "    .dataframe tbody tr th:only-of-type {\n",
       "        vertical-align: middle;\n",
       "    }\n",
       "\n",
       "    .dataframe tbody tr th {\n",
       "        vertical-align: top;\n",
       "    }\n",
       "\n",
       "    .dataframe thead th {\n",
       "        text-align: right;\n",
       "    }\n",
       "</style>\n",
       "<table border=\"1\" class=\"dataframe\">\n",
       "  <thead>\n",
       "    <tr style=\"text-align: right;\">\n",
       "      <th></th>\n",
       "      <th>Invoice_Number</th>\n",
       "      <th>Provider_LastName</th>\n",
       "      <th>Service_Date</th>\n",
       "      <th>Insurance_Name</th>\n",
       "      <th>Claim_Amount</th>\n",
       "      <th>Insurance_Claim_ID</th>\n",
       "      <th>Reject_Date</th>\n",
       "      <th>Reject_By</th>\n",
       "      <th>Rejected_Code</th>\n",
       "      <th>Reject_Message</th>\n",
       "      <th>Status</th>\n",
       "      <th>Reason</th>\n",
       "      <th>Patient_name</th>\n",
       "      <th>Hashed_name</th>\n",
       "    </tr>\n",
       "  </thead>\n",
       "  <tbody>\n",
       "    <tr>\n",
       "      <th>14</th>\n",
       "      <td>9108131</td>\n",
       "      <td>AREND</td>\n",
       "      <td>2023-01-02</td>\n",
       "      <td>MEDICARE</td>\n",
       "      <td>88.0</td>\n",
       "      <td>2300610114301</td>\n",
       "      <td>2023-01-06</td>\n",
       "      <td>Clearinghouse</td>\n",
       "      <td>5</td>\n",
       "      <td>PHL-0400:INVALID HIERARCHICAL CHILD CODE</td>\n",
       "      <td>Outstanding</td>\n",
       "      <td>INVALID HIERARCHICAL CHILD CODE</td>\n",
       "      <td>MARGARET BLANFORD</td>\n",
       "      <td>d560f46c7eae51d396333041f6cbe1c5103319331caf15...</td>\n",
       "    </tr>\n",
       "    <tr>\n",
       "      <th>15</th>\n",
       "      <td>9108130</td>\n",
       "      <td>AREND</td>\n",
       "      <td>2023-01-02</td>\n",
       "      <td>RHC/MEDICARE</td>\n",
       "      <td>306.0</td>\n",
       "      <td>2300610230678</td>\n",
       "      <td>2023-01-06</td>\n",
       "      <td>Clearinghouse</td>\n",
       "      <td>5</td>\n",
       "      <td>IPAT0101:INVALID PATIENT RELATIONSHIP</td>\n",
       "      <td>Outstanding</td>\n",
       "      <td>INVALID PATIENT RELATIONSHIP</td>\n",
       "      <td>MARGARET BLANFORD</td>\n",
       "      <td>d560f46c7eae51d396333041f6cbe1c5103319331caf15...</td>\n",
       "    </tr>\n",
       "  </tbody>\n",
       "</table>\n",
       "</div>"
      ],
      "text/plain": [
       "    Invoice_Number Provider_LastName Service_Date Insurance_Name  \\\n",
       "14         9108131             AREND   2023-01-02       MEDICARE   \n",
       "15         9108130             AREND   2023-01-02   RHC/MEDICARE   \n",
       "\n",
       "    Claim_Amount  Insurance_Claim_ID Reject_Date      Reject_By Rejected_Code  \\\n",
       "14          88.0       2300610114301  2023-01-06  Clearinghouse             5   \n",
       "15         306.0       2300610230678  2023-01-06  Clearinghouse             5   \n",
       "\n",
       "                              Reject_Message       Status  \\\n",
       "14  PHL-0400:INVALID HIERARCHICAL CHILD CODE  Outstanding   \n",
       "15     IPAT0101:INVALID PATIENT RELATIONSHIP  Outstanding   \n",
       "\n",
       "                             Reason       Patient_name  \\\n",
       "14  INVALID HIERARCHICAL CHILD CODE  MARGARET BLANFORD   \n",
       "15     INVALID PATIENT RELATIONSHIP  MARGARET BLANFORD   \n",
       "\n",
       "                                          Hashed_name  \n",
       "14  d560f46c7eae51d396333041f6cbe1c5103319331caf15...  \n",
       "15  d560f46c7eae51d396333041f6cbe1c5103319331caf15...  "
      ]
     },
     "execution_count": 88,
     "metadata": {},
     "output_type": "execute_result"
    }
   ],
   "source": [
    " df_rej[df_rej['Patient_name'].duplicated(keep=False) & (df_rej['Patient_name'] == 'MARGARET BLANFORD')]"
   ]
  },
  {
   "cell_type": "code",
   "execution_count": 89,
   "id": "51564ea8-cdf0-41b6-b5d6-9e3c3e273bda",
   "metadata": {},
   "outputs": [],
   "source": [
    "from cryptography.fernet import Fernet"
   ]
  },
  {
   "cell_type": "code",
   "execution_count": 90,
   "id": "00aa8975-9368-4932-9892-e350c71ad16e",
   "metadata": {},
   "outputs": [],
   "source": [
    "key = Fernet.generate_key()\n",
    "cipher_suite = Fernet(key)"
   ]
  },
  {
   "cell_type": "code",
   "execution_count": 91,
   "id": "e4e73903-c14f-4b86-9b61-e90f639509dc",
   "metadata": {},
   "outputs": [],
   "source": [
    "def encrypt_name(name):\n",
    "    return cipher_suite.encrypt(name.encode()).decode()\n",
    "\n",
    "# Fernet.generate_key() generates a symmetric encryption key.\n",
    "# cipher_suite = Fernet(key) creates a cipher suite using the generated key."
   ]
  },
  {
   "cell_type": "code",
   "execution_count": 92,
   "id": "220f05cf-b1f0-4562-a05e-e69848771bad",
   "metadata": {},
   "outputs": [],
   "source": [
    "def decrypt_name(encrypted_name):\n",
    "    return cipher_suite.decrypt(encrypted_name.encode()).decode()"
   ]
  },
  {
   "cell_type": "code",
   "execution_count": 93,
   "id": "0472c03b-2bde-4973-a685-b3b3fc2e0468",
   "metadata": {},
   "outputs": [],
   "source": [
    "df_rej['Encrypted_Name'] = df_rej['Patient_name'].apply(encrypt_name)"
   ]
  },
  {
   "cell_type": "code",
   "execution_count": 94,
   "id": "abab467f-0bbf-4834-aec3-aca9bd5d347f",
   "metadata": {},
   "outputs": [
    {
     "data": {
      "text/html": [
       "<div>\n",
       "<style scoped>\n",
       "    .dataframe tbody tr th:only-of-type {\n",
       "        vertical-align: middle;\n",
       "    }\n",
       "\n",
       "    .dataframe tbody tr th {\n",
       "        vertical-align: top;\n",
       "    }\n",
       "\n",
       "    .dataframe thead th {\n",
       "        text-align: right;\n",
       "    }\n",
       "</style>\n",
       "<table border=\"1\" class=\"dataframe\">\n",
       "  <thead>\n",
       "    <tr style=\"text-align: right;\">\n",
       "      <th></th>\n",
       "      <th>Invoice_Number</th>\n",
       "      <th>Provider_LastName</th>\n",
       "      <th>Service_Date</th>\n",
       "      <th>Insurance_Name</th>\n",
       "      <th>Claim_Amount</th>\n",
       "      <th>Insurance_Claim_ID</th>\n",
       "      <th>Reject_Date</th>\n",
       "      <th>Reject_By</th>\n",
       "      <th>Rejected_Code</th>\n",
       "      <th>Reject_Message</th>\n",
       "      <th>Status</th>\n",
       "      <th>Reason</th>\n",
       "      <th>Patient_name</th>\n",
       "      <th>Hashed_name</th>\n",
       "      <th>Encrypted_Name</th>\n",
       "    </tr>\n",
       "  </thead>\n",
       "  <tbody>\n",
       "    <tr>\n",
       "      <th>0</th>\n",
       "      <td>9107776</td>\n",
       "      <td>HENDERSON</td>\n",
       "      <td>2023-01-02</td>\n",
       "      <td>FC_WELLCARE/MEDICARE</td>\n",
       "      <td>631.0</td>\n",
       "      <td>2300610113368</td>\n",
       "      <td>2023-01-06</td>\n",
       "      <td>Clearinghouse</td>\n",
       "      <td>HU</td>\n",
       "      <td>INVALID REFERRING PROVIDER NPI</td>\n",
       "      <td>Outstanding</td>\n",
       "      <td>INVALID REFERRING PROVIDER NPI</td>\n",
       "      <td>MELISSA JOHNSON</td>\n",
       "      <td>2dceea031b3d2dbd906258ac5ef6ed822da97e8205e901...</td>\n",
       "      <td>gAAAAABmhjuZX_vcFTU6pWoYm491fSGcxuFZogRUaS5zDH...</td>\n",
       "    </tr>\n",
       "    <tr>\n",
       "      <th>1</th>\n",
       "      <td>9107775</td>\n",
       "      <td>HENDERSON</td>\n",
       "      <td>2023-01-02</td>\n",
       "      <td>FC_TRICARE EAST</td>\n",
       "      <td>256.0</td>\n",
       "      <td>2300610113377</td>\n",
       "      <td>2023-01-06</td>\n",
       "      <td>Clearinghouse</td>\n",
       "      <td>HU</td>\n",
       "      <td>INVALID REFERRING PROVIDER NPI</td>\n",
       "      <td>Outstanding</td>\n",
       "      <td>INVALID REFERRING PROVIDER NPI</td>\n",
       "      <td>STEPHANIE SPEARS</td>\n",
       "      <td>4eb1ea67fa27fd81254a824c0f277cc50a6b9d70d4ce98...</td>\n",
       "      <td>gAAAAABmhjuZX7TOe1ShCWvaXNCFuo-y_mdogXPPf7KqGw...</td>\n",
       "    </tr>\n",
       "  </tbody>\n",
       "</table>\n",
       "</div>"
      ],
      "text/plain": [
       "   Invoice_Number Provider_LastName Service_Date        Insurance_Name  \\\n",
       "0         9107776         HENDERSON   2023-01-02  FC_WELLCARE/MEDICARE   \n",
       "1         9107775         HENDERSON   2023-01-02       FC_TRICARE EAST   \n",
       "\n",
       "   Claim_Amount  Insurance_Claim_ID Reject_Date      Reject_By Rejected_Code  \\\n",
       "0         631.0       2300610113368  2023-01-06  Clearinghouse            HU   \n",
       "1         256.0       2300610113377  2023-01-06  Clearinghouse            HU   \n",
       "\n",
       "                   Reject_Message       Status  \\\n",
       "0  INVALID REFERRING PROVIDER NPI  Outstanding   \n",
       "1  INVALID REFERRING PROVIDER NPI  Outstanding   \n",
       "\n",
       "                           Reason      Patient_name  \\\n",
       "0  INVALID REFERRING PROVIDER NPI   MELISSA JOHNSON   \n",
       "1  INVALID REFERRING PROVIDER NPI  STEPHANIE SPEARS   \n",
       "\n",
       "                                         Hashed_name  \\\n",
       "0  2dceea031b3d2dbd906258ac5ef6ed822da97e8205e901...   \n",
       "1  4eb1ea67fa27fd81254a824c0f277cc50a6b9d70d4ce98...   \n",
       "\n",
       "                                      Encrypted_Name  \n",
       "0  gAAAAABmhjuZX_vcFTU6pWoYm491fSGcxuFZogRUaS5zDH...  \n",
       "1  gAAAAABmhjuZX7TOe1ShCWvaXNCFuo-y_mdogXPPf7KqGw...  "
      ]
     },
     "execution_count": 94,
     "metadata": {},
     "output_type": "execute_result"
    }
   ],
   "source": [
    "df_rej.head(2)"
   ]
  },
  {
   "cell_type": "code",
   "execution_count": 95,
   "id": "db033eeb-146f-4295-816d-80d9e560810f",
   "metadata": {},
   "outputs": [],
   "source": [
    "df_rej['Decrypted_Name'] = df_rej['Encrypted_Name'].apply(decrypt_name)"
   ]
  },
  {
   "cell_type": "code",
   "execution_count": 96,
   "id": "c99eeecd-2ab0-4664-afd8-4baf818fc9ed",
   "metadata": {},
   "outputs": [],
   "source": [
    "df_rej['Patient_pkey'] = ['PT' + str(i + 1).zfill(3) for i in range(len(df_rej))]"
   ]
  },
  {
   "cell_type": "code",
   "execution_count": 97,
   "id": "f8751147-1418-47c8-b0b5-bb3c88f22dcf",
   "metadata": {},
   "outputs": [],
   "source": [
    "df_rej = df_rej[['Invoice_Number', 'Patient_pkey', 'Patient_name', 'Hashed_name', 'Provider_LastName',\n",
    "       'Service_Date', 'Insurance_Name', 'Claim_Amount', 'Insurance_Claim_ID',\n",
    "       'Reject_Date', 'Reject_By', 'Rejected_Code', 'Reject_Message', 'Status',\n",
    "       'Reason', 'Encrypted_Name', 'Decrypted_Name']]"
   ]
  },
  {
   "cell_type": "code",
   "execution_count": 101,
   "id": "b9fb7e30-f1a8-41a7-b25e-69b64d9d38c4",
   "metadata": {},
   "outputs": [
    {
     "data": {
      "text/html": [
       "<div>\n",
       "<style scoped>\n",
       "    .dataframe tbody tr th:only-of-type {\n",
       "        vertical-align: middle;\n",
       "    }\n",
       "\n",
       "    .dataframe tbody tr th {\n",
       "        vertical-align: top;\n",
       "    }\n",
       "\n",
       "    .dataframe thead th {\n",
       "        text-align: right;\n",
       "    }\n",
       "</style>\n",
       "<table border=\"1\" class=\"dataframe\">\n",
       "  <thead>\n",
       "    <tr style=\"text-align: right;\">\n",
       "      <th></th>\n",
       "      <th>Invoice_Number</th>\n",
       "      <th>Patient_pkey</th>\n",
       "      <th>Patient_name</th>\n",
       "      <th>Hashed_name</th>\n",
       "      <th>Provider_LastName</th>\n",
       "      <th>Service_Date</th>\n",
       "      <th>Insurance_Name</th>\n",
       "      <th>Claim_Amount</th>\n",
       "      <th>Insurance_Claim_ID</th>\n",
       "      <th>Reject_Date</th>\n",
       "      <th>Reject_By</th>\n",
       "      <th>Rejected_Code</th>\n",
       "      <th>Reject_Message</th>\n",
       "      <th>Status</th>\n",
       "      <th>Reason</th>\n",
       "      <th>Encrypted_Name</th>\n",
       "      <th>Decrypted_Name</th>\n",
       "    </tr>\n",
       "  </thead>\n",
       "  <tbody>\n",
       "    <tr>\n",
       "      <th>0</th>\n",
       "      <td>9107776</td>\n",
       "      <td>PT001</td>\n",
       "      <td>MELISSA JOHNSON</td>\n",
       "      <td>2dceea031b3d2dbd906258ac5ef6ed822da97e8205e901...</td>\n",
       "      <td>HENDERSON</td>\n",
       "      <td>2023-01-02</td>\n",
       "      <td>FC_WELLCARE/MEDICARE</td>\n",
       "      <td>631.0</td>\n",
       "      <td>2300610113368</td>\n",
       "      <td>2023-01-06</td>\n",
       "      <td>Clearinghouse</td>\n",
       "      <td>HU</td>\n",
       "      <td>INVALID REFERRING PROVIDER NPI</td>\n",
       "      <td>Outstanding</td>\n",
       "      <td>INVALID REFERRING PROVIDER NPI</td>\n",
       "      <td>gAAAAABmhjuZX_vcFTU6pWoYm491fSGcxuFZogRUaS5zDH...</td>\n",
       "      <td>MELISSA JOHNSON</td>\n",
       "    </tr>\n",
       "    <tr>\n",
       "      <th>1</th>\n",
       "      <td>9107775</td>\n",
       "      <td>PT002</td>\n",
       "      <td>STEPHANIE SPEARS</td>\n",
       "      <td>4eb1ea67fa27fd81254a824c0f277cc50a6b9d70d4ce98...</td>\n",
       "      <td>HENDERSON</td>\n",
       "      <td>2023-01-02</td>\n",
       "      <td>FC_TRICARE EAST</td>\n",
       "      <td>256.0</td>\n",
       "      <td>2300610113377</td>\n",
       "      <td>2023-01-06</td>\n",
       "      <td>Clearinghouse</td>\n",
       "      <td>HU</td>\n",
       "      <td>INVALID REFERRING PROVIDER NPI</td>\n",
       "      <td>Outstanding</td>\n",
       "      <td>INVALID REFERRING PROVIDER NPI</td>\n",
       "      <td>gAAAAABmhjuZX7TOe1ShCWvaXNCFuo-y_mdogXPPf7KqGw...</td>\n",
       "      <td>STEPHANIE SPEARS</td>\n",
       "    </tr>\n",
       "    <tr>\n",
       "      <th>2</th>\n",
       "      <td>9107233</td>\n",
       "      <td>PT003</td>\n",
       "      <td>DEWAYNE MAY</td>\n",
       "      <td>1482f6be92cad8bcf99a3488897dc1b20e8435992b94a4...</td>\n",
       "      <td>CARUSO</td>\n",
       "      <td>2023-01-02</td>\n",
       "      <td>FC_WELLCARE/MEDICAID</td>\n",
       "      <td>500.0</td>\n",
       "      <td>2300610113602</td>\n",
       "      <td>2023-01-06</td>\n",
       "      <td>Clearinghouse</td>\n",
       "      <td>7</td>\n",
       "      <td>PN4-0305:INVALID SUBSCRIBER POSTAL CODE</td>\n",
       "      <td>Outstanding</td>\n",
       "      <td>INVALID SUBSCRIBER POSTAL CODE</td>\n",
       "      <td>gAAAAABmhjuZamOd61pVdbo6B0ygTaqTtamU8NFxYDunxr...</td>\n",
       "      <td>DEWAYNE MAY</td>\n",
       "    </tr>\n",
       "    <tr>\n",
       "      <th>3</th>\n",
       "      <td>9107560</td>\n",
       "      <td>PT004</td>\n",
       "      <td>CALI SPENCER</td>\n",
       "      <td>f4e844fc11ab63695e83da1a986a83d8afb0a87b0f9557...</td>\n",
       "      <td>DOERR</td>\n",
       "      <td>2023-01-02</td>\n",
       "      <td>FC_AETNA_DIRECT</td>\n",
       "      <td>500.0</td>\n",
       "      <td>2300610113668</td>\n",
       "      <td>2023-01-06</td>\n",
       "      <td>Clearinghouse</td>\n",
       "      <td>54</td>\n",
       "      <td>MISSING SUBSCRIBER GENDER CODE</td>\n",
       "      <td>Outstanding</td>\n",
       "      <td>MISSING SUBSCRIBER GENDER CODE</td>\n",
       "      <td>gAAAAABmhjuZvchGjS3erdVintilNB-xJZYu9VbeZ6l5BV...</td>\n",
       "      <td>CALI SPENCER</td>\n",
       "    </tr>\n",
       "    <tr>\n",
       "      <th>4</th>\n",
       "      <td>9107476</td>\n",
       "      <td>PT005</td>\n",
       "      <td>BRAYDEN MOUNTS</td>\n",
       "      <td>cd941545e375a7997e6416d9845a3f1e06c87697ed5178...</td>\n",
       "      <td>FRANCIS</td>\n",
       "      <td>2023-01-02</td>\n",
       "      <td>FC_AETNA BETTER HEALTH</td>\n",
       "      <td>606.0</td>\n",
       "      <td>2300610113744</td>\n",
       "      <td>2023-01-06</td>\n",
       "      <td>Clearinghouse</td>\n",
       "      <td>54</td>\n",
       "      <td>MISSING SUBSCRIBER GENDER CODE</td>\n",
       "      <td>Outstanding</td>\n",
       "      <td>MISSING SUBSCRIBER GENDER CODE</td>\n",
       "      <td>gAAAAABmhjuZwmXj89lv-REE0OKvP-aZOdpMGl7dAQym5x...</td>\n",
       "      <td>BRAYDEN MOUNTS</td>\n",
       "    </tr>\n",
       "  </tbody>\n",
       "</table>\n",
       "</div>"
      ],
      "text/plain": [
       "   Invoice_Number Patient_pkey      Patient_name  \\\n",
       "0         9107776        PT001   MELISSA JOHNSON   \n",
       "1         9107775        PT002  STEPHANIE SPEARS   \n",
       "2         9107233        PT003       DEWAYNE MAY   \n",
       "3         9107560        PT004      CALI SPENCER   \n",
       "4         9107476        PT005    BRAYDEN MOUNTS   \n",
       "\n",
       "                                         Hashed_name Provider_LastName  \\\n",
       "0  2dceea031b3d2dbd906258ac5ef6ed822da97e8205e901...         HENDERSON   \n",
       "1  4eb1ea67fa27fd81254a824c0f277cc50a6b9d70d4ce98...         HENDERSON   \n",
       "2  1482f6be92cad8bcf99a3488897dc1b20e8435992b94a4...            CARUSO   \n",
       "3  f4e844fc11ab63695e83da1a986a83d8afb0a87b0f9557...             DOERR   \n",
       "4  cd941545e375a7997e6416d9845a3f1e06c87697ed5178...           FRANCIS   \n",
       "\n",
       "  Service_Date          Insurance_Name  Claim_Amount  Insurance_Claim_ID  \\\n",
       "0   2023-01-02    FC_WELLCARE/MEDICARE         631.0       2300610113368   \n",
       "1   2023-01-02         FC_TRICARE EAST         256.0       2300610113377   \n",
       "2   2023-01-02    FC_WELLCARE/MEDICAID         500.0       2300610113602   \n",
       "3   2023-01-02         FC_AETNA_DIRECT         500.0       2300610113668   \n",
       "4   2023-01-02  FC_AETNA BETTER HEALTH         606.0       2300610113744   \n",
       "\n",
       "  Reject_Date      Reject_By Rejected_Code  \\\n",
       "0  2023-01-06  Clearinghouse            HU   \n",
       "1  2023-01-06  Clearinghouse            HU   \n",
       "2  2023-01-06  Clearinghouse             7   \n",
       "3  2023-01-06  Clearinghouse            54   \n",
       "4  2023-01-06  Clearinghouse            54   \n",
       "\n",
       "                            Reject_Message       Status  \\\n",
       "0           INVALID REFERRING PROVIDER NPI  Outstanding   \n",
       "1           INVALID REFERRING PROVIDER NPI  Outstanding   \n",
       "2  PN4-0305:INVALID SUBSCRIBER POSTAL CODE  Outstanding   \n",
       "3           MISSING SUBSCRIBER GENDER CODE  Outstanding   \n",
       "4           MISSING SUBSCRIBER GENDER CODE  Outstanding   \n",
       "\n",
       "                           Reason  \\\n",
       "0  INVALID REFERRING PROVIDER NPI   \n",
       "1  INVALID REFERRING PROVIDER NPI   \n",
       "2  INVALID SUBSCRIBER POSTAL CODE   \n",
       "3  MISSING SUBSCRIBER GENDER CODE   \n",
       "4  MISSING SUBSCRIBER GENDER CODE   \n",
       "\n",
       "                                      Encrypted_Name    Decrypted_Name  \n",
       "0  gAAAAABmhjuZX_vcFTU6pWoYm491fSGcxuFZogRUaS5zDH...   MELISSA JOHNSON  \n",
       "1  gAAAAABmhjuZX7TOe1ShCWvaXNCFuo-y_mdogXPPf7KqGw...  STEPHANIE SPEARS  \n",
       "2  gAAAAABmhjuZamOd61pVdbo6B0ygTaqTtamU8NFxYDunxr...       DEWAYNE MAY  \n",
       "3  gAAAAABmhjuZvchGjS3erdVintilNB-xJZYu9VbeZ6l5BV...      CALI SPENCER  \n",
       "4  gAAAAABmhjuZwmXj89lv-REE0OKvP-aZOdpMGl7dAQym5x...    BRAYDEN MOUNTS  "
      ]
     },
     "execution_count": 101,
     "metadata": {},
     "output_type": "execute_result"
    }
   ],
   "source": [
    "df_rej.head(5)"
   ]
  },
  {
   "cell_type": "code",
   "execution_count": null,
   "id": "378f7011-2bca-4d3f-90f4-e2b67cd56a10",
   "metadata": {},
   "outputs": [],
   "source": []
  }
 ],
 "metadata": {
  "kernelspec": {
   "display_name": "Python 3 (ipykernel)",
   "language": "python",
   "name": "python3"
  },
  "language_info": {
   "codemirror_mode": {
    "name": "ipython",
    "version": 3
   },
   "file_extension": ".py",
   "mimetype": "text/x-python",
   "name": "python",
   "nbconvert_exporter": "python",
   "pygments_lexer": "ipython3",
   "version": "3.11.7"
  }
 },
 "nbformat": 4,
 "nbformat_minor": 5
}
