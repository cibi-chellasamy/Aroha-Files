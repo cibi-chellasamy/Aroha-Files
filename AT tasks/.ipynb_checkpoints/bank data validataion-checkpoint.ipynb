{
 "cells": [
  {
   "cell_type": "code",
   "execution_count": 6,
   "id": "33701c18",
   "metadata": {},
   "outputs": [],
   "source": [
    "import numpy as np\n",
    "import pandas as pd\n",
    "from warnings import filterwarnings\n",
    "filterwarnings('ignore')"
   ]
  },
  {
   "cell_type": "code",
   "execution_count": 3,
   "id": "aba0d4ab",
   "metadata": {},
   "outputs": [],
   "source": [
    "df = pd.read_csv('bankd.txt',sep='\\t')"
   ]
  },
  {
   "cell_type": "code",
   "execution_count": 8,
   "id": "ca47562a",
   "metadata": {},
   "outputs": [
    {
     "name": "stdout",
     "output_type": "stream",
     "text": [
      "<class 'pandas.core.frame.DataFrame'>\n",
      "RangeIndex: 18 entries, 0 to 17\n",
      "Data columns (total 2 columns):\n",
      " #   Column     Non-Null Count  Dtype \n",
      "---  ------     --------------  ----- \n",
      " 0   BankId     18 non-null     object\n",
      " 1   AccountID  18 non-null     object\n",
      "dtypes: object(2)\n",
      "memory usage: 420.0+ bytes\n"
     ]
    }
   ],
   "source": [
    "df.info()"
   ]
  },
  {
   "cell_type": "code",
   "execution_count": 14,
   "id": "7b6cdf6d",
   "metadata": {},
   "outputs": [
    {
     "data": {
      "text/html": [
       "<div>\n",
       "<style scoped>\n",
       "    .dataframe tbody tr th:only-of-type {\n",
       "        vertical-align: middle;\n",
       "    }\n",
       "\n",
       "    .dataframe tbody tr th {\n",
       "        vertical-align: top;\n",
       "    }\n",
       "\n",
       "    .dataframe thead th {\n",
       "        text-align: right;\n",
       "    }\n",
       "</style>\n",
       "<table border=\"1\" class=\"dataframe\">\n",
       "  <thead>\n",
       "    <tr style=\"text-align: right;\">\n",
       "      <th></th>\n",
       "      <th>BankId</th>\n",
       "      <th>AccountID</th>\n",
       "    </tr>\n",
       "  </thead>\n",
       "  <tbody>\n",
       "    <tr>\n",
       "      <th>0</th>\n",
       "      <td>A1020</td>\n",
       "      <td>S39403030</td>\n",
       "    </tr>\n",
       "    <tr>\n",
       "      <th>1</th>\n",
       "      <td>A1020</td>\n",
       "      <td>S30495345</td>\n",
       "    </tr>\n",
       "    <tr>\n",
       "      <th>2</th>\n",
       "      <td>A1020</td>\n",
       "      <td>S234234432</td>\n",
       "    </tr>\n",
       "    <tr>\n",
       "      <th>3</th>\n",
       "      <td>A1020</td>\n",
       "      <td>C34534543</td>\n",
       "    </tr>\n",
       "    <tr>\n",
       "      <th>4</th>\n",
       "      <td>A1020</td>\n",
       "      <td>C34595044</td>\n",
       "    </tr>\n",
       "    <tr>\n",
       "      <th>5</th>\n",
       "      <td>A1020</td>\n",
       "      <td>C2304985345</td>\n",
       "    </tr>\n",
       "    <tr>\n",
       "      <th>6</th>\n",
       "      <td>A1020</td>\n",
       "      <td>D934530945</td>\n",
       "    </tr>\n",
       "    <tr>\n",
       "      <th>7</th>\n",
       "      <td>A1020</td>\n",
       "      <td>D940404984</td>\n",
       "    </tr>\n",
       "    <tr>\n",
       "      <th>8</th>\n",
       "      <td>A1020</td>\n",
       "      <td>D02340494r</td>\n",
       "    </tr>\n",
       "    <tr>\n",
       "      <th>9</th>\n",
       "      <td>A1021</td>\n",
       "      <td>S3405935845</td>\n",
       "    </tr>\n",
       "    <tr>\n",
       "      <th>10</th>\n",
       "      <td>A1021</td>\n",
       "      <td>S950504840</td>\n",
       "    </tr>\n",
       "    <tr>\n",
       "      <th>11</th>\n",
       "      <td>A1021</td>\n",
       "      <td>S94040958</td>\n",
       "    </tr>\n",
       "    <tr>\n",
       "      <th>12</th>\n",
       "      <td>A1021</td>\n",
       "      <td>C34095345</td>\n",
       "    </tr>\n",
       "    <tr>\n",
       "      <th>13</th>\n",
       "      <td>A1021</td>\n",
       "      <td>C08548494</td>\n",
       "    </tr>\n",
       "    <tr>\n",
       "      <th>14</th>\n",
       "      <td>A1021</td>\n",
       "      <td>C88594048</td>\n",
       "    </tr>\n",
       "    <tr>\n",
       "      <th>15</th>\n",
       "      <td>A1021</td>\n",
       "      <td>D9440021</td>\n",
       "    </tr>\n",
       "    <tr>\n",
       "      <th>16</th>\n",
       "      <td>A1021</td>\n",
       "      <td>D9440021</td>\n",
       "    </tr>\n",
       "    <tr>\n",
       "      <th>17</th>\n",
       "      <td>A1021</td>\n",
       "      <td>D495489</td>\n",
       "    </tr>\n",
       "  </tbody>\n",
       "</table>\n",
       "</div>"
      ],
      "text/plain": [
       "   BankId    AccountID\n",
       "0   A1020    S39403030\n",
       "1   A1020    S30495345\n",
       "2   A1020   S234234432\n",
       "3   A1020    C34534543\n",
       "4   A1020    C34595044\n",
       "5   A1020  C2304985345\n",
       "6   A1020   D934530945\n",
       "7   A1020   D940404984\n",
       "8   A1020   D02340494r\n",
       "9   A1021  S3405935845\n",
       "10  A1021   S950504840\n",
       "11  A1021    S94040958\n",
       "12  A1021    C34095345\n",
       "13  A1021    C08548494\n",
       "14  A1021    C88594048\n",
       "15  A1021     D9440021\n",
       "16  A1021     D9440021\n",
       "17  A1021      D495489"
      ]
     },
     "execution_count": 14,
     "metadata": {},
     "output_type": "execute_result"
    }
   ],
   "source": [
    "df"
   ]
  },
  {
   "cell_type": "code",
   "execution_count": 16,
   "id": "99abacbc",
   "metadata": {},
   "outputs": [
    {
     "name": "stdout",
     "output_type": "stream",
     "text": [
      "   BankId    AccountID\n",
      "0   A1020    S39403030\n",
      "1   A1020    S30495345\n",
      "2   A1020   S234234432\n",
      "3   A1020    C34534543\n",
      "4   A1020    C34595044\n",
      "5   A1020  C2304985345\n",
      "6   A1020   D934530945\n",
      "7   A1020   D940404984\n",
      "8   A1020   D02340494r\n",
      "9   A1021  S3405935845\n",
      "10  A1021   S950504840\n",
      "11  A1021    S94040958\n",
      "12  A1021    C34095345\n",
      "13  A1021    C08548494\n",
      "14  A1021    C88594048\n",
      "15  A1021     D9440021\n",
      "16  A1021     D9440021\n"
     ]
    }
   ],
   "source": [
    "len_data = df[(df[\"AccountID\"].str.len() >= 8) & (df[\"AccountID\"].str.len() <= 13)]\n",
    "\n",
    "print(len_data)"
   ]
  },
  {
   "cell_type": "code",
   "execution_count": 31,
   "id": "8df17bc0",
   "metadata": {},
   "outputs": [],
   "source": [
    "error_records = []\n",
    "valid_records = []\n",
    "\n",
    "valid_df = pd.DataFrame(columns=['BankID', 'AccountID'])\n",
    "error_df = pd.DataFrame(columns=['BankID', 'AccountID', 'Reason'])\n",
    "\n",
    "account_type_map = {'C': 'Credit', 'S': 'Savings', 'D': 'Deposit'}\n",
    "\n",
    "for index, row in df.iterrows():\n",
    "    bank_id = row['BankId']\n",
    "    account_id = row['AccountID']\n",
    "    \n",
    "    if (bank_id, account_id) in valid_records:\n",
    "        error_records.append((bank_id, account_id, 'Duplicate Record'))\n",
    "    elif not (7 <= len(account_id[1:]) <= 12):\n",
    "        error_records.append((bank_id, account_id, 'Account Length Violation'))\n",
    "    elif not account_id[1:].isdigit():\n",
    "        error_records.append((bank_id, account_id, 'Invalid Account ID Composition'))\n",
    "    else:\n",
    "        valid_records.append((bank_id, account_id))\n",
    "        account_type = account_type_map.get(account_id[0], 'Unknown')\n",
    "        account_no = account_id[1:]\n",
    "        valid_df = valid_df.append({'BankID': bank_id, 'AccountID': account_id}, ignore_index=True)\n",
    "\n",
    "target_df = pd.concat([valid_df['BankID'],\n",
    "                       pd.DataFrame(valid_df['AccountID'].apply\n",
    "                                    (lambda x: pd.Series([account_type_map.get(x[0], 'Unknown'),\n",
    "                                                          int(x[1:])])))], axis=1)\n",
    "target_df.columns = ['BankID', 'Account_type', 'Account_no']\n"
   ]
  },
  {
   "cell_type": "code",
   "execution_count": 32,
   "id": "785111fb",
   "metadata": {},
   "outputs": [
    {
     "name": "stdout",
     "output_type": "stream",
     "text": [
      "Target_Account:\n",
      "   BankID Account_type  Account_no\n",
      "0   A1020      Savings    39403030\n",
      "1   A1020      Savings    30495345\n",
      "2   A1020      Savings   234234432\n",
      "3   A1020       Credit    34534543\n",
      "4   A1020       Credit    34595044\n",
      "5   A1020       Credit  2304985345\n",
      "6   A1020      Deposit   934530945\n",
      "7   A1020      Deposit   940404984\n",
      "8   A1021      Savings  3405935845\n",
      "9   A1021      Savings   950504840\n",
      "10  A1021      Savings    94040958\n",
      "11  A1021       Credit    34095345\n",
      "12  A1021       Credit     8548494\n",
      "13  A1021       Credit    88594048\n",
      "14  A1021      Deposit     9440021\n"
     ]
    }
   ],
   "source": [
    "print(\"Target_Account:\")\n",
    "print(target_df)"
   ]
  },
  {
   "cell_type": "code",
   "execution_count": 33,
   "id": "18fb4264",
   "metadata": {},
   "outputs": [
    {
     "name": "stdout",
     "output_type": "stream",
     "text": [
      "\n",
      "Error_Account:\n",
      "  BankID   AccountID                          Reason\n",
      "0  A1020  D02340494r  Invalid Account ID Composition\n",
      "1  A1021    D9440021                Duplicate Record\n",
      "2  A1021     D495489        Account Length Violation\n"
     ]
    }
   ],
   "source": [
    "for record in error_records:\n",
    "    error_df = error_df.append({'BankID': record[0], 'AccountID': record[1], 'Reason': record[2]}\n",
    "                               , ignore_index=True)\n",
    "\n",
    "print(\"\\nError_Account:\")\n",
    "print(error_df)"
   ]
  },
  {
   "cell_type": "code",
   "execution_count": null,
   "id": "6d6a54e2",
   "metadata": {},
   "outputs": [],
   "source": []
  },
  {
   "cell_type": "code",
   "execution_count": null,
   "id": "5ec1ae6b",
   "metadata": {},
   "outputs": [],
   "source": []
  }
 ],
 "metadata": {
  "kernelspec": {
   "display_name": "Python 3 (ipykernel)",
   "language": "python",
   "name": "python3"
  },
  "language_info": {
   "codemirror_mode": {
    "name": "ipython",
    "version": 3
   },
   "file_extension": ".py",
   "mimetype": "text/x-python",
   "name": "python",
   "nbconvert_exporter": "python",
   "pygments_lexer": "ipython3",
   "version": "3.11.4"
  }
 },
 "nbformat": 4,
 "nbformat_minor": 5
}
