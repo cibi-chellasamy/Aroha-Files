{
 "cells": [
  {
   "cell_type": "code",
   "execution_count": 3,
   "id": "292ac859",
   "metadata": {},
   "outputs": [
    {
     "data": {
      "text/plain": [
       "['fggs', 'no', 'nkowm.']"
      ]
     },
     "execution_count": 3,
     "metadata": {},
     "output_type": "execute_result"
    }
   ],
   "source": [
    "s = 'fggs no nkowm.'\n",
    "d = s.split(\" \")\n",
    "d"
   ]
  },
  {
   "cell_type": "code",
   "execution_count": 4,
   "id": "82934537",
   "metadata": {},
   "outputs": [
    {
     "data": {
      "text/plain": [
       "'fggs no nkowm.'"
      ]
     },
     "execution_count": 4,
     "metadata": {},
     "output_type": "execute_result"
    }
   ],
   "source": [
    "\" \".join(d)"
   ]
  },
  {
   "cell_type": "code",
   "execution_count": 5,
   "id": "86b50e7d",
   "metadata": {},
   "outputs": [
    {
     "name": "stdout",
     "output_type": "stream",
     "text": [
      "Number of words: 5\n",
      "Concatenated sentence: Hello, how are you today?\n"
     ]
    }
   ],
   "source": [
    "def count_and_concatenate(sentence):\n",
    "    # Split the sentence into words\n",
    "    words = sentence.split()\n",
    "\n",
    "    # Count the number of words\n",
    "    word_count = len(words)\n",
    "\n",
    "    # Concatenate the words to form a sentence\n",
    "    concatenated_sentence = ' '.join(words)\n",
    "\n",
    "    return word_count, concatenated_sentence\n",
    "\n",
    "# Example usage\n",
    "input_string = \"Hello, how are you today?\"\n",
    "count, concatenated_result = count_and_concatenate(input_string)\n",
    "\n",
    "# Output the results\n",
    "print(f\"Number of words: {count}\")\n",
    "print(f\"Concatenated sentence: {concatenated_result}\")\n"
   ]
  },
  {
   "cell_type": "code",
   "execution_count": 6,
   "id": "ac0d990f",
   "metadata": {},
   "outputs": [],
   "source": [
    "import re"
   ]
  },
  {
   "cell_type": "code",
   "execution_count": 7,
   "id": "797300ad",
   "metadata": {},
   "outputs": [
    {
     "name": "stdout",
     "output_type": "stream",
     "text": [
      "['Gmail.com', 'yahoo.com']\n"
     ]
    }
   ],
   "source": [
    "import re\n",
    "\n",
    "input_list = ['Gmail.com', 'yahoo.com', 'example.net', 'abc.org']\n",
    "pattern = re.compile(r'\\.com$')\n",
    "\n",
    "output_list = [domain for domain in input_list if pattern.search(domain)]\n",
    "print(output_list)\n"
   ]
  },
  {
   "cell_type": "markdown",
   "id": "6a1f4905",
   "metadata": {},
   "source": [
    "# sql\n",
    "finding the details of employee who has Nth largest salary in their respective departments"
   ]
  },
  {
   "cell_type": "code",
   "execution_count": 1,
   "id": "fd073bda",
   "metadata": {},
   "outputs": [],
   "source": [
    "input_string = \"Hello, how are you today?\""
   ]
  },
  {
   "cell_type": "code",
   "execution_count": 2,
   "id": "dae6ac31",
   "metadata": {},
   "outputs": [
    {
     "data": {
      "text/plain": [
       "['Hello,', 'how', 'are', 'you', 'today?']"
      ]
     },
     "execution_count": 2,
     "metadata": {},
     "output_type": "execute_result"
    }
   ],
   "source": [
    "input_string.split()"
   ]
  },
  {
   "cell_type": "code",
   "execution_count": 4,
   "id": "f85b211d",
   "metadata": {},
   "outputs": [
    {
     "data": {
      "text/plain": [
       "'Hello, how are you today?'"
      ]
     },
     "execution_count": 4,
     "metadata": {},
     "output_type": "execute_result"
    }
   ],
   "source": [
    "\"\".join(input_string)"
   ]
  },
  {
   "cell_type": "code",
   "execution_count": null,
   "id": "2d507b1e",
   "metadata": {},
   "outputs": [],
   "source": []
  },
  {
   "cell_type": "code",
   "execution_count": 16,
   "id": "a3c7b9a7",
   "metadata": {},
   "outputs": [
    {
     "name": "stdout",
     "output_type": "stream",
     "text": [
      "Enter an email address: d@gmail.com\n",
      "d@gmail.com: Personal\n"
     ]
    }
   ],
   "source": [
    "personal_domains = ['gmail.com', 'yahoo.com', 'outlook.com']\n",
    "professional_domains = ['company.com', 'work.com', 'business.org']\n",
    "\n",
    "email_address = input(\"Enter an email address: \")\n",
    "\n",
    "domain = email_address.split('@')[-1].lower()\n",
    "\n",
    "if domain in personal_domains:\n",
    "    category = 'Personal'\n",
    "elif domain in professional_domains:\n",
    "    category = 'Professional'\n",
    "else:\n",
    "    category = 'Uncategorized'\n",
    "\n",
    "print(f\"{email_address}: {category}\")\n"
   ]
  },
  {
   "cell_type": "code",
   "execution_count": 19,
   "id": "7aeed732",
   "metadata": {},
   "outputs": [
    {
     "name": "stdout",
     "output_type": "stream",
     "text": [
      "er.com\n",
      "er.com:prof\n"
     ]
    }
   ],
   "source": [
    "personal_domains = ['gmail.com', 'yahoo.com', 'outlook.com']\n",
    "professional_domains = ['company.com', 'work.com', 'business.org']\n",
    "\n",
    "email_address = input()\n",
    "\n",
    "domain = email_address.split('@')[-1].lower()\n",
    "\n",
    "if domain in personal_domains:\n",
    "    cate = 'personal_domain'\n",
    "else :\n",
    "    cate = 'prof'\n",
    "    \n",
    "print(f\"{email_address}:{cate}\")"
   ]
  },
  {
   "cell_type": "code",
   "execution_count": 10,
   "id": "a7edc809",
   "metadata": {},
   "outputs": [
    {
     "name": "stdout",
     "output_type": "stream",
     "text": [
      "enter the address: d@gmail.com\n",
      "d@gmail.com:personal\n"
     ]
    }
   ],
   "source": [
    "personal_domains = ['gmail.com', 'yahoo.com', 'outlook.com']\n",
    "professional_domains = ['company.com', 'work.com', 'business.org','company.in']\n",
    "\n",
    "email_address = input('enter the address: ')\n",
    "domain = email_address.split('@')[-1].lower()\n",
    "\n",
    "if domain in personal_domains:\n",
    "    category = 'personal'\n",
    "else:\n",
    "    category = 'professional'\n",
    "    \n",
    "print(f\"{email_address}:{category}\")"
   ]
  },
  {
   "cell_type": "code",
   "execution_count": 23,
   "id": "ace26273",
   "metadata": {},
   "outputs": [
    {
     "name": "stdout",
     "output_type": "stream",
     "text": [
      "4\n",
      "not prime\n"
     ]
    }
   ],
   "source": [
    "num = int(input())\n",
    "\n",
    "if num>1:\n",
    "    for i in range(2,int(num**0.5)+1):\n",
    "        if num % i ==0:\n",
    "            print('not prime')\n",
    "            break\n",
    "    else :\n",
    "        print('prime')\n",
    "else:\n",
    "    print('not prime')"
   ]
  },
  {
   "cell_type": "code",
   "execution_count": 27,
   "id": "00733bba",
   "metadata": {},
   "outputs": [
    {
     "name": "stdout",
     "output_type": "stream",
     "text": [
      "4\n",
      "not\n"
     ]
    }
   ],
   "source": [
    "num = int(input())\n",
    "\n",
    "if num>1:\n",
    "    for i in range (2,int(num**0.5)+1):\n",
    "        if num % i == 0:\n",
    "            print('not')\n",
    "            break\n",
    "        else:\n",
    "            print('primne')\n",
    "else:\n",
    "    print('not')"
   ]
  },
  {
   "cell_type": "code",
   "execution_count": 7,
   "id": "de49e4b1",
   "metadata": {},
   "outputs": [
    {
     "name": "stdout",
     "output_type": "stream",
     "text": [
      "8\n",
      "not\n"
     ]
    }
   ],
   "source": [
    "num = int(input())\n",
    "\n",
    "if num >1:\n",
    "    for i in range(2,int(num**0.5)+1):\n",
    "        if num % i ==0:\n",
    "            print('not')\n",
    "            break\n",
    "        else:\n",
    "            print('prime')\n",
    "else:\n",
    "    print('not')"
   ]
  },
  {
   "cell_type": "code",
   "execution_count": 3,
   "id": "181bd6ff",
   "metadata": {},
   "outputs": [
    {
     "name": "stdout",
     "output_type": "stream",
     "text": [
      "4\n",
      "not\n"
     ]
    }
   ],
   "source": [
    "num = int(input())\n",
    "\n",
    "if num>1:\n",
    "    for i in range(2,int(num**0.5)+1):\n",
    "        if num % i ==0:\n",
    "            print('not')\n",
    "            break\n",
    "        else:\n",
    "            print('prime')\n",
    "else:\n",
    "    print('not')"
   ]
  },
  {
   "cell_type": "code",
   "execution_count": null,
   "id": "5fa66559",
   "metadata": {},
   "outputs": [],
   "source": []
  }
 ],
 "metadata": {
  "kernelspec": {
   "display_name": "Python 3 (ipykernel)",
   "language": "python",
   "name": "python3"
  },
  "language_info": {
   "codemirror_mode": {
    "name": "ipython",
    "version": 3
   },
   "file_extension": ".py",
   "mimetype": "text/x-python",
   "name": "python",
   "nbconvert_exporter": "python",
   "pygments_lexer": "ipython3",
   "version": "3.11.4"
  }
 },
 "nbformat": 4,
 "nbformat_minor": 5
}
