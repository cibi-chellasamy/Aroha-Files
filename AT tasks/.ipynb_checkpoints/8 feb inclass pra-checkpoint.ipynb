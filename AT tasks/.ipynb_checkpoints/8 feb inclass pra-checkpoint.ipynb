{
 "cells": [
  {
   "cell_type": "code",
   "execution_count": 5,
   "id": "74332121",
   "metadata": {},
   "outputs": [
    {
     "name": "stdout",
     "output_type": "stream",
     "text": [
      "{'apple': 2, 'google': 2, 'gmail': 3, 'yahoo': 1}\n"
     ]
    }
   ],
   "source": [
    "names = [\"apple\", \"google\", \"gmail\", \"yahoo\", \"gmail\", \"apple\", \"gmail\", \"google\"]\n",
    "counts_dict = {}\n",
    "for name in names:\n",
    "    if name in counts_dict:\n",
    "        counts_dict[name] = counts_dict[name] + 1 \n",
    "    else:\n",
    "        counts_dict[name] = 1\n",
    "\n",
    "print(counts_dict)"
   ]
  },
  {
   "cell_type": "markdown",
   "id": "0bb79e80",
   "metadata": {},
   "source": [
    "5)Reveres the values in dictionary if \n",
    "type of value is string, if integer add 10,if float keep as it is "
   ]
  },
  {
   "cell_type": "code",
   "execution_count": 8,
   "id": "81bf2000",
   "metadata": {},
   "outputs": [
    {
     "name": "stdout",
     "output_type": "stream",
     "text": [
      "{1: 'elppa', 2: 32, 3: 3.2, 4: 'liamg'}\n"
     ]
    }
   ],
   "source": [
    "a = {1:\"apple\",2:22,3:3.2,4:\"gmail\"}\n",
    "new_dict = {}\n",
    "\n",
    "for key,value in a.items():\n",
    "    if isinstance(value,str):\n",
    "        new_dict[key] = value[::-1]\n",
    "    elif isinstance(value,int):\n",
    "        new_dict[key] = value+10\n",
    "    elif isinstance(value,float):\n",
    "        new_dict[key] = value\n",
    "    else:\n",
    "        new_dict[key] = value\n",
    "print(new_dict)"
   ]
  },
  {
   "cell_type": "markdown",
   "id": "01843874",
   "metadata": {},
   "source": [
    "6)create a dictionary with duplicate word with count pair \n",
    "string = \"python is a language python program is easy\"   o/p = {'python':2,\"is\":2}"
   ]
  },
  {
   "cell_type": "code",
   "execution_count": 9,
   "id": "f247fb35",
   "metadata": {},
   "outputs": [],
   "source": [
    "string = \"python is a language python program is easy\""
   ]
  },
  {
   "cell_type": "code",
   "execution_count": 46,
   "id": "94ac62aa",
   "metadata": {},
   "outputs": [
    {
     "name": "stdout",
     "output_type": "stream",
     "text": [
      "{'python': 2, 'is': 2}\n"
     ]
    }
   ],
   "source": [
    "s = {}\n",
    "new = string.split()\n",
    "\n",
    "for i in new:\n",
    "    if i not in s:\n",
    "        s[i] = 1\n",
    "    else:\n",
    "        s[i] = s[i]+1\n",
    "        \n",
    "dup = {}        \n",
    "for word,count in s.items():\n",
    "    if count >1:\n",
    "        dup[word] = count\n",
    "print(dup)"
   ]
  },
  {
   "cell_type": "code",
   "execution_count": null,
   "id": "fa71c7db",
   "metadata": {},
   "outputs": [],
   "source": []
  },
  {
   "cell_type": "markdown",
   "id": "d10b8808",
   "metadata": {},
   "source": [
    "7) Create a dictionary by using two lists \n",
    "l1 = ['a','b','c','d']\n",
    "l2 = [1,2,3,4]\n",
    "\n",
    "d = {'a':1,'b':2,'c':3,'d':4}"
   ]
  },
  {
   "cell_type": "code",
   "execution_count": 50,
   "id": "365f5819",
   "metadata": {},
   "outputs": [
    {
     "name": "stdout",
     "output_type": "stream",
     "text": [
      "{'a': 1, 'b': 2, 'c': 3, 'd': 4}\n"
     ]
    }
   ],
   "source": [
    "l1 = ['a','b','c','d']\n",
    "l2 = [1,2,3,4]\n",
    "\n",
    "for i in l1:\n",
    "    for j in l2:\n",
    "        d = dict(zip(l1,l2))\n",
    "print(d)"
   ]
  },
  {
   "cell_type": "markdown",
   "id": "027a15f2",
   "metadata": {},
   "source": [
    "8)Write a Python program to print all unique values in a dictionary. Go \n",
    "\n",
    "li = [{\"V\":\"S001\"}, {\"V\": \"S002\"}, {\"VI\": \"S001\"}, {\"VI\": \"S005\"}, {\"VII\":\"S005\"}, {\"V\":\"S009\"},{\"VIII\":\"S007\"}]\n",
    "o/p = ['S001', 'S002', 'S005', 'S009', 'S007']"
   ]
  },
  {
   "cell_type": "code",
   "execution_count": 57,
   "id": "fda0f9cd",
   "metadata": {},
   "outputs": [
    {
     "name": "stdout",
     "output_type": "stream",
     "text": [
      "['S005', 'S007', 'S001', 'S002', 'S009']\n"
     ]
    }
   ],
   "source": [
    "li = [{\"V\":\"S001\"}, {\"V\": \"S002\"}, {\"VI\": \"S001\"}, {\"VI\": \"S005\"}, {\"VII\":\"S005\"}, {\"V\":\"S009\"},{\"VIII\":\"S007\"}]\n",
    "\n",
    "op =set()\n",
    "\n",
    "for item in li:\n",
    "    for value in item.values():\n",
    "        op.add(value)\n",
    "output = list(op)\n",
    "print(output)"
   ]
  },
  {
   "cell_type": "markdown",
   "id": "504266f3",
   "metadata": {},
   "source": [
    "9)Find sum of all the values in a dictionary\n",
    "Input : {‘a’: 100, ‘b’:200, ‘c’:300}\n",
    "Output : 600 sum of all elements in dictionary"
   ]
  },
  {
   "cell_type": "code",
   "execution_count": 67,
   "id": "fe56f9d9",
   "metadata": {},
   "outputs": [],
   "source": []
  },
  {
   "cell_type": "code",
   "execution_count": 72,
   "id": "7b360209",
   "metadata": {},
   "outputs": [
    {
     "name": "stdout",
     "output_type": "stream",
     "text": [
      "sum of all elements in dictionary  600\n"
     ]
    }
   ],
   "source": [
    "p = {'a': 100, 'b':200, 'c':300}\n",
    "summ = sum(p.values())\n",
    "\n",
    "print('sum of all elements in dictionary ', summ)"
   ]
  },
  {
   "cell_type": "markdown",
   "id": "780efa63",
   "metadata": {},
   "source": [
    "10)Input 5 students name and 5 students marks if they score \n",
    "1. score >= 90 : \"A\" \n",
    "2. score >= 80 : \"B\"\n",
    "3. score >= 70 : \"C\"\n",
    "4. score >= 60 : \"D\"\n",
    "4. score < 60 : \"E\"\n",
    "show it in dictionary\n",
    "EXAMPLE\n",
    "NAME = 'joy'\n",
    "MARKS = [85,55,78,66,75]\n",
    "D = {'joy':'B'.............}\n",
    "\n"
   ]
  },
  {
   "cell_type": "code",
   "execution_count": 80,
   "id": "ed2fc032",
   "metadata": {},
   "outputs": [
    {
     "name": "stdout",
     "output_type": "stream",
     "text": [
      "enter the names: aravindh\n",
      "enter the marks: 56 79\n",
      "enter the names: basith\n",
      "enter the marks: 69 76\n",
      "enter the names: dp\n",
      "enter the marks: 78 98\n",
      "enter the names: deepak\n",
      "enter the marks: 69\n",
      "enter the names: lk\n",
      "enter the marks: 48 58\n",
      "{'aravindh': 'D', 'basith': 'C', 'dp': 'B', 'deepak': 'D', 'lk': 'E'}\n"
     ]
    }
   ],
   "source": [
    "students = {}\n",
    "\n",
    "for i in range(5):\n",
    "    name = input('enter the names: ')\n",
    "    marks = list(map(int, input(\"enter the marks: \").split()))\n",
    "    \n",
    "    avg = sum(marks)/len(marks)\n",
    "    if avg >= 90:\n",
    "        grade = \"A\"\n",
    "    elif avg >= 80:\n",
    "        grade = \"B\"\n",
    "    elif avg >= 70:\n",
    "        grade = \"C\"\n",
    "    elif avg >= 60:\n",
    "        grade = \"D\"\n",
    "    else:\n",
    "        grade = \"E\"\n",
    "        \n",
    "    students[name] = grade\n",
    "print(students)"
   ]
  },
  {
   "cell_type": "markdown",
   "id": "587e30ca",
   "metadata": {},
   "source": [
    "6)A shop will give discount of 10% if the cost of purchased amount is 10000.Ask user for quantitySuppose, one unit will cost 100.Judge and print total cost for user."
   ]
  },
  {
   "cell_type": "code",
   "execution_count": null,
   "id": "36e7c149",
   "metadata": {},
   "outputs": [],
   "source": []
  },
  {
   "cell_type": "code",
   "execution_count": 3,
   "id": "3525cc8f",
   "metadata": {},
   "outputs": [
    {
     "name": "stdout",
     "output_type": "stream",
     "text": [
      "[[5], [5], [5]]\n"
     ]
    }
   ],
   "source": [
    "li = [[]]*3\n",
    "li[1].append(5)\n",
    "print(li)"
   ]
  },
  {
   "cell_type": "code",
   "execution_count": 4,
   "id": "3da7777c",
   "metadata": {},
   "outputs": [
    {
     "name": "stdout",
     "output_type": "stream",
     "text": [
      "15 5\n"
     ]
    }
   ],
   "source": [
    "value = 5\n",
    "def func():\n",
    "    value = 15\n",
    "    print(value,end = \" \")\n",
    "func()\n",
    "print(value)"
   ]
  },
  {
   "cell_type": "code",
   "execution_count": 5,
   "id": "7983dd7f",
   "metadata": {},
   "outputs": [
    {
     "name": "stdout",
     "output_type": "stream",
     "text": [
      "False\n"
     ]
    }
   ],
   "source": [
    "x = 3^2\n",
    "y = int(4^3)\n",
    "print(x==y)"
   ]
  },
  {
   "cell_type": "code",
   "execution_count": null,
   "id": "ae12d0e7",
   "metadata": {},
   "outputs": [],
   "source": []
  },
  {
   "cell_type": "markdown",
   "id": "c06e34c9",
   "metadata": {},
   "source": [
    "6)A shop will give discount of 10% \n",
    "if the cost of purchased amount is 10000.Ask user for quantitySuppose, \n",
    "one unit will cost 100.Judge and print total cost for user."
   ]
  },
  {
   "cell_type": "code",
   "execution_count": 9,
   "id": "89ec6b82",
   "metadata": {},
   "outputs": [
    {
     "name": "stdout",
     "output_type": "stream",
     "text": [
      "enter the quanity 100\n",
      "discounted_price  9000.0\n"
     ]
    }
   ],
   "source": [
    "quantity = int(input('enter the quanity '))\n",
    "\n",
    "total_cost = quantity*100\n",
    "\n",
    "if total_cost >= 10000:\n",
    "    discounted_cost = total_cost - (total_cost*0.1)\n",
    "    print('discounted_price ',discounted_cost)\n",
    "else:\n",
    "    print('Total cost ', total_cost)\n",
    "    "
   ]
  },
  {
   "cell_type": "markdown",
   "id": "5509b425",
   "metadata": {},
   "source": [
    "8)A student will not be allowed to sit in exam if his/her attendance is less than 75%.Take following input from user Number of classes held, Number of classes attended. And printpercentage of class attended. Is student is allowed to sit in exam or not."
   ]
  },
  {
   "cell_type": "code",
   "execution_count": 16,
   "id": "195d7bac",
   "metadata": {},
   "outputs": [
    {
     "name": "stdout",
     "output_type": "stream",
     "text": [
      "number of classes held: 10\n",
      "number of class attended: 2\n",
      "Percentage of classes attended: 20.00%\n",
      "Cannot appear for exam\n"
     ]
    }
   ],
   "source": [
    "classes_held = int(input(\"number of classes held: \"))\n",
    "classes_attended = int(input(\"number of class attended: \"))\n",
    "\n",
    "percentage = (classes_attended/classes_held)*100\n",
    "\n",
    "print(\"Percentage of classes attended: {:.2f}%\".format(percentage))\n",
    "\n",
    "if percentage >=75:\n",
    "    print('Can appear exam')\n",
    "else:\n",
    "    print('Cannot appear for exam')"
   ]
  },
  {
   "cell_type": "code",
   "execution_count": null,
   "id": "509e73d7",
   "metadata": {},
   "outputs": [],
   "source": []
  }
 ],
 "metadata": {
  "kernelspec": {
   "display_name": "Python 3 (ipykernel)",
   "language": "python",
   "name": "python3"
  },
  "language_info": {
   "codemirror_mode": {
    "name": "ipython",
    "version": 3
   },
   "file_extension": ".py",
   "mimetype": "text/x-python",
   "name": "python",
   "nbconvert_exporter": "python",
   "pygments_lexer": "ipython3",
   "version": "3.11.4"
  }
 },
 "nbformat": 4,
 "nbformat_minor": 5
}
