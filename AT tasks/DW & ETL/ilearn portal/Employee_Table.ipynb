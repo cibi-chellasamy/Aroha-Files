{
 "cells": [
  {
   "cell_type": "code",
   "execution_count": 18,
   "id": "4e6447c6",
   "metadata": {},
   "outputs": [],
   "source": [
    "import pandas as pd\n",
    "import warnings\n",
    "warnings.filterwarnings('ignore')"
   ]
  },
  {
   "cell_type": "code",
   "execution_count": 19,
   "id": "8f133ca5",
   "metadata": {},
   "outputs": [],
   "source": [
    "df = pd.read_excel('ilearn.xlsx')"
   ]
  },
  {
   "cell_type": "code",
   "execution_count": 20,
   "id": "d86520bc",
   "metadata": {},
   "outputs": [],
   "source": [
    "df_employee = df[['first_name','last_name']]"
   ]
  },
  {
   "cell_type": "code",
   "execution_count": 21,
   "id": "4fcc3b9a",
   "metadata": {},
   "outputs": [],
   "source": [
    "df_employee.drop_duplicates(inplace=True)"
   ]
  },
  {
   "cell_type": "code",
   "execution_count": 22,
   "id": "aefe2256",
   "metadata": {},
   "outputs": [],
   "source": [
    "df_employee['Employee_id'] = range(100, 100+int(len(df_employee)))"
   ]
  },
  {
   "cell_type": "code",
   "execution_count": 23,
   "id": "93d4d1c8",
   "metadata": {},
   "outputs": [],
   "source": [
    "cols = df_employee.columns.to_list()"
   ]
  },
  {
   "cell_type": "code",
   "execution_count": 24,
   "id": "ecfde261",
   "metadata": {},
   "outputs": [],
   "source": [
    "cols = cols[-1:] + cols[:-1] "
   ]
  },
  {
   "cell_type": "code",
   "execution_count": 25,
   "id": "eb960701",
   "metadata": {},
   "outputs": [],
   "source": [
    "df_employee = df_employee[cols]"
   ]
  },
  {
   "cell_type": "code",
   "execution_count": 26,
   "id": "859f08a7",
   "metadata": {},
   "outputs": [],
   "source": [
    "df_employee.reset_index(inplace=True)\n",
    "df_employee.drop('index', axis=1, inplace=True)"
   ]
  },
  {
   "cell_type": "code",
   "execution_count": 27,
   "id": "40f85ee6",
   "metadata": {},
   "outputs": [],
   "source": [
    "file_path = \"Employee xl.xlsx\"\n",
    "df_employee.to_excel(file_path, index=False)"
   ]
  },
  {
   "cell_type": "code",
   "execution_count": null,
   "id": "b56cd4a4",
   "metadata": {},
   "outputs": [],
   "source": []
  }
 ],
 "metadata": {
  "kernelspec": {
   "display_name": "Python 3 (ipykernel)",
   "language": "python",
   "name": "python3"
  },
  "language_info": {
   "codemirror_mode": {
    "name": "ipython",
    "version": 3
   },
   "file_extension": ".py",
   "mimetype": "text/x-python",
   "name": "python",
   "nbconvert_exporter": "python",
   "pygments_lexer": "ipython3",
   "version": "3.11.4"
  }
 },
 "nbformat": 4,
 "nbformat_minor": 5
}
