{
 "cells": [
  {
   "cell_type": "code",
   "execution_count": null,
   "id": "bf766518-3f0a-4ebf-b446-0d13394c4ea9",
   "metadata": {},
   "outputs": [],
   "source": []
  },
  {
   "cell_type": "code",
   "execution_count": null,
   "id": "52d27d89-8434-43b3-951e-f955ecdd5401",
   "metadata": {},
   "outputs": [],
   "source": [
    "import pandas as pd\n",
    "import glob\n",
    "import os\n",
    "import json\n",
    "from datetime import datetime\n",
    "import warnings\n",
    "import numpy as np\n",
    "warnings.filterwarnings('ignore')\n",
    "import pyarrow as pa\n",
    "import pyarrow.parquet as pq"
   ]
  },
  {
   "cell_type": "code",
   "execution_count": null,
   "id": "b769be44-4145-4c29-91ac-70273b206a05",
   "metadata": {},
   "outputs": [],
   "source": []
  },
  {
   "cell_type": "code",
   "execution_count": null,
   "id": "d2799caf-aa43-4234-837f-4fef0ba8ef0a",
   "metadata": {},
   "outputs": [],
   "source": [
    "folder_path = \"C:/Users/DELL/OneDrive/Desktop/AT files/Daily/raw/Files\"  \n",
    "\n",
    "file=[]\n",
    "for root, dirs, files in os.walk(folder_path):\n",
    "    root_path=root.split('\\\\')\n",
    "    root_path='/'.join(root_path)\n",
    "    for i in files:\n",
    "        if not i.endswith('.ipynb') and not i.endswith('.DS_Store'):\n",
    "            path=f'{root_path}/{i}'\n",
    "            file.append(path)"
   ]
  },
  {
   "cell_type": "code",
   "execution_count": null,
   "id": "b5681491-1681-4a4e-ab45-b6a418b46305",
   "metadata": {},
   "outputs": [],
   "source": []
  },
  {
   "cell_type": "code",
   "execution_count": null,
   "id": "9dd6192e-071f-4dd2-8a04-691025956235",
   "metadata": {},
   "outputs": [],
   "source": [
    "df_dict={}\n",
    "\n",
    "for i in file :\n",
    "    if i.endswith('.csv'):\n",
    "        name=i.split('/')[-1].split('.')[0]\n",
    "        df_dict[f'{name}_df']=pd.read_csv(i)\n",
    "        \n",
    "    elif i.endswith('.json'):\n",
    "        try:\n",
    "            name=i.split('/')[-1].split('.')[0]\n",
    "            df_dict[f'{name}_df']=pd.read_json(i, lines=True)\n",
    "        except ValueError:\n",
    "            name=i.split('/')[-1].split('.')[0]\n",
    "            df_dict[f'{name}_df']=pd.read_json(i)\n",
    "    else:\n",
    "        print('no')"
   ]
  },
  {
   "cell_type": "code",
   "execution_count": null,
   "id": "eff90b38-272d-44f9-8eba-f8152acc049f",
   "metadata": {},
   "outputs": [],
   "source": []
  },
  {
   "cell_type": "code",
   "execution_count": null,
   "id": "9d5afe3e-a33e-4d87-a2cf-8f2a4bacce01",
   "metadata": {},
   "outputs": [],
   "source": [
    "for i in df_dict:\n",
    "    print(i)\n",
    "\n",
    "for key in df_dict:\n",
    "    globals()[key] = df_dict[key]\n",
    "\n",
    "for key in df_dict:\n",
    "    print(f\"\\n{key}:\")\n",
    "    print(globals()[key])"
   ]
  },
  {
   "cell_type": "code",
   "execution_count": null,
   "id": "adf10aa3-e4f5-42d7-b50c-e2a3486cc701",
   "metadata": {},
   "outputs": [],
   "source": []
  },
  {
   "cell_type": "code",
   "execution_count": null,
   "id": "f5b12806-f2ae-4ccf-8ad2-3cfc6ce480fc",
   "metadata": {},
   "outputs": [],
   "source": [
    "dataframes = [circuits_df,constructors_df,drivers_df,lap_times_split_1_df,lap_times_split_2_df,\n",
    "              lap_times_split_3_df,lap_times_split_4_df,lap_times_split_5_df,\n",
    "              pit_stops_df,qualifying_split_1_df,qualifying_split_2_df,races_df,results_df]\n",
    "\n",
    "for df in dataframes:\n",
    "    if 'url' in df.columns:\n",
    "        df.drop(columns='url', inplace=True)"
   ]
  },
  {
   "cell_type": "code",
   "execution_count": null,
   "id": "cf4c9bf1-d794-4af8-8c8f-0f6f45cb81d0",
   "metadata": {},
   "outputs": [],
   "source": []
  },
  {
   "cell_type": "code",
   "execution_count": null,
   "id": "1eb376ce-db18-4ab5-a85e-78a38ba0c063",
   "metadata": {},
   "outputs": [],
   "source": [
    "dataframes = [circuits_df,constructors_df,drivers_df,lap_times_split_1_df,lap_times_split_2_df,\n",
    "              lap_times_split_3_df,lap_times_split_4_df,lap_times_split_5_df,\n",
    "              pit_stops_df,qualifying_split_1_df,qualifying_split_2_df,races_df,results_df]\n",
    "\n",
    "def rename_id_columns(df):\n",
    "    df.rename(columns=lambda x: x[:-2] + '_id' if x.endswith('Id') or x.endswith('ID') else x, inplace=True)\n",
    "\n",
    "for df in dataframes:\n",
    "    rename_id_columns(df)"
   ]
  },
  {
   "cell_type": "code",
   "execution_count": null,
   "id": "aabe0638-e2f5-4b0b-b098-8565b06a1414",
   "metadata": {},
   "outputs": [],
   "source": []
  },
  {
   "cell_type": "code",
   "execution_count": null,
   "id": "7445bd43-1f37-4d3a-8770-56189413ae14",
   "metadata": {},
   "outputs": [],
   "source": [
    "def rename_ref_columns(df):\n",
    "    df.rename(columns=lambda x: x[:-3] + '_ref' if x.endswith('Ref') else x, inplace=True)\n",
    "\n",
    "for df in dataframes:\n",
    "    rename_ref_columns(df)"
   ]
  },
  {
   "cell_type": "code",
   "execution_count": null,
   "id": "8e917e5b-f8d6-4419-80ee-5acfe1266277",
   "metadata": {},
   "outputs": [],
   "source": [
    "column_mappings = {'lat':'latitude','lng':'longitude','alt':'altitude'}\n",
    "dataframes = [circuits_df]\n",
    "\n",
    "for df in dataframes:\n",
    "    for current_col, new_col in column_mappings.items():\n",
    "        if current_col in df.columns:\n",
    "            df.rename(columns={current_col: new_col}, inplace=True)\n"
   ]
  },
  {
   "cell_type": "code",
   "execution_count": null,
   "id": "b23a0ea5-3fcd-48e7-9c37-89fe80d2e34e",
   "metadata": {},
   "outputs": [],
   "source": [
    "lap_times_dfs = [lap_times_split_1_df, lap_times_split_2_df, lap_times_split_3_df, lap_times_split_4_df, lap_times_split_5_df]\n",
    "new_columns = ['raceId', 'driverId', 'lap', 'position', 'time', 'milliseconds']\n",
    "for df in lap_times_dfs:\n",
    "    df.columns = new_columns\n"
   ]
  },
  {
   "cell_type": "code",
   "execution_count": null,
   "id": "e93123bb-e511-4bf5-bcce-f3eaa8ea8ec5",
   "metadata": {},
   "outputs": [],
   "source": [
    "\n",
    "\n",
    "races_df.rename({'year':'race_year'},inplace=True,axis=1)\n",
    "\n",
    "races_df.drop(['date','time'],inplace=True,axis=1)\n",
    "\n",
    "drivers_df['full_name'] = drivers_df['name'].apply(lambda x:x['forename'] + ' ' + x['surname'])\n",
    "\n",
    "drivers_df.drop(['name'],inplace=True,axis=1)\n",
    "\n",
    "drivers_df = drivers_df[['driver_id','driver_ref','number','code','full_name','dob','nationality']]\n",
    "\n",
    "results_df.rename(columns={'positionText': 'position_text','positionOrder': 'position_order','fastestLap': 'fastest_lap',\n",
    "                           'fastestLapTime': 'fastest_lap_time','fastestLapSpeed': 'fastest_lap_speed'}, inplace=True)\n",
    "\n",
    "today_date = datetime.now().strftime('%Y-%m-%d %H:%M:%S')\n",
    "dataframes = [circuits_df,constructors_df,drivers_df,lap_times_split_1_df,lap_times_split_2_df,\n",
    "              lap_times_split_3_df,lap_times_split_4_df,lap_times_split_5_df,\n",
    "              pit_stops_df,qualifying_split_1_df,qualifying_split_2_df,races_df,results_df]\n",
    "\n",
    "for df in dataframes:\n",
    "    df['ingestion_date'] = today_date\n",
    "\n",
    "data_source = input(\"Enter the data source (Testing or Development): \")\n",
    "for df in dataframes:\n",
    "    df['data_source'] = data_source\n",
    "\n",
    "def preprocess_dataframe(df, string_columns=None):\n",
    "    if string_columns is None:\n",
    "        string_columns = []\n",
    "\n",
    "    for col in df.columns:\n",
    "        df[col] = df[col].replace('\\\\N', np.nan)\n",
    "        if col in string_columns:\n",
    "            df[col] = df[col].astype(str)\n",
    "        else:\n",
    "            df[col] = pd.to_numeric(df[col], errors='ignore')\n",
    "    return df\n",
    "\n",
    "string_columns_dict = {'circuits_df': [],'constructors_df': [],'drivers_df': [],'lap_times_split_1_df': ['duration'],'lap_times_split_2_df': ['duration'],\n",
    "                       'lap_times_split_3_df': ['duration'],'lap_times_split_4_df': ['duration'],'lap_times_split_5_df': ['duration'],'pit_stops_df': [],\n",
    "                       'qualifying_split_1_df': ['position_text'],\n",
    "                       'qualifying_split_2_df': ['position_text'],'races_df': [],'results_df': ['position_text']}\n",
    "\n",
    "dataframes = [('circuits_df', circuits_df), ('constructors_df', constructors_df), ('drivers_df', drivers_df), \n",
    "              ('lap_times_split_1_df', lap_times_split_1_df), ('lap_times_split_2_df', lap_times_split_2_df),\n",
    "              ('lap_times_split_3_df', lap_times_split_3_df), ('lap_times_split_4_df', lap_times_split_4_df), \n",
    "              ('lap_times_split_5_df', lap_times_split_5_df),('pit_stops_df', pit_stops_df),\n",
    "              ('qualifying_split_1_df', qualifying_split_1_df), \n",
    "              ('qualifying_split_2_df', qualifying_split_2_df), ('races_df', races_df), ('results_df', results_df)]\n",
    "\n",
    "file_paths = ['circuits.parquet', 'constructors.parquet', 'drivers.parquet', 'lap_times_split_1.parquet', 'lap_times_split_2.parquet',\n",
    "              'lap_times_split_3.parquet', 'lap_times_split_4.parquet', 'lap_times_split_5.parquet','pit_stops.parquet', 'qualifying_split_1.parquet',\n",
    "              'qualifying_split_2.parquet', 'races.parquet', 'results.parquet']\n",
    "\n",
    "preprocessed_dataframes = [\n",
    "    preprocess_dataframe(df, string_columns_dict.get(name, [])) \n",
    "    for name, df in dataframes\n",
    "]\n",
    "\n",
    "for (name, df), file_path in zip(dataframes, file_paths):\n",
    "    table = pa.Table.from_pandas(df, safe=True)\n",
    "    pq.write_table(table, file_path)\n",
    "\n",
    "df = pd.read_parquet('file_path.parquet')"
   ]
  }
 ],
 "metadata": {
  "kernelspec": {
   "display_name": "Python 3 (ipykernel)",
   "language": "python",
   "name": "python3"
  },
  "language_info": {
   "codemirror_mode": {
    "name": "ipython",
    "version": 3
   },
   "file_extension": ".py",
   "mimetype": "text/x-python",
   "name": "python",
   "nbconvert_exporter": "python",
   "pygments_lexer": "ipython3",
   "version": "3.11.7"
  }
 },
 "nbformat": 4,
 "nbformat_minor": 5
}
