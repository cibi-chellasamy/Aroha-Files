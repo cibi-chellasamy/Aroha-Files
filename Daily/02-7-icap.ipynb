{
 "cells": [
  {
   "cell_type": "markdown",
   "id": "e09ebaed-2284-4c85-a908-98ad7130d600",
   "metadata": {},
   "source": [
    "Domain: Conditional Statement\n",
    "\n",
    "Function: If else Condition\n",
    "\n",
    "Scenario: If else condition"
   ]
  },
  {
   "cell_type": "code",
   "execution_count": 1,
   "id": "79a0e7db-e921-4227-8f84-8085cc32fc95",
   "metadata": {},
   "outputs": [
    {
     "name": "stdout",
     "output_type": "stream",
     "text": [
      "odd\n"
     ]
    }
   ],
   "source": [
    "#1)Check the given number is even or odd\n",
    "a = 5\n",
    "\n",
    "if a % 2 == 0:\n",
    "    print('even')\n",
    "else:\n",
    "    print('odd')"
   ]
  },
  {
   "cell_type": "code",
   "execution_count": 6,
   "id": "3c4d74cf-e88d-4863-902c-dfcc92bd9d67",
   "metadata": {},
   "outputs": [
    {
     "name": "stdin",
     "output_type": "stream",
     "text": [
      "enter pc:  500\n"
     ]
    },
    {
     "name": "stdout",
     "output_type": "stream",
     "text": [
      "total cost is 500\n"
     ]
    }
   ],
   "source": [
    "''' 10)Write a program to print total amount for the product including shipping chargeIf the product cost is less than 500Rs \n",
    "    then add 50rs as shipping charge greater than 50Rs no shipping charge'''\n",
    "prod_cost = int(input('enter pc: '))\n",
    "shipping_charge = 50\n",
    "total = 0\n",
    "\n",
    "if prod_cost < 500:\n",
    "    total = prod_cost + shipping_charge\n",
    "    print(f\" product_cost {prod_cost} + shipping cost {shipping_charge} = total_cost {total}\")\n",
    "else:\n",
    "    total = prod_cost\n",
    "    print(f\"total cost is {total}\")"
   ]
  },
  {
   "cell_type": "code",
   "execution_count": 8,
   "id": "f5950f30-8142-4e4f-ba6b-12e6969cb983",
   "metadata": {},
   "outputs": [
    {
     "name": "stdin",
     "output_type": "stream",
     "text": [
      "Enter a number :  2\n"
     ]
    },
    {
     "name": "stdout",
     "output_type": "stream",
     "text": [
      "7\n"
     ]
    }
   ],
   "source": [
    "#2)Enter a number if number completely divisible by 5 then add 10 to it else 5 to it\n",
    "num = int(input('Enter a number : '))\n",
    "\n",
    "if  num % 5 == 0:\n",
    "    num = num + 10\n",
    "    print(num)\n",
    "else:\n",
    "    num = num + 5\n",
    "    print(num)"
   ]
  },
  {
   "cell_type": "code",
   "execution_count": 10,
   "id": "a2a5371b-3731-4dde-bb27-4c0c05dbe1e7",
   "metadata": {},
   "outputs": [
    {
     "name": "stdin",
     "output_type": "stream",
     "text": [
      "Enter a product:  APple\n"
     ]
    },
    {
     "name": "stdout",
     "output_type": "stream",
     "text": [
      "yes product in list\n"
     ]
    }
   ],
   "source": [
    "#3)create a list of products check the particular product looking is available in stock or not\n",
    "\n",
    "product = input('Enter a product: ')\n",
    "product = product.lower()\n",
    "\n",
    "pl = ['apple','orange','grapes','jackfruit']\n",
    "\n",
    "if product in pl:\n",
    "    print('yes product in list')\n",
    "else:\n",
    "    print('No no in the list')"
   ]
  },
  {
   "cell_type": "code",
   "execution_count": 12,
   "id": "b8d9b7ee-05db-4def-8f9e-ac2bdc7beb2b",
   "metadata": {},
   "outputs": [
    {
     "name": "stdin",
     "output_type": "stream",
     "text": [
      "Enter a number  2\n",
      "enter a number  10\n"
     ]
    },
    {
     "name": "stdout",
     "output_type": "stream",
     "text": [
      "10 is greater\n"
     ]
    }
   ],
   "source": [
    "#4)Write a program two find smallest number between two numbers\n",
    "\n",
    "a = int(input('Enter a number '))\n",
    "b = int(input('enter a number '))\n",
    "\n",
    "if a > b:\n",
    "    prin(f\"{a} is greater\")\n",
    "else:\n",
    "    print(f\"{b} is greater\")\n",
    "\n",
    "    "
   ]
  },
  {
   "cell_type": "code",
   "execution_count": 14,
   "id": "6ccbea15-3bed-4313-9baa-3e2bcaca7207",
   "metadata": {},
   "outputs": [
    {
     "name": "stdin",
     "output_type": "stream",
     "text": [
      "Enter a number  4\n"
     ]
    },
    {
     "name": "stdout",
     "output_type": "stream",
     "text": [
      "No\n"
     ]
    }
   ],
   "source": [
    "#5)Check the number is completely divisible by 3 and 2\n",
    "\n",
    "a = int(input('Enter a number '))\n",
    "\n",
    "if a % 2 == 0 and a % 3 == 0:\n",
    "    print('Yes')\n",
    "else:\n",
    "    print('No')"
   ]
  },
  {
   "cell_type": "code",
   "execution_count": 21,
   "id": "98871d6f-b1db-4633-be97-fc2ba17a1f53",
   "metadata": {},
   "outputs": [
    {
     "name": "stdin",
     "output_type": "stream",
     "text": [
      "Enter the quantity :  1\n"
     ]
    },
    {
     "name": "stdout",
     "output_type": "stream",
     "text": [
      "The total cost  is: 100\n"
     ]
    }
   ],
   "source": [
    "''' 6)A shop will give discount of 10% if the cost of purchased amount is 10000.\n",
    "Ask user for quantitySuppose, one unit will cost 100.Judge and print total cost for user.'''\n",
    "\n",
    "quantity = int(input(\"Enter the quantity : \"))\n",
    "unit_cost = 100\n",
    "\n",
    "total_cost = quantity * unit_cost\n",
    "\n",
    "if total_cost > 10000:\n",
    "    discount = total_cost * 0.10\n",
    "    total_cost  = total_cost -  discount\n",
    "    \n",
    "print(f\"The total cost  is: {total_cost}\")"
   ]
  },
  {
   "cell_type": "code",
   "execution_count": 23,
   "id": "94c35ed8-4a01-4d03-9dbf-a33f8f9e7e37",
   "metadata": {},
   "outputs": [
    {
     "name": "stdin",
     "output_type": "stream",
     "text": [
      "Enter the length:  4\n",
      "Enter the breadth:  3\n"
     ]
    },
    {
     "name": "stdout",
     "output_type": "stream",
     "text": [
      "It is a rectangle\n"
     ]
    }
   ],
   "source": [
    "#7)Take values of length and breadth of a rectangle from user and check if it is square or not.\n",
    "\n",
    "length = int(input('Enter the length: '))\n",
    "breadth = int(input('Enter the breadth: '))\n",
    "\n",
    "if length == breadth :\n",
    "    print('It is a Square')\n",
    "else:\n",
    "    print('It is a rectangle')"
   ]
  },
  {
   "cell_type": "code",
   "execution_count": 25,
   "id": "cd0d7e88-29d8-4861-aa51-26d442bd04f3",
   "metadata": {},
   "outputs": [
    {
     "name": "stdin",
     "output_type": "stream",
     "text": [
      "Enter the number of classes held:  100\n",
      "Enter the number of classes attended:  80\n"
     ]
    },
    {
     "name": "stdout",
     "output_type": "stream",
     "text": [
      "Percentage of classes attended: 80.0%\n",
      "The student is allowed .\n"
     ]
    }
   ],
   "source": [
    "''' 8)A student will not be allowed to sit in exam if his/her attendance is less than 75%.\n",
    "Take following input from user Number of classes held, Number of classes attended. \n",
    "And printpercentage of class attended. Is student is allowed to sit in exam or not.''' \n",
    "\n",
    "classes_held = int(input(\"Enter the number of classes held: \"))\n",
    "classes_attended = int(input(\"Enter the number of classes attended: \"))\n",
    "\n",
    "attendance_percentage = (classes_attended / classes_held) * 100\n",
    "\n",
    "print(f\"Percentage of classes attended: {attendance_percentage:}%\")\n",
    "\n",
    "if attendance_percentage >= 75:\n",
    "    print(\"The student is allowed .\")\n",
    "else:\n",
    "    print(\"The student is not allowed.\")"
   ]
  },
  {
   "cell_type": "code",
   "execution_count": 32,
   "id": "61af6404-54bf-4dd4-a113-51bea6db54b4",
   "metadata": {},
   "outputs": [
    {
     "name": "stdin",
     "output_type": "stream",
     "text": [
      "Enter the year of experience :  1\n",
      "Enter the education:  mech\n"
     ]
    },
    {
     "name": "stdout",
     "output_type": "stream",
     "text": [
      "Rejected\n"
     ]
    }
   ],
   "source": [
    "#9)Candidate will be selected for the particular job if he/she met following expectationYear_of_ experience > 5Education = MTECH\n",
    "\n",
    "yoe = int(input('Enter the year of experience : '))\n",
    "Education = input('Enter the education: ')\n",
    "\n",
    "if yoe >= 5 and Education.upper() == 'MTECH':\n",
    "    print('Selected')\n",
    "else:\n",
    "    print('Rejected')"
   ]
  },
  {
   "cell_type": "code",
   "execution_count": 34,
   "id": "b907a13d-4f91-452c-b976-6ce571b2f227",
   "metadata": {},
   "outputs": [
    {
     "name": "stdin",
     "output_type": "stream",
     "text": [
      "yes or no :   no\n",
      "Enter the year of experience :  5\n",
      "Enter the mode  ff\n"
     ]
    },
    {
     "name": "stdout",
     "output_type": "stream",
     "text": [
      "Rejected\n"
     ]
    }
   ],
   "source": [
    "'''if the candidate is graduate and has 5+ years of experience and is ready to work fromoffice - \n",
    "send the interview letter otherwise say rejected.(write nested if else...code) '''\n",
    "\n",
    "graduate = input('are you a graduae yes or no :  ')\n",
    "yoe = int(input('Enter the year of experience : '))\n",
    "work_mode = input('Enter the mode ')\n",
    "\n",
    "if graduate == 'yes':\n",
    "    if yoe >= 5:\n",
    "        if work_mode == 'work from office':\n",
    "            print('Selected')\n",
    "        else:\n",
    "            print('Rejected')\n",
    "    else:\n",
    "        print('Rejected')\n",
    "else:\n",
    "    print('Rejected')"
   ]
  },
  {
   "cell_type": "code",
   "execution_count": 36,
   "id": "f1f61eef-1900-4a04-b063-daa2f4362477",
   "metadata": {},
   "outputs": [
    {
     "name": "stdin",
     "output_type": "stream",
     "text": [
      "Enter he purchase amount:  111\n"
     ]
    },
    {
     "name": "stdout",
     "output_type": "stream",
     "text": [
      "Discount amount: 2.22\n",
      "Amount after discount: 108.78\n"
     ]
    }
   ],
   "source": [
    "'''if the price of the item is more than 1000 then the discount is 3% otherwise it is 2%.\n",
    "given the purchase item cost is 1200 what is the discount? what is the amt after discount?'''\n",
    "\n",
    "purchase_item_cost = int(input('Enter he purchase amount: '))\n",
    "\n",
    "if purchase_item_cost > 1000:\n",
    "    discount_rate = 3\n",
    "else:\n",
    "    discount_rate = 2\n",
    "\n",
    "discount_amount = (discount_rate / 100) * purchase_item_cost\n",
    "amount_after_discount = purchase_item_cost - discount_amount\n",
    "\n",
    "print(f\"Discount amount: {discount_amount}\")\n",
    "print(f\"Amount after discount: {amount_after_discount}\")"
   ]
  },
  {
   "cell_type": "code",
   "execution_count": 37,
   "id": "2c2440b8-71f3-49a7-86a9-23f9cfd477d2",
   "metadata": {},
   "outputs": [
    {
     "name": "stdin",
     "output_type": "stream",
     "text": [
      "Enter the salary of the employee:  100000\n"
     ]
    },
    {
     "name": "stdout",
     "output_type": "stream",
     "text": [
      "Salary: 100000.0\n",
      "Tax amount: 9000.0\n",
      "Salary after tax: 91000.0\n"
     ]
    }
   ],
   "source": [
    "# if the salary of the employee is above 75000 then there is 9% tax   \n",
    "# if the salary of the employee is above 60000 (less than 75000) then there is 7% tax   \n",
    "# if the salary of the employee is above 48000 (less than 60000) then there is 5.5% tax   otherwise it is 2% tax  \n",
    "# print the salary, tax amount, salary after tax [you need to deduct tax from salary]\n",
    "\n",
    "\n",
    "salary = float(input(\"Enter the salary of the employee: \"))\n",
    "\n",
    "if salary > 75000:\n",
    "    tax_rate = 9\n",
    "elif salary > 60000:\n",
    "    tax_rate = 7\n",
    "elif salary > 48000:\n",
    "    tax_rate = 5.5\n",
    "else:\n",
    "    tax_rate = 2\n",
    "\n",
    "tax_amount = (tax_rate / 100) * salary\n",
    "\n",
    "salary_after_tax = salary - tax_amount\n",
    "print(f\"Salary: {salary}\")\n",
    "print(f\"Tax amount: {tax_amount}\")\n",
    "print(f\"Salary after tax: {salary_after_tax}\")\n"
   ]
  },
  {
   "cell_type": "code",
   "execution_count": 38,
   "id": "aefee464-3ed3-428f-add0-973960b27d82",
   "metadata": {},
   "outputs": [
    {
     "name": "stdout",
     "output_type": "stream",
     "text": [
      "Same\n"
     ]
    }
   ],
   "source": [
    "# name1 = \"Ramesh Kumar\"name2 = 'Ramesh' + ' Kumar'how to check whether the names are same?\n",
    "name1 = \"Ramesh Kumar\"\n",
    "name2 = 'Ramesh' + ' Kumar'\n",
    "\n",
    "if name1 == name2 :\n",
    "    print('Same')\n",
    "else:\n",
    "    print('Different')"
   ]
  },
  {
   "cell_type": "code",
   "execution_count": 41,
   "id": "cd44d2eb-81f2-4e62-935b-59d2237d6a16",
   "metadata": {},
   "outputs": [
    {
     "name": "stdin",
     "output_type": "stream",
     "text": [
      "are you a graduae yes or no :   yes\n",
      "Enter the year of experience :  7\n",
      "Enter the mode  work from office\n",
      "What was the candidate's last salary drawn?:  2000\n"
     ]
    },
    {
     "name": "stdout",
     "output_type": "stream",
     "text": [
      "Selected \n"
     ]
    }
   ],
   "source": [
    "# once solution 5 is there let say the client say to add the condition that the last salary drawn should not be above 60000 \n",
    "# then only the candidate is to be shortlisted otherwise not.\n",
    "\n",
    "\n",
    "\n",
    "graduate = input('are you a graduae yes or no :  ')\n",
    "yoe = int(input('Enter the year of experience : '))\n",
    "work_mode = input('Enter the mode ')\n",
    "last_salary_drawn = float(input(\"What was the candidate's last salary drawn?: \"))\n",
    "\n",
    "if graduate == 'yes':\n",
    "    if yoe >= 5:\n",
    "        if work_mode == 'work from office':\n",
    "            if last_salary_drawn <= 60000:\n",
    "                print(\"Selected \")\n",
    "            else:\n",
    "                print('Rejected')\n",
    "        else:\n",
    "            print('Rejected')\n",
    "    else:\n",
    "        print('Rejected')\n",
    "else:\n",
    "    print('Rejected')"
   ]
  },
  {
   "cell_type": "code",
   "execution_count": null,
   "id": "e49b0bc5-8167-4ebd-9297-3afefcb06598",
   "metadata": {},
   "outputs": [],
   "source": []
  },
  {
   "cell_type": "markdown",
   "id": "44ab677f-7c17-4595-ade9-b915644e51a5",
   "metadata": {},
   "source": [
    "Domain: Basic Programs\n",
    "\n",
    "Function: Operators\n",
    "\n",
    "Scenario: Programs on Operator"
   ]
  },
  {
   "cell_type": "code",
   "execution_count": 47,
   "id": "f82f259b-6669-4894-a0b2-0ab8d4aea935",
   "metadata": {},
   "outputs": [
    {
     "name": "stdin",
     "output_type": "stream",
     "text": [
      "Enter the product price:  10\n",
      "Enter the quantity:  2\n",
      "Enter the GST percentage:  2\n"
     ]
    },
    {
     "name": "stdout",
     "output_type": "stream",
     "text": [
      "Total Amount including GST: 20.4\n"
     ]
    }
   ],
   "source": [
    "# Enter cost price, Enter desired profit percentage and find selling price\n",
    "product_price = float(input(\"Enter the product price: \"))\n",
    "quantity = int(input(\"Enter the quantity: \"))\n",
    "percentage = float(input(\"Enter the GST percentage: \"))\n",
    "\n",
    "total_price_without_percentage = product_price * quantity\n",
    "amount = total_price_without_percentage * percentage / 100\n",
    "total_amount = total_price_without_percentage + amount\n",
    "print(\"Total Amount including GST:\", total_amount)"
   ]
  },
  {
   "cell_type": "code",
   "execution_count": 50,
   "id": "b6b65d00-562a-4c91-988f-b7788e71904f",
   "metadata": {},
   "outputs": [
    {
     "name": "stdin",
     "output_type": "stream",
     "text": [
      "capital of India:  new delhi\n"
     ]
    },
    {
     "name": "stdout",
     "output_type": "stream",
     "text": [
      "Your answer is right.\n"
     ]
    }
   ],
   "source": [
    "capital = input(\"capital of India: \")\n",
    "\n",
    "if capital.title() == 'New Delhi':\n",
    "    print(\"Your answer is right.\")\n",
    "else:\n",
    "    print(\"Incorrect.\")\n"
   ]
  },
  {
   "cell_type": "code",
   "execution_count": null,
   "id": "8950e152-426a-47bb-880e-3fc54d1a47a4",
   "metadata": {},
   "outputs": [],
   "source": []
  },
  {
   "cell_type": "code",
   "execution_count": null,
   "id": "eb66458f-2078-4f02-98d8-ee167a56c2df",
   "metadata": {},
   "outputs": [],
   "source": []
  }
 ],
 "metadata": {
  "kernelspec": {
   "display_name": "Python 3 (ipykernel)",
   "language": "python",
   "name": "python3"
  },
  "language_info": {
   "codemirror_mode": {
    "name": "ipython",
    "version": 3
   },
   "file_extension": ".py",
   "mimetype": "text/x-python",
   "name": "python",
   "nbconvert_exporter": "python",
   "pygments_lexer": "ipython3",
   "version": "3.11.7"
  }
 },
 "nbformat": 4,
 "nbformat_minor": 5
}
