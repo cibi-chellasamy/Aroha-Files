{
 "cells": [
  {
   "cell_type": "code",
   "execution_count": 1,
   "id": "6fdf9d1d-e2b4-430d-ab0d-559ff2699941",
   "metadata": {},
   "outputs": [
    {
     "name": "stdin",
     "output_type": "stream",
     "text": [
      "Enter:  jk\n"
     ]
    },
    {
     "name": "stdout",
     "output_type": "stream",
     "text": [
      "Hello jk welcome \n"
     ]
    }
   ],
   "source": [
    "# Write a Python program to print \"Hello, Python!\" to the console. User Input and Output:\n",
    "\n",
    "st = input('Enter: ')\n",
    "\n",
    "print(f\"Hello {st} welcome \")"
   ]
  },
  {
   "cell_type": "code",
   "execution_count": 2,
   "id": "d6070fbd-5291-48aa-b6f5-1f9274969b62",
   "metadata": {},
   "outputs": [
    {
     "name": "stdin",
     "output_type": "stream",
     "text": [
      "Enter:  cb\n"
     ]
    },
    {
     "name": "stdout",
     "output_type": "stream",
     "text": [
      "Start cb coding \n"
     ]
    }
   ],
   "source": [
    "#Create a program that takes the user's name as input and prints a personalized greeting. Arithmetic Operations:\n",
    "\n",
    "st = input('Enter: ')\n",
    "\n",
    "print(f\"Start {st} coding \")"
   ]
  },
  {
   "cell_type": "code",
   "execution_count": 5,
   "id": "96cefb0d-240a-47c5-9c9c-e83cd46148f2",
   "metadata": {},
   "outputs": [
    {
     "name": "stdin",
     "output_type": "stream",
     "text": [
      "Enter the first number:  10\n",
      "Enter the second number:  20\n"
     ]
    },
    {
     "name": "stdout",
     "output_type": "stream",
     "text": [
      "addition 30.0\n",
      "subraction -10.0\n",
      "multiplication 200.0\n",
      "division 0.5\n"
     ]
    }
   ],
   "source": [
    "#Write a Python script to perform addition, subtraction, multiplication, and division of two numbers entered by the user. Conditional Statements:\n",
    "\n",
    "def add(a, b):\n",
    "    return a + b\n",
    "\n",
    "def subtract(a, b):\n",
    "    return a - b\n",
    "\n",
    "def multiply(a, b):\n",
    "    return a * b\n",
    "\n",
    "def divide(a, b):\n",
    "    if b != 0:\n",
    "        return a / b\n",
    "    else:\n",
    "        return \"Error: Division by zero\"\n",
    "\n",
    "num1 = float(input(\"Enter the first number: \"))\n",
    "num2 = float(input(\"Enter the second number: \"))\n",
    "\n",
    "print('addition',add(num1,num2))\n",
    "print('subraction',subtract(num1,num2))\n",
    "print('multiplication',multiply(num1,num2))\n",
    "print('division',divide(num1,num2))"
   ]
  },
  {
   "cell_type": "code",
   "execution_count": 6,
   "id": "3277492c-39dd-4ed3-8f94-a3e4221168d5",
   "metadata": {},
   "outputs": [
    {
     "name": "stdin",
     "output_type": "stream",
     "text": [
      "Enter the first number:  5\n"
     ]
    },
    {
     "name": "stdout",
     "output_type": "stream",
     "text": [
      "Odd\n"
     ]
    }
   ],
   "source": [
    "# Implement a program that checks if a given number is even or odd. Loops:\n",
    "num1 = float(input(\"Enter the first number: \"))\n",
    "if num1 % 2 == 0:\n",
    "    print('Even')\n",
    "else:\n",
    "    print('Odd')\n"
   ]
  },
  {
   "cell_type": "code",
   "execution_count": 7,
   "id": "49f74536-b639-4250-8cce-5fd65d65929b",
   "metadata": {},
   "outputs": [
    {
     "name": "stdin",
     "output_type": "stream",
     "text": [
      "Enter the first number:  5\n"
     ]
    },
    {
     "name": "stdout",
     "output_type": "stream",
     "text": [
      "1 x 5 = 5\n",
      "2 x 5 = 10\n",
      "3 x 5 = 15\n",
      "4 x 5 = 20\n",
      "5 x 5 = 25\n",
      "6 x 5 = 30\n",
      "7 x 5 = 35\n",
      "8 x 5 = 40\n",
      "9 x 5 = 45\n",
      "10 x 5 = 50\n"
     ]
    }
   ],
   "source": [
    "# Write a Python program to print the multiplication table (up to 10) for a given number. Lists and Iteration:\n",
    "\n",
    "num = int(input(\"Enter the first number: \"))\n",
    "\n",
    "for i in range (1,11):\n",
    "    print(i,'x',num,'=',i*num)"
   ]
  },
  {
   "cell_type": "code",
   "execution_count": 12,
   "id": "a82af3bb-5db4-49e7-bc21-6516043609fe",
   "metadata": {},
   "outputs": [
    {
     "name": "stdout",
     "output_type": "stream",
     "text": [
      "apple\n",
      "banana\n",
      "cherry\n",
      "date\n",
      "elderberry\n"
     ]
    }
   ],
   "source": [
    "# Create a list of fruits and use a loop to print each fruit on a new line. Functions:\n",
    "\n",
    "def print_fruits():\n",
    "    fruits = [\"apple\", \"banana\", \"cherry\", \"date\", \"elderberry\"]\n",
    "    \n",
    "    for fruit in fruits:\n",
    "        print(fruit)\n",
    "print_fruits()"
   ]
  },
  {
   "cell_type": "code",
   "execution_count": 14,
   "id": "2f6068c8-5190-4e5c-8293-b18cf648fd43",
   "metadata": {},
   "outputs": [
    {
     "data": {
      "text/plain": [
       "25"
      ]
     },
     "execution_count": 14,
     "metadata": {},
     "output_type": "execute_result"
    }
   ],
   "source": [
    "# Define a function that calculates the square of a number and then use it to calculate the square of 5. String Manipulation:\n",
    "def calculate(num):\n",
    "    c = num ** 2\n",
    "    return c\n",
    "\n",
    "num = 5\n",
    "calculate(num)"
   ]
  },
  {
   "cell_type": "code",
   "execution_count": 15,
   "id": "706ec73d-9555-4435-b43f-9cba4bcd8aec",
   "metadata": {},
   "outputs": [
    {
     "name": "stdin",
     "output_type": "stream",
     "text": [
      "Enter a string hello everyone\n"
     ]
    },
    {
     "name": "stdout",
     "output_type": "stream",
     "text": [
      "HELLO EVERYONE\n"
     ]
    }
   ],
   "source": [
    "# Write a program that takes a user's input and prints the input in uppercase. Lists and Sorting:\n",
    "\n",
    "st = input('Enter a string')\n",
    "\n",
    "print(f'{st.upper()}')"
   ]
  },
  {
   "cell_type": "code",
   "execution_count": 20,
   "id": "0880c8c2-949b-412f-88e3-eca5df7fe57f",
   "metadata": {},
   "outputs": [
    {
     "data": {
      "text/plain": [
       "[1, 2, 3, 4, 5, 5, 9, 10, 57, 85]"
      ]
     },
     "execution_count": 20,
     "metadata": {},
     "output_type": "execute_result"
    }
   ],
   "source": [
    "# Create a list of numbers and sort them in ascending order. File Handling:\n",
    "\n",
    "l = [5,3,2,57,85,4,9,5,1,10]\n",
    "l.sort()\n",
    "l"
   ]
  },
  {
   "cell_type": "code",
   "execution_count": 22,
   "id": "bbac23b2-50ea-4144-b618-41d4fa688f3e",
   "metadata": {},
   "outputs": [
    {
     "name": "stdout",
     "output_type": "stream",
     "text": [
      "\n",
      "Create a list of fruits and use a loop to print each fruit on a new line.Functions:Define a function that calculates the square of a number and then use it to calculatethe square of 5.String Manipulation.Write a program that takes a user's input and prints the input in uppercase.ists and Sorting.Create a list of numbers and sort them in ascending order.File Handling.Write a program to read a text file and print its content to the console.\n"
     ]
    }
   ],
   "source": [
    "# Write a program to read a text file and print its content to the console.\n",
    "\n",
    "def read_and_print_file(filename):\n",
    "    try:\n",
    "        with open(filename, 'r') as file:\n",
    "            file_content = file.read()\n",
    "            print(file_content)\n",
    "    except FileNotFoundError:\n",
    "        print(f\"Error: The file '{filename}' was not found.\")\n",
    "    except IOError as e:\n",
    "        print(f\"Error: An IOError occurred. Details: {e}\")\n",
    "\n",
    "filename = 'num.txt'  \n",
    "read_and_print_file(filename)\n",
    "\n"
   ]
  },
  {
   "cell_type": "code",
   "execution_count": null,
   "id": "624402d7-092f-4f90-b91d-ac1f2d518c54",
   "metadata": {},
   "outputs": [],
   "source": []
  }
 ],
 "metadata": {
  "kernelspec": {
   "display_name": "Python 3 (ipykernel)",
   "language": "python",
   "name": "python3"
  },
  "language_info": {
   "codemirror_mode": {
    "name": "ipython",
    "version": 3
   },
   "file_extension": ".py",
   "mimetype": "text/x-python",
   "name": "python",
   "nbconvert_exporter": "python",
   "pygments_lexer": "ipython3",
   "version": "3.11.7"
  }
 },
 "nbformat": 4,
 "nbformat_minor": 5
}
