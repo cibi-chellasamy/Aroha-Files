{
 "cells": [
  {
   "cell_type": "markdown",
   "id": "1081c035-bfb9-438f-9664-5622de22a3df",
   "metadata": {},
   "source": [
    "# Conditional Statements:"
   ]
  },
  {
   "cell_type": "code",
   "execution_count": 43,
   "id": "48b2bcc7-7c24-4ca9-a29f-dd1f60a422e5",
   "metadata": {},
   "outputs": [
    {
     "name": "stdout",
     "output_type": "stream",
     "text": [
      "5 is positive.\n",
      "0 is zero.\n",
      "-2 is Negative.\n"
     ]
    }
   ],
   "source": [
    "# Check if a number is positive, negative, or zero.\n",
    "\n",
    "def check_num(num):\n",
    "    if num > 0:\n",
    "        print(f\"{num} is positive.\")\n",
    "    elif num < 0:\n",
    "        print(f\"{num} is Negative.\")\n",
    "    else:\n",
    "        print(f\"{num} is zero.\")\n",
    "\n",
    "check_num(5)\n",
    "check_num(0)\n",
    "check_num(-2)"
   ]
  },
  {
   "cell_type": "code",
   "execution_count": 4,
   "id": "6a3f74e6-624e-4753-ace3-aaa0e253de92",
   "metadata": {},
   "outputs": [
    {
     "name": "stdout",
     "output_type": "stream",
     "text": [
      "the largest number is: 10\n"
     ]
    }
   ],
   "source": [
    "# Determine the largest of three numbers.\n",
    "def find_largest(num1, num2, num3):\n",
    "    if num1 >= num2 and num1 >= num3:\n",
    "        largest = num1\n",
    "    elif num2 >= num1 and num2 >= num3:\n",
    "        largest = num2\n",
    "    else:\n",
    "        largest = num3\n",
    "    return largest\n",
    "\n",
    "# Example usage:\n",
    "num1 = 10\n",
    "num2 = 5\n",
    "num3 = 7\n",
    "\n",
    "largest_number = find_largest(num1, num2, num3)\n",
    "print(f\"the largest number is: {largest_number}\")"
   ]
  },
  {
   "cell_type": "code",
   "execution_count": 7,
   "id": "0e76243d-07a0-40e2-906f-267105b95be2",
   "metadata": {},
   "outputs": [
    {
     "name": "stdout",
     "output_type": "stream",
     "text": [
      "2004 is a leap year.\n"
     ]
    }
   ],
   "source": [
    "# Check if a given year is a leap year.\n",
    "\n",
    "def is_leap_year(year):\n",
    "    if (year % 4 == 0 and year % 100 != 0 ) or(year % 400 == 0 ):\n",
    "        return True\n",
    "    else:\n",
    "        return False\n",
    "year = 2004\n",
    "\n",
    "if is_leap_year(year):\n",
    "    print(f\"{year} is a leap year.\")\n",
    "else:\n",
    "    print(f\"{year} is not a leap year.\")"
   ]
  },
  {
   "cell_type": "code",
   "execution_count": 8,
   "id": "53bc1fa6-97f6-4b48-bc19-06eecbf9b446",
   "metadata": {},
   "outputs": [
    {
     "name": "stdin",
     "output_type": "stream",
     "text": [
      "Enter the first number:  1\n",
      "Enter the second number:  2\n"
     ]
    },
    {
     "name": "stdout",
     "output_type": "stream",
     "text": [
      "addition 3.0\n",
      "subraction -1.0\n",
      "multiplication 2.0\n",
      "division 0.5\n"
     ]
    }
   ],
   "source": [
    "# Implement a basic calculator with addition, subtraction, multiplication, and division.\n",
    "\n",
    "def add(a, b):\n",
    "    return a + b\n",
    "\n",
    "def subtract(a, b):\n",
    "    return a - b\n",
    "\n",
    "def multiply(a, b):\n",
    "    return a * b\n",
    "\n",
    "def divide(a, b):\n",
    "    if b != 0:\n",
    "        return a / b\n",
    "    else:\n",
    "        return \"Error: Division by zero\"\n",
    "\n",
    "num1 = float(input(\"Enter the first number: \"))\n",
    "num2 = float(input(\"Enter the second number: \"))\n",
    "\n",
    "print('addition',add(num1,num2))\n",
    "print('subraction',subtract(num1,num2))\n",
    "print('multiplication',multiply(num1,num2))\n",
    "print('division',divide(num1,num2))"
   ]
  },
  {
   "cell_type": "code",
   "execution_count": 10,
   "id": "ed60cb36-5f75-4bf1-82e2-9b361ca0e834",
   "metadata": {},
   "outputs": [
    {
     "name": "stdin",
     "output_type": "stream",
     "text": [
      "Enter a number 5\n"
     ]
    },
    {
     "name": "stdout",
     "output_type": "stream",
     "text": [
      "5 isodd.\n"
     ]
    }
   ],
   "source": [
    "# Check if a number is even or odd.\n",
    "def odd_even(num):\n",
    "    if num % 2 == 0:\n",
    "        return True\n",
    "    else :\n",
    "        return False\n",
    "\n",
    "num = int(input('Enter a number'))\n",
    "if odd_even(num):\n",
    "    print(f\"{num} is even.\")\n",
    "else:\n",
    "    print(f\"{num} is odd.\")"
   ]
  },
  {
   "cell_type": "code",
   "execution_count": 13,
   "id": "dcd5e564-600d-4510-85d1-fe94073eb836",
   "metadata": {},
   "outputs": [
    {
     "name": "stdin",
     "output_type": "stream",
     "text": [
      "Enter the age :  18\n"
     ]
    },
    {
     "name": "stdout",
     "output_type": "stream",
     "text": [
      "18 person is eligible to vote.\n"
     ]
    }
   ],
   "source": [
    "# Determine if a person is eligible to vote based on their age.\n",
    "def eligible(age):\n",
    "    if age >= 18 :\n",
    "        return True\n",
    "    else :\n",
    "        return False\n",
    "\n",
    "age = int(input('Enter the age : '))\n",
    "\n",
    "if eligible(age):\n",
    "    print(f\"{age} person is eligible to vote.\")\n",
    "else:\n",
    "    print(f\"{age} person is not eligible to vote.\")"
   ]
  },
  {
   "cell_type": "code",
   "execution_count": 20,
   "id": "f935f3a3-362b-47a8-b1d4-979647e5da59",
   "metadata": {},
   "outputs": [
    {
     "name": "stdin",
     "output_type": "stream",
     "text": [
      "Enter a letter :  a\n"
     ]
    },
    {
     "name": "stdout",
     "output_type": "stream",
     "text": [
      "a is a vowel.\n"
     ]
    }
   ],
   "source": [
    "# Check if a given character is a vowel or consonant.\n",
    "letter = input('Enter a letter : ')\n",
    "if letter in 'AEIOUaeiou':\n",
    "    print(f\"{letter} is a vowel.\")\n",
    "else :\n",
    "    print(f\"{letter} is a consonant.\")\n"
   ]
  },
  {
   "cell_type": "code",
   "execution_count": 31,
   "id": "4dfd87a5-4cda-4682-a8ab-5173d3b2bca0",
   "metadata": {},
   "outputs": [
    {
     "name": "stdin",
     "output_type": "stream",
     "text": [
      "Enter the x-coordinate:  -1\n",
      "Enter the y-coordinate:  -1\n"
     ]
    },
    {
     "name": "stdout",
     "output_type": "stream",
     "text": [
      "3 quadrant \n"
     ]
    }
   ],
   "source": [
    "# Determine the quadrant of a point on the Cartesian plane.\n",
    "def determine_quadrant(x, y):\n",
    "    if x > 0 and y > 0:\n",
    "        quadrant = 1\n",
    "    elif x < 0 and y > 0:\n",
    "        quadrant = 2\n",
    "    elif x < 0 and y < 0:\n",
    "        quadrant = 3\n",
    "    elif x > 0 and y < 0:\n",
    "        quadrant = 4\n",
    "    else:\n",
    "        quadrant = 0  \n",
    "\n",
    "    return quadrant\n",
    "\n",
    "x = float(input(\"Enter the x-coordinate: \"))\n",
    "y = float(input(\"Enter the y-coordinate: \"))\n",
    "quadrant = determine_quadrant(x, y)\n",
    "print(f\"{quadrant} quadrant \")"
   ]
  },
  {
   "cell_type": "code",
   "execution_count": 32,
   "id": "1a685b77-5f00-49ff-97bf-410cac82bef6",
   "metadata": {},
   "outputs": [
    {
     "name": "stdin",
     "output_type": "stream",
     "text": [
      "Enter the student's percentage:  55\n"
     ]
    },
    {
     "name": "stdout",
     "output_type": "stream",
     "text": [
      "The student's grade based on 55.0% is: F\n"
     ]
    }
   ],
   "source": [
    "# Implement a grading system based on a student's percentage.\n",
    "def grading_system(percentage):\n",
    "    if percentage >= 90:\n",
    "        grade = 'A'\n",
    "    elif percentage >= 80:\n",
    "        grade = 'B'\n",
    "    elif percentage >= 70:\n",
    "        grade = 'C'\n",
    "    elif percentage >= 60:\n",
    "        grade = 'D'\n",
    "    else:\n",
    "        grade = 'F'\n",
    "    \n",
    "    return grade\n",
    "\n",
    "\n",
    "percentage = float(input(\"Enter the student's percentage: \"))\n",
    "grade = grading_system(percentage)\n",
    "print(f\"The student's grade based on {percentage}% is: {grade}\")"
   ]
  },
  {
   "cell_type": "code",
   "execution_count": 37,
   "id": "315af1de-d78b-40e9-a75a-b7273ef3811a",
   "metadata": {},
   "outputs": [
    {
     "name": "stdin",
     "output_type": "stream",
     "text": [
      "Enter a number:   6\n"
     ]
    },
    {
     "name": "stdout",
     "output_type": "stream",
     "text": [
      "6 is a composite number.\n"
     ]
    }
   ],
   "source": [
    "# Check if a number is prime or composite.\n",
    "def is_prime(number):\n",
    "    if number <= 1:\n",
    "        return False\n",
    "    for i in range (2,int(number**0.5)+1):\n",
    "        if number % i == 0:\n",
    "            return False\n",
    "    return True\n",
    "\n",
    "try:\n",
    "    num = int(input(\"Enter a number:  \"))\n",
    "    if is_prime(num):\n",
    "              print(f\"{num} is a prime number.\")\n",
    "    else:\n",
    "        print(f\"{num} is a composite number.\")\n",
    "\n",
    "except ValueError:\n",
    "    print(\"Error: Please enter a valid integer.\")"
   ]
  },
  {
   "cell_type": "code",
   "execution_count": null,
   "id": "964a00a5-57df-4063-97da-34dede831a4d",
   "metadata": {},
   "outputs": [],
   "source": []
  },
  {
   "cell_type": "markdown",
   "id": "b09ef842-35d3-4d2c-8e70-66d01737b60f",
   "metadata": {},
   "source": [
    "# Looping Statements:"
   ]
  },
  {
   "cell_type": "code",
   "execution_count": 1,
   "id": "5ed7cf5d-2b73-40c9-a74e-f82ee6a7f5df",
   "metadata": {},
   "outputs": [
    {
     "name": "stdout",
     "output_type": "stream",
     "text": [
      "1\n",
      "2\n",
      "3\n",
      "4\n",
      "5\n",
      "6\n",
      "7\n",
      "8\n",
      "9\n",
      "10\n"
     ]
    }
   ],
   "source": [
    "# Print the numbers from 1 to 10 using a for loop.\n",
    "\n",
    "for i in range (1,11):\n",
    "    print(i)"
   ]
  },
  {
   "cell_type": "code",
   "execution_count": 7,
   "id": "683025b3-3f99-4bd1-a9c6-53668e16911d",
   "metadata": {},
   "outputs": [
    {
     "name": "stdin",
     "output_type": "stream",
     "text": [
      "Enter a number :  4\n"
     ]
    },
    {
     "name": "stdout",
     "output_type": "stream",
     "text": [
      "24\n"
     ]
    }
   ],
   "source": [
    "# Calculate the factorial of a number using a while loop.\n",
    "\n",
    "def factorial(n):\n",
    "    if n < 0:\n",
    "        return \"Factorial is not defined for negative numbers.\"\n",
    "    result = 1\n",
    "    current = n\n",
    "\n",
    "    while current >1:\n",
    "        result = result*current\n",
    "        current = current -1\n",
    "    return result\n",
    "\n",
    "num = int(input('Enter a number : '))\n",
    "\n",
    "f = factorial(num)\n",
    "print(f)"
   ]
  },
  {
   "cell_type": "code",
   "execution_count": 11,
   "id": "f8f199e2-f636-49d5-be83-918c15d2f477",
   "metadata": {},
   "outputs": [
    {
     "name": "stdout",
     "output_type": "stream",
     "text": [
      "Fibonacci series up to 10:\n",
      "0 1 1 2 3 5 8 None\n"
     ]
    }
   ],
   "source": [
    "# Print the Fibonacci series up to a certain limit.\n",
    "\n",
    "def fibb(limit):\n",
    "    a,b = 0,1\n",
    "    while a<= limit:\n",
    "        print(a,end = \" \")\n",
    "        a,b = b,a+b\n",
    "\n",
    "limit = 10\n",
    "print(f\"Fibonacci series up to {limit}:\")\n",
    "print(fibb(limit))"
   ]
  },
  {
   "cell_type": "code",
   "execution_count": 13,
   "id": "dd697d46-5eef-47a4-bc1c-023b89eda6b9",
   "metadata": {},
   "outputs": [
    {
     "name": "stdout",
     "output_type": "stream",
     "text": [
      "55\n"
     ]
    }
   ],
   "source": [
    "# Sum the elements of a list using a for loop.\n",
    "a = [1,2,3,4,5,6,7,8,9,10]\n",
    "sum = 0\n",
    "\n",
    "for i in a:\n",
    "    sum = sum + i\n",
    "print (sum)"
   ]
  },
  {
   "cell_type": "code",
   "execution_count": 17,
   "id": "d6843c3b-a6e9-4f35-a2bd-81fec80128fb",
   "metadata": {},
   "outputs": [
    {
     "name": "stdout",
     "output_type": "stream",
     "text": [
      "the common elements are [5, 7]\n"
     ]
    }
   ],
   "source": [
    "# Find the common elements in two lists using a for loop.\n",
    "a = [1,2,3,4,5,7]\n",
    "b = [5,6,7,8,9]\n",
    "c = []\n",
    "\n",
    "for i in a:\n",
    "    for j in b:\n",
    "        if i == j:\n",
    "            c.append(i)\n",
    "print(f\"the common elements are {c}\")"
   ]
  },
  {
   "cell_type": "code",
   "execution_count": 37,
   "id": "4ef9568e-ab29-45d4-a203-6b105a329f02",
   "metadata": {},
   "outputs": [
    {
     "name": "stdout",
     "output_type": "stream",
     "text": [
      "1 x 1 = 1 \n",
      "1 x 2 = 2 \n",
      "1 x 3 = 3 \n",
      "1 x 4 = 4 \n",
      "1 x 5 = 5 \n",
      "1 x 6 = 6 \n",
      "1 x 7 = 7 \n",
      "1 x 8 = 8 \n",
      "1 x 9 = 9 \n",
      "1 x 10 = 10 \n",
      "\n",
      "2 x 1 = 2 \n",
      "2 x 2 = 4 \n",
      "2 x 3 = 6 \n",
      "2 x 4 = 8 \n",
      "2 x 5 = 10 \n",
      "2 x 6 = 12 \n",
      "2 x 7 = 14 \n",
      "2 x 8 = 16 \n",
      "2 x 9 = 18 \n",
      "2 x 10 = 20 \n",
      "\n",
      "3 x 1 = 3 \n",
      "3 x 2 = 6 \n",
      "3 x 3 = 9 \n",
      "3 x 4 = 12 \n",
      "3 x 5 = 15 \n",
      "3 x 6 = 18 \n",
      "3 x 7 = 21 \n",
      "3 x 8 = 24 \n",
      "3 x 9 = 27 \n",
      "3 x 10 = 30 \n",
      "\n",
      "None\n"
     ]
    }
   ],
   "source": [
    "# Print the multiplication table of a number using nested loops.\n",
    "\n",
    "def multiplication_table(number,limit):\n",
    "    for i in range (1,number +1):\n",
    "        for j in range(1,limit + 1):\n",
    "            print(f\"{i} x {j} = {i * j} \")\n",
    "        print()\n",
    "\n",
    "number = 3\n",
    "limit = 10\n",
    "\n",
    "print(multiplication_table(number,limit))"
   ]
  },
  {
   "cell_type": "code",
   "execution_count": 45,
   "id": "3fba78ce-33d8-48de-bb81-03a55de3105b",
   "metadata": {},
   "outputs": [
    {
     "name": "stdin",
     "output_type": "stream",
     "text": [
      "Enter a number 7\n"
     ]
    },
    {
     "name": "stdout",
     "output_type": "stream",
     "text": [
      "no\n"
     ]
    }
   ],
   "source": [
    "# Check if a number is present in a list using a while loop.\n",
    "a = [1,2,3,4,5]\n",
    "\n",
    "n = int(input('Enter a number'))\n",
    "\n",
    "while n in a:\n",
    "    print('yes')\n",
    "    break\n",
    "else:\n",
    "    print('no')"
   ]
  },
  {
   "cell_type": "code",
   "execution_count": 47,
   "id": "4d149d54-449e-4422-a6a4-d319d2487585",
   "metadata": {},
   "outputs": [
    {
     "name": "stdout",
     "output_type": "stream",
     "text": [
      "* \n",
      "* * \n",
      "* * * \n",
      "* * * * \n",
      "* * * * * \n"
     ]
    }
   ],
   "source": [
    "# Generate a pattern of stars using nested loops.\n",
    "rows = 5\n",
    "for i in range (1,rows + 1):\n",
    "    for j in range (i):\n",
    "        print('*',end = \" \")\n",
    "    print()"
   ]
  },
  {
   "cell_type": "code",
   "execution_count": 54,
   "id": "80e5912c-a46b-4d9b-927d-7b8f580c199e",
   "metadata": {},
   "outputs": [
    {
     "name": "stdout",
     "output_type": "stream",
     "text": [
      "sum of even numbers from 1 to 50 is  650\n"
     ]
    }
   ],
   "source": [
    "# Calculate the sum of even numbers from 1 to 50 using a for loop.\n",
    "sum = 0\n",
    "\n",
    "for i in range(1,51):\n",
    "    if i % 2 == 0 :\n",
    "        sum = sum + i\n",
    "print('sum of even numbers from 1 to 50 is ',sum)"
   ]
  },
  {
   "cell_type": "code",
   "execution_count": 62,
   "id": "db42bce0-e612-4a2f-85c0-6f64840ee27b",
   "metadata": {},
   "outputs": [
    {
     "name": "stdout",
     "output_type": "stream",
     "text": [
      "gnimmargorP nohtyP\n"
     ]
    }
   ],
   "source": [
    "# Print the reverse of a string using a for loop.\n",
    "st = 'Python Programming'\n",
    "reversed = \"\"\n",
    "for i in st:\n",
    "    reversed = i + reversed\n",
    "print(reversed)"
   ]
  },
  {
   "cell_type": "code",
   "execution_count": null,
   "id": "6a44afb0-5631-435d-9190-2b9377284006",
   "metadata": {},
   "outputs": [],
   "source": []
  },
  {
   "cell_type": "markdown",
   "id": "b6ec9a24-8c84-4ffb-9330-2b5c620d6d94",
   "metadata": {},
   "source": [
    "# Control Statements:"
   ]
  },
  {
   "cell_type": "code",
   "execution_count": 66,
   "id": "2d73add3-7d35-4c63-850c-f371e0b00c1b",
   "metadata": {},
   "outputs": [
    {
     "name": "stdout",
     "output_type": "stream",
     "text": [
      "found a number greater than 6: 7\n"
     ]
    }
   ],
   "source": [
    "# Use a break statement to exit a loop when a specific condition is met.\n",
    "\n",
    "numbers = [1, 3, 5, 7, 9, 11]\n",
    "threshold = 6\n",
    "\n",
    "for num in numbers:\n",
    "    if num > threshold:\n",
    "        print(f\"found a number greater than {threshold}: {num}\")\n",
    "        break\n",
    "else:\n",
    "    print('No num is greater than ',threshold)"
   ]
  },
  {
   "cell_type": "code",
   "execution_count": 78,
   "id": "19de1259-2445-4a4e-abc1-0e9889ad963f",
   "metadata": {},
   "outputs": [
    {
     "name": "stdout",
     "output_type": "stream",
     "text": [
      "1\n",
      "3\n",
      "5\n",
      "7\n",
      "9\n"
     ]
    }
   ],
   "source": [
    "# Use a continue statement to skip even numbers in a loop.\n",
    "numbers = [1, 2, 3, 4, 5, 6, 7, 8, 9, 10]\n",
    "for i in numbers:\n",
    "    if i % 2 == 0:\n",
    "        continue\n",
    "    print(i)"
   ]
  },
  {
   "cell_type": "code",
   "execution_count": 82,
   "id": "783c9143-7dff-41e4-b2c5-f07ce0c7bb5e",
   "metadata": {},
   "outputs": [
    {
     "name": "stdout",
     "output_type": "stream",
     "text": [
      "10 + 5 = 15\n",
      "10 - 5 = 5\n",
      "10 * 5 = 50\n",
      "10 / 5 = 2.0\n"
     ]
    }
   ],
   "source": [
    "# Implement a switch case statement for a simple calculator.\n",
    "\n",
    "def add(x,y):\n",
    "    return x + y \n",
    "\n",
    "def subtract(x,y):\n",
    "    return x - y\n",
    "\n",
    "def multiply (x,y):\n",
    "    return x*y\n",
    "\n",
    "def divide(x,y):\n",
    "    if y == 0:\n",
    "        return 'Error division by zero'\n",
    "    return x/y\n",
    "\n",
    "def calculator (operations,x,y):\n",
    "    switcher = {\n",
    "        'add': add,\n",
    "        'subtract': subtract,\n",
    "        'multiply': multiply,\n",
    "        'divide': divide\n",
    "    }\n",
    "    func = switcher.get(operations,lambda x,y : 'Invalid operations')\n",
    "    return func(x,y)\n",
    "\n",
    "x = 10\n",
    "y = 5\n",
    "\n",
    "print(f\"{x} + {y} = {calculator('add', x, y)}\")\n",
    "print(f\"{x} - {y} = {calculator('subtract', x, y)}\")\n",
    "print(f\"{x} * {y} = {calculator('multiply', x, y)}\")\n",
    "print(f\"{x} / {y} = {calculator('divide', x, y)}\")"
   ]
  },
  {
   "cell_type": "code",
   "execution_count": 100,
   "id": "2d1a1b02-8392-4454-bcb2-1efc4742c174",
   "metadata": {},
   "outputs": [
    {
     "name": "stdout",
     "output_type": "stream",
     "text": [
      "9 is a perfect square.\n"
     ]
    }
   ],
   "source": [
    "# Check if a number is a perfect square using a loop and break statement.\n",
    "\n",
    "def is_perfect_sq(num):\n",
    "    if num < 0 :\n",
    "        return False\n",
    "\n",
    "    i = 1\n",
    "    while True:\n",
    "        square = i * i\n",
    "        if square == num:\n",
    "            return True\n",
    "        elif square > num:\n",
    "            break\n",
    "        i = i + 1\n",
    "    return False\n",
    "\n",
    "\n",
    "number = 9\n",
    "if is_perfect_sq(number):\n",
    "    print(f\"{number} is a perfect square.\")\n",
    "else:\n",
    "    print(f\"{number} is not a perfect square.\")"
   ]
  },
  {
   "cell_type": "code",
   "execution_count": 105,
   "id": "47a5c476-999c-4e71-9dc0-25fad9c14b87",
   "metadata": {},
   "outputs": [
    {
     "name": "stdout",
     "output_type": "stream",
     "text": [
      "1. add\n",
      "2. subtract\n",
      "3. multiply\n",
      "4. divide\n",
      "5. exit\n"
     ]
    },
    {
     "name": "stdin",
     "output_type": "stream",
     "text": [
      "Enter your choice (1-5):  3\n",
      "Enter first number:  4\n",
      "Enter second number:  5\n"
     ]
    },
    {
     "name": "stdout",
     "output_type": "stream",
     "text": [
      "4.0 * 5.0 = 20.0\n",
      "1. add\n",
      "2. subtract\n",
      "3. multiply\n",
      "4. divide\n",
      "5. exit\n"
     ]
    },
    {
     "name": "stdin",
     "output_type": "stream",
     "text": [
      "Enter your choice (1-5):  5\n"
     ]
    },
    {
     "name": "stdout",
     "output_type": "stream",
     "text": [
      "exiting the program.\n"
     ]
    }
   ],
   "source": [
    "# Create a menu-driven program using a while loop and switch case.\n",
    "\n",
    "def add(x,y):\n",
    "    return x + y \n",
    "\n",
    "def subtract(x,y):\n",
    "    return x - y\n",
    "\n",
    "def multiply (x,y):\n",
    "    return x*y\n",
    "\n",
    "def divide(x,y):\n",
    "    if y == 0:\n",
    "        return 'Error division by zero'\n",
    "    return x/y\n",
    "\n",
    "def menu():\n",
    "    print(\"1. add\")\n",
    "    print(\"2. subtract\")\n",
    "    print(\"3. multiply\")\n",
    "    print(\"4. divide\")\n",
    "    print(\"5. exit\")\n",
    "\n",
    "def calculator():\n",
    "    while True:\n",
    "        menu()\n",
    "        choice = input(\"Enter your choice (1-5): \")\n",
    "        if choice == '5':\n",
    "            print(\"exiting the program.\")\n",
    "            break\n",
    "        \n",
    "        num1 = float(input(\"Enter first number: \"))\n",
    "        num2 = float(input(\"Enter second number: \"))\n",
    "\n",
    "        if choice == '1':\n",
    "            print(f\"{num1} + {num2} = {add(num1, num2)}\")\n",
    "        elif choice == '2':\n",
    "            print(f\"{num1} - {num2} = {subtract(num1, num2)}\")\n",
    "        elif choice == '3':\n",
    "            print(f\"{num1} * {num2} = {multiply(num1, num2)}\")\n",
    "        elif choice == '4':\n",
    "            print(f\"{num1} / {num2} = {divide(num1, num2)}\")\n",
    "        else:\n",
    "            print(\"invalid input.\")\n",
    "\n",
    "calculator()"
   ]
  },
  {
   "cell_type": "code",
   "execution_count": 118,
   "id": "86898a6f-a281-431d-ac4e-1dac6607c3c1",
   "metadata": {},
   "outputs": [
    {
     "name": "stdin",
     "output_type": "stream",
     "text": [
      "How many attemps do you want:  3\n",
      "Enter a number  33\n"
     ]
    },
    {
     "name": "stdout",
     "output_type": "stream",
     "text": [
      "remaining attemptes 2\n",
      "to high try again\n"
     ]
    },
    {
     "name": "stdin",
     "output_type": "stream",
     "text": [
      "Enter a number  43\n"
     ]
    },
    {
     "name": "stdout",
     "output_type": "stream",
     "text": [
      "remaining attemptes 2\n",
      "to high try again\n"
     ]
    },
    {
     "name": "stdin",
     "output_type": "stream",
     "text": [
      "Enter a number  33\n"
     ]
    },
    {
     "name": "stdout",
     "output_type": "stream",
     "text": [
      "remaining attemptes 2\n",
      "to high try again\n",
      "End of attempts\n"
     ]
    }
   ],
   "source": [
    "# Implement a program to guess a number using random numbers and a loop.\n",
    "import random\n",
    "\n",
    "secret_number = random.randint(1,100)\n",
    "attempts = 0\n",
    "at = int(input('How many attemps do you want: '))\n",
    "att = 0 \n",
    "while attempts < at:\n",
    "    guess = int(input('Enter a number '))\n",
    "    attempts = attempts +1\n",
    "\n",
    "    if guess < secret_number:\n",
    "        print('low number try again')\n",
    "    elif guess > secret_number:\n",
    "        print('to high try again')\n",
    "\n",
    "    else:\n",
    "        print(f'you guessed he correct number{secret_number}')\n",
    "        break\n",
    "\n",
    "else:\n",
    "    print('End of attempts')\n",
    "\n"
   ]
  },
  {
   "cell_type": "code",
   "execution_count": 128,
   "id": "6afde562-ea63-4548-b606-325cdce5f05c",
   "metadata": {},
   "outputs": [
    {
     "name": "stdout",
     "output_type": "stream",
     "text": [
      "3 5 7 11 13 17 19 23 29 None\n"
     ]
    }
   ],
   "source": [
    "# Print the prime numbers in a given range using a loop and continue statement.\n",
    "\n",
    "\n",
    "def is_prime(num):\n",
    "    if num <= 1:\n",
    "        return False\n",
    "    if num == 2:\n",
    "        return True\n",
    "    if num % 2 == 0:\n",
    "        return False\n",
    "\n",
    "    sqrt_num = int(num*0.5) +1\n",
    "    for i in range (3,sqrt_num,2):\n",
    "        if num % i == 0:\n",
    "            return False\n",
    "    return True\n",
    "\n",
    "def prime_number(start,end):\n",
    "    for num in range(start,end+1):\n",
    "        if not is_prime(num):\n",
    "            continue\n",
    "        print(num,end = \" \")\n",
    "\n",
    "start = 3\n",
    "end = 30\n",
    "print (prime_number(start, end))"
   ]
  },
  {
   "cell_type": "code",
   "execution_count": 129,
   "id": "44d4f8d9-31bc-4990-b4e3-1f5f28590541",
   "metadata": {},
   "outputs": [],
   "source": [
    "# Use pass statement to create an empty loop.\n",
    "for i in range(5):\n",
    "    pass"
   ]
  },
  {
   "cell_type": "code",
   "execution_count": null,
   "id": "8f4a46e6-0368-4f58-9a7a-9ad8ae582a84",
   "metadata": {},
   "outputs": [],
   "source": [
    "# Implement a program to find the roots of a quadratic equation.\n"
   ]
  },
  {
   "cell_type": "code",
   "execution_count": 137,
   "id": "1927e61d-8308-4f7d-ba41-b007b9ccfe52",
   "metadata": {},
   "outputs": [
    {
     "name": "stdin",
     "output_type": "stream",
     "text": [
      "enter a number:  3\n",
      "enter a number:  h\n"
     ]
    },
    {
     "name": "stdout",
     "output_type": "stream",
     "text": [
      "error: Please enter valid numbers.\n"
     ]
    }
   ],
   "source": [
    "# Handle exceptions using try-except blocks for a user input program.\n",
    "def divide_num():\n",
    "    try:\n",
    "        num1 = int(input('enter a number: '))\n",
    "        num2 = int(input('enter a number: '))\n",
    "\n",
    "        result = num1/num2\n",
    "        print(f\"{num1} / {num2} = {result}\")\n",
    "\n",
    "    except ValueError :\n",
    "        print(\"error: Please enter valid numbers.\")\n",
    "    except ZeroDivisionError:\n",
    "        print('error: cannot be divided by zero')\n",
    "    except Exception as e:\n",
    "        print(f\"An error occurred: {e}\")\n",
    "divide_num()"
   ]
  },
  {
   "cell_type": "code",
   "execution_count": null,
   "id": "f268a268-be5e-4302-b4a3-f38e5408a3fc",
   "metadata": {},
   "outputs": [],
   "source": []
  },
  {
   "cell_type": "markdown",
   "id": "a4bb4001-2d36-4451-a8b7-6f644ad5c062",
   "metadata": {},
   "source": [
    "# Nested Loops and Patterns:"
   ]
  },
  {
   "cell_type": "code",
   "execution_count": 145,
   "id": "0c749d10-a722-4deb-951d-0399fcecce91",
   "metadata": {},
   "outputs": [
    {
     "name": "stdout",
     "output_type": "stream",
     "text": [
      "1 \n",
      "1 2 \n",
      "1 2 3 \n",
      "1 2 3 4 \n",
      "1 2 3 4 5 \n",
      "None\n"
     ]
    }
   ],
   "source": [
    "# Create a pattern of numbers using nested loops.\n",
    "\n",
    "def number_patten(rows):\n",
    "    for i in range(1,rows + 1):\n",
    "        for j in range(1,i+1):\n",
    "            print(j,end = \" \")\n",
    "        print()\n",
    "rows = 5\n",
    "print(number_patten(rows))"
   ]
  },
  {
   "cell_type": "code",
   "execution_count": 150,
   "id": "4b299b96-90ac-4fa8-a260-e8a832ddfedd",
   "metadata": {},
   "outputs": [
    {
     "name": "stdout",
     "output_type": "stream",
     "text": [
      "   *\n",
      "  ***\n",
      " *****\n",
      "*******\n",
      "*********\n"
     ]
    }
   ],
   "source": [
    "# Print a pyramid pattern using nested loops.\n",
    "rows = 5\n",
    "\n",
    "for i in range (1,rows + 1):\n",
    "    for j in range(1,rows - i,+1):\n",
    "        print(\" \", end=\"\")\n",
    "\n",
    "    for k in range(1,2*i):\n",
    "        print(\"*\", end=\"\")\n",
    "\n",
    "    print()\n",
    "    "
   ]
  },
  {
   "cell_type": "code",
   "execution_count": 160,
   "id": "b930c37a-0c55-43a2-9da6-4b50da6c3de9",
   "metadata": {},
   "outputs": [
    {
     "name": "stdout",
     "output_type": "stream",
     "text": [
      "    1 \n",
      "   1 1 \n",
      "  1 2 1 \n",
      " 1 3 3 1 \n",
      "1 4 6 4 1 \n",
      "None\n"
     ]
    }
   ],
   "source": [
    "# Generate a Pascal's triangle using nested loops.\n",
    "\n",
    "def pascal_triangle(rows):\n",
    "    for i in range(rows):\n",
    "        for j in range(rows - i - 1):\n",
    "            print(\" \" ,end = \"\")\n",
    "\n",
    "        number = 1\n",
    "        for j in range(i+1):\n",
    "            print(number,end = \" \")\n",
    "            number = number * (i-j)//(j +1)\n",
    "\n",
    "        print()\n",
    "\n",
    "rows = 5\n",
    "print(pascal_triangle(5))"
   ]
  },
  {
   "cell_type": "code",
   "execution_count": 171,
   "id": "2cc649dc-4dc3-48e0-a7a8-db99fd05da05",
   "metadata": {},
   "outputs": [
    {
     "name": "stdout",
     "output_type": "stream",
     "text": [
      "#  #  #  #  \n",
      " #  #  #  # \n",
      "#  #  #  #  \n",
      " #  #  #  # \n",
      "#  #  #  #  \n",
      " #  #  #  # \n",
      "#  #  #  #  \n",
      " #  #  #  # \n"
     ]
    }
   ],
   "source": [
    "# Implement a chessboard pattern using nested loops.\n",
    "\n",
    "size = 8\n",
    "\n",
    "for i in range(size):\n",
    "    for j in range(size):\n",
    "        if (i+j)%2 == 0:\n",
    "            print('#',end = \" \")\n",
    "        else:\n",
    "            print('',end = \" \")\n",
    "    print()"
   ]
  },
  {
   "cell_type": "code",
   "execution_count": 180,
   "id": "97c65e65-f3ee-47ed-99d2-44e6e5058594",
   "metadata": {},
   "outputs": [
    {
     "name": "stdout",
     "output_type": "stream",
     "text": [
      "* * * * * * * * \n",
      "*             * \n",
      "*             * \n",
      "*             * \n",
      "*             * \n",
      "*             * \n",
      "*             * \n",
      "* * * * * * * * \n"
     ]
    }
   ],
   "source": [
    "# Print a hollow square pattern using nested loops.\n",
    "size = 8\n",
    "for i in range(size):\n",
    "    for j in range(size):\n",
    "        if i == 0 or i == size - 1 or j == 0 or j == size -1:\n",
    "            print('*',end = \" \")\n",
    "        else:\n",
    "            print(\" \",end = \" \")\n",
    "    print()"
   ]
  },
  {
   "cell_type": "code",
   "execution_count": 184,
   "id": "7a238bc6-6c0c-4e79-87c3-6da2227746a8",
   "metadata": {},
   "outputs": [
    {
     "name": "stdout",
     "output_type": "stream",
     "text": [
      "\n",
      "1\n",
      "12\n",
      "123\n",
      "1234\n",
      "12345\n"
     ]
    }
   ],
   "source": [
    "# Generate the following pattern using nested loops:\n",
    "# 1\n",
    "# 12\n",
    "# 123\n",
    "# 1234\n",
    "rows = 5\n",
    "for i in range (rows + 1):\n",
    "    for j in range(1,i + 1):\n",
    "        print(j,end = \"\")\n",
    "    print()\n",
    "        "
   ]
  },
  {
   "cell_type": "code",
   "execution_count": 194,
   "id": "2c85dd0c-01fc-4a96-9e68-7d6520088442",
   "metadata": {},
   "outputs": [
    {
     "name": "stdout",
     "output_type": "stream",
     "text": [
      "1\n",
      "22\n",
      "333\n",
      "4444\n",
      "55555\n"
     ]
    }
   ],
   "source": [
    "# Print the following pattern using nested loops:\n",
    "# 1\n",
    "# 22\n",
    "# 333\n",
    "# 4444\n",
    "rows = 5\n",
    "for i in range (1,rows+1):\n",
    "    for j in range(rows - i):\n",
    "        print(\"\",end = \"\")\n",
    "    for k in range(i):\n",
    "        print(i,end = \"\")\n",
    "    print()"
   ]
  },
  {
   "cell_type": "code",
   "execution_count": 202,
   "id": "b0a25b45-7a6e-4582-a955-79d89bf8dd21",
   "metadata": {},
   "outputs": [
    {
     "name": "stdout",
     "output_type": "stream",
     "text": [
      "*****\n",
      "****\n",
      "***\n",
      "**\n",
      "*\n"
     ]
    }
   ],
   "source": [
    "# Create an inverted right-angled triangle pattern using nested loops.\n",
    "rows = 5\n",
    "for i in range (rows,0,-1):\n",
    "    for j in range( i):\n",
    "        print(\"*\",end = \"\")\n",
    "\n",
    "    print()"
   ]
  },
  {
   "cell_type": "code",
   "execution_count": 206,
   "id": "0eef90a6-b35b-4abe-af33-287da8123896",
   "metadata": {},
   "outputs": [
    {
     "name": "stdout",
     "output_type": "stream",
     "text": [
      "\n",
      "AB\n",
      "ABCD\n",
      "ABCDEF\n",
      "ABCDEFGH\n"
     ]
    }
   ],
   "source": [
    "# Print a pattern of alphabets using nested loops.\n",
    "rows = 5\n",
    "for i in range(rows):\n",
    "    for j in range(i+i):\n",
    "        print(chr(65 + j),end = \"\")\n",
    "    print()"
   ]
  },
  {
   "cell_type": "code",
   "execution_count": 215,
   "id": "2f898322-00a5-4c8e-b2a8-677512844f4b",
   "metadata": {},
   "outputs": [
    {
     "name": "stdout",
     "output_type": "stream",
     "text": [
      "   * * * * \n",
      "  * * * * \n",
      "    * * * * \n",
      "      * * * * \n",
      "  * * * * \n",
      "  * * * * \n",
      "    * * * * \n",
      "      * * * * \n",
      " * * * * \n",
      "  * * * * \n",
      "    * * * * \n",
      "      * * * * \n",
      "* * * * \n",
      "  * * * * \n",
      "    * * * * \n",
      "      * * * * \n"
     ]
    }
   ],
   "source": [
    "# Generate a rhombus pattern using nested loops.\n",
    "size = 4\n",
    "for i in range(size):\n",
    "    for j in range(size - i - 1):\n",
    "        print(\" \",end = \"\")\n",
    "\n",
    "    for k in range(size):\n",
    "        print(\"*\",end = \" \")\n",
    "    print()\n",
    "\n",
    "    for i in range(size - 1):\n",
    "        for j in range(i + 1):\n",
    "            print(\" \",end = \" \")\n",
    "\n",
    "        for k in range(size):\n",
    "            print(\"*\",end = \" \")\n",
    "\n",
    "        print()"
   ]
  },
  {
   "cell_type": "code",
   "execution_count": null,
   "id": "8f490312-753a-44aa-b675-61c64f6ac48e",
   "metadata": {},
   "outputs": [],
   "source": []
  },
  {
   "cell_type": "markdown",
   "id": "64a39514-0819-44f9-be4c-ebe78370071e",
   "metadata": {},
   "source": [
    "# Advanced Control Statements:"
   ]
  },
  {
   "cell_type": "code",
   "execution_count": 6,
   "id": "69da14c6-7def-41d0-8f34-5825e2847866",
   "metadata": {},
   "outputs": [
    {
     "name": "stdout",
     "output_type": "stream",
     "text": [
      "element is present at index 3\n"
     ]
    }
   ],
   "source": [
    "# Implement a program for binary search using a while loop.\n",
    "\n",
    "def binary_search(arr,targter):\n",
    "    left,right = 0,len(arr) -1\n",
    "    while left <= right:\n",
    "        mid = (left+right)//2\n",
    "        mid_value = arr[mid]\n",
    "\n",
    "        if mid_value == target:\n",
    "            return mid\n",
    "\n",
    "        elif mid_value < target :\n",
    "            left = mid + 1\n",
    "\n",
    "        else:\n",
    "            right = mid - 1\n",
    "\n",
    "    return -1\n",
    "\n",
    "\n",
    "arr = [2, 3, 4, 10, 40]\n",
    "target = 10\n",
    "\n",
    "res = binary_search(arr,target)\n",
    "\n",
    "\n",
    "if res != -1:\n",
    "    print(f\"element is present at index {res}\")\n",
    "else:\n",
    "    \n",
    "    print(\"Element is not present in array\")        \n",
    "    "
   ]
  },
  {
   "cell_type": "code",
   "execution_count": 15,
   "id": "a11462c2-507f-4523-b581-c9bf03eee0f5",
   "metadata": {},
   "outputs": [
    {
     "name": "stdout",
     "output_type": "stream",
     "text": [
      "The factorial of 6 is 720\n"
     ]
    }
   ],
   "source": [
    "# Use recursion to calculate the factorial of a number.\n",
    "\n",
    "def factoriall(n):\n",
    "    if n == 0 or n == 1:\n",
    "        return 1\n",
    "    else:\n",
    "        return n * factoriall(n-1)\n",
    "\n",
    "num = 6\n",
    "result = factoriall(num)\n",
    "print(f\"The factorial of {num} is {result}\")"
   ]
  },
  {
   "cell_type": "code",
   "execution_count": 24,
   "id": "c73a00df-ba60-4a92-adf3-ca8f274aa5f0",
   "metadata": {},
   "outputs": [
    {
     "name": "stdout",
     "output_type": "stream",
     "text": [
      "The GCD of 15 and 20 is 5\n"
     ]
    }
   ],
   "source": [
    "# Implement a program to find the GCD (Greatest Common Divisor) using Euclidean algorithm.\n",
    "def gcd(a,b):\n",
    "    while b != 0:\n",
    "        a,b = b,a%b\n",
    "    return a\n",
    "\n",
    "num1 = 15\n",
    "num2 = 20\n",
    "\n",
    "result = gcd(num1, num2)\n",
    "print(f\"The GCD of {num1} and {num2} is {result}\")"
   ]
  },
  {
   "cell_type": "code",
   "execution_count": 25,
   "id": "c2106e3a-3183-4acc-92d0-7183dacde636",
   "metadata": {},
   "outputs": [
    {
     "name": "stdout",
     "output_type": "stream",
     "text": [
      "The LCM of 15 and 20 is 60\n"
     ]
    }
   ],
   "source": [
    "# Create a program to find the LCM (Least Common Multiple) of two numbers.\n",
    "def lcm(a,b):\n",
    "    return abs(a * b)// gcd(a,b)\n",
    "\n",
    "num1 = 15\n",
    "num2 = 20\n",
    "\n",
    "result = lcm(num1, num2)\n",
    "print(f\"The LCM of {num1} and {num2} is {result}\")"
   ]
  },
  {
   "cell_type": "code",
   "execution_count": 32,
   "id": "7ebdd58f-160a-40a8-ad2b-be52f33d15d9",
   "metadata": {},
   "outputs": [
    {
     "name": "stdout",
     "output_type": "stream",
     "text": [
      "153 is an Armstrong number.\n"
     ]
    }
   ],
   "source": [
    "# Implement a program to check if a number is Armstrong or not.\n",
    "def amstorng(number):\n",
    "    num_str = str(number)\n",
    "    num_digit = len(num_str)\n",
    "    sum_powers = sum(int(digit) ** num_digit for digit in num_str)\n",
    "\n",
    "    return sum_powers == number\n",
    "\n",
    "num = 153\n",
    "\n",
    "if amstorng(num):\n",
    "    print(f\"{num} is an Armstrong number.\")\n",
    "else:\n",
    "    print(f\"{num} is not an Armstrong number.\")"
   ]
  },
  {
   "cell_type": "code",
   "execution_count": 36,
   "id": "04b5fbc1-6d01-40ec-8884-1e6b0bc0faed",
   "metadata": {},
   "outputs": [
    {
     "name": "stdout",
     "output_type": "stream",
     "text": [
      "2 to the power of 3 is 8\n"
     ]
    }
   ],
   "source": [
    "# Calculate the power of a number using recursion.\n",
    "def power(base,exponent):\n",
    "    if exponent == 0:\n",
    "        return 1\n",
    "    else:\n",
    "        return base * power(base,exponent -1)\n",
    "\n",
    "base = 2\n",
    "exponent = 3\n",
    "\n",
    "result = power(base, exponent)\n",
    "print(f\"{base} to the power of {exponent} is {result}\")"
   ]
  },
  {
   "cell_type": "code",
   "execution_count": 40,
   "id": "d28b1a21-5c0f-43e6-b379-873e2bef5b3c",
   "metadata": {},
   "outputs": [
    {
     "name": "stdout",
     "output_type": "stream",
     "text": [
      "The roots of the cubic equation 1x^3 + 12x^2 + 11x + 2 = 0 are: [-11.01811909  -0.73487353  -0.24700738]\n"
     ]
    }
   ],
   "source": [
    "# Implement a program to find the roots of a cubic equation.\n",
    "import numpy as np\n",
    "\n",
    "def find_roots(a,b,c,d):\n",
    "    coefficients = [a,b,c,d]\n",
    "\n",
    "    roots = np.roots(coefficients)\n",
    "    return roots\n",
    "\n",
    "a = 1\n",
    "b = 12\n",
    "c = 11\n",
    "d = 2\n",
    "\n",
    "roots = find_roots(a, b, c, d)\n",
    "print(f\"The roots of the cubic equation {a}x^3 + {b}x^2 + {c}x + {d} = 0 are: {roots}\")"
   ]
  },
  {
   "cell_type": "code",
   "execution_count": 45,
   "id": "d75ec680-1383-471e-87ba-e87cacd3ec72",
   "metadata": {},
   "outputs": [
    {
     "name": "stdout",
     "output_type": "stream",
     "text": [
      "The factorial of 10 is 3628800\n"
     ]
    }
   ],
   "source": [
    "# Create a program to find the factorial of a number without using recursion.\n",
    "def fact(n):\n",
    "    result = 1\n",
    "\n",
    "    for i in range (1,n + 1):\n",
    "        result = result * i\n",
    "\n",
    "    return result\n",
    "\n",
    "number = 10\n",
    "result = fact(number)\n",
    "print(f\"The factorial of {number} is {result}\")"
   ]
  },
  {
   "cell_type": "code",
   "execution_count": 48,
   "id": "30e0b38f-3dca-4d25-9a3c-9cd2806340d1",
   "metadata": {},
   "outputs": [
    {
     "name": "stdout",
     "output_type": "stream",
     "text": [
      "122 is not a palindrome.\n"
     ]
    }
   ],
   "source": [
    "# Implement a program to check if a number is a palindrome.\n",
    "def ispalindrome(number):\n",
    "    num_str = str(number)\n",
    "    reversed_num = num_str[::-1]\n",
    "\n",
    "    return num_str == reversed_num\n",
    "\n",
    "number = 122\n",
    "\n",
    "if ispalindrome(number):\n",
    "    print(f\"{number} is a palindrome.\")\n",
    "else:\n",
    "    print(f\"{number} is not a palindrome.\")"
   ]
  },
  {
   "cell_type": "code",
   "execution_count": 49,
   "id": "a69a593e-9113-4b61-bc55-f551e9302128",
   "metadata": {},
   "outputs": [
    {
     "name": "stdout",
     "output_type": "stream",
     "text": [
      "0\n",
      "1\n",
      "1\n",
      "2\n",
      "3\n",
      "5\n",
      "8\n",
      "13\n",
      "21\n",
      "34\n"
     ]
    }
   ],
   "source": [
    "# Use a generator function to generate the Fibonacci series.\n",
    "\n",
    "def generate_fibb():\n",
    "    a,b = 0,1\n",
    "    while True:\n",
    "        yield a\n",
    "        a,b = b,a+b\n",
    "\n",
    "fib_gen = generate_fibb()\n",
    "for _ in range(10):\n",
    "    print(next(fib_gen))"
   ]
  },
  {
   "cell_type": "code",
   "execution_count": null,
   "id": "1cbd88e9-17db-4d7f-93c2-0ea15f2521a4",
   "metadata": {},
   "outputs": [],
   "source": []
  },
  {
   "cell_type": "code",
   "execution_count": null,
   "id": "11004d8e-f417-4ad0-8939-3bae48587dac",
   "metadata": {},
   "outputs": [],
   "source": []
  },
  {
   "cell_type": "code",
   "execution_count": null,
   "id": "47f340c4-3e82-42f3-b5b6-93cf8e01cffc",
   "metadata": {},
   "outputs": [],
   "source": []
  }
 ],
 "metadata": {
  "kernelspec": {
   "display_name": "Python 3 (ipykernel)",
   "language": "python",
   "name": "python3"
  },
  "language_info": {
   "codemirror_mode": {
    "name": "ipython",
    "version": 3
   },
   "file_extension": ".py",
   "mimetype": "text/x-python",
   "name": "python",
   "nbconvert_exporter": "python",
   "pygments_lexer": "ipython3",
   "version": "3.11.7"
  }
 },
 "nbformat": 4,
 "nbformat_minor": 5
}
