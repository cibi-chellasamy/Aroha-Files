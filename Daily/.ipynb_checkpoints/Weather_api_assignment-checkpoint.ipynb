{
 "cells": [
  {
   "cell_type": "code",
   "execution_count": 2,
   "id": "ccacfcf0-f9c2-4099-a1fb-6d4c147a3262",
   "metadata": {},
   "outputs": [],
   "source": [
    "import pandas as pd\n",
    "import requests\n",
    "import json"
   ]
  },
  {
   "cell_type": "code",
   "execution_count": 25,
   "id": "1a552860-0957-4286-be26-1863cf28267d",
   "metadata": {},
   "outputs": [
    {
     "name": "stdin",
     "output_type": "stream",
     "text": [
      "Enter a city :  Bangalore\n"
     ]
    },
    {
     "name": "stdout",
     "output_type": "stream",
     "text": [
      "        City  Temperature (K)  Humidity (%)           Weather\n",
      "0  Bengaluru            29.06            56  scattered clouds\n",
      "0    29.06\n",
      "Name: Temperature (K), dtype: float64\n"
     ]
    }
   ],
   "source": [
    "city = input('Enter a city : ')\n",
    "url = f\"https://api.openweathermap.org/data/2.5/weather?q={city}&appid=37d99f4c8bd8fa96d4509c54c8a262d7\"\n",
    "\n",
    "\n",
    "response = requests.get(url)\n",
    "\n",
    "if response.status_code == 200:\n",
    "    data = response.json()\n",
    "\n",
    "    weather_data = {\n",
    "        'City': data['name'],\n",
    "        'Temperature (C)': data['main']['temp'],\n",
    "        'Humidity (%)': data['main']['humidity'],\n",
    "        'Weather': data['weather'][0]['description']}\n",
    "    df = pd.DataFrame(weather_data, index=[0])\n",
    "    df['Temperature (C)'] = df['Temperature (C)'] - 273\n",
    "    df.rename(columns={'Temperature (C)':'Temperature (K)'},inplace=True)\n",
    "    print(df)\n",
    "    print(df['Temperature (K)'])\n",
    "else:\n",
    "    print(\"Error in API request:\", response.status_code)"
   ]
  },
  {
   "cell_type": "code",
   "execution_count": null,
   "id": "2391ed9a-d6cd-4628-943f-c3af7ac25226",
   "metadata": {},
   "outputs": [],
   "source": []
  }
 ],
 "metadata": {
  "kernelspec": {
   "display_name": "Python 3 (ipykernel)",
   "language": "python",
   "name": "python3"
  },
  "language_info": {
   "codemirror_mode": {
    "name": "ipython",
    "version": 3
   },
   "file_extension": ".py",
   "mimetype": "text/x-python",
   "name": "python",
   "nbconvert_exporter": "python",
   "pygments_lexer": "ipython3",
   "version": "3.11.7"
  }
 },
 "nbformat": 4,
 "nbformat_minor": 5
}
