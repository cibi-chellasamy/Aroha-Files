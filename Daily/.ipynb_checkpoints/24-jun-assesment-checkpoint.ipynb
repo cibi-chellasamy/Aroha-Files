{
 "cells": [
  {
   "cell_type": "code",
   "execution_count": 32,
   "id": "461656ef-5b08-4b35-96c4-40f6c9453ef9",
   "metadata": {},
   "outputs": [
    {
     "name": "stdout",
     "output_type": "stream",
     "text": [
      "[5, 23, 37, 52, 12, 10, 6]\n"
     ]
    }
   ],
   "source": [
    "# 1. Write a program\n",
    "#    Given an array, rearrange such that all odd numbers come at the start of array in ascending order followed by all even numbers in descending order.\n",
    "#    Example:\n",
    "#    Input : arr[] = {12, 10, 5, 6, 52, 37, 23}\n",
    "#    Output : arr[] = {5, 23, 37, 52, 12, 10, 6}\n",
    "\n",
    "\n",
    "\n",
    "def rearrange_array(arr):\n",
    "    odd_numbers = [num for num in arr if num % 2 != 0]\n",
    "    even_numbers = [num for num in arr if num % 2 == 0]\n",
    "\n",
    "    odd_numbers.sort()\n",
    "\n",
    "    even_numbers.sort(reverse=True)\n",
    "\n",
    "    rearranged_array = odd_numbers + even_numbers\n",
    "\n",
    "    return rearranged_array\n",
    "\n",
    "arr = {12, 10, 5, 6, 52, 37, 23}\n",
    "result = rearrange_array(arr)\n",
    "print(result)\n"
   ]
  },
  {
   "cell_type": "code",
   "execution_count": 23,
   "id": "a942fba3-7a52-460c-8b31-46d938550d73",
   "metadata": {},
   "outputs": [
    {
     "name": "stdout",
     "output_type": "stream",
     "text": [
      "00000, 00100, 01000, 01100, 10000, 10100, 11000, 11100, "
     ]
    }
   ],
   "source": [
    "# 2. Write a program which lists out all possible sequence of 5 digit binary numbers. Read from the the list and then check whether they are divisible by 4 or not. The numbers that are divisible by 4 are to be printed in a comma separated sequence.\n",
    "# Example:\n",
    "# Sequence of 3 digit numbers are \n",
    "# 000, 001, 010, 011, 100, 101, 110, 111\n",
    "# Numbers divisible by 4 are\n",
    "# 100\n",
    "\n",
    "\n",
    "def binary_sequence():\n",
    "  for num in range(32):\n",
    "    binary_str = format(num, '05b')\n",
    "    \n",
    "    if binary_str[-2:] == \"00\":\n",
    "      print(binary_str, end=\", \")\n",
    "\n",
    "\n",
    "binary_sequence()\n"
   ]
  },
  {
   "cell_type": "code",
   "execution_count": 28,
   "id": "8daf0572-e268-4c60-9481-8936220d5240",
   "metadata": {},
   "outputs": [
    {
     "name": "stdout",
     "output_type": "stream",
     "text": [
      "The number of 5th Saturdays in 2023 is: 4\n"
     ]
    }
   ],
   "source": [
    "#3. Write a program Given the year, find number of 5th Saturday's in that year.\n",
    "\n",
    "import calendar\n",
    "\n",
    "def count_fifth_sat(year):\n",
    "    fifth_saturdays_count  = 0\n",
    "    for month in range(1,13):\n",
    "        month_cal = calendar.monthcalendar(year,month)\n",
    "\n",
    "        saturdays = [week[calendar.SATURDAY] for week in month_cal if week[calendar.SATURDAY] != 0]\n",
    "\n",
    "        if len(saturdays) >= 5:\n",
    "            fifth_saturdays_count = fifth_saturdays_count  + 1\n",
    "    return fifth_saturdays_count \n",
    "\n",
    "year = 2023\n",
    "\n",
    "result = count_fifth_sat(year)\n",
    "print(f\"The number of 5th Saturdays in {year} is: {result}\")\n",
    "            "
   ]
  },
  {
   "cell_type": "code",
   "execution_count": null,
   "id": "f8c95e99-2c95-4dee-8328-b248a501f190",
   "metadata": {},
   "outputs": [],
   "source": []
  },
  {
   "cell_type": "code",
   "execution_count": 17,
   "id": "a8a739d1-668d-4d13-9ac7-438e8474bf49",
   "metadata": {},
   "outputs": [
    {
     "name": "stdout",
     "output_type": "stream",
     "text": [
      "[(1, 1), (8, 2), (27, 3)]\n"
     ]
    }
   ],
   "source": [
    "# 4. Given a list of numbers, write a  program to create a list of tuples having second element as the number and first element as the cube of the number.\n",
    "# Input: list = [1, 2, 3]\n",
    "# Output: [(1, 1), (8, 2), (27, 3)]\n",
    "\n",
    "numbers = [1, 2, 3]\n",
    "res = [(num**3,num) for num in numbers]\n",
    "print(res)"
   ]
  },
  {
   "cell_type": "code",
   "execution_count": 20,
   "id": "5725c0d6-d5bb-452b-b28f-b9b8718320a3",
   "metadata": {},
   "outputs": [
    {
     "name": "stdout",
     "output_type": "stream",
     "text": [
      "[[7 8 9]\n",
      " [4 5 6]\n",
      " [1 2 3]]\n"
     ]
    }
   ],
   "source": [
    "# 5. Write a program to interchange 1st and 3rd row of a 3x3 matrix.\n",
    "# Input : 3x3 Matrix\n",
    "# Output : 3x3 Matrix with 1st and 3rd row interchanged.\n",
    "\n",
    "def interchange_rows(matrix):\n",
    "    matrix[[0, 2]] = matrix[[2, 0]]\n",
    "    return matrix\n",
    "\n",
    "matrix = np.array([[1, 2, 3],\n",
    "                   [4, 5, 6],\n",
    "                   [7, 8, 9]])\n",
    "\n",
    "interchanged_matrix = interchange_rows(matrix)\n",
    "print(interchanged_matrix)"
   ]
  },
  {
   "cell_type": "code",
   "execution_count": null,
   "id": "b01fd677-f0a2-4d10-a90f-aa6a73b2cedc",
   "metadata": {},
   "outputs": [],
   "source": []
  },
  {
   "cell_type": "code",
   "execution_count": null,
   "id": "10f6b075-0acb-47a2-82f2-027e903456c7",
   "metadata": {},
   "outputs": [],
   "source": []
  }
 ],
 "metadata": {
  "kernelspec": {
   "display_name": "Python 3 (ipykernel)",
   "language": "python",
   "name": "python3"
  },
  "language_info": {
   "codemirror_mode": {
    "name": "ipython",
    "version": 3
   },
   "file_extension": ".py",
   "mimetype": "text/x-python",
   "name": "python",
   "nbconvert_exporter": "python",
   "pygments_lexer": "ipython3",
   "version": "3.11.7"
  }
 },
 "nbformat": 4,
 "nbformat_minor": 5
}
