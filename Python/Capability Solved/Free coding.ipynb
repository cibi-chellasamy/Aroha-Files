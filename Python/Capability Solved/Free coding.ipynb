{
 "cells": [
  {
   "cell_type": "markdown",
   "id": "217412f6-548a-48cd-b01d-dea32072fc0f",
   "metadata": {},
   "source": [
    "# Trial coding"
   ]
  },
  {
   "cell_type": "markdown",
   "id": "9db2ac0d-9d63-44b8-9bbc-a463bd6c7c3e",
   "metadata": {},
   "source": [
    "## Interview"
   ]
  },
  {
   "cell_type": "code",
   "execution_count": 8,
   "id": "792dd959-d7ba-4b67-b930-b733db557b5d",
   "metadata": {},
   "outputs": [
    {
     "name": "stdout",
     "output_type": "stream",
     "text": [
      "78\n",
      "1.0\n"
     ]
    }
   ],
   "source": [
    "# Sum all the two digit odd number. Print the total and the avg\n",
    "data1 = (12,44,78,90,11,231,50,67,121)\n",
    "\n",
    "total_sum = 0\n",
    "count = 0\n",
    "\n",
    "for i in data1:\n",
    "    if 10 <= i < 100 and i % 2 != 0:\n",
    "        total_sum = total_sum + i\n",
    "        count = count + i\n",
    "\n",
    "avg = total_sum/count if count != 0 else 0\n",
    "\n",
    "print(total_sum)\n",
    "print(avg)\n",
    "\n"
   ]
  },
  {
   "cell_type": "code",
   "execution_count": 11,
   "id": "512dfcc1-d50a-4384-9a20-b019e4f07252",
   "metadata": {},
   "outputs": [
    {
     "name": "stdout",
     "output_type": "stream",
     "text": [
      "205\n"
     ]
    }
   ],
   "source": [
    "# Use filter and lambda to solve this \n",
    "# data1 = {10,73,151,7,55,41,65,117,75,70,19,29,39,100,40,200,44,18}\n",
    "# sum all the numbers in the range of 40 to 70 (both the range NOT inclusive)\n",
    "\n",
    "data1 = {10, 73, 151, 7, 55, 41, 65, 117, 75, 70, 19, 29, 39, 100, 40, 200, 44, 18}\n",
    "\n",
    "\n",
    "o = list(filter(lambda x:40<x<70,data1))\n",
    "print(sum(o))"
   ]
  },
  {
   "cell_type": "code",
   "execution_count": 13,
   "id": "8208d5fe-98b3-484b-834d-5ab236d5f85a",
   "metadata": {},
   "outputs": [
    {
     "name": "stdout",
     "output_type": "stream",
     "text": [
      "12 \n",
      "13 14 \n",
      "15 16 17 \n",
      "18 19 20 21 \n"
     ]
    }
   ],
   "source": [
    "# Using the loop display the following \n",
    "# 12\n",
    "# 13 14\n",
    "# 15 16 17\n",
    "# 18 19 20 21\n",
    "\n",
    "num = 12\n",
    "\n",
    "for i in range(1,5):\n",
    "    for j in range(i):\n",
    "        print(num,end = \" \")\n",
    "        num = num +1\n",
    "    print()"
   ]
  },
  {
   "cell_type": "code",
   "execution_count": 17,
   "id": "6a0535b5-c422-4bb1-a3a7-572f63474ce9",
   "metadata": {},
   "outputs": [
    {
     "name": "stdout",
     "output_type": "stream",
     "text": [
      "Name with maximum length: Uday Kumar\n",
      "Position in data1: 3\n"
     ]
    }
   ],
   "source": [
    "#process the above data1 and find the name which is having maximum length and display its position in the data1\n",
    "\n",
    "data1 = [\"Surya\", \"Avinash\", \"Jaya\", \"Uday Kumar\", \"Anu\", \"Palani\", \"Vinu\"]\n",
    "\n",
    "max_length = 0\n",
    "max_position = -1\n",
    "max_name = \"\"\n",
    "\n",
    "for index,name in enumerate(data1):\n",
    "    if len(name) > max_length:\n",
    "        max_length = len(name)\n",
    "        max_position = index\n",
    "        max_name = name\n",
    "\n",
    "print(f\"Name with maximum length: {max_name}\")\n",
    "print(f\"Position in data1: {max_position}\")"
   ]
  },
  {
   "cell_type": "code",
   "execution_count": 20,
   "id": "77c008e8-3c33-49a1-baa1-4d1c8ebac966",
   "metadata": {},
   "outputs": [
    {
     "name": "stdout",
     "output_type": "stream",
     "text": [
      "Error: list index out of range. The index is out of range.\n"
     ]
    }
   ],
   "source": [
    "# print (data1[10])\n",
    "# write the code to handle the exception in this (if any)\n",
    "\n",
    "data1 = [17,189,90,4,117,28]\n",
    "\n",
    "try:\n",
    "    print(data1[10]) \n",
    "except IndexError as e:\n",
    "    print(f\"Error: {e}. The index is out of range.\")"
   ]
  },
  {
   "cell_type": "code",
   "execution_count": 22,
   "id": "33f73435-d383-4096-a8a5-bdac00335f63",
   "metadata": {},
   "outputs": [
    {
     "name": "stdout",
     "output_type": "stream",
     "text": [
      "{100: 'Arun', 200: 'Vijay', 345: 'Kiran', 500: 'Vani', 181: 'Ramesh'}\n"
     ]
    }
   ],
   "source": [
    "#create a new dictionary which add all the contents of dict1 and dict2\n",
    "\n",
    "dict1 = { 100 : 'Arun', 200 : 'Vijay', 345 : 'Kiran'}\n",
    "dict2 = {500:'Vani', 181: 'Ramesh' }\n",
    "\n",
    "dic = dict1.copy()\n",
    "dic.update(dict2)\n",
    "\n",
    "print(dic)"
   ]
  },
  {
   "cell_type": "code",
   "execution_count": 28,
   "id": "2f401012-8176-4fbe-9371-4e14a756538c",
   "metadata": {},
   "outputs": [
    {
     "name": "stdout",
     "output_type": "stream",
     "text": [
      "669\n"
     ]
    }
   ],
   "source": [
    "# given data1 = \"\"Bangalore 120 Mysore 35 Hassan 117 Managlore 231 Mandya 50 Bijapur 116\"\"\n",
    "# process the string and sum all the numbers as available in the string\n",
    "\n",
    "\n",
    "data1 = \"Bangalore 120 Mysore 35 Hassan 117 Mangalore 231 Mandya 50 Bijapur 116\"\n",
    "\n",
    "ele = data1.split()\n",
    "su = 0\n",
    "\n",
    "for i in ele:\n",
    "    if i.isdigit():\n",
    "        su = su + int(i)\n",
    "\n",
    "print(su)"
   ]
  },
  {
   "cell_type": "code",
   "execution_count": 29,
   "id": "579f56bb-86d7-4efb-aa5e-a0130b51b6ab",
   "metadata": {},
   "outputs": [
    {
     "name": "stdout",
     "output_type": "stream",
     "text": [
      "[15.6, 52.0, 104.0, 20.8, 36.4, 83.2]\n"
     ]
    }
   ],
   "source": [
    "# use map ,lambda to solve this\n",
    "# incr_percentage = 4\n",
    "# modify all the numbers in the data1 by the incr_percentage meaning (say) 100 should become 104\n",
    "\n",
    "\n",
    "data1=[15,50,100,20,35,80]\n",
    "incr_percentage = 4\n",
    "\n",
    "\n",
    "l = list(map(lambda x:x+(x*incr_percentage/100),data1))\n",
    "print(l)"
   ]
  },
  {
   "cell_type": "code",
   "execution_count": 33,
   "id": "3420ad89-7325-449a-9327-cb1b2e201709",
   "metadata": {},
   "outputs": [
    {
     "name": "stdout",
     "output_type": "stream",
     "text": [
      "1320\n"
     ]
    }
   ],
   "source": [
    "# use the while loop to display all the numbers in the given start range and end range with a step value\n",
    "# For example start range is 45 , end range is 123 and step value is 5\n",
    "# sum all the displayed number and print the total\n",
    "\n",
    "total = 0\n",
    "\n",
    "for i in range(45,123,5):\n",
    "    total = total + i\n",
    "print(total)"
   ]
  },
  {
   "cell_type": "code",
   "execution_count": null,
   "id": "8c06b6c4-b2ec-4bf1-a049-4ff2a76daf0e",
   "metadata": {},
   "outputs": [],
   "source": []
  }
 ],
 "metadata": {
  "kernelspec": {
   "display_name": "Python 3 (ipykernel)",
   "language": "python",
   "name": "python3"
  },
  "language_info": {
   "codemirror_mode": {
    "name": "ipython",
    "version": 3
   },
   "file_extension": ".py",
   "mimetype": "text/x-python",
   "name": "python",
   "nbconvert_exporter": "python",
   "pygments_lexer": "ipython3",
   "version": "3.11.7"
  }
 },
 "nbformat": 4,
 "nbformat_minor": 5
}
