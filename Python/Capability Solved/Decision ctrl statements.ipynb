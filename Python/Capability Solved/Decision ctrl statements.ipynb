{
 "cells": [
  {
   "cell_type": "markdown",
   "id": "ae20d8ca-b371-48b2-ab9a-2ee4e46d25d8",
   "metadata": {},
   "source": [
    "# If-elif programs"
   ]
  },
  {
   "cell_type": "code",
   "execution_count": 3,
   "id": "48484c5f-1347-4e84-a636-f535a289a704",
   "metadata": {},
   "outputs": [
    {
     "name": "stdin",
     "output_type": "stream",
     "text": [
      "Enter -1\n"
     ]
    },
    {
     "name": "stdout",
     "output_type": "stream",
     "text": [
      "Negative\n"
     ]
    }
   ],
   "source": [
    "# 1)write a program to check given number is positive, negative or zero\n",
    "\n",
    "a = int(input(\"Enter\"))\n",
    "\n",
    "if a < 0:\n",
    "    print('Negative')\n",
    "elif a > 0:\n",
    "    print('Positive')\n",
    "else:\n",
    "    print('zero')"
   ]
  },
  {
   "cell_type": "code",
   "execution_count": 5,
   "id": "fca82d6d-7b35-4180-bb26-05ee1b8d6eee",
   "metadata": {},
   "outputs": [
    {
     "name": "stdin",
     "output_type": "stream",
     "text": [
      "Enter 85\n"
     ]
    },
    {
     "name": "stdout",
     "output_type": "stream",
     "text": [
      "B\n"
     ]
    }
   ],
   "source": [
    "#2) write a program to calculate the grade based on a student's score\n",
    "\n",
    "mark = int(input(\"Enter\"))\n",
    "if mark > 95:\n",
    "    print('A')\n",
    "elif mark > 80 and mark < 95 :\n",
    "    print(\"B\")#\n",
    "elif mark > 70 and mark < 80:\n",
    "    print('C')\n"
   ]
  },
  {
   "cell_type": "code",
   "execution_count": 8,
   "id": "d9d9a57e-4873-405a-b07f-68bf3cdc165c",
   "metadata": {},
   "outputs": [
    {
     "name": "stdout",
     "output_type": "stream",
     "text": [
      "C\n"
     ]
    }
   ],
   "source": [
    "#3)find the greatest of 3 numbers\n",
    "\n",
    "a = 5\n",
    "b = 6\n",
    "c = 19\n",
    "\n",
    "if a > b and a > c:\n",
    "    print('A')\n",
    "elif b > a and b > c:\n",
    "    print('B')\n",
    "else:\n",
    "    print('C')"
   ]
  },
  {
   "cell_type": "code",
   "execution_count": 20,
   "id": "8b46a04b-4bc5-422c-9c54-20aa039992da",
   "metadata": {},
   "outputs": [
    {
     "name": "stdin",
     "output_type": "stream",
     "text": [
      "Enter  10\n"
     ]
    },
    {
     "name": "stdout",
     "output_type": "stream",
     "text": [
      "Child\n"
     ]
    }
   ],
   "source": [
    "#4) A program that asks the user to enter their age and prints a message based on whether they are a child, teenager, adult, or senior citizen\n",
    "\n",
    "age = int(input(\"Enter \"))\n",
    "\n",
    "if age > 60:\n",
    "    print('Senior')\n",
    "elif age >= 20 and age < 60:\n",
    "    print('Adult')\n",
    "elif age < 20 and age >=15:\n",
    "    print('Teen')\n",
    "else:\n",
    "    print('Child')"
   ]
  },
  {
   "cell_type": "code",
   "execution_count": 24,
   "id": "3f2a1c06-87bd-4243-92f2-f941096063c3",
   "metadata": {},
   "outputs": [
    {
     "name": "stdin",
     "output_type": "stream",
     "text": [
      "Enter 9\n",
      "Enter 100\n"
     ]
    },
    {
     "name": "stdout",
     "output_type": "stream",
     "text": [
      "150.0\n"
     ]
    }
   ],
   "source": [
    "#5) write a program that calculates an employee's bonus based on their performance rating.\n",
    "\n",
    "rating = int(input('Enter'))\n",
    "sal = int(input(\"Enter\"))\n",
    "\n",
    "if rating > 8:\n",
    "    sal = sal * 1.5\n",
    "elif rating > 5:\n",
    "    sal = sal * 1.2\n",
    "else :\n",
    "    sal = sal\n",
    "print(sal)"
   ]
  },
  {
   "cell_type": "code",
   "execution_count": 26,
   "id": "f31284c9-c02b-4926-a65b-f6b75e617d42",
   "metadata": {},
   "outputs": [
    {
     "name": "stdin",
     "output_type": "stream",
     "text": [
      "Enter 7\n",
      "Enter 56\n"
     ]
    },
    {
     "name": "stdout",
     "output_type": "stream",
     "text": [
      "Normal\n"
     ]
    }
   ],
   "source": [
    "# 6) Calculate BMI based on BMI value display the conditions\n",
    "\n",
    "h = int(input('Enter'))\n",
    "w = int(input('Enter'))\n",
    "\n",
    "bmi = h/w\n",
    "\n",
    "if bmi > 26:\n",
    "    print('obese')\n",
    "else:\n",
    "    print('Normal')"
   ]
  },
  {
   "cell_type": "code",
   "execution_count": 40,
   "id": "73437dba-0354-4380-9dfd-c90cfff43843",
   "metadata": {},
   "outputs": [
    {
     "name": "stdin",
     "output_type": "stream",
     "text": [
      " 9\n"
     ]
    },
    {
     "name": "stdout",
     "output_type": "stream",
     "text": [
      "single digit\n"
     ]
    }
   ],
   "source": [
    "#7) Input any number find out is it single digit or double digit or triple digit number ex input is 22 print two digit number\n",
    "\n",
    "num = int(input())\n",
    "\n",
    "if num <= 9:\n",
    "    print('single digit')\n",
    "elif num <= 99 and num >= 10:\n",
    "    print('double digit')\n",
    "else:\n",
    "    print('triple digit')"
   ]
  },
  {
   "cell_type": "code",
   "execution_count": 65,
   "id": "c07c42f5-c38b-49ca-9cd4-e2db69f8e688",
   "metadata": {},
   "outputs": [
    {
     "name": "stdin",
     "output_type": "stream",
     "text": [
      "Enter sale 1000\n"
     ]
    },
    {
     "name": "stdout",
     "output_type": "stream",
     "text": [
      "8000\n"
     ]
    }
   ],
   "source": [
    "#8) Display total salary after commission. Basic_salary is 8000.\n",
    "#If Sales_made  greater than 10000 give 5% commission on basic salary \n",
    "#if its greater that 5000 then give 3% commission else no commission \n",
    "\n",
    "basic_salary = 8000\n",
    "sales_made = int(input('Enter sale'))\n",
    "if sales_made > 10000:\n",
    "    commission = 0.05 * basic_salary\n",
    "elif sales_made > 5000:\n",
    "    commission = 0.03 * basic_salary\n",
    "else:\n",
    "    commission = 0\n",
    "\n",
    "total_salary = basic_salary + commission\n",
    "\n",
    "print(total_salary)"
   ]
  },
  {
   "cell_type": "code",
   "execution_count": 66,
   "id": "77725145-983b-4da8-93cb-672b74002040",
   "metadata": {},
   "outputs": [
    {
     "name": "stdin",
     "output_type": "stream",
     "text": [
      "Enter 1000\n"
     ]
    },
    {
     "name": "stdout",
     "output_type": "stream",
     "text": [
      "Positive_balance\n"
     ]
    }
   ],
   "source": [
    "#9)write  program that asks the user for their account balance and prints a message based on \n",
    "#whether they have a positive or negative balance.\n",
    "\n",
    "act_bal = int(input('Enter'))\n",
    "\n",
    "if act_bal > 1:\n",
    "    print('Positive_balance')\n",
    "else:\n",
    "    print('Negative balance')"
   ]
  },
  {
   "cell_type": "code",
   "execution_count": 72,
   "id": "c9721768-118f-45cf-a54a-76cd40fce3ab",
   "metadata": {},
   "outputs": [
    {
     "name": "stdin",
     "output_type": "stream",
     "text": [
      "Enter 77\n"
     ]
    },
    {
     "name": "stdout",
     "output_type": "stream",
     "text": [
      "75.0\n"
     ]
    }
   ],
   "source": [
    "#10)Display the Bus charges by considering the age of person…if person AGE > 65 give 25% discount on the price of ticket. \n",
    "#Below 5 years no bus charge\n",
    "ticket_price = 100\n",
    "age =  int(input('Enter'))\n",
    "\n",
    "if age > 65:\n",
    "    charges = ticket_price * 0.75\n",
    "elif age < 5:\n",
    "    charges = 0\n",
    "else:\n",
    "    charges = ticket_price\n",
    "\n",
    "print(charges)"
   ]
  },
  {
   "cell_type": "markdown",
   "id": "1f416f2f-bb2d-41f8-aa9f-459f77988f92",
   "metadata": {},
   "source": [
    "# Termination in loop"
   ]
  },
  {
   "cell_type": "code",
   "execution_count": 77,
   "id": "73a02f00-e5d5-4cd5-968c-de56e7a959dc",
   "metadata": {},
   "outputs": [
    {
     "name": "stdout",
     "output_type": "stream",
     "text": [
      "Pyhon"
     ]
    }
   ],
   "source": [
    "#1)Write a program to display all the character except t and o\n",
    "st = 'Python'\n",
    "\n",
    "for i in st:\n",
    "    if i == 't':\n",
    "        continue\n",
    "    elif i == '0':\n",
    "        continue\n",
    "    print(i, end='')"
   ]
  },
  {
   "cell_type": "code",
   "execution_count": 83,
   "id": "a034fff7-fcd7-4322-9bcb-8f835035c222",
   "metadata": {},
   "outputs": [
    {
     "name": "stdout",
     "output_type": "stream",
     "text": [
      "1\n",
      "2\n",
      "3\n",
      "4\n",
      "zog\n",
      "6\n",
      "7\n",
      "8\n",
      "9\n",
      "zog\n",
      "11\n",
      "12\n",
      "13\n",
      "14\n",
      "zog\n",
      "16\n",
      "17\n",
      "18\n",
      "19\n",
      "zigzog\n",
      "21\n",
      "22\n",
      "23\n",
      "24\n",
      "zog\n"
     ]
    }
   ],
   "source": [
    "# 2)Write a program to iterate the integer from 1 to 25 \n",
    "# a)if no completely divide by 4 and 5 then print \"zigzog\"\n",
    "# b)if no completely divide by 4 and not by 5 print \"zig\"\n",
    "# c)if no completely divide by not by 4 and by 5 print \"zog\"\n",
    "# d)not by any number print the number\n",
    "\n",
    "for i in range(1,26):\n",
    "    if i%4==0 and i%5 == 0:\n",
    "        print('zigzog')\n",
    "    elif i % 4 == 0 and i % 4 != 0:\n",
    "        print('Zig')\n",
    "    elif i % 4 != 0 and i % 5 == 0:\n",
    "        print('zog')\n",
    "    else:\n",
    "        print(i)\n",
    "    "
   ]
  },
  {
   "cell_type": "code",
   "execution_count": 84,
   "id": "0298e0bc-a53e-4042-b712-c1b7415e68f7",
   "metadata": {},
   "outputs": [
    {
     "name": "stdin",
     "output_type": "stream",
     "text": [
      "Enter the month name or number (1-12):  2\n"
     ]
    },
    {
     "name": "stdout",
     "output_type": "stream",
     "text": [
      "February has 28 days.\n"
     ]
    }
   ],
   "source": [
    "#3)Based on user input month display how many days are there on particular month\n",
    "\n",
    "days_in_month = {\n",
    "    \"January\": 31, \"February\": 28, \"March\": 31, \"April\": 30,\n",
    "    \"May\": 31, \"June\": 30, \"July\": 31, \"August\": 31,\n",
    "    \"September\": 30, \"October\": 31, \"November\": 30, \"December\": 31\n",
    "}\n",
    "\n",
    "user_input = input(\"Enter the month name or number (1-12): \")\n",
    "if user_input.isdigit():\n",
    "    month = int(user_input)\n",
    "    if 1 <= month <= 12:\n",
    "        month_name = list(days_in_month.keys())[month - 1]\n",
    "        print(f\"{month_name} has {days_in_month[month_name]} days.\")\n",
    "    else:\n",
    "        print(\"Invalid month number. Please enter a number between 1 and 12.\")\n",
    "else:\n",
    "    month_name = user_input.capitalize()\n",
    "    if month_name in days_in_month:\n",
    "        print(f\"{month_name} has {days_in_month[month_name]} days.\")\n",
    "    else:\n",
    "        print(\"Invalid month name. Please enter a valid month.\")\n"
   ]
  },
  {
   "cell_type": "code",
   "execution_count": 86,
   "id": "90942e65-c022-47e4-9147-86669c2026d5",
   "metadata": {},
   "outputs": [
    {
     "name": "stdin",
     "output_type": "stream",
     "text": [
      "Enter a number  6\n"
     ]
    },
    {
     "name": "stdout",
     "output_type": "stream",
     "text": [
      "6 is not a prime number.\n"
     ]
    }
   ],
   "source": [
    "#4)check the given no is prime or not\n",
    "\n",
    "number = int(input(\"Enter a number \"))\n",
    "\n",
    "if number <= 1:\n",
    "    print(f\"{number} is not a prime number.\")\n",
    "else:\n",
    "    is_prime = True\n",
    "\n",
    "    for i in range(2, int(number**0.5) + 1):\n",
    "        if number % i == 0:\n",
    "            is_prime = False\n",
    "            break\n",
    "    if is_prime:\n",
    "        print(f\"{number} is a prime number.\")\n",
    "    else:\n",
    "        print(f\"{number} is not a prime number.\")"
   ]
  },
  {
   "cell_type": "code",
   "execution_count": 88,
   "id": "b2199259-f47a-42e9-8545-0c798944edb0",
   "metadata": {},
   "outputs": [
    {
     "name": "stdin",
     "output_type": "stream",
     "text": [
      "Enter a number   1\n"
     ]
    },
    {
     "name": "stdout",
     "output_type": "stream",
     "text": [
      "Armstrong number.\n"
     ]
    }
   ],
   "source": [
    "# #5)write a program to check the number is armstrong or not\n",
    "# Armstrong number is a number that is equal to the sum of cubes of its digits. \n",
    "# For example 0, 1, 153, 370, 371 and 407 are the Armstrong numbers\n",
    "\n",
    "number = int(input(\"Enter a number  \"))\n",
    "\n",
    "temp = number\n",
    "sum_of_cubes = 0\n",
    "\n",
    "while temp > 0:\n",
    "    digit = temp % 10\n",
    "    sum_of_cubes += digit ** 3\n",
    "    temp //= 10\n",
    "\n",
    "if number == sum_of_cubes:\n",
    "    print(\"Armstrong number.\")\n",
    "else:\n",
    "    print(\"not an Armstrong number.\")"
   ]
  },
  {
   "cell_type": "code",
   "execution_count": 92,
   "id": "259ccc58-cac6-4390-bf00-24a802392209",
   "metadata": {},
   "outputs": [
    {
     "name": "stdout",
     "output_type": "stream",
     "text": [
      "1\n",
      "5\n"
     ]
    }
   ],
   "source": [
    "#6)print largest and smallest no in list\n",
    "\n",
    "a = [1,2,3,4,5]\n",
    "\n",
    "if a:\n",
    "    largest = max(a)\n",
    "    smallest = min(a)\n",
    "    print(smallest)\n",
    "    print(largest)\n",
    "else:\n",
    "    print('empty')"
   ]
  },
  {
   "cell_type": "code",
   "execution_count": 98,
   "id": "d0536661-3eb9-4237-a779-f60e0e093dad",
   "metadata": {},
   "outputs": [
    {
     "name": "stdout",
     "output_type": "stream",
     "text": [
      "45\n"
     ]
    }
   ],
   "source": [
    "#7)print sum of nested loops\n",
    "li = [[1,2,3],[4,5,6],[7,8,9]]\n",
    "su = 0\n",
    "\n",
    "for i in li:\n",
    "    for j in i:\n",
    "        su = su+j\n",
    "\n",
    "print(su)"
   ]
  },
  {
   "cell_type": "code",
   "execution_count": 101,
   "id": "86ac1fbf-72b1-4848-8411-5501cefbed54",
   "metadata": {},
   "outputs": [
    {
     "name": "stdout",
     "output_type": "stream",
     "text": [
      "nohtyp\n",
      "1\n",
      "2\n",
      "321\n",
      "(3+4j)\n",
      "avaj\n"
     ]
    }
   ],
   "source": [
    "#8)if list contain string the reverse the string and print other data type print as it is\n",
    "li = ['python',1,2,\"123\",3+4j,\"java\"]\n",
    "for item in li:\n",
    "    if isinstance(item, str):\n",
    "        reversed_string = item[::-1]\n",
    "        print(reversed_string)\n",
    "    else:\n",
    "        print(item)"
   ]
  },
  {
   "cell_type": "code",
   "execution_count": 103,
   "id": "b1887678-833b-46f6-9e5c-d43a709cf7f4",
   "metadata": {},
   "outputs": [
    {
     "data": {
      "text/plain": [
       "False"
      ]
     },
     "execution_count": 103,
     "metadata": {},
     "output_type": "execute_result"
    }
   ],
   "source": [
    "#9)Check the 2 given string is anagram\n",
    "string1 = \"cat\"\n",
    "string2 = \"ate\"\n",
    "\n",
    "str1 = string1.replace(\" \", \"\").lower()\n",
    "str2 = string2.replace(\" \", \"\").lower()\n",
    "sorted(str1) == sorted(str2)\n",
    "\n"
   ]
  },
  {
   "cell_type": "code",
   "execution_count": 108,
   "id": "e965237e-5dfc-41fa-a54a-d90cd47b8705",
   "metadata": {},
   "outputs": [
    {
     "name": "stdout",
     "output_type": "stream",
     "text": [
      "3\n"
     ]
    }
   ],
   "source": [
    "#10) display how many string elements in a list\n",
    "li = ['python',1,2,\"123\",3+4j,\"java\"]\n",
    "\n",
    "cnt = 0\n",
    "\n",
    "for i in li:\n",
    "    if isinstance(i,str):\n",
    "        cnt = cnt+1\n",
    "        continue\n",
    "\n",
    "print(cnt)"
   ]
  },
  {
   "cell_type": "markdown",
   "id": "60340359-7583-413b-b12e-3b58432ee9aa",
   "metadata": {},
   "source": [
    "# Nested if else programs"
   ]
  },
  {
   "cell_type": "code",
   "execution_count": 110,
   "id": "264381c6-d77f-4863-96ab-c0609e2b8c2e",
   "metadata": {},
   "outputs": [
    {
     "name": "stdin",
     "output_type": "stream",
     "text": [
      "Enter a year   2021\n"
     ]
    },
    {
     "name": "stdout",
     "output_type": "stream",
     "text": [
      "Not\n"
     ]
    }
   ],
   "source": [
    "#1)Check the given year is leap year or not\n",
    "\n",
    "year = int(input(\"Enter a year  \"))\n",
    "\n",
    "if (year % 4 == 0 and year % 100 != 0) or (year % 400 ==0 ):\n",
    "    print('leap year')\n",
    "else:\n",
    "    print('Not')"
   ]
  },
  {
   "cell_type": "code",
   "execution_count": 115,
   "id": "27f294ee-8b20-4fe5-a6b2-79d6b3eb3b13",
   "metadata": {},
   "outputs": [
    {
     "name": "stdin",
     "output_type": "stream",
     "text": [
      "Enter pos engineer\n",
      "Enter yoe 7\n"
     ]
    },
    {
     "name": "stdout",
     "output_type": "stream",
     "text": [
      "40000\n"
     ]
    }
   ],
   "source": [
    "# 2)Write a program that calculates the salary of an employee based on their position and years of experience.\n",
    "# a) Manager yoe>5 then 50000 salary else 40000\n",
    "# b)Engineer yoe>4 then 40000 salary else 30000\n",
    "\n",
    "pos = input('Enter pos')\n",
    "yoe = int(input('Enter yoe'))\n",
    "\n",
    "if pos.lower() == \"manager\":\n",
    "    if yoe > 5:\n",
    "        salary = 50000\n",
    "    else:\n",
    "        salary = 4000\n",
    "elif pos.lower() == 'engineer':\n",
    "    if yoe > 4:\n",
    "        salary = 40000\n",
    "    else:\n",
    "        salary = 30000\n",
    "\n",
    "print(salary)"
   ]
  },
  {
   "cell_type": "code",
   "execution_count": 12,
   "id": "e3cded5c-1093-4030-9861-539f148491aa",
   "metadata": {},
   "outputs": [
    {
     "name": "stdin",
     "output_type": "stream",
     "text": [
      "Regular or Premium:  regular\n",
      "Amount:  999\n"
     ]
    },
    {
     "name": "stdout",
     "output_type": "stream",
     "text": [
      "999\n"
     ]
    }
   ],
   "source": [
    "# 3)write a program to give based regular customer and premium customer\n",
    "# a)regular customer if purchase amount is less than 1000rs no discount greater than 1000 means give 15% discount\n",
    "# b)Premium customer if purchase amount is less than 1000rs give 20% discount greater than 1000 means give 30% discount\n",
    "\n",
    "cust = input(\"Regular or Premium: \").lower()\n",
    "purchase_amount = int(input(\"Amount: \"))\n",
    "discount = 0\n",
    "if cust == 'Regular':\n",
    "    if purchase_amount <1000:\n",
    "        discount = 0\n",
    "    else:\n",
    "        discount = 0.15 * purchase_amount\n",
    "elif cust == 'Premium':\n",
    "    if purchase_amount < 1000:\n",
    "        discount = 0.20 * purchase_amount\n",
    "    else:\n",
    "        discount = 0.30 * purchase_amount\n",
    "\n",
    "final_amount = purchase_amount - discount\n",
    "print(final_amount)"
   ]
  },
  {
   "cell_type": "code",
   "execution_count": 14,
   "id": "b6324f2e-4977-4f53-99a7-5a55c2115eca",
   "metadata": {},
   "outputs": [
    {
     "name": "stdin",
     "output_type": "stream",
     "text": [
      "Enter the subject mark:  90\n"
     ]
    },
    {
     "name": "stdout",
     "output_type": "stream",
     "text": [
      "Excellent\n"
     ]
    }
   ],
   "source": [
    "# 4)Enter a subject mark display his/her performance based on the marks\n",
    "# a)marks should be greater than 0 and less than 100\n",
    "# b)marks less than 50 then fail\n",
    "# c)marks >= 50 then grade\n",
    "# i)50-60 \"good\"\n",
    "# ii)60-80 \"very good\"\n",
    "# iii)80 above \"excellent\"\n",
    "\n",
    "marks = float(input(\"Enter the subject mark: \"))\n",
    "\n",
    "if marks >= 0 and marks <= 100:\n",
    "    if marks < 50:\n",
    "        print(\"Fail\")\n",
    "    else:\n",
    "        if marks >= 50 and marks < 60:\n",
    "            print(\"Good\")\n",
    "        elif marks >= 60 and marks < 80:\n",
    "            print(\"Very Good\")\n",
    "        elif marks >= 80:\n",
    "            print(\"Excellent\")\n",
    "else:\n",
    "    print(\"Invalid marks.\")"
   ]
  },
  {
   "cell_type": "code",
   "execution_count": 20,
   "id": "652ab2f6-7d38-43ff-9d57-6068c76b664a",
   "metadata": {},
   "outputs": [
    {
     "name": "stdin",
     "output_type": "stream",
     "text": [
      "Enter the product name:  widget\n",
      "Enter the quantity:  20\n"
     ]
    },
    {
     "name": "stdout",
     "output_type": "stream",
     "text": [
      "200\n"
     ]
    }
   ],
   "source": [
    "# 5)we have a product called \"Widget\" and a price per unit of $10. \n",
    "# We want to calculate the total price with any applicable discounts based on the quantity.\n",
    "# First checks if the product is a \"Widget\". If it is, then quantity to determine the appropriate discount. \n",
    "# If the quantity is greater than 1000, we apply a discount of 20%. \n",
    "# If the quantity is greater than 500 but less than or equal to 1000, we apply a discount of 10%. Otherwise, \n",
    "# if the quantity is less than or equal to 500, we apply no discount.\n",
    "\n",
    "product = input(\"Enter the product name: \").lower()\n",
    "price_per_unit = 10 \n",
    "\n",
    "if product == 'widget':\n",
    "    quantity = int(input(\"Enter the quantity: \"))\n",
    "    if quantity > 1000:\n",
    "        discount = 0.20  \n",
    "    elif quantity > 500:\n",
    "        discount = 0.10  \n",
    "    else:\n",
    "        discount = 0 \n",
    "\n",
    "    total_price = quantity * price_per_unit\n",
    "    discount_amount = total_price * discount\n",
    "    final_price = total_price - discount_amount\n",
    "    print(final_price)\n",
    "\n",
    "else:\n",
    "    print(\"only calculates the price for'Widget'.\")"
   ]
  },
  {
   "cell_type": "markdown",
   "id": "a7946930-8294-4e09-b284-8634c217c8f2",
   "metadata": {},
   "source": [
    "# For loop "
   ]
  },
  {
   "cell_type": "code",
   "execution_count": 24,
   "id": "590bb1a6-0d6d-4aca-8c0d-863b1b280326",
   "metadata": {},
   "outputs": [
    {
     "name": "stdout",
     "output_type": "stream",
     "text": [
      "24700\n",
      "260.0\n"
     ]
    }
   ],
   "source": [
    "# 1) use the for loop\n",
    "#    use this range(25,500,5)\n",
    "#    use break when the value is 225\n",
    "#    till then sum all the numbers generated, find the avg also\n",
    "\n",
    "total_sum = 0\n",
    "count = 0\n",
    "\n",
    "for number in range(25,500,5):\n",
    "    if i == 225:\n",
    "        break\n",
    "    total_sum += number\n",
    "    count = count + 1\n",
    "\n",
    "average = total_sum / count if count != 0 else 0\n",
    "\n",
    "\n",
    "print(total_sum)\n",
    "print(average)"
   ]
  },
  {
   "cell_type": "code",
   "execution_count": 25,
   "id": "b53b0f1f-b522-498f-8000-6069e44e973d",
   "metadata": {},
   "outputs": [
    {
     "name": "stdout",
     "output_type": "stream",
     "text": [
      "1\n",
      "4\n",
      "9\n",
      "16\n"
     ]
    }
   ],
   "source": [
    "#2)Calculate the square of each number of list ex = [1,2,3,4] \n",
    "\n",
    "ex = [1,2,3,4] \n",
    "\n",
    "for i in ex:\n",
    "    print(i**2)\n",
    "    "
   ]
  },
  {
   "cell_type": "code",
   "execution_count": 30,
   "id": "14c05e4a-4e79-416d-adf4-a7f15f4ab767",
   "metadata": {},
   "outputs": [
    {
     "name": "stdout",
     "output_type": "stream",
     "text": [
      "300\n",
      "60.0\n"
     ]
    }
   ],
   "source": [
    "#3)calculate li = [25,67,88,45,75] sum and avg \n",
    "\n",
    "li = [25,67,88,45,75]\n",
    "su = 0\n",
    "avg = 0\n",
    "\n",
    "for i in li:\n",
    "    su = su + i\n",
    "avg = su/len(li)\n",
    "\n",
    "print(su)\n",
    "print(avg)"
   ]
  },
  {
   "cell_type": "code",
   "execution_count": 33,
   "id": "3d620d3f-c99f-4d17-b058-f5be0c537079",
   "metadata": {},
   "outputs": [
    {
     "name": "stdin",
     "output_type": "stream",
     "text": [
      "Enter number 1:  34\n",
      "Enter number 2:  34\n",
      "Enter number 3:  65\n",
      "Enter number 4:  67\n",
      "Enter number 5:  5\n",
      "Enter number 6:  44\n",
      "Enter number 7:  66\n",
      "Enter number 8:  44\n",
      "Enter number 9:  65\n",
      "Enter number 10:  65\n"
     ]
    },
    {
     "name": "stdout",
     "output_type": "stream",
     "text": [
      "Sum of odd numbers less than 441: 267\n",
      "Average of odd numbers less than 441: 53.40\n"
     ]
    }
   ],
   "source": [
    "# 4) use for loop - input any 10 numbers\n",
    "#    find out the sum and avg of ODD numbers \n",
    "#    consider ODD numbers which are less than 441\n",
    "#    if the inputted number is above 441 like 551 1001 - ignore them\n",
    "\n",
    "odd_sum = 0\n",
    "odd_count = 0\n",
    "\n",
    "for i in range(10):\n",
    "    number = int(input(f\"Enter number {i+1}: \"))\n",
    "    if number < 441 and number % 2 != 0:\n",
    "        odd_sum += number\n",
    "        odd_count += 1\n",
    "\n",
    "odd_avg = odd_sum / odd_count if odd_count != 0 else 0\n",
    "\n",
    "print(f\"Sum of odd numbers less than 441: {odd_sum}\")\n",
    "print(f\"Average of odd numbers less than 441: {odd_avg:.2f}\")"
   ]
  },
  {
   "cell_type": "code",
   "execution_count": 35,
   "id": "297e6776-69be-41d0-80f2-82bf9d223a43",
   "metadata": {},
   "outputs": [
    {
     "name": "stdout",
     "output_type": "stream",
     "text": [
      "10\n",
      "12\n",
      "14\n",
      "16\n",
      "18\n",
      "20\n",
      "22\n",
      "24\n",
      "26\n",
      "28\n",
      "30\n",
      "32\n",
      "34\n",
      "36\n",
      "38\n",
      "40\n",
      "42\n",
      "44\n",
      "46\n",
      "48\n",
      "50\n"
     ]
    }
   ],
   "source": [
    "#4)display all the even number in range 10 to 50\n",
    "\n",
    "for i in range(10,51):\n",
    "    if i % 2 == 0:\n",
    "        print(i)"
   ]
  },
  {
   "cell_type": "code",
   "execution_count": 36,
   "id": "b01648b5-6acf-4ddd-ab0f-fabc59ea981a",
   "metadata": {},
   "outputs": [
    {
     "name": "stdout",
     "output_type": "stream",
     "text": [
      "35 36 37 38 39 40 41 42 43 44 45 46 47 48 49 50 51 52 53 54 55 56 57 58 59 60 61 62 63 64 65 "
     ]
    }
   ],
   "source": [
    "#5) use for loop range() display all the numbers from 35 to 60\n",
    "\n",
    "for i in range(35,66):\n",
    "    print(i,end = \" \")"
   ]
  },
  {
   "cell_type": "code",
   "execution_count": 43,
   "id": "322ec2b9-5742-4234-be19-7232297bedb2",
   "metadata": {},
   "outputs": [
    {
     "name": "stdout",
     "output_type": "stream",
     "text": [
      "2\n"
     ]
    }
   ],
   "source": [
    "#5)Count how many 'P' characters are there in a given string string = 'Python is Programming language'\n",
    "\n",
    "st = 'Python is Programming language'\n",
    "count = 0\n",
    "for i in st:\n",
    "    if i.lower() == 'p':\n",
    "        count = count +1\n",
    "\n",
    "print(count)"
   ]
  },
  {
   "cell_type": "code",
   "execution_count": 44,
   "id": "770c714c-3562-4360-8687-faea8c93be67",
   "metadata": {},
   "outputs": [
    {
     "name": "stdout",
     "output_type": "stream",
     "text": [
      "135 139 143 147 151 155 159 163 167 171 175 179 183 187 191 195 199 "
     ]
    }
   ],
   "source": [
    "#6) use for loop range() display all the numbers from 135 to 200 , step value is 4 \n",
    "\n",
    "for i in range(135,200,4):\n",
    "    print(i,end = \" \")"
   ]
  },
  {
   "cell_type": "code",
   "execution_count": 46,
   "id": "ba5221d8-42d7-45fd-9847-0c579287bc86",
   "metadata": {},
   "outputs": [
    {
     "name": "stdout",
     "output_type": "stream",
     "text": [
      "[10, 8, 6, 4, 2, 1, 3, 5, 7, 9]\n"
     ]
    }
   ],
   "source": [
    "# 6)print list in reverse order\n",
    "\n",
    "a = []\n",
    "for i in range(1,11):\n",
    "    a.append(i)\n",
    "    a.reverse()\n",
    "\n",
    "print(a)"
   ]
  },
  {
   "cell_type": "code",
   "execution_count": 48,
   "id": "65599de1-371b-4113-b016-b55c5e2f7811",
   "metadata": {},
   "outputs": [
    {
     "name": "stdout",
     "output_type": "stream",
     "text": [
      "154\n"
     ]
    }
   ],
   "source": [
    "# 7) use for loop range()\n",
    "#    display all the numbers from 50 to -33\n",
    "#    step value -6\n",
    "#    sum the printed number\n",
    "su = 0\n",
    "\n",
    "for i in range(50,-33,-6):\n",
    "    su = su + i\n",
    "\n",
    "print(su)"
   ]
  },
  {
   "cell_type": "code",
   "execution_count": 49,
   "id": "34765f0e-798d-4553-b40e-8e3dc1444276",
   "metadata": {},
   "outputs": [
    {
     "name": "stdout",
     "output_type": "stream",
     "text": [
      "Converted string: HELLO pYtH@1\n"
     ]
    }
   ],
   "source": [
    "#7)Convert Upper to lower lower to upper case in a string if it is a number or spl character print as it is\n",
    "\n",
    "a = 'hello PyTh@1'\n",
    "converted_string = \"\"\n",
    "for char in a:\n",
    "    if char.isupper():\n",
    "        converted_string += char.lower()\n",
    "    elif char.islower():\n",
    "        converted_string += char.upper()\n",
    "    else:\n",
    "        converted_string += char\n",
    "\n",
    "print(\"Converted string:\", converted_string)"
   ]
  },
  {
   "cell_type": "code",
   "execution_count": 50,
   "id": "2cbcd649-0166-47d4-bc31-f6a85f4cff92",
   "metadata": {},
   "outputs": [
    {
     "name": "stdout",
     "output_type": "stream",
     "text": [
      "1380\n"
     ]
    }
   ],
   "source": [
    "# 8) use for loop range()\n",
    "#    display all the numbers from 50 to 135\n",
    "#    step value 3\n",
    "#    sum all the EVEN numbers\n",
    "#    50 53 56 59 62 65 68 71 74 77 80 .....and so one \n",
    "\n",
    "su = 0\n",
    "\n",
    "for i in range(50,135,3):\n",
    "    if i % 2 == 0:\n",
    "        su = su +i\n",
    "\n",
    "print(su)"
   ]
  },
  {
   "cell_type": "code",
   "execution_count": 51,
   "id": "28a1ce53-6bd9-4f88-ba56-f0a0a84bb3c1",
   "metadata": {},
   "outputs": [
    {
     "name": "stdout",
     "output_type": "stream",
     "text": [
      "6\n",
      "9\n"
     ]
    }
   ],
   "source": [
    "# 8)Count how many Vowels and consonants in a string\n",
    "\n",
    "a = \"Hey how are you\"\n",
    "\n",
    "vow = 0\n",
    "conso = 0\n",
    "\n",
    "for i in a:\n",
    "    if i.lower() in \"aeiou\":\n",
    "        vow = vow + 1\n",
    "    else:\n",
    "        conso = conso + 1\n",
    "\n",
    "print(vow)\n",
    "print(conso)"
   ]
  },
  {
   "cell_type": "code",
   "execution_count": 52,
   "id": "57d0ee6a-031e-45c8-b3a1-17ed019ff5c6",
   "metadata": {},
   "outputs": [
    {
     "name": "stdin",
     "output_type": "stream",
     "text": [
      "Enter number 1:  34\n",
      "Enter number 2:  32\n",
      "Enter number 3:  24\n",
      "Enter number 4:  13\n",
      "Enter number 5:  32\n"
     ]
    },
    {
     "name": "stdout",
     "output_type": "stream",
     "text": [
      "Sum of numbers in the range 15 to 30: 24\n",
      "Count of numbers not in the range 15 to 30: 4\n"
     ]
    }
   ],
   "source": [
    "# 9)input 5 numbers, if entered number is in the range of 15 to 30 then add those numbers else count the numbers which are not in range 15 to 30\n",
    "\n",
    "sum_in_range = 0\n",
    "count_out_of_range = 0\n",
    "\n",
    "for i in range(5):\n",
    "    number = int(input(f\"Enter number {i + 1}: \"))\n",
    "    \n",
    "    if 15 <= number <= 30:\n",
    "        sum_in_range += number\n",
    "    else:\n",
    "        count_out_of_range += 1\n",
    "\n",
    "print(f\"Sum of numbers in the range 15 to 30: {sum_in_range}\")\n",
    "print(f\"Count of numbers not in the range 15 to 30: {count_out_of_range}\")\n"
   ]
  },
  {
   "cell_type": "code",
   "execution_count": 54,
   "id": "8453d3dc-7033-4870-be31-10c1c6bd8ae9",
   "metadata": {},
   "outputs": [
    {
     "name": "stdin",
     "output_type": "stream",
     "text": [
      "Enter 5\n"
     ]
    },
    {
     "name": "stdout",
     "output_type": "stream",
     "text": [
      "1 x 5 = 5 \n",
      "2 x 5 = 10 \n",
      "3 x 5 = 15 \n",
      "4 x 5 = 20 \n",
      "5 x 5 = 25 \n",
      "6 x 5 = 30 \n",
      "7 x 5 = 35 \n",
      "8 x 5 = 40 \n",
      "9 x 5 = 45 \n",
      "10 x 5 = 50 \n"
     ]
    }
   ],
   "source": [
    "# 10)print multiplication table based on the user input\n",
    "num = int(input('Enter'))\n",
    "for i in range(1,11):\n",
    "    print(f\"{i} x {num} = {i*num} \")"
   ]
  },
  {
   "cell_type": "code",
   "execution_count": null,
   "id": "fd5d8eb4-b682-454e-b2bb-657bdf5702d6",
   "metadata": {},
   "outputs": [],
   "source": []
  }
 ],
 "metadata": {
  "kernelspec": {
   "display_name": "Python 3 (ipykernel)",
   "language": "python",
   "name": "python3"
  },
  "language_info": {
   "codemirror_mode": {
    "name": "ipython",
    "version": 3
   },
   "file_extension": ".py",
   "mimetype": "text/x-python",
   "name": "python",
   "nbconvert_exporter": "python",
   "pygments_lexer": "ipython3",
   "version": "3.11.7"
  }
 },
 "nbformat": 4,
 "nbformat_minor": 5
}
