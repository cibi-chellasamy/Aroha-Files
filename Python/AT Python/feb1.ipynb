{
 "cells": [
  {
   "cell_type": "code",
   "execution_count": 3,
   "id": "83060f9c",
   "metadata": {},
   "outputs": [
    {
     "name": "stdout",
     "output_type": "stream",
     "text": [
      "Numbers in the tuple:\n",
      "23\n",
      "56\n",
      "12\n",
      "78\n",
      "45\n",
      "90\n",
      "34\n",
      "67\n",
      "89\n",
      "21\n",
      "Highest element: 90\n",
      "Second highest element: 89\n"
     ]
    }
   ],
   "source": [
    "numbers_list = [23, 56, 12, 78, 45, 90, 34, 67, 89, 21]\n",
    "numbers_tuple = tuple(numbers_list)\n",
    "\n",
    "print(\"Numbers in the tuple:\")\n",
    "for Numbers in numbers_tuple:\n",
    "    print(Numbers)\n",
    "    \n",
    "sorted_tuple = tuple(sorted(numbers_tuple, reverse=True))\n",
    "\n",
    "if len(sorted_tuple) >= 2:\n",
    "    highest = sorted_tuple[0]\n",
    "    second_highest = sorted_tuple[1]\n",
    "    \n",
    "    print(\"Highest element:\", highest)\n",
    "    print(\"Second highest element:\", second_highest)\n",
    "else:\n",
    "    print(\"Tuple must contain at least two elements to find highest and second-highest.\")"
   ]
  },
  {
   "cell_type": "code",
   "execution_count": null,
   "id": "6efafef3",
   "metadata": {},
   "outputs": [],
   "source": []
  },
  {
   "cell_type": "markdown",
   "id": "ae6b1e5c",
   "metadata": {},
   "source": [
    "enter any 10 numbers (use while) in a set\n",
    "   if the inputted number is already there in set\n",
    "   then ignore counting that number and re-enter NEW number\n",
    "   after 10 numbers are entered, find the following\n",
    "   total of all elements\n",
    "   highest element, lowest element\n",
    "   avg value\n",
    "   (use max(),min(),sum() - ONLY for verification, write your onw logic)"
   ]
  },
  {
   "cell_type": "code",
   "execution_count": 7,
   "id": "8ad95412",
   "metadata": {},
   "outputs": [
    {
     "name": "stdout",
     "output_type": "stream",
     "text": [
      "Enter the number {count +1}: 11\n",
      "Enter the number {count +1}: 12\n",
      "Enter the number {count +1}: 22\n",
      "Enter the number {count +1}: 23\n",
      "Enter the number {count +1}: 33\n",
      "Enter the number {count +1}: 34\n",
      "Enter the number {count +1}: 44\n",
      "Enter the number {count +1}: 45\n",
      "Enter the number {count +1}: 55\n",
      "Enter the number {count +1}: 55\n",
      "number already exists in the set. enter a new number.\n",
      "Enter the number {count +1}: 67\n",
      "\n",
      "Results:\n",
      "set of numbers: {33, 34, 67, 11, 12, 44, 45, 55, 22, 23}\n",
      "total of all numbers: 346\n",
      "highest numbers: 67\n",
      "lowest numbers: 11\n",
      "average numbers: 34.6\n"
     ]
    }
   ],
   "source": [
    "numbers_set = set()\n",
    "\n",
    "count = 0\n",
    "\n",
    "while count <10:\n",
    "    num = int(input('Enter the number {count +1}: '))\n",
    "    \n",
    "    if num not in numbers_set:\n",
    "        numbers_set.add(num)\n",
    "        count = count +1\n",
    "    else:\n",
    "        print(\"number already exists in the set. enter a new number.\")\n",
    "        \n",
    "total = 0\n",
    "highest = float('-inf')\n",
    "lowest = float('inf')\n",
    "\n",
    "for num in numbers_set:\n",
    "    total = total+num\n",
    "    if num > highest:\n",
    "        highest = num\n",
    "    if num < lowest:\n",
    "        lowest = num\n",
    "average = total / len(numbers_set)\n",
    "\n",
    "print(\"\\nResults:\")\n",
    "print(\"set of numbers:\", numbers_set)\n",
    "print(\"total of all numbers:\", total)\n",
    "print(\"highest numbers:\", highest)\n",
    "print(\"lowest numbers:\", lowest)\n",
    "print(\"average numbers:\", average)"
   ]
  },
  {
   "cell_type": "markdown",
   "id": "0d7f9628",
   "metadata": {},
   "source": [
    " data1 = [56,12,89,10,12,5,99,19,89,56,11,11,5,20,25,56,17,29,4,5,10]\n",
    "   how many unique elements are there\n",
    "   find which numbers are duplicate\n",
    "   replace all 12 with 13 and all 25 with 35 - when data1 is converted to set"
   ]
  },
  {
   "cell_type": "code",
   "execution_count": null,
   "id": "a2fee3ed",
   "metadata": {},
   "outputs": [],
   "source": []
  },
  {
   "cell_type": "code",
   "execution_count": 10,
   "id": "c694a6d0",
   "metadata": {},
   "outputs": [
    {
     "name": "stdout",
     "output_type": "stream",
     "text": [
      "number of unique elements: 13\n",
      "duplicate numbers: [56, 12, 89, 10, 5, 11]\n",
      "modified set after replacing 12 with 13 and 25 with 35:\n",
      " {99, 4, 5, 35, 10, 11, 13, 17, 19, 20, 56, 89, 29}\n"
     ]
    }
   ],
   "source": [
    "data1 = [56, 12, 89, 10, 12, 5, 99, 19, 89, 56, 11, 11, 5, 20, 25, 56, 17, 29, 4, 5, 10]\n",
    "\n",
    "unique_count = len(set(data1))\n",
    "\n",
    "duplicates = []\n",
    "\n",
    "for item in data1:\n",
    "    if data1.count(item) > 1 and item not in duplicates:\n",
    "        duplicates.append(item)\n",
    "        \n",
    "modified_set = set(data1)\n",
    "modified_set.discard(12)\n",
    "modified_set.discard(25)\n",
    "modified_set.add(13)\n",
    "modified_set.add(35)\n",
    "\n",
    "print(\"number of unique elements:\", unique_count)\n",
    "print(\"duplicate numbers:\", duplicates)\n",
    "print(\"modified set after replacing 12 with 13 and 25 with 35:\\n\", modified_set)\n"
   ]
  },
  {
   "cell_type": "code",
   "execution_count": null,
   "id": "6f2b1181",
   "metadata": {},
   "outputs": [],
   "source": []
  },
  {
   "cell_type": "code",
   "execution_count": 11,
   "id": "8442381c",
   "metadata": {},
   "outputs": [
    {
     "name": "stdout",
     "output_type": "stream",
     "text": [
      "Sum of numbers for each key: {'blore': 40, 'Mysore': 208, 'hubli': 78}\n",
      "\n",
      "Average for keys with lists: {'blore': 10.0}\n",
      "Highest value for each key: {'blore': 19, 'Mysore': 135, 'hubli': 31}\n",
      "Lowest value for each key: {'blore': 4, 'Mysore': 2, 'hubli': 4}\n",
      "\n",
      "The key with the highest sum: Mysore\n",
      "The key with the lowest sum: blore\n"
     ]
    }
   ],
   "source": [
    "data_dict = {\n",
    "    'blore': [12, 4, 5, 19],\n",
    "    'Mysore': (2, 19, 135, 3, 49),\n",
    "    'hubli': {22, 31, 4, 21, 31},\n",
    "    'd1': {'mlore': [29, 32, 77, 2, 10, 4]},\n",
    "    'd2': {'belgaum': (2, 5, 50, 9, 18, 29, 1)}\n",
    "}\n",
    "\n",
    "# Process the value part - sum all the numbers\n",
    "result_dict = {}\n",
    "for key, value in data_dict.items():\n",
    "    if isinstance(value, list) or isinstance(value, tuple) or isinstance(value, set):\n",
    "        result_dict[key] = sum(value)\n",
    "\n",
    "# Calculate the average, highest, and lowest\n",
    "avg_dict = {key: sum(value) / len(value) for key, value in data_dict.items() if isinstance(value, list)}\n",
    "highest_dict = {key: max(value) for key, value in data_dict.items() if isinstance(value, (list, tuple, set))}\n",
    "lowest_dict = {key: min(value) for key, value in data_dict.items() if isinstance(value, (list, tuple, set))}\n",
    "\n",
    "# Find which key has the highest and lowest sum\n",
    "highest_sum_key = max(result_dict, key=result_dict.get)\n",
    "lowest_sum_key = min(result_dict, key=result_dict.get)\n",
    "\n",
    "# Display the results\n",
    "print(\"Sum of numbers for each key:\", result_dict)\n",
    "print(\"\\nAverage for keys with lists:\", avg_dict)\n",
    "print(\"Highest value for each key:\", highest_dict)\n",
    "print(\"Lowest value for each key:\", lowest_dict)\n",
    "print(\"\\nThe key with the highest sum:\", highest_sum_key)\n",
    "print(\"The key with the lowest sum:\", lowest_sum_key)\n"
   ]
  },
  {
   "cell_type": "code",
   "execution_count": 12,
   "id": "bcdaf7c6",
   "metadata": {},
   "outputs": [
    {
     "name": "stdout",
     "output_type": "stream",
     "text": [
      "total =  594\n",
      "maxi =  135\n",
      "mini =  1\n",
      "key for maxi is  Mysore\n",
      "key for mini is  belgaum\n"
     ]
    }
   ],
   "source": [
    "d3 = {'blore': [12, 4, 5, 19], 'Mysore': (2, 19, 135, 3, 49), 'hubli': {22, 31, 4, 21, 31},\n",
    "      'mlore': [29, 32, 77, 2, 10, 4], 'belgaum': (2, 5, 50, 9, 18, 29, 1)}\n",
    "\n",
    "total = 0\n",
    "maxi = 0\n",
    "mini = 0\n",
    "place_maxi = ''\n",
    "place_mini = ''\n",
    "\n",
    "for x, y in d3.items():\n",
    "    for i in y:\n",
    "        if total == 0:\n",
    "            maxi, mini = i, i\n",
    "        if maxi <= i:\n",
    "            maxi = i\n",
    "            place_maxi = x\n",
    "        if mini >= i:\n",
    "            mini = i\n",
    "            place_mini = x\n",
    "        total = total + i\n",
    "\n",
    "print('total = ', total)\n",
    "print('maxi = ', maxi)\n",
    "print('mini = ', mini)\n",
    "print('key for maxi is ', place_maxi)\n",
    "print('key for mini is ', place_mini)\n"
   ]
  },
  {
   "cell_type": "code",
   "execution_count": 13,
   "id": "030bf4a1",
   "metadata": {},
   "outputs": [
    {
     "ename": "TypeError",
     "evalue": "'<' not supported between instances of 'bool' and 'str'",
     "output_type": "error",
     "traceback": [
      "\u001b[1;31m---------------------------------------------------------------------------\u001b[0m",
      "\u001b[1;31mTypeError\u001b[0m                                 Traceback (most recent call last)",
      "Cell \u001b[1;32mIn[13], line 2\u001b[0m\n\u001b[0;32m      1\u001b[0m numbers_list \u001b[38;5;241m=\u001b[39m [\u001b[38;5;124m'\u001b[39m\u001b[38;5;124mhari\u001b[39m\u001b[38;5;124m'\u001b[39m, \u001b[38;5;28;01mTrue\u001b[39;00m, \u001b[38;5;241m12\u001b[39m, \u001b[38;5;241m78\u001b[39m, \u001b[38;5;241m45\u001b[39m, \u001b[38;5;241m90\u001b[39m, \u001b[38;5;241m34\u001b[39m, \u001b[38;5;241m67\u001b[39m, \u001b[38;5;241m89\u001b[39m, \u001b[38;5;241m21\u001b[39m]\n\u001b[1;32m----> 2\u001b[0m numbers_list\u001b[38;5;241m.\u001b[39msort()\n",
      "\u001b[1;31mTypeError\u001b[0m: '<' not supported between instances of 'bool' and 'str'"
     ]
    }
   ],
   "source": [
    "numbers_list = ['hari', True, 12, 78, 45, 90, 34, 67, 89, 21]\n",
    "numbers_list.sort()"
   ]
  },
  {
   "cell_type": "code",
   "execution_count": 14,
   "id": "dfb420d5",
   "metadata": {},
   "outputs": [
    {
     "data": {
      "text/plain": [
       "True"
      ]
     },
     "execution_count": 14,
     "metadata": {},
     "output_type": "execute_result"
    }
   ],
   "source": [
    "True>False"
   ]
  },
  {
   "cell_type": "code",
   "execution_count": 18,
   "id": "9c37ae38",
   "metadata": {},
   "outputs": [
    {
     "data": {
      "text/plain": [
       "True"
      ]
     },
     "execution_count": 18,
     "metadata": {},
     "output_type": "execute_result"
    }
   ],
   "source": [
    "True == (not False)"
   ]
  },
  {
   "cell_type": "code",
   "execution_count": 20,
   "id": "b498bc5c",
   "metadata": {},
   "outputs": [
    {
     "data": {
      "text/plain": [
       "True"
      ]
     },
     "execution_count": 20,
     "metadata": {},
     "output_type": "execute_result"
    }
   ],
   "source": [
    "'lal' <='la' +'l'"
   ]
  },
  {
   "cell_type": "code",
   "execution_count": 27,
   "id": "abf75c66",
   "metadata": {},
   "outputs": [
    {
     "name": "stdout",
     "output_type": "stream",
     "text": [
      " 55\n",
      " 44\n",
      " 56\n",
      " 77\n",
      " 65\n",
      "\n",
      "297\n",
      "5\n",
      "77\n"
     ]
    }
   ],
   "source": [
    "data = set()\n",
    "\n",
    "count = 0\n",
    "total = 0\n",
    "high = float('-inf')\n",
    "while count<5:\n",
    "    n = int(input(\" \"))\n",
    "    if n not in data:\n",
    "        data.add(n)\n",
    "        count = count+1\n",
    "        total = total + n \n",
    "        if n>high:\n",
    "            high = n\n",
    "print()\n",
    "print(total)\n",
    "print(count)\n",
    "print(high)"
   ]
  },
  {
   "cell_type": "code",
   "execution_count": 40,
   "id": "6031f824",
   "metadata": {},
   "outputs": [],
   "source": [
    "d1 = {'si':[3,4]}\n",
    "d2 = {'g':[3]}\n"
   ]
  },
  {
   "cell_type": "code",
   "execution_count": 60,
   "id": "b3411965",
   "metadata": {},
   "outputs": [],
   "source": [
    "d3 = {:['hari']}"
   ]
  },
  {
   "cell_type": "code",
   "execution_count": null,
   "id": "11871852",
   "metadata": {},
   "outputs": [],
   "source": []
  },
  {
   "cell_type": "code",
   "execution_count": null,
   "id": "932a710f",
   "metadata": {},
   "outputs": [],
   "source": []
  }
 ],
 "metadata": {
  "kernelspec": {
   "display_name": "Python 3 (ipykernel)",
   "language": "python",
   "name": "python3"
  },
  "language_info": {
   "codemirror_mode": {
    "name": "ipython",
    "version": 3
   },
   "file_extension": ".py",
   "mimetype": "text/x-python",
   "name": "python",
   "nbconvert_exporter": "python",
   "pygments_lexer": "ipython3",
   "version": "3.11.4"
  }
 },
 "nbformat": 4,
 "nbformat_minor": 5
}
