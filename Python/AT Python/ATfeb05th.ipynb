{
 "cells": [
  {
   "cell_type": "markdown",
   "id": "096db545",
   "metadata": {},
   "source": [
    "1) enter radius   \n",
    "   calc the area of circle             area is 3.14 x radius x radius\n",
    "   calc the perimeter of the circle    peri is 2 x 3.14 x radius\n",
    "   write two functions"
   ]
  },
  {
   "cell_type": "code",
   "execution_count": 14,
   "id": "5daa6682",
   "metadata": {},
   "outputs": [
    {
     "name": "stdout",
     "output_type": "stream",
     "text": [
      "enter the radius 45\n",
      "Radius of circle 6358.500000000001\n"
     ]
    }
   ],
   "source": [
    "def area_of_circle():\n",
    "    area = 3.14 *r*r\n",
    "    return (area)\n",
    "r = float(input('enter the radius '))\n",
    "\n",
    "print('Radius of circle',area_of_circle())"
   ]
  },
  {
   "cell_type": "code",
   "execution_count": 17,
   "id": "b607d2aa",
   "metadata": {},
   "outputs": [
    {
     "name": "stdout",
     "output_type": "stream",
     "text": [
      "enter the Circumference 65\n",
      "Perimeter of the circle 408.2\n"
     ]
    }
   ],
   "source": [
    "def perimeter_of_circle():\n",
    "    perimeter = 2*3.14*r\n",
    "    return (perimeter)\n",
    "r = float(input('enter the Circumference '))\n",
    "\n",
    "print('Perimeter of the circle',perimeter_of_circle())"
   ]
  },
  {
   "cell_type": "code",
   "execution_count": 27,
   "id": "31c6f636",
   "metadata": {},
   "outputs": [
    {
     "name": "stdout",
     "output_type": "stream",
     "text": [
      "Enter the radius for the first circle: 32\n",
      "Perimeter of the circle: 200.96\n",
      "Area of the circle: 3215.36\n"
     ]
    }
   ],
   "source": [
    "def calculation(r):\n",
    "    perimeter = 2 * 3.14 * r\n",
    "    area = 3.14 * r * r\n",
    "    return (perimeter, area)\n",
    "\n",
    "r = float(input('Enter the radius for the first circle: '))\n",
    "\n",
    "perimeter, area = calculation(r)\n",
    "\n",
    "print('Perimeter of the circle:', perimeter)\n",
    "print('Area of the circle:', area)"
   ]
  },
  {
   "cell_type": "markdown",
   "id": "cf90294f",
   "metadata": {},
   "source": [
    "pass a list to the function having few names\n",
    "return from the function how many names start with 'A' or 'B'"
   ]
  },
  {
   "cell_type": "code",
   "execution_count": null,
   "id": "d4d49677",
   "metadata": {},
   "outputs": [],
   "source": []
  },
  {
   "cell_type": "code",
   "execution_count": 40,
   "id": "11a1008d",
   "metadata": {},
   "outputs": [
    {
     "name": "stdout",
     "output_type": "stream",
     "text": [
      "['Aravind', 'Basith']\n"
     ]
    }
   ],
   "source": [
    "lst = []\n",
    "\n",
    "def alpa(names):\n",
    "    for i in names:\n",
    "        if i[0] == 'A' or i[0] == 'B':\n",
    "            lst.append(i)\n",
    "    return lst\n",
    "\n",
    "names = ['Aravind', 'Basith', 'Deepak']\n",
    "result = alpa(names)\n",
    "\n",
    "print(result)\n"
   ]
  },
  {
   "cell_type": "markdown",
   "id": "cfc36628",
   "metadata": {},
   "source": [
    "4) pass a set to the function with numbers like 10,45,199,33,1,145,16,22,134...\n",
    "   the function should return a set with TWO digit numbers only"
   ]
  },
  {
   "cell_type": "code",
   "execution_count": 55,
   "id": "ddff35bc",
   "metadata": {},
   "outputs": [
    {
     "name": "stdout",
     "output_type": "stream",
     "text": [
      "[10, 45, 33, 16, 22]\n"
     ]
    }
   ],
   "source": [
    "count_two = []\n",
    "def count(num):\n",
    "    for i in num:\n",
    "        if 9 < i < 100:\n",
    "            count_two.append(i)\n",
    "num = [10,45,199,33,1,145,16,22,134,234]\n",
    "count(num)\n",
    "print(count_two)"
   ]
  },
  {
   "cell_type": "code",
   "execution_count": 49,
   "id": "dd977eaa",
   "metadata": {},
   "outputs": [
    {
     "name": "stdout",
     "output_type": "stream",
     "text": [
      "[10, 45, 33, 16, 22]\n"
     ]
    }
   ],
   "source": [
    "count_two = []\n",
    "\n",
    "def count(nums):\n",
    "    for i in nums:\n",
    "        if len(str(i)) == 2:\n",
    "            count_two.append(i)\n",
    "\n",
    "num = [10, 45, 199, 33, 1, 145, 16, 22, 134, 234]\n",
    "count(num)\n",
    "\n",
    "print(count_two)\n"
   ]
  },
  {
   "cell_type": "code",
   "execution_count": null,
   "id": "221f4cd0",
   "metadata": {},
   "outputs": [],
   "source": [
    "cnt = []\n",
    "\n",
    "def cmt(num):\n",
    "    for i in num:\n",
    "        if i in range(10,100):\n",
    "            "
   ]
  },
  {
   "cell_type": "code",
   "execution_count": null,
   "id": "16f48ce2",
   "metadata": {},
   "outputs": [],
   "source": []
  },
  {
   "cell_type": "markdown",
   "id": "13cf9942",
   "metadata": {},
   "source": [
    "5) pass a list and a tuple to a function with numbers\n",
    "   the function should create a set and return the newly created set\n",
    "   total of all numbers and the avg"
   ]
  },
  {
   "cell_type": "code",
   "execution_count": 61,
   "id": "ef06ad07",
   "metadata": {},
   "outputs": [
    {
     "name": "stdout",
     "output_type": "stream",
     "text": [
      "Set of numbers {33, 11, 44, 45, 14, 22, 55, 56, 63}\n",
      "Sum of numbers  343\n",
      "Average of numbers  38.111111111111114\n"
     ]
    }
   ],
   "source": [
    "def num(lst,tp):\n",
    "    num_set = set(lst+list(tp))\n",
    "    summ = sum(num_set)\n",
    "    avg = summ/len(num_set)\n",
    "    return num_set,summ,avg\n",
    "\n",
    "num_set,summ,avg = num(lst,tp)\n",
    "\n",
    "lst = [55,44,33,22,11]\n",
    "tp = (63,45,22,14,56)\n",
    "\n",
    "print('Set of numbers',num_set)\n",
    "print('Sum of numbers ',summ)\n",
    "print('Average of numbers ',avg)"
   ]
  },
  {
   "cell_type": "code",
   "execution_count": null,
   "id": "4463c1ea",
   "metadata": {},
   "outputs": [],
   "source": []
  }
 ],
 "metadata": {
  "kernelspec": {
   "display_name": "Python 3 (ipykernel)",
   "language": "python",
   "name": "python3"
  },
  "language_info": {
   "codemirror_mode": {
    "name": "ipython",
    "version": 3
   },
   "file_extension": ".py",
   "mimetype": "text/x-python",
   "name": "python",
   "nbconvert_exporter": "python",
   "pygments_lexer": "ipython3",
   "version": "3.11.4"
  }
 },
 "nbformat": 4,
 "nbformat_minor": 5
}
