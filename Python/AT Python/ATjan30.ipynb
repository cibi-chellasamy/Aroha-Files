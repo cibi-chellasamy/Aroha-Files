{
 "cells": [
  {
   "cell_type": "code",
   "execution_count": 1,
   "id": "ba98acf1",
   "metadata": {},
   "outputs": [
    {
     "name": "stdout",
     "output_type": "stream",
     "text": [
      "At year 1, with a rate of 5.0%, the amount is $1050.00\n",
      "At year 2, with a rate of 2.5%, the amount is $1050.62\n",
      "At year 3, with a rate of 1.6666666666666667%, the amount is $1050.84\n",
      "At year 4, with a rate of 1.25%, the amount is $1050.95\n",
      "At year 5, with a rate of 1.0%, the amount is $1051.01\n"
     ]
    }
   ],
   "source": [
    "def calculate_compound_interest(principal, rate, time):\n",
    "    amount = principal * (1 + rate)**time\n",
    "    return amount\n",
    "\n",
    "# Initial values\n",
    "principal = 1000\n",
    "initial_rate = 0.05  # Initial interest rate\n",
    "max_time = 5  # Maximum time in years\n",
    "\n",
    "# Loop where time increases and rate decreases\n",
    "for year in range(1, max_time + 1):\n",
    "    current_rate = initial_rate / year  # Decreasing rate with time\n",
    "    final_amount = calculate_compound_interest(principal, current_rate, year)\n",
    "    \n",
    "    print(f\"At year {year}, with a rate of {current_rate * 100}%, the amount is ${final_amount:.2f}\")\n"
   ]
  },
  {
   "cell_type": "code",
   "execution_count": 61,
   "id": "b2be309f",
   "metadata": {},
   "outputs": [
    {
     "data": {
      "text/plain": [
       "['vikram', 'ruben Daniel', 'karthick Shah', 'durai', 'deepak', 'basith']"
      ]
     },
     "execution_count": 61,
     "metadata": {},
     "output_type": "execute_result"
    }
   ],
   "source": [
    "d"
   ]
  },
  {
   "cell_type": "code",
   "execution_count": 57,
   "id": "c4dec905",
   "metadata": {},
   "outputs": [
    {
     "name": "stdout",
     "output_type": "stream",
     "text": [
      "enter a name to search in the lsit karthick Shah\n"
     ]
    }
   ],
   "source": [
    "name = input('enter a name to search in the lsit ')"
   ]
  },
  {
   "cell_type": "code",
   "execution_count": 58,
   "id": "91585be1",
   "metadata": {},
   "outputs": [
    {
     "name": "stdout",
     "output_type": "stream",
     "text": [
      "karthick Shah exists\n"
     ]
    }
   ],
   "source": [
    "if name in d:\n",
    "    print(name,'exists')\n",
    "else:\n",
    "    print('no',name)"
   ]
  },
  {
   "cell_type": "code",
   "execution_count": null,
   "id": "0a2aef8d",
   "metadata": {},
   "outputs": [],
   "source": []
  },
  {
   "cell_type": "code",
   "execution_count": 60,
   "id": "2219966a",
   "metadata": {},
   "outputs": [
    {
     "data": {
      "text/plain": [
       "'aravindh'"
      ]
     },
     "execution_count": 60,
     "metadata": {},
     "output_type": "execute_result"
    }
   ],
   "source": [
    "d.pop() # removes from last"
   ]
  },
  {
   "cell_type": "code",
   "execution_count": null,
   "id": "32f19264",
   "metadata": {},
   "outputs": [],
   "source": []
  }
 ],
 "metadata": {
  "kernelspec": {
   "display_name": "Python 3 (ipykernel)",
   "language": "python",
   "name": "python3"
  },
  "language_info": {
   "codemirror_mode": {
    "name": "ipython",
    "version": 3
   },
   "file_extension": ".py",
   "mimetype": "text/x-python",
   "name": "python",
   "nbconvert_exporter": "python",
   "pygments_lexer": "ipython3",
   "version": "3.11.4"
  }
 },
 "nbformat": 4,
 "nbformat_minor": 5
}
