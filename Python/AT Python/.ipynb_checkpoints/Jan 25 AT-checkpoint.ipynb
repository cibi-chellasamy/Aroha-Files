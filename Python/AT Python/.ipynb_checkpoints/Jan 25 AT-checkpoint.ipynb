{
 "cells": [
  {
   "cell_type": "markdown",
   "id": "02a7618c",
   "metadata": {
    "editable": true,
    "slideshow": {
     "slide_type": ""
    },
    "tags": []
   },
   "source": [
    "1) input any five numbers  (in int variable, not str)\n",
    "\n",
    "   find out how many SINGLE digit number are there\n",
    "   \n",
    "   find the highest and lowest"
   ]
  },
  {
   "cell_type": "code",
   "execution_count": 1,
   "id": "0aef8be6",
   "metadata": {},
   "outputs": [
    {
     "name": "stdout",
     "output_type": "stream",
     "text": [
      "Enter the first number: 3\n",
      "Enter the second number: 4\n",
      "Enter the third number: 55\n",
      "Enter the fourth number: 66\n",
      "Enter the fifth number: 4\n",
      "Number of single-digit numbers: 3\n",
      "Highest number: 66\n",
      "Lowest number: 3\n"
     ]
    }
   ],
   "source": [
    "num1 = int(input(\"Enter the first number: \"))\n",
    "num2 = int(input(\"Enter the second number: \"))\n",
    "num3 = int(input(\"Enter the third number: \"))\n",
    "num4 = int(input(\"Enter the fourth number: \"))\n",
    "num5 = int(input(\"Enter the fifth number: \"))\n",
    "\n",
    "numbers = [num1,num2,num3,num4,num5]\n",
    "\n",
    "single_occ = 0\n",
    "\n",
    "max_num = float('-inf')\n",
    "min_num = float('inf')\n",
    "\n",
    "for num in numbers:\n",
    "    if num<=num<=9:\n",
    "        single_occ = single_occ + 1\n",
    "    if num > max_num:\n",
    "        max_num = num\n",
    "    if num < min_num:\n",
    "        min_num = num\n",
    "print(f\"Number of single-digit numbers: {single_occ}\")\n",
    "print(f\"Highest number: {max_num}\")\n",
    "print(f\"Lowest number: {min_num}\")"
   ]
  },
  {
   "cell_type": "markdown",
   "id": "bf4ca152",
   "metadata": {},
   "source": [
    "2)use while loop for it\n",
    "\n",
    "   input any 4 numbers (in int variable, not str)\n",
    "   \n",
    "   all the numbers must be unique\n",
    "   \n",
    "   find the total, find the avg, find highest , lowest"
   ]
  },
  {
   "cell_type": "code",
   "execution_count": 8,
   "id": "9d9990b1",
   "metadata": {},
   "outputs": [
    {
     "name": "stdout",
     "output_type": "stream",
     "text": [
      "Enter a unique number: 4\n",
      "Enter a unique number: 5\n",
      "Enter a unique number: 6\n",
      "Enter a unique number: 7\n",
      "Total: 22\n",
      "Average: 5.5\n",
      "Highest number: 7\n",
      "Lowest number: 4\n"
     ]
    }
   ],
   "source": [
    "uniq_number = []\n",
    "\n",
    "while len(uniq_number) < 4:\n",
    "    num = int(input(\"Enter a unique number: \"))\n",
    "    if num in uniq_number:\n",
    "        print(\"Number already entered\")\n",
    "    else:\n",
    "        uniq_number.append(num)\n",
    "total = sum(uniq_number)\n",
    "average = total / len(uniq_number)\n",
    "highest = max(uniq_number)\n",
    "lowest = min(uniq_number)\n",
    "\n",
    "print(f\"Total: {total}\")\n",
    "print(f\"Average: {average}\")\n",
    "print(f\"Highest number: {highest}\")\n",
    "print(f\"Lowest number: {lowest}\")\n"
   ]
  },
  {
   "cell_type": "markdown",
   "id": "bc470216",
   "metadata": {},
   "source": [
    "3) once 3) is working ...find out\n",
    "   sum of FIRST and LAST number inputted"
   ]
  },
  {
   "cell_type": "code",
   "execution_count": 9,
   "id": "b2522a70",
   "metadata": {},
   "outputs": [
    {
     "data": {
      "text/plain": [
       "11"
      ]
     },
     "execution_count": 9,
     "metadata": {},
     "output_type": "execute_result"
    }
   ],
   "source": [
    "sum_first_last = uniq_number[0] + uniq_number[-1]\n",
    "sum_first_last"
   ]
  },
  {
   "cell_type": "markdown",
   "id": "6c512446",
   "metadata": {},
   "source": [
    " 4) generate 10 negative numbers starting from -35\n",
    "   sum all the numbers\n",
    "   find the avg"
   ]
  },
  {
   "cell_type": "code",
   "execution_count": 19,
   "id": "f7c5f431",
   "metadata": {},
   "outputs": [
    {
     "name": "stdout",
     "output_type": "stream",
     "text": [
      "sum of negative numbers: -395\n",
      "average of negative numbers: -39.5\n"
     ]
    }
   ],
   "source": [
    "negative_numbers = []\n",
    "for i in range(10):\n",
    "    negative_numbers.append(-35 - i)\n",
    "\n",
    "\n",
    "summ = sum(negative_numbers)\n",
    "avg = sum(negative_numbers)/ len(negative_numbers)\n",
    "print('sum of negative numbers:',summ)\n",
    "print('average of negative numbers:',avg)"
   ]
  },
  {
   "cell_type": "markdown",
   "id": "e0760fa3",
   "metadata": {},
   "source": [
    "5) print this mul table via for loop and later using while loop\n",
    "   4 x 1 = 4\n",
    "   \n",
    "   4 x 2 = 8\n",
    "   \n",
    "   4 x 3 = 12\n",
    "   \n",
    "   ..\n",
    "   ..\n",
    "   \n",
    "   4 x 10 = 40"
   ]
  },
  {
   "cell_type": "code",
   "execution_count": 20,
   "id": "a4461366",
   "metadata": {},
   "outputs": [
    {
     "name": "stdout",
     "output_type": "stream",
     "text": [
      "1 x 4 = 4\n",
      "2 x 4 = 8\n",
      "3 x 4 = 12\n",
      "4 x 4 = 16\n",
      "5 x 4 = 20\n",
      "6 x 4 = 24\n",
      "7 x 4 = 28\n",
      "8 x 4 = 32\n",
      "9 x 4 = 36\n",
      "10 x 4 = 40\n"
     ]
    }
   ],
   "source": [
    "for i in range (1,11):\n",
    "    print(i,'x','4','=',i*4)"
   ]
  },
  {
   "cell_type": "code",
   "execution_count": 23,
   "id": "a39edf1c",
   "metadata": {},
   "outputs": [
    {
     "name": "stdout",
     "output_type": "stream",
     "text": [
      "1 x 4 = 4\n",
      "2 x 4 = 8\n",
      "3 x 4 = 12\n",
      "4 x 4 = 16\n",
      "5 x 4 = 20\n",
      "6 x 4 = 24\n",
      "7 x 4 = 28\n",
      "8 x 4 = 32\n",
      "9 x 4 = 36\n",
      "10 x 4 = 40\n"
     ]
    }
   ],
   "source": [
    "i = 1\n",
    "while i <= 10:\n",
    "    result = 4 * i\n",
    "    print(f\"{i} x 4 = {result}\")\n",
    "    i += 1"
   ]
  },
  {
   "cell_type": "markdown",
   "id": "7ec83b44",
   "metadata": {},
   "source": [
    "6) input a sentence\n",
    "\n",
    "   input a word to find\n",
    "   \n",
    "   input the word with which the found word to be replaced\n",
    "   \n",
    "   find out HOW many replacement done..."
   ]
  },
  {
   "cell_type": "code",
   "execution_count": 27,
   "id": "7f413e37",
   "metadata": {},
   "outputs": [
    {
     "name": "stdout",
     "output_type": "stream",
     "text": [
      "Enter your Sentencehello vino how are you vino wha are doing vino \n",
      "Entered Sentence\n",
      "hello vino how are you vino wha are doing vino \n",
      "Enter what word to be replaced? vino\n",
      "Type the new word to replace the old word ? lk\n",
      "how many occurance you wish to replace ? 100\n",
      "New Sentence hello lk how are you lk wha are doing lk \n"
     ]
    }
   ],
   "source": [
    "sen = input('Enter your Sentence')\n",
    "print('Entered Sentence')\n",
    "print(sen)\n",
    "Replacing_word = input('Enter what word to be replaced? ')\n",
    "Replacement_word = input('Type the new word to replace the old word ? ')\n",
    "Occurances = int(input('how many occurance you wish to replace ? '))\n",
    "new = sen.replace(Replacing_word,Replacement_word,Occurances)\n",
    "print('New Sentence',new)"
   ]
  },
  {
   "cell_type": "markdown",
   "id": "c5a78543",
   "metadata": {},
   "source": [
    "7) try to replace from the RIGHT side of the sentence ONLY two found words\n"
   ]
  },
  {
   "cell_type": "code",
   "execution_count": 28,
   "id": "96a0d667",
   "metadata": {},
   "outputs": [
    {
     "name": "stdout",
     "output_type": "stream",
     "text": [
      "Enter your Sentence: Hello arun how are you arun what are you doing arun what have you studied arun\n",
      "Entered Sentence:\n",
      "Hello arun how are you arun what are you doing arun what have you studied arun\n",
      "Enter what word to be replaced? arun\n",
      "Type the new word to replace the old word? dp\n",
      "New Sentence: Hello arun how are you arun what are you doing dp what have you studied dp\n"
     ]
    }
   ],
   "source": [
    "sen = input('Enter your Sentence: ')\n",
    "print('Entered Sentence:')\n",
    "print(sen)\n",
    "\n",
    "Replacing_word = input('Enter what word to be replaced? ')\n",
    "Replacement_word = input('Type the new word to replace the old word? ')\n",
    "\n",
    "words = sen.split()\n",
    "words.reverse()\n",
    "occurrences_replaced = 0\n",
    "\n",
    "for i in range(len(words)):\n",
    "    if words[i] == Replacing_word and occurrences_replaced < 2:\n",
    "        words[i] = Replacement_word\n",
    "        occurrences_replaced += 1\n",
    "words.reverse()\n",
    "new = ' '.join(words)\n",
    "print('New Sentence:', new)"
   ]
  },
  {
   "cell_type": "markdown",
   "id": "dec3ac0e",
   "metadata": {},
   "source": [
    "8)\n",
    "\n",
    "enter any five names\n",
    "\n",
    "find the name with max chars\n",
    "\n",
    "find the name with min chars"
   ]
  },
  {
   "cell_type": "code",
   "execution_count": 33,
   "id": "90f2a224",
   "metadata": {},
   "outputs": [
    {
     "name": "stdout",
     "output_type": "stream",
     "text": [
      "Enter name 1: Aravindh\n",
      "Enter name 2: Basith\n",
      "Enter name 3: Deepak\n",
      "Enter name 4: lk\n",
      "Enter name 5: kanth\n",
      "Name with the maximum characters: Aravindh\n",
      "Name with the minimum characters: lk\n"
     ]
    }
   ],
   "source": [
    "names = []\n",
    "for i in range(5):\n",
    "    name = input(f\"Enter name {i + 1}: \")\n",
    "    names.append(name)\n",
    "max_length_name = max(names, key=len)\n",
    "min_length_name = min(names, key=len)\n",
    "print(f\"Name with the maximum characters: {max_length_name}\")\n",
    "print(f\"Name with the minimum characters: {min_length_name}\")"
   ]
  },
  {
   "cell_type": "markdown",
   "id": "dc6d457b",
   "metadata": {},
   "source": [
    "10) enter a sentence    aaa bb ccc bb xx bb www yyy bb bb ii bb oppp bb\n",
    "    enter the word to find bb\n",
    "    print the position of the word in the main sentence"
   ]
  },
  {
   "cell_type": "code",
   "execution_count": 37,
   "id": "02af1bfc",
   "metadata": {},
   "outputs": [
    {
     "name": "stdout",
     "output_type": "stream",
     "text": [
      "Enter a sentence: aaa bb ccc bb xx bb www yyy bb bb ii bb oppp bb\n",
      "Enter the word to find: bb\n",
      "The word 'bb' is found at position(s): [1, 3, 5, 8, 9, 11, 13]\n"
     ]
    }
   ],
   "source": [
    "sentence = input(\"Enter a sentence: \")\n",
    "word_to_find = input(\"Enter the word to find: \")\n",
    "words = sentence.split()\n",
    "positions = []\n",
    "for i, word in enumerate(words):\n",
    "    if word == word_to_find:\n",
    "        positions.append(i)\n",
    "if positions:\n",
    "    print(f\"The word '{word_to_find}' is found at position(s): {positions}\")\n",
    "else:\n",
    "    print(f\"The word '{word_to_find}' is not found in the sentence.\")"
   ]
  },
  {
   "cell_type": "code",
   "execution_count": null,
   "id": "6cfccc56",
   "metadata": {},
   "outputs": [],
   "source": []
  }
 ],
 "metadata": {
  "kernelspec": {
   "display_name": "Python 3 (ipykernel)",
   "language": "python",
   "name": "python3"
  },
  "language_info": {
   "codemirror_mode": {
    "name": "ipython",
    "version": 3
   },
   "file_extension": ".py",
   "mimetype": "text/x-python",
   "name": "python",
   "nbconvert_exporter": "python",
   "pygments_lexer": "ipython3",
   "version": "3.11.7"
  }
 },
 "nbformat": 4,
 "nbformat_minor": 5
}
