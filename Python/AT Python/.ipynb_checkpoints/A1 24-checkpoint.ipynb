{
 "cells": [
  {
   "cell_type": "markdown",
   "id": "1c8a8b26",
   "metadata": {},
   "source": [
    "1) name = 'Harish Kumar'\n",
    "\n",
    "   using for loop print the char of name one by one\n",
    "   \n",
    "   using for loop print the char of name one by one (using range)"
   ]
  },
  {
   "cell_type": "code",
   "execution_count": 10,
   "id": "f465d201",
   "metadata": {},
   "outputs": [
    {
     "name": "stdout",
     "output_type": "stream",
     "text": [
      "H a r i s h   K u m a r "
     ]
    }
   ],
   "source": [
    "name = 'Harish Kumar'\n",
    "\n",
    "for i in name:\n",
    "    print(i,end = \" \")"
   ]
  },
  {
   "cell_type": "code",
   "execution_count": 9,
   "id": "104a4d1e",
   "metadata": {},
   "outputs": [
    {
     "name": "stdout",
     "output_type": "stream",
     "text": [
      "H a r i s h   K u m a r "
     ]
    }
   ],
   "source": [
    "for i in range (len(name)):\n",
    "    print(name[i],end =\" \")"
   ]
  },
  {
   "cell_type": "markdown",
   "id": "a886b593",
   "metadata": {},
   "source": [
    "2) do the same 1) using the while loop print all the char of name but in REVERSE "
   ]
  },
  {
   "cell_type": "code",
   "execution_count": 8,
   "id": "7bef2582",
   "metadata": {},
   "outputs": [
    {
     "name": "stdout",
     "output_type": "stream",
     "text": [
      "r a m u K   h s i r a H "
     ]
    }
   ],
   "source": [
    "n = len(name)\n",
    "\n",
    "for i in range(n-1,-1,-1):\n",
    "    print(name[i],end=\" \")"
   ]
  },
  {
   "cell_type": "markdown",
   "id": "d141fd79",
   "metadata": {},
   "source": [
    "3. data = 'all is well that begins and ends well'\n",
    "\n",
    "process this and count how many vowels (a,e,i,o,u) are there \n",
    "\n",
    "use for loop to do"
   ]
  },
  {
   "cell_type": "code",
   "execution_count": 12,
   "id": "bd6e1823",
   "metadata": {},
   "outputs": [
    {
     "name": "stdout",
     "output_type": "stream",
     "text": [
      "The number of vowels is 9\n"
     ]
    }
   ],
   "source": [
    "data = 'all is well that begins and ends well'\n",
    "count = 0\n",
    "for i in data:\n",
    "    if i.lower() in 'aeiou':\n",
    "        count = count+1\n",
    "print('The number of vowels is',count)"
   ]
  },
  {
   "cell_type": "markdown",
   "id": "3249334e",
   "metadata": {},
   "source": [
    "\n",
    "4. data = \"100010010001110011\"\n",
    "\n",
    "   use while loop like this...\n",
    "   \n",
    "   while True:\n",
    "   \n",
    "     xxxx\n",
    "     xxx\n",
    "     \n",
    "  keep processing the data - as soon as the count of 0's reach 7 then break from the loop\n"
   ]
  },
  {
   "cell_type": "code",
   "execution_count": 17,
   "id": "03eae9ff",
   "metadata": {},
   "outputs": [
    {
     "name": "stdout",
     "output_type": "stream",
     "text": [
      "1 0 0 0 1 0 0 1 0 0 0 1 1 1 0 0 1 1 \n",
      "breaking from the loop.\n"
     ]
    }
   ],
   "source": [
    "data = \"100010010001110011\"\n",
    "count = 0\n",
    "index = 0\n",
    "while index < len(data):\n",
    "    if data[index] == '0':\n",
    "        count += 1\n",
    "    else:\n",
    "        count = 0  \n",
    "    print(data[index], end=' ')  \n",
    "    index += 1\n",
    "    if count == 7:\n",
    "        break\n",
    "print(\"\\nbreaking from the loop.\")\n"
   ]
  },
  {
   "cell_type": "markdown",
   "id": "c4698886",
   "metadata": {},
   "source": [
    "5.\n",
    "\n",
    "s1 = 'vinay'\n",
    "s2 = 'ganesh'\n",
    "s3 = 'kiran'\n",
    "s4 = 'harish'\n",
    "for i in s1,s2,s3,s4:\n",
    "print(i)\n"
   ]
  },
  {
   "cell_type": "code",
   "execution_count": 24,
   "id": "5a63db3a",
   "metadata": {},
   "outputs": [
    {
     "name": "stdout",
     "output_type": "stream",
     "text": [
      "vinay - length: 5\n",
      "ganesh - length: 6\n",
      "kiran - length: 5\n",
      "harish - length: 6\n"
     ]
    }
   ],
   "source": [
    "s1 = 'vinay'\n",
    "s2 = 'ganesh' \n",
    "s3 = 'kiran' \n",
    "s4 = 'harish'\n",
    "for i in s1,s2,s3,s4: \n",
    "    print((f\"{i} - length: {len(i)}\"))"
   ]
  },
  {
   "cell_type": "markdown",
   "id": "4806d061",
   "metadata": {},
   "source": [
    "6 . "
   ]
  },
  {
   "cell_type": "code",
   "execution_count": 39,
   "id": "7a2471ba",
   "metadata": {},
   "outputs": [
    {
     "name": "stdout",
     "output_type": "stream",
     "text": [
      "Enter a number (or -1 to stop): 45\n",
      "Enter a number (or -1 to stop): 566\n",
      "Enter a number (or -1 to stop): 33\n",
      "Enter a number (or -1 to stop): 24\n",
      "Enter a number (or -1 to stop): 53\n",
      "Enter a number (or -1 to stop): -1\n",
      "Sum: 721\n",
      "Average: 144.2\n",
      "Max: 566\n",
      "Min: 24\n"
     ]
    }
   ],
   "source": [
    "total = 0\n",
    "count = 0\n",
    "max_number = float('-inf')\n",
    "min_number = float('inf')\n",
    "\n",
    "while True:\n",
    "    num = int(input(\"Enter a number (or -1 to stop): \"))\n",
    "    if num == -1:\n",
    "        break\n",
    "    total += num\n",
    "    count += 1\n",
    "    avg = total / count\n",
    "\n",
    "    max_number = max(max_number, num)\n",
    "    min_number = min(min_numnumber, num)\n",
    "print(f\"Sum: {total}\")\n",
    "print(f\"Average: {avg}\")\n",
    "print(f\"Max: {max_num}\")\n",
    "print(f\"Min: {min_num}\")"
   ]
  },
  {
   "cell_type": "code",
   "execution_count": null,
   "id": "6502c06c",
   "metadata": {},
   "outputs": [],
   "source": []
  }
 ],
 "metadata": {
  "kernelspec": {
   "display_name": "Python 3 (ipykernel)",
   "language": "python",
   "name": "python3"
  },
  "language_info": {
   "codemirror_mode": {
    "name": "ipython",
    "version": 3
   },
   "file_extension": ".py",
   "mimetype": "text/x-python",
   "name": "python",
   "nbconvert_exporter": "python",
   "pygments_lexer": "ipython3",
   "version": "3.11.4"
  }
 },
 "nbformat": 4,
 "nbformat_minor": 5
}
