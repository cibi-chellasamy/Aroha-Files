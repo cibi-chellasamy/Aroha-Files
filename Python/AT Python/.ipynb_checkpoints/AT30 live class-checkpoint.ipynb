{
 "cells": [
  {
   "cell_type": "code",
   "execution_count": 62,
   "id": "f98b1550",
   "metadata": {},
   "outputs": [
    {
     "name": "stdout",
     "output_type": "stream",
     "text": [
      "anand ANAND anand a d\n",
      "basith BASITH basith b h\n",
      "aravindh ARAVINDH aravindh a h\n",
      "durai DURAI durai d i\n",
      "deepak DEEPAK deepak d k\n"
     ]
    }
   ],
   "source": [
    "d = ['anand','basith','aravindh','durai','deepak']\n",
    "\n",
    "for i in d:\n",
    "    print(i,i.upper(),i.lower(),i[0],i[len(i)-1])"
   ]
  },
  {
   "cell_type": "code",
   "execution_count": 63,
   "id": "2eabcbf6",
   "metadata": {},
   "outputs": [
    {
     "data": {
      "text/plain": [
       "['anand', 'aravindh', 'basith', 'deepak', 'durai']"
      ]
     },
     "execution_count": 63,
     "metadata": {},
     "output_type": "execute_result"
    }
   ],
   "source": [
    "sorted(d)"
   ]
  },
  {
   "cell_type": "code",
   "execution_count": 64,
   "id": "86219035",
   "metadata": {},
   "outputs": [
    {
     "data": {
      "text/plain": [
       "'durai'"
      ]
     },
     "execution_count": 64,
     "metadata": {},
     "output_type": "execute_result"
    }
   ],
   "source": [
    "max(d)"
   ]
  },
  {
   "cell_type": "code",
   "execution_count": 65,
   "id": "3c95418b",
   "metadata": {},
   "outputs": [
    {
     "data": {
      "text/plain": [
       "'anand'"
      ]
     },
     "execution_count": 65,
     "metadata": {},
     "output_type": "execute_result"
    }
   ],
   "source": [
    "min(d)"
   ]
  },
  {
   "cell_type": "code",
   "execution_count": 66,
   "id": "e5dbf172",
   "metadata": {},
   "outputs": [
    {
     "name": "stdout",
     "output_type": "stream",
     "text": [
      "[10, 20, 30]\n",
      "[99, 89, 79]\n"
     ]
    }
   ],
   "source": [
    "\n",
    "\n",
    "for i in lst1,lst2:\n",
    "    print(i)"
   ]
  },
  {
   "cell_type": "code",
   "execution_count": 67,
   "id": "cb0d60fc",
   "metadata": {},
   "outputs": [],
   "source": [
    "\n",
    "lst1 = [10,20,30]\n",
    "lst2 = [99,89,79]\n",
    "lst3 = ['ashis','surya','nithya','rishi']\n",
    "lst4 = ['kish',67.5,'True',2023]"
   ]
  },
  {
   "cell_type": "code",
   "execution_count": 68,
   "id": "b09cfca8",
   "metadata": {},
   "outputs": [
    {
     "name": "stdout",
     "output_type": "stream",
     "text": [
      "[10, 20, 30] <class 'list'>\n",
      "[99, 89, 79] <class 'list'>\n",
      "['ashis', 'surya', 'nithya', 'rishi'] <class 'list'>\n",
      "['kish', 67.5, 'True', 2023] <class 'list'>\n"
     ]
    }
   ],
   "source": [
    "for i in lst1,lst2,lst3,lst4:\n",
    "    print(i,type(i))"
   ]
  },
  {
   "cell_type": "code",
   "execution_count": 69,
   "id": "32f65746",
   "metadata": {},
   "outputs": [
    {
     "name": "stdout",
     "output_type": "stream",
     "text": [
      "10 20 30 99 89 79 ashis surya nithya rishi kish 67.5 True 2023 "
     ]
    }
   ],
   "source": [
    "for i in lst1,lst2,lst3,lst4:\n",
    "    for j in i:\n",
    "        print(j,end = \" \")"
   ]
  },
  {
   "cell_type": "code",
   "execution_count": 70,
   "id": "42041d0a",
   "metadata": {},
   "outputs": [
    {
     "name": "stdout",
     "output_type": "stream",
     "text": [
      "10 \n",
      "20 \n",
      "30 \n",
      "99 \n",
      "\n",
      "79 \n",
      "ashis \n",
      "\n",
      "nithya \n",
      "rishi \n",
      "kish \n",
      "67.5 \n",
      "True \n",
      "2023 \n"
     ]
    }
   ],
   "source": [
    "for i in lst1,lst2,lst3,lst4:\n",
    "    for j in i:\n",
    "        if j!='surya' and j!= 89 and j!= True:\n",
    "            print(j,end = ' ')\n",
    "        print()"
   ]
  },
  {
   "cell_type": "code",
   "execution_count": 71,
   "id": "041cb906",
   "metadata": {},
   "outputs": [
    {
     "data": {
      "text/plain": [
       "['anand', 'basith', 'aravindh', 'durai', 'deepak']"
      ]
     },
     "execution_count": 71,
     "metadata": {},
     "output_type": "execute_result"
    }
   ],
   "source": [
    "d"
   ]
  },
  {
   "cell_type": "code",
   "execution_count": 72,
   "id": "361bfe14",
   "metadata": {},
   "outputs": [],
   "source": [
    "d.sort()"
   ]
  },
  {
   "cell_type": "code",
   "execution_count": 73,
   "id": "b1ef829a",
   "metadata": {},
   "outputs": [
    {
     "data": {
      "text/plain": [
       "['anand', 'aravindh', 'basith', 'deepak', 'durai']"
      ]
     },
     "execution_count": 73,
     "metadata": {},
     "output_type": "execute_result"
    }
   ],
   "source": [
    "d"
   ]
  },
  {
   "cell_type": "code",
   "execution_count": 74,
   "id": "a7125448",
   "metadata": {},
   "outputs": [],
   "source": [
    "d.append('vikram')\n",
    "d.append('ruben Daniel')\n",
    "d.append('karthick Shah')"
   ]
  },
  {
   "cell_type": "code",
   "execution_count": 75,
   "id": "3a116657",
   "metadata": {},
   "outputs": [],
   "source": [
    "d.sort(reverse=True)"
   ]
  },
  {
   "cell_type": "code",
   "execution_count": 76,
   "id": "af589ae1",
   "metadata": {},
   "outputs": [
    {
     "name": "stdout",
     "output_type": "stream",
     "text": [
      "vikram\n",
      "ruben Daniel\n",
      "karthick Shah\n",
      "durai\n",
      "deepak\n",
      "basith\n",
      "aravindh\n",
      "anand\n"
     ]
    }
   ],
   "source": [
    "for i in d:\n",
    "    print(i)"
   ]
  },
  {
   "cell_type": "code",
   "execution_count": 77,
   "id": "f475016d",
   "metadata": {},
   "outputs": [
    {
     "data": {
      "text/plain": [
       "['vikram',\n",
       " 'ruben Daniel',\n",
       " 'karthick Shah',\n",
       " 'durai',\n",
       " 'deepak',\n",
       " 'basith',\n",
       " 'aravindh',\n",
       " 'anand']"
      ]
     },
     "execution_count": 77,
     "metadata": {},
     "output_type": "execute_result"
    }
   ],
   "source": [
    "d"
   ]
  },
  {
   "cell_type": "code",
   "execution_count": 78,
   "id": "672f6d03",
   "metadata": {},
   "outputs": [
    {
     "name": "stdout",
     "output_type": "stream",
     "text": [
      "enter a name to search in the lsit anand\n"
     ]
    }
   ],
   "source": [
    "name = input('enter a name to search in the lsit ')"
   ]
  },
  {
   "cell_type": "code",
   "execution_count": 79,
   "id": "a74a6b02",
   "metadata": {},
   "outputs": [
    {
     "name": "stdout",
     "output_type": "stream",
     "text": [
      "anand exists\n"
     ]
    }
   ],
   "source": [
    "if name in d:\n",
    "    print(name,'exists')\n",
    "else:\n",
    "    print('no',name)"
   ]
  },
  {
   "cell_type": "code",
   "execution_count": 80,
   "id": "73b8ab4c",
   "metadata": {},
   "outputs": [
    {
     "data": {
      "text/plain": [
       "'anand'"
      ]
     },
     "execution_count": 80,
     "metadata": {},
     "output_type": "execute_result"
    }
   ],
   "source": [
    "d.pop() # removes from last"
   ]
  },
  {
   "cell_type": "code",
   "execution_count": 81,
   "id": "20788d1d",
   "metadata": {},
   "outputs": [],
   "source": [
    "how = len(d)"
   ]
  },
  {
   "cell_type": "code",
   "execution_count": 82,
   "id": "ac3b3c84",
   "metadata": {},
   "outputs": [
    {
     "data": {
      "text/plain": [
       "7"
      ]
     },
     "execution_count": 82,
     "metadata": {},
     "output_type": "execute_result"
    }
   ],
   "source": [
    "how"
   ]
  },
  {
   "cell_type": "code",
   "execution_count": 84,
   "id": "340c9bf0",
   "metadata": {},
   "outputs": [
    {
     "name": "stdout",
     "output_type": "stream",
     "text": [
      "0 vikram\n",
      "1 ruben Daniel\n",
      "2 karthick Shah\n",
      "3 durai\n",
      "4 deepak\n",
      "5 basith\n"
     ]
    }
   ],
   "source": [
    "for j in range (0,how-1):\n",
    "    print(j,d[j])"
   ]
  },
  {
   "cell_type": "code",
   "execution_count": 87,
   "id": "bc58f046",
   "metadata": {},
   "outputs": [],
   "source": [
    "d.remove('vikram')"
   ]
  },
  {
   "cell_type": "code",
   "execution_count": 88,
   "id": "c00bf503",
   "metadata": {},
   "outputs": [
    {
     "data": {
      "text/plain": [
       "['ruben Daniel', 'karthick Shah', 'durai', 'deepak', 'basith', 'aravindh']"
      ]
     },
     "execution_count": 88,
     "metadata": {},
     "output_type": "execute_result"
    }
   ],
   "source": [
    "d"
   ]
  },
  {
   "cell_type": "code",
   "execution_count": 89,
   "id": "928bd104",
   "metadata": {},
   "outputs": [
    {
     "data": {
      "text/plain": [
       "'durai'"
      ]
     },
     "execution_count": 89,
     "metadata": {},
     "output_type": "execute_result"
    }
   ],
   "source": [
    "d.pop(2)"
   ]
  },
  {
   "cell_type": "code",
   "execution_count": 90,
   "id": "3731960c",
   "metadata": {},
   "outputs": [
    {
     "data": {
      "text/plain": [
       "['ruben Daniel', 'karthick Shah', 'deepak', 'basith', 'aravindh']"
      ]
     },
     "execution_count": 90,
     "metadata": {},
     "output_type": "execute_result"
    }
   ],
   "source": [
    "d"
   ]
  },
  {
   "cell_type": "code",
   "execution_count": 91,
   "id": "1731ca9f",
   "metadata": {},
   "outputs": [],
   "source": [
    "# list can have another list"
   ]
  },
  {
   "cell_type": "code",
   "execution_count": 99,
   "id": "cec3b23f",
   "metadata": {},
   "outputs": [],
   "source": [
    "emp = [['e100','sri','it','dec',['c','c++','sql',['gh','hj','man']],['d','a','d']]]"
   ]
  },
  {
   "cell_type": "code",
   "execution_count": 100,
   "id": "a5eacc15",
   "metadata": {},
   "outputs": [
    {
     "data": {
      "text/plain": [
       "[['e100',\n",
       "  'sri',\n",
       "  'it',\n",
       "  'dec',\n",
       "  ['c', 'c++', 'sql', ['gh', 'hj', 'man']],\n",
       "  ['d', 'a', 'd']]]"
      ]
     },
     "execution_count": 100,
     "metadata": {},
     "output_type": "execute_result"
    }
   ],
   "source": [
    "emp"
   ]
  },
  {
   "cell_type": "code",
   "execution_count": 101,
   "id": "e1ab71fa",
   "metadata": {},
   "outputs": [
    {
     "name": "stdout",
     "output_type": "stream",
     "text": [
      "['e100', 'sri', 'it', 'dec', ['c', 'c++', 'sql', ['gh', 'hj', 'man']], ['d', 'a', 'd']]\n"
     ]
    }
   ],
   "source": [
    "for i in emp:\n",
    "    print(i)"
   ]
  },
  {
   "cell_type": "code",
   "execution_count": 105,
   "id": "cd24d2af",
   "metadata": {},
   "outputs": [
    {
     "name": "stdout",
     "output_type": "stream",
     "text": [
      "c\n",
      "e100,sri,it,dec,['c', 'c++', 'sql', ['gh', 'hj', 'man']],['d', 'a', 'd'],\n"
     ]
    }
   ],
   "source": [
    "for i in emp:\n",
    "    if type(i) == list:\n",
    "        print('c')\n",
    "        for j in i:\n",
    "            print(j,end = \",\")\n",
    "        print()\n",
    "            \n",
    "    else:\n",
    "        print(i)"
   ]
  },
  {
   "cell_type": "code",
   "execution_count": 106,
   "id": "131c357f",
   "metadata": {},
   "outputs": [
    {
     "name": "stdout",
     "output_type": "stream",
     "text": [
      "e100  sri  it  dec  gh\n"
     ]
    },
    {
     "ename": "NameError",
     "evalue": "name 'J' is not defined",
     "output_type": "error",
     "traceback": [
      "\u001b[1;31m---------------------------------------------------------------------------\u001b[0m",
      "\u001b[1;31mNameError\u001b[0m                                 Traceback (most recent call last)",
      "Cell \u001b[1;32mIn[106], line 5\u001b[0m\n\u001b[0;32m      3\u001b[0m \u001b[38;5;28;01mif\u001b[39;00m \u001b[38;5;28mtype\u001b[39m(j) \u001b[38;5;241m==\u001b[39m \u001b[38;5;28mlist\u001b[39m:\n\u001b[0;32m      4\u001b[0m     \u001b[38;5;28mprint\u001b[39m(\u001b[38;5;124m'\u001b[39m\u001b[38;5;124mgh\u001b[39m\u001b[38;5;124m'\u001b[39m)\n\u001b[1;32m----> 5\u001b[0m     \u001b[38;5;28;01mfor\u001b[39;00m k \u001b[38;5;129;01min\u001b[39;00m J:\n\u001b[0;32m      6\u001b[0m         \u001b[38;5;28mprint\u001b[39m(\u001b[38;5;124m'\u001b[39m\u001b[38;5;124mk\u001b[39m\u001b[38;5;124m'\u001b[39m,end \u001b[38;5;241m=\u001b[39m \u001b[38;5;124m\"\u001b[39m\u001b[38;5;124m \u001b[39m\u001b[38;5;124m\"\u001b[39m)\n\u001b[0;32m      7\u001b[0m \u001b[38;5;28;01melse\u001b[39;00m:\n",
      "\u001b[1;31mNameError\u001b[0m: name 'J' is not defined"
     ]
    }
   ],
   "source": [
    "for i in emp:\n",
    "    for j in i:\n",
    "        if type(j) == list:\n",
    "            print('gh')\n",
    "            for k in J:\n",
    "                print('k',end = \" \")\n",
    "        else:\n",
    "            print(j,end = \"  \")\n",
    "    print()"
   ]
  },
  {
   "cell_type": "code",
   "execution_count": null,
   "id": "fbe80bb2",
   "metadata": {},
   "outputs": [],
   "source": []
  },
  {
   "cell_type": "code",
   "execution_count": null,
   "id": "db3eeb89",
   "metadata": {},
   "outputs": [],
   "source": []
  }
 ],
 "metadata": {
  "kernelspec": {
   "display_name": "Python 3 (ipykernel)",
   "language": "python",
   "name": "python3"
  },
  "language_info": {
   "codemirror_mode": {
    "name": "ipython",
    "version": 3
   },
   "file_extension": ".py",
   "mimetype": "text/x-python",
   "name": "python",
   "nbconvert_exporter": "python",
   "pygments_lexer": "ipython3",
   "version": "3.11.4"
  }
 },
 "nbformat": 4,
 "nbformat_minor": 5
}
