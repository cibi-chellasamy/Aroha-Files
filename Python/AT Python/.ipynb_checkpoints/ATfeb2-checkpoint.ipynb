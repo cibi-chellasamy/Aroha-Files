{
 "cells": [
  {
   "cell_type": "markdown",
   "id": "21b27657",
   "metadata": {},
   "source": [
    "1) data1 = { 67,34,19,50,5,124,77,89,190,29,45}\n",
    "   data2 = { 21,7,43,91,51,160,15,24,67,89,75,180,29,45,2,8}\n",
    "   find the summed value after the union\n",
    "   what is the avg of the unioned value?\n",
    "   of the common elements between data1 and data2 ...find the\n",
    "   highest and lowest\n",
    "    \n",
    "   "
   ]
  },
  {
   "cell_type": "code",
   "execution_count": 9,
   "id": "3e568076",
   "metadata": {},
   "outputs": [
    {
     "name": "stdout",
     "output_type": "stream",
     "text": [
      "{2, 67, 5, 7, 8, 75, 77, 15, 19, 21, 24, 89, 91, 29, 160, 34, 43, 45, 50, 51, 180, 124, 190}\n",
      "Sum of give numbers  1406\n"
     ]
    }
   ],
   "source": [
    "data1 = { 67,34,19,50,5,124,77,89,190,29,45}\n",
    "data2 = { 21,7,43,91,51,160,15,24,67,89,75,180,29,45,2,8}\n",
    "\n",
    "union_set = data1.union(data2)\n",
    "sum_d = sum(union_set)\n",
    "\n",
    "print(union_set)\n",
    "print('Sum of give numbers ',sum_d)\n",
    "\n"
   ]
  },
  {
   "cell_type": "code",
   "execution_count": 11,
   "id": "b6a41143",
   "metadata": {},
   "outputs": [
    {
     "name": "stdout",
     "output_type": "stream",
     "text": [
      "61.130434782608695\n"
     ]
    }
   ],
   "source": [
    "avg_value = sum_d/len(union_set)\n",
    "\n",
    "print(avg_value)"
   ]
  },
  {
   "cell_type": "code",
   "execution_count": 14,
   "id": "378f035f",
   "metadata": {},
   "outputs": [
    {
     "name": "stdout",
     "output_type": "stream",
     "text": [
      "{89, 29, 67, 45}\n",
      "Max 190\n",
      "Min 2\n"
     ]
    }
   ],
   "source": [
    "common_value = data1.intersection(data2)\n",
    "\n",
    "print(common_value)\n",
    "print('Max',max(union_set))\n",
    "print('Min',min(union_set))"
   ]
  },
  {
   "cell_type": "markdown",
   "id": "e15db09a",
   "metadata": {},
   "source": [
    "use the qs 1) data1 and data2\n",
    "   create data3 - add all the elements of data1 , data2 \n",
    "   sort the data3 in DESC order - how many ele are there..\n",
    "   delete/remove all the found elements of data1 in data2\n"
   ]
  },
  {
   "cell_type": "code",
   "execution_count": 19,
   "id": "901fe0d5",
   "metadata": {},
   "outputs": [],
   "source": [
    "data1 = { 67,34,19,50,5,124,77,89,190,29,45}\n",
    "data2 = { 21,7,43,91,51,160,15,24,67,89,75,180,29,45,2,8}\n",
    "\n",
    "data3 = data1.union(data2)\n",
    "\n",
    "sorted_d3 = sorted(data3,reverse=True)"
   ]
  },
  {
   "cell_type": "code",
   "execution_count": 20,
   "id": "b4934bc7",
   "metadata": {},
   "outputs": [
    {
     "name": "stdout",
     "output_type": "stream",
     "text": [
      "[190, 180, 160, 124, 91, 89, 77, 75, 67, 51, 50, 45, 43, 34, 29, 24, 21, 19, 15, 8, 7, 5, 2]\n"
     ]
    }
   ],
   "source": [
    "print(sorted_d3)"
   ]
  },
  {
   "cell_type": "code",
   "execution_count": 23,
   "id": "1ab19342",
   "metadata": {},
   "outputs": [
    {
     "name": "stdout",
     "output_type": "stream",
     "text": [
      "No of elements in sorted data3 -  23\n"
     ]
    }
   ],
   "source": [
    "print('No of elements in sorted data3 - ' ,len(sorted_d3))"
   ]
  },
  {
   "cell_type": "code",
   "execution_count": 24,
   "id": "63c314ed",
   "metadata": {},
   "outputs": [
    {
     "data": {
      "text/plain": [
       "{2, 7, 8, 15, 21, 24, 43, 51, 75, 91, 160, 180}"
      ]
     },
     "execution_count": 24,
     "metadata": {},
     "output_type": "execute_result"
    }
   ],
   "source": [
    "data2 = data2-data1\n",
    "data2"
   ]
  },
  {
   "cell_type": "code",
   "execution_count": 25,
   "id": "3224a0d8",
   "metadata": {},
   "outputs": [
    {
     "name": "stdout",
     "output_type": "stream",
     "text": [
      "After removed {160, 2, 7, 8, 75, 43, 15, 51, 180, 21, 24, 91}\n"
     ]
    }
   ],
   "source": [
    "print('After removed',data2)"
   ]
  },
  {
   "cell_type": "code",
   "execution_count": null,
   "id": "ce3ab836",
   "metadata": {},
   "outputs": [],
   "source": []
  },
  {
   "cell_type": "markdown",
   "id": "3f62c7d6",
   "metadata": {},
   "source": [
    "set1 = { 23,4,(50,12,9),18,(5,2,-6,-19,27),-18,-50\n",
    "(-3,15,-10),25 }\n",
    "   sum all the positive numbers\n",
    "   find the avg"
   ]
  },
  {
   "cell_type": "code",
   "execution_count": 32,
   "id": "2e373220",
   "metadata": {},
   "outputs": [
    {
     "name": "stdout",
     "output_type": "stream",
     "text": [
      "Sum of positive numbers: 70\n",
      "Average of positive numbers: 17.5\n"
     ]
    }
   ],
   "source": [
    "set1 = { 23,4,(50,12,9),18,(5,2,-6,-19,27),-18,-50,(-3,15,-10),25 }\n",
    "\n",
    "Positive_ = 0\n",
    "count_pos = 0\n",
    "\n",
    "for num in set1:\n",
    "    if isinstance(num,(int,float)) and num >0:\n",
    "        Positive_ = Positive_+num\n",
    "        count_pos = count_pos+1\n",
    "        \n",
    "if count_pos >1:\n",
    "    avg = Positive_/count_pos\n",
    "    print(\"Sum of positive numbers:\", Positive_)\n",
    "    print(\"Average of positive numbers:\", avg)\n",
    "    \n",
    "else:\n",
    "    print(\"No positive numbers found in the set.\")"
   ]
  },
  {
   "cell_type": "code",
   "execution_count": 36,
   "id": "8dfb7b1e",
   "metadata": {},
   "outputs": [
    {
     "name": "stdout",
     "output_type": "stream",
     "text": [
      "Sum of numbers in tuples: 82\n",
      "Highest value in tuples: 50\n",
      "Lowest value in tuples: -19\n"
     ]
    }
   ],
   "source": [
    "sum_tup = 0\n",
    "\n",
    "highest = float('-inf')\n",
    "lowest = float('inf')\n",
    "\n",
    "for element in set1:\n",
    "    if isinstance(element,tuple):\n",
    "        for num in element:\n",
    "            if isinstance(num, (int, float)):\n",
    "                sum_tup = sum_tup+num\n",
    "                highest = max(highest,num)\n",
    "                lowest = min(lowest,num)\n",
    "        \n",
    "        \n",
    "print(\"Sum of numbers in tuples:\", sum_tup)\n",
    "print(\"Highest value in tuples:\", highest)\n",
    "print(\"Lowest value in tuples:\", lowest)"
   ]
  },
  {
   "cell_type": "code",
   "execution_count": 35,
   "id": "83351845",
   "metadata": {},
   "outputs": [
    {
     "name": "stdout",
     "output_type": "stream",
     "text": [
      "Sum of numbers in tuples: 82\n",
      "Highest value in tuples: 50\n",
      "Lowest value in tuples: -19\n"
     ]
    }
   ],
   "source": []
  },
  {
   "cell_type": "markdown",
   "id": "1fd603c2",
   "metadata": {},
   "source": [
    "this is little challenging...\n",
    "   we wish to delete the negitive numbers in the set1\n",
    "   how it can be done ?\n",
    "   final o/p will be (all -ive removed)\n",
    "   set1 = { 23,4,(50,12,9),18,(5,2,27),(15),25 }"
   ]
  },
  {
   "cell_type": "code",
   "execution_count": null,
   "id": "f4462d89",
   "metadata": {},
   "outputs": [],
   "source": [
    "for element in set1:\n",
    "    if isinstance(element,tuple):\n",
    "        for num in element:\n",
    "            if isinstance(num, (int, float)):\n",
    "                if num <0:\n",
    "                    nu"
   ]
  },
  {
   "cell_type": "code",
   "execution_count": 48,
   "id": "cfd75a77",
   "metadata": {},
   "outputs": [
    {
     "name": "stdout",
     "output_type": "stream",
     "text": [
      "Final set after removing negative numbers:\n",
      "{4, (15,), (50, 12, 9), (5, 2, 27), 18, 23, 25}\n"
     ]
    }
   ],
   "source": [
    "for element in set1.copy():\n",
    "    if isinstance(element, (int, float)) and element < 0:\n",
    "        set1.discard(element)\n",
    "    elif isinstance(element, tuple):\n",
    "        set1.remove(element)\n",
    "        set1.add(tuple(num for num in element if num >= 0))\n",
    "\n",
    "print(\"set after removing negative numbers:\")\n",
    "print(set1)"
   ]
  },
  {
   "cell_type": "code",
   "execution_count": null,
   "id": "f4e182a7",
   "metadata": {},
   "outputs": [],
   "source": []
  },
  {
   "cell_type": "markdown",
   "id": "03e66008",
   "metadata": {},
   "source": [
    "Given... (if you wish you could add more items to item dict\n",
    "   like how i have done...)\n",
    "\n",
    "             Id      name   price qty\n",
    "              |       |       |   |\n",
    "   item = { 100 : ['Laptop',56500, 5], \n",
    "            201: ['Mobile',23500,10],\n",
    "            400 : ['charger',2500, 4], \n",
    "            221: ['Earpods',4500,8] }\n",
    "   process the dict in such a way we display the o/p as \n",
    "   100  Laptop 56500\n",
    "   200  Mobile 23500\n",
    "   ..   ...    ..."
   ]
  },
  {
   "cell_type": "code",
   "execution_count": null,
   "id": "d761fd4f",
   "metadata": {},
   "outputs": [],
   "source": []
  },
  {
   "cell_type": "code",
   "execution_count": 82,
   "id": "68ff2514",
   "metadata": {},
   "outputs": [],
   "source": [
    "item = {\n",
    "    100: ['Laptop', 56500, 5],\n",
    "    201: ['Mobile', 23500, 10],\n",
    "    221: ['charger', 2500, 4],\n",
    "    400: ['Earpods', 4500, 8]\n",
    "}"
   ]
  },
  {
   "cell_type": "code",
   "execution_count": null,
   "id": "46ff4de0",
   "metadata": {},
   "outputs": [],
   "source": []
  },
  {
   "cell_type": "code",
   "execution_count": 83,
   "id": "1b5a9fad",
   "metadata": {},
   "outputs": [
    {
     "name": "stdout",
     "output_type": "stream",
     "text": [
      "Id\tName\tPrice\tqty\n",
      "------------------------------------------------\n",
      "100\tLaptop\t56500\t5\n",
      "201\tMobile\t23500\t10\n",
      "221\tcharger\t2500\t4\n",
      "400\tEarpods\t4500\t8\n",
      "401\tpendrive\t55000\t10\n",
      "405\tmosue\t26000\t30\n"
     ]
    }
   ],
   "source": [
    "item = {\n",
    "    100: ['Laptop', 56500, 5],\n",
    "    201: ['Mobile', 23500, 10],\n",
    "    221: ['charger', 2500, 4],\n",
    "    400: ['Earpods', 4500, 8],\n",
    "    401:['pendrive',55000,10],\n",
    "    405:['mosue',26000,30]\n",
    "}\n",
    "\n",
    "print(\"Id\\tName\\tPrice\\tqty\")\n",
    "print(\"------------------------------------------------\")\n",
    "\n",
    "for item_id, details in item.items():\n",
    "    name, price,qty = details  \n",
    "    print(f\"{item_id}\\t{name}\\t{price}\\t{qty}\")\n",
    "\n"
   ]
  },
  {
   "cell_type": "code",
   "execution_count": 84,
   "id": "c3f4934e",
   "metadata": {},
   "outputs": [
    {
     "name": "stdout",
     "output_type": "stream",
     "text": [
      "name    item cost (stock value)\n",
      "Laptop  282500\n",
      "Mobile  235000\n",
      "charger  10000\n",
      "Earpods  36000\n",
      "pendrive  550000\n",
      "mosue  780000\n"
     ]
    }
   ],
   "source": [
    "print(\"name    item cost (stock value)\")\n",
    "for details in item.values():\n",
    "    name, price, qty = details\n",
    "    stock_value = price * qty\n",
    "    print(f\"{name}  {stock_value}\")"
   ]
  },
  {
   "cell_type": "code",
   "execution_count": 85,
   "id": "87e3f577",
   "metadata": {},
   "outputs": [
    {
     "name": "stdout",
     "output_type": "stream",
     "text": [
      "{201: ['Mobile', 23500, 10], 400: ['Earpods', 4500, 8], 401: ['pendrive', 55000, 10], 405: ['mosue', 26000, 30]}\n",
      "\n",
      "Item_1\n",
      "{100: ['Laptop', 56500, 5], 221: ['charger', 2500, 4]}\n"
     ]
    }
   ],
   "source": [
    "item_1 = {}\n",
    "for id,details in list(item.items()):\n",
    "    qty = details[2]\n",
    "    if qty < 6:\n",
    "        item_1[id] = details\n",
    "        del item[id]\n",
    "\n",
    "        \n",
    "print(item)\n",
    "\n",
    "print()\n",
    "print('Item_1')\n",
    "print(item_1)"
   ]
  },
  {
   "cell_type": "code",
   "execution_count": null,
   "id": "faa9faf2",
   "metadata": {},
   "outputs": [],
   "source": []
  },
  {
   "cell_type": "code",
   "execution_count": null,
   "id": "56bb19e8",
   "metadata": {},
   "outputs": [],
   "source": []
  },
  {
   "cell_type": "code",
   "execution_count": null,
   "id": "2b7aa0f4",
   "metadata": {},
   "outputs": [],
   "source": []
  }
 ],
 "metadata": {
  "kernelspec": {
   "display_name": "Python 3 (ipykernel)",
   "language": "python",
   "name": "python3"
  },
  "language_info": {
   "codemirror_mode": {
    "name": "ipython",
    "version": 3
   },
   "file_extension": ".py",
   "mimetype": "text/x-python",
   "name": "python",
   "nbconvert_exporter": "python",
   "pygments_lexer": "ipython3",
   "version": "3.11.4"
  }
 },
 "nbformat": 4,
 "nbformat_minor": 5
}
