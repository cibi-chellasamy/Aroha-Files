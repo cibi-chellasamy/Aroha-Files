{
 "cells": [
  {
   "cell_type": "code",
   "execution_count": null,
   "id": "a81a0c65",
   "metadata": {},
   "outputs": [],
   "source": [
    "emp = dict()\n",
    "emp['E1515'] = [\"Kiran\",\"Manager\",58900]\n",
    "emp.update({ 'E6152' : ['Asha Srinivas',\"Purchase Head\",175000] })\n",
    "for k,v in emp.items():\n",
    "   print(k,v[0],v[2])\n",
    "while True:\n",
    "  eid = input('enter th employ id or type Q to stop ')\n",
    "  if eid == 'Q':\n",
    "    break\n",
    "  if eid in emp:\n",
    "      print(eid,' already exists... Reenter NEW value ')\n",
    "      continue\n",
    "  \n",
    "  en = input('enter the name ')\n",
    "  dsg = input('enter the desig ')\n",
    "  sal = float(input('salary in INR '))\n",
    "  erecord = []\n",
    "  erecord.append(en)\n",
    "  erecord.append(dsg)\n",
    "  erecord.append(sal)\n",
    "  #emp[eid] = erecord\n",
    "  emp.update({ eid : erecord })\n",
    "print()\n",
    "for k,v in emp.items():\n",
    "   print(k,v[0],v[2])"
   ]
  },
  {
   "cell_type": "code",
   "execution_count": null,
   "id": "33d063ee",
   "metadata": {},
   "outputs": [],
   "source": []
  }
 ],
 "metadata": {
  "kernelspec": {
   "display_name": "Python 3 (ipykernel)",
   "language": "python",
   "name": "python3"
  },
  "language_info": {
   "codemirror_mode": {
    "name": "ipython",
    "version": 3
   },
   "file_extension": ".py",
   "mimetype": "text/x-python",
   "name": "python",
   "nbconvert_exporter": "python",
   "pygments_lexer": "ipython3",
   "version": "3.11.4"
  }
 },
 "nbformat": 4,
 "nbformat_minor": 5
}
