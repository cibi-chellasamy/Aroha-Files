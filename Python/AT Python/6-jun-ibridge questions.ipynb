{
 "cells": [
  {
   "cell_type": "code",
   "execution_count": 7,
   "id": "b9c78959-47ed-4ae7-b8f4-0622f74a3045",
   "metadata": {},
   "outputs": [
    {
     "name": "stdout",
     "output_type": "stream",
     "text": [
      "1\n",
      "2.3\n",
      "5\n"
     ]
    }
   ],
   "source": [
    "# Print integers in a list li = [1,'java',2.3,'5',5,'python']\n",
    "\n",
    "li = [1,'java',2.3,'5',5,'python']\n",
    "\n",
    "for i in li:\n",
    "    if  isinstance(i,int):\n",
    "        print(i)\n",
    "    elif isinstance(i,float):\n",
    "        print(i)"
   ]
  },
  {
   "cell_type": "code",
   "execution_count": 11,
   "id": "d542fd09-ff9b-4a0c-b912-295210efd876",
   "metadata": {},
   "outputs": [
    {
     "name": "stdout",
     "output_type": "stream",
     "text": [
      "0 1\n",
      "1 2\n",
      "2 3\n",
      "3 4\n",
      "4 5\n"
     ]
    }
   ],
   "source": [
    "my_list = [1,2,3,4,5]\n",
    "\n",
    "for i in range(len(my_list)):\n",
    "    print(i,my_list[i])"
   ]
  },
  {
   "cell_type": "code",
   "execution_count": 98,
   "id": "256f06c5-67f1-4ce8-b330-b67839abf639",
   "metadata": {},
   "outputs": [
    {
     "name": "stdout",
     "output_type": "stream",
     "text": [
      "axa\n",
      "amma\n",
      "1221\n"
     ]
    }
   ],
   "source": [
    "l = ['axa','amma','xyz','1221']\n",
    "\n",
    "for i in l:\n",
    "    if i[0] == i[-1]:\n",
    "        print(i)"
   ]
  },
  {
   "cell_type": "code",
   "execution_count": null,
   "id": "a4d14fac-8300-4a09-bd40-390331fd028a",
   "metadata": {},
   "outputs": [],
   "source": [
    "tu = (1, 2, 3, 2, 4, 3, 5)\n",
    "du = []\n",
    "\n"
   ]
  },
  {
   "cell_type": "code",
   "execution_count": 16,
   "id": "f87203ae-b8e8-41b3-b6ef-2c0440d924f8",
   "metadata": {},
   "outputs": [
    {
     "name": "stdout",
     "output_type": "stream",
     "text": [
      "6\n"
     ]
    }
   ],
   "source": [
    "s = 'hi how are you'\n",
    "count = 0\n",
    "for i in s:\n",
    "    if i in 'aeiouAEIOU':\n",
    "        count = count +1\n",
    "print(count)"
   ]
  },
  {
   "cell_type": "code",
   "execution_count": 21,
   "id": "4e7010ee-9237-49b4-adda-fa87b1edfd26",
   "metadata": {},
   "outputs": [
    {
     "name": "stdout",
     "output_type": "stream",
     "text": [
      "no\n"
     ]
    }
   ],
   "source": [
    "s = 'white'\n",
    "if s == s[::-1]:\n",
    "    print('yes')\n",
    "else:\n",
    "    print('no')"
   ]
  },
  {
   "cell_type": "code",
   "execution_count": 22,
   "id": "b1715b6d-3bc0-42bb-8e6e-1a21a0f9716c",
   "metadata": {},
   "outputs": [
    {
     "data": {
      "text/plain": [
       "'etihw'"
      ]
     },
     "execution_count": 22,
     "metadata": {},
     "output_type": "execute_result"
    }
   ],
   "source": [
    "s[::-1]"
   ]
  },
  {
   "cell_type": "code",
   "execution_count": 49,
   "id": "53a198fe-27a9-4d96-8b3e-36d978c8eba7",
   "metadata": {},
   "outputs": [
    {
     "name": "stdout",
     "output_type": "stream",
     "text": [
      "w\n",
      "i\n",
      "e\n"
     ]
    }
   ],
   "source": [
    "s = 'white'\n",
    "\n",
    "for i in s:\n",
    "    if s.index(i)%2== 0:\n",
    "        print(i)"
   ]
  },
  {
   "cell_type": "code",
   "execution_count": 65,
   "id": "0ff268d1-e0d4-45e2-8115-5e330b11b5ea",
   "metadata": {},
   "outputs": [
    {
     "name": "stdout",
     "output_type": "stream",
     "text": [
      "2 l\n",
      "1 h\n",
      "1 e\n",
      "1 o\n"
     ]
    }
   ],
   "source": [
    "s = 'hello'\n",
    "st = set(s)\n",
    "for i in st:\n",
    "    print(s.count(i),i)"
   ]
  },
  {
   "cell_type": "code",
   "execution_count": 93,
   "id": "977a8aac-5369-460f-a40f-1451def5ee6d",
   "metadata": {},
   "outputs": [
    {
     "name": "stdout",
     "output_type": "stream",
     "text": [
      "[1, 1, 2, 2, 1]\n"
     ]
    }
   ],
   "source": [
    "m = 'hello'\n",
    "s = map(lambda x: m.count(x),m)\n",
    "res = list(s)\n",
    "print(res)"
   ]
  },
  {
   "cell_type": "code",
   "execution_count": 99,
   "id": "34cb03c8-b279-4c35-bf8f-46fde1122162",
   "metadata": {},
   "outputs": [
    {
     "data": {
      "text/plain": [
       "10"
      ]
     },
     "execution_count": 99,
     "metadata": {},
     "output_type": "execute_result"
    }
   ],
   "source": [
    "summ = lambda x,y : x+5\n",
    "\n",
    "summ(5,6)"
   ]
  },
  {
   "cell_type": "code",
   "execution_count": 101,
   "id": "8431cdce-13c5-45f6-92ed-7775cef81be4",
   "metadata": {},
   "outputs": [
    {
     "name": "stdout",
     "output_type": "stream",
     "text": [
      "[1, 1, 2, 2, 1]\n"
     ]
    }
   ],
   "source": [
    "m = 'hello'\n",
    "\n",
    "cnt = list(map(lambda x:m.count(x),m))\n",
    "\n",
    "print(cnt)"
   ]
  },
  {
   "cell_type": "code",
   "execution_count": 109,
   "id": "df9c9b01-ff94-4712-bd49-2eda16121753",
   "metadata": {},
   "outputs": [
    {
     "name": "stdout",
     "output_type": "stream",
     "text": [
      "['ALFRED', 'TABITHA', 'WILLIAM', 'ARLA']\n"
     ]
    }
   ],
   "source": [
    "persons = ['alfred', 'tabitha', 'william', 'arla']\n",
    "\n",
    "z = list(map(str.upper,persons))\n",
    "\n",
    "print(z)"
   ]
  },
  {
   "cell_type": "code",
   "execution_count": 126,
   "id": "752446b4-8746-4995-a516-208d079a6c3a",
   "metadata": {},
   "outputs": [
    {
     "name": "stdout",
     "output_type": "stream",
     "text": [
      "[6.6, 9.58, 4.009, 56.2424, 9.01344, 32.00013]\n"
     ]
    }
   ],
   "source": [
    "circle_areas = [6.56773, 9.57668, 4.00914, 56.24241, 9.01344, 32.00013]\n",
    "\n",
    "z = list(map(round,circle_areas, range(1,7)))\n",
    "print(z)"
   ]
  },
  {
   "cell_type": "code",
   "execution_count": 128,
   "id": "94b4848a-f1bb-4788-9f23-8e71f4748a48",
   "metadata": {},
   "outputs": [
    {
     "name": "stdout",
     "output_type": "stream",
     "text": [
      "[('a', 1), ('b', 2), ('c', 3), ('d', 4), ('e', 5)]\n"
     ]
    }
   ],
   "source": [
    "my_chars = ['a', 'b', 'c', 'd', 'e']\n",
    "my_nums = [1,2,3,4,5]\n",
    "\n",
    "z = list(zip(my_chars,my_nums))\n",
    "print(z)"
   ]
  },
  {
   "cell_type": "code",
   "execution_count": 130,
   "id": "0110bd2d-a69d-4b8c-9440-92dbe6abbee8",
   "metadata": {},
   "outputs": [
    {
     "data": {
      "text/plain": [
       "[90, 88, 81, 92, 85]"
      ]
     },
     "execution_count": 130,
     "metadata": {},
     "output_type": "execute_result"
    }
   ],
   "source": [
    "# Filter\n",
    "scores = [66, 90, 68, 59, 76, 60, 88, 74, 81, 65, 92, 85]\n",
    "\n",
    "sco = list(filter(lambda x :x > 80,scores))\n",
    "sco"
   ]
  },
  {
   "cell_type": "code",
   "execution_count": 131,
   "id": "c24b662d-86cd-4f89-9227-8b12e3030df9",
   "metadata": {},
   "outputs": [
    {
     "data": {
      "text/plain": [
       "['madam', 'salas', 'PHP']"
      ]
     },
     "execution_count": 131,
     "metadata": {},
     "output_type": "execute_result"
    }
   ],
   "source": [
    "myStrings = (\"demigod\", \"rewire\", \"madam\", \"fortran\", \"python\", \"xamarin\", \"salas\", \"PHP\")\n",
    "\n",
    "rev = list(filter(lambda x :x == x[::-1],myStrings))\n",
    "rev"
   ]
  },
  {
   "cell_type": "code",
   "execution_count": 133,
   "id": "8c8e66d8-5dba-431f-a2e8-791978b19b6a",
   "metadata": {},
   "outputs": [
    {
     "data": {
      "text/plain": [
       "68"
      ]
     },
     "execution_count": 133,
     "metadata": {},
     "output_type": "execute_result"
    }
   ],
   "source": [
    "from functools import reduce\n",
    "myNumbers = [3, 4, 6, 9, 34, 12]\n",
    "\n",
    "res = reduce(lambda x,y:x+y,myNumbers)\n",
    "res"
   ]
  },
  {
   "cell_type": "code",
   "execution_count": null,
   "id": "8784d7dc-2ecf-498d-ab5b-23f3dbb8326b",
   "metadata": {},
   "outputs": [],
   "source": []
  },
  {
   "cell_type": "markdown",
   "id": "070fdd0f-d903-46a6-8e23-1d38f0b5c109",
   "metadata": {},
   "source": [
    "# Ibridge questions"
   ]
  },
  {
   "cell_type": "markdown",
   "id": "6f8a0a71-fc7d-408b-974f-e8e5ad589382",
   "metadata": {},
   "source": [
    "## Set"
   ]
  },
  {
   "cell_type": "code",
   "execution_count": 134,
   "id": "5e6092c7-7e7e-47ae-b7be-aca0b0ac3b80",
   "metadata": {},
   "outputs": [],
   "source": [
    "set_ = {\"python\", \"dad\", \"hai\", \"malayalam\", \"madam\", \"mom\"}"
   ]
  },
  {
   "cell_type": "code",
   "execution_count": 135,
   "id": "b288c0ca-d2f7-4c3b-9ac7-36b3af35facf",
   "metadata": {},
   "outputs": [],
   "source": [
    "set_.remove(\"hai\")"
   ]
  },
  {
   "cell_type": "code",
   "execution_count": 136,
   "id": "ee9f030d-ef3e-4be1-891e-932cac810c54",
   "metadata": {},
   "outputs": [
    {
     "data": {
      "text/plain": [
       "{'dad', 'madam', 'malayalam', 'mom', 'python'}"
      ]
     },
     "execution_count": 136,
     "metadata": {},
     "output_type": "execute_result"
    }
   ],
   "source": [
    "set_"
   ]
  },
  {
   "cell_type": "code",
   "execution_count": null,
   "id": "a26bf3b3-d1ad-4a1e-85a6-f3d0b6975966",
   "metadata": {},
   "outputs": [],
   "source": [
    "st1 = \"0101010101010\"\n",
    "st2 = '1200'"
   ]
  },
  {
   "cell_type": "code",
   "execution_count": 137,
   "id": "d5b750e2-b1ba-4efe-b61f-8e039028b036",
   "metadata": {},
   "outputs": [
    {
     "name": "stdout",
     "output_type": "stream",
     "text": [
      "st1 = \"0101010101010\" Yes\n",
      "st2 = '1200' No\n"
     ]
    }
   ],
   "source": [
    "def is_binary_string(s):\n",
    "    for char in s:\n",
    "        if char not in '01':\n",
    "            return \"No\"\n",
    "    return \"Yes\"\n",
    "st1 = \"0101010101010\"\n",
    "st2 = '1200'\n",
    "\n",
    "print(f\"st1 = \\\"{st1}\\\" {is_binary_string(st1)}\")\n",
    "print(f\"st2 = '{st2}' {is_binary_string(st2)}\")"
   ]
  },
  {
   "cell_type": "code",
   "execution_count": 138,
   "id": "d7f87209-bfae-4267-b76c-38d42ddc507d",
   "metadata": {},
   "outputs": [
    {
     "data": {
      "text/plain": [
       "{'dad', 'hai', 'madam', 'malayalam', 'mom', 'python'}"
      ]
     },
     "execution_count": 138,
     "metadata": {},
     "output_type": "execute_result"
    }
   ],
   "source": [
    "sset1 = {'Rama','Dinga','Seetha','Radha'}"
   ]
  },
  {
   "cell_type": "code",
   "execution_count": 139,
   "id": "628d7905-4da9-40ee-a64c-1df551e4dd8a",
   "metadata": {},
   "outputs": [
    {
     "name": "stdout",
     "output_type": "stream",
     "text": [
      "{'Radha', 'Dinga'}\n"
     ]
    }
   ],
   "source": [
    "set1 = {'Rama','Dinga','Seetha','Radha'}\n",
    "set2 = {'Rama','swapna','Seetha','swathi'}\n",
    "\n",
    "uniq = set1.difference(set2)\n",
    "print(uniq)"
   ]
  },
  {
   "cell_type": "code",
   "execution_count": 140,
   "id": "5486217e-a090-4197-826e-b2fd51c671f2",
   "metadata": {},
   "outputs": [],
   "source": [
    "num1 = [1, 5, 10, 20, 40, 80]\n",
    "num2 = [6, 7, 20, 80, 100]\n",
    "num3 = [3, 4, 15, 20, 30, 70, 80, 120]\n",
    "\n",
    "ns1 = set(num1)\n",
    "ns2 = set(num2)\n",
    "ns3 = set(num3)\n",
    "\n",
    "cm = ns1.intersection(ns2,ns3)\n",
    "print(cm)"
   ]
  },
  {
   "cell_type": "code",
   "execution_count": 143,
   "id": "4a29debc-0057-4418-b66d-818ebcced467",
   "metadata": {},
   "outputs": [
    {
     "data": {
      "text/plain": [
       "80"
      ]
     },
     "execution_count": 143,
     "metadata": {},
     "output_type": "execute_result"
    }
   ],
   "source": [
    "num1 = {1, 5, 10, 20, 40, 80}\n",
    "print('max ',max(num1))\n",
    "print('min ',min(num1))"
   ]
  },
  {
   "cell_type": "code",
   "execution_count": 142,
   "id": "1a06b423-b257-42dc-886c-92535786436b",
   "metadata": {},
   "outputs": [
    {
     "data": {
      "text/plain": [
       "{20, 80}"
      ]
     },
     "execution_count": 142,
     "metadata": {},
     "output_type": "execute_result"
    }
   ],
   "source": []
  },
  {
   "cell_type": "code",
   "execution_count": 145,
   "id": "e6695c5d-453d-41c7-9984-dd4eb0525d67",
   "metadata": {},
   "outputs": [
    {
     "name": "stdout",
     "output_type": "stream",
     "text": [
      "Rama\n",
      "Dinga\n",
      "Radha\n",
      "Seetha\n"
     ]
    }
   ],
   "source": [
    "set1 = {'Rama','Dinga','Seetha','Radha',1,3,4}\n",
    "\n",
    "\n",
    "for i in list(set1):\n",
    "    if isinstance(i,str):\n",
    "        print(i)"
   ]
  },
  {
   "cell_type": "code",
   "execution_count": 146,
   "id": "b4b51b31-3944-41c1-923a-c8249794a132",
   "metadata": {},
   "outputs": [
    {
     "name": "stdout",
     "output_type": "stream",
     "text": [
      "{'Rama', 'Seetha'}\n"
     ]
    }
   ],
   "source": [
    "set1 = {'Rama','Dinga','Seetha','Radha'}\n",
    "set2 = {'Rama','swapna','Seetha','swathi'} \n",
    "\n",
    "common = set1.intersection(set2)\n",
    "\n",
    "if len(common)>1:\n",
    "    print(common)"
   ]
  },
  {
   "cell_type": "code",
   "execution_count": 149,
   "id": "77a4d168-1e3a-4da0-b89b-9967a5685c3d",
   "metadata": {},
   "outputs": [
    {
     "name": "stdout",
     "output_type": "stream",
     "text": [
      "{8, 7}\n",
      "{1, 2, 3}\n",
      "{1, 2, 3}\n",
      "{8, 7}\n"
     ]
    }
   ],
   "source": [
    "#Output : Missing values in list1 = {8, 7}          \n",
    "#Additional values in list1 = {1, 2, 3} \n",
    "\n",
    "#Missing values in list2 = {1, 2, 3}          \n",
    "#Additional values in list2 = {7, 8} \n",
    "\n",
    "list1 = [1, 2, 3, 4, 5, 6]\n",
    "list2 = [4, 5, 6, 7, 8]\n",
    "\n",
    "s1 = set(list1)\n",
    "s2 = set(list2)\n",
    "\n",
    "\n",
    "missing_val_list1 = s2-s1\n",
    "print(missing_val_list1)\n",
    "\n",
    "add_val_in_list1 = s1-s2\n",
    "print(add_val_in_list1)\n",
    "\n",
    "missing_val_list2 = s1-s2\n",
    "print(missing_val_list2)\n",
    "\n",
    "add_val_in_list2 = s2-s1\n",
    "print(add_val_in_list2)\n",
    "\n"
   ]
  },
  {
   "cell_type": "code",
   "execution_count": 151,
   "id": "3de07c3c-4f2f-49b5-9908-fb38502866b7",
   "metadata": {},
   "outputs": [
    {
     "name": "stdout",
     "output_type": "stream",
     "text": [
      "no of vowels: 3\n"
     ]
    }
   ],
   "source": [
    "vowels = {'a', 'e', 'i', 'o', 'u'}\n",
    "st = \"hello, world!\"\n",
    "vowel_count = 0\n",
    "\n",
    "for i in st.lower():\n",
    "    if i in vowels:\n",
    "        vowel_count  = vowel_count+1\n",
    "print(\"no of vowels:\", vowel_count)"
   ]
  },
  {
   "cell_type": "markdown",
   "id": "e87ea2f9-724c-4c33-b86b-2a105f1e76a0",
   "metadata": {},
   "source": [
    "## Dict"
   ]
  },
  {
   "cell_type": "code",
   "execution_count": 154,
   "id": "09e52bb1-d20a-4196-b144-03fb6e918994",
   "metadata": {},
   "outputs": [
    {
     "name": "stdout",
     "output_type": "stream",
     "text": [
      "olleh\n",
      "dlrow\n",
      "121\n"
     ]
    }
   ],
   "source": [
    "#1)Reverse the values in the dictionary if the value is of type string\n",
    "\n",
    "d = {\"a\": \"hello\", \"b\": 100, \"c\": 10.2, \"d\": \"world\",\"e\":'121'}\n",
    "\n",
    "for i in d.values():\n",
    "    if isinstance(i,str):\n",
    "        print(i[::-1])"
   ]
  },
  {
   "cell_type": "code",
   "execution_count": 158,
   "id": "dd1a16b6-9587-48e3-9b71-ca0584ed930c",
   "metadata": {},
   "outputs": [
    {
     "name": "stdin",
     "output_type": "stream",
     "text": [
      "enter name cb\n",
      "enter the marks 76\n",
      "enter name pb\n",
      "enter the marks 87\n",
      "enter name vm\n",
      "enter the marks 76\n",
      "enter name an\n",
      "enter the marks 55\n",
      "enter name pbs\n",
      "enter the marks 78\n"
     ]
    },
    {
     "name": "stdout",
     "output_type": "stream",
     "text": [
      "Student Grades: {'cb': 'C', 'pb': 'B', 'vm': 'C', 'an': 'E', 'pbs': 'C'}\n"
     ]
    }
   ],
   "source": [
    "# 10)Input 5 students name and 5 students marks if they score 1. \n",
    "# score >= 90 : \"A\" 2. score >= 80 : \"B\" 3. score >= 70 : \"C\" 4. score >= 60 : \"D\" 4. score < 60 : \"E\"\n",
    "# EXAMPLE\n",
    "# NAME = 'joy'\n",
    "# MARKS = [85,55,78,66,75]\n",
    "# D = {'joy':'B'.............}\n",
    "# show it in dictionary\n",
    "\n",
    "stud_grade = {}\n",
    "for i in range(5):\n",
    "    name = input('enter name')\n",
    "    mark = int(input('enter the marks'))\n",
    "\n",
    "\n",
    "    if mark >= 90:\n",
    "        grade = 'A'\n",
    "    elif mark >= 80:\n",
    "        grade = 'B'\n",
    "    elif mark >= 70:\n",
    "        grade = 'C'\n",
    "    elif mark >= 60:\n",
    "        grade = 'D'\n",
    "    else :\n",
    "        grade = 'E'\n",
    "\n",
    "    stud_grade[name] = grade\n",
    "print(\"Student Grades:\", stud_grade)\n"
   ]
  },
  {
   "cell_type": "code",
   "execution_count": 166,
   "id": "34d13bfa-2dcc-46e1-be58-d1b8efc08daf",
   "metadata": {},
   "outputs": [
    {
     "name": "stdout",
     "output_type": "stream",
     "text": [
      "{'apple': 2, 'google': 2, 'gmail': 3, 'yahoo': 1}\n"
     ]
    }
   ],
   "source": [
    "#create a dictionary with duplicate items and its count pair \n",
    "names = [\"apple\", \"google\", \"gmail\", \"yahoo\", \"gmail\", \"apple\", \"gmail\", \"google\"]\n",
    "d = {}\n",
    "\n",
    "for i in names:\n",
    "    if i in d:\n",
    "        d[i] = d[i]+1\n",
    "    else:\n",
    "        d[i] = 1\n",
    "print(d)"
   ]
  },
  {
   "cell_type": "code",
   "execution_count": 167,
   "id": "39fec404-7a3a-469f-b692-f60e8157a8b4",
   "metadata": {},
   "outputs": [
    {
     "data": {
      "text/plain": [
       "{2: 'google', 3: 'gmail', 1: 'yahoo'}"
      ]
     },
     "execution_count": 167,
     "metadata": {},
     "output_type": "execute_result"
    }
   ],
   "source": [
    "a = {'apple': 2, 'google': 2, 'gmail': 3, 'yahoo': 1}\n",
    "\n",
    "b = {}\n",
    "\n",
    "for key,value in a.items():\n",
    "    b[value] = key\n",
    "b"
   ]
  },
  {
   "cell_type": "code",
   "execution_count": 176,
   "id": "7dac4c21-a7f1-4f11-a1a8-84d1cd6dd720",
   "metadata": {},
   "outputs": [
    {
     "data": {
      "text/plain": [
       "{1: 1, 2: 4, 3: 9, 4: 16, 5: 25, 6: 36, 7: 49, 8: 64, 9: 81, 10: 100}"
      ]
     },
     "execution_count": 176,
     "metadata": {},
     "output_type": "execute_result"
    }
   ],
   "source": [
    "# 4)Create a dictionary for the range 10 store n as key square of n as value{1:1,2:3,3:9----------------10:10}\n",
    "\n",
    "\n",
    "dt = {n: n**2 for n in range(1,11)}\n",
    "dt"
   ]
  },
  {
   "cell_type": "code",
   "execution_count": 188,
   "id": "2854a32d-3d1a-42eb-82e8-4c8b54fc7d7c",
   "metadata": {},
   "outputs": [
    {
     "name": "stdout",
     "output_type": "stream",
     "text": [
      "{'a': 'olleh', 'b': 110, 'c': 10.2, 'd': 'dlrow', 'e': '121'}\n"
     ]
    }
   ],
   "source": [
    "# 5)Reveres the values in dictionary if type of value is string, if integer add 10,if float keep as it is \n",
    "d = {\"a\": \"hello\", \"b\": 100, \"c\": 10.2, \"d\": \"world\",\"e\":'121'}\n",
    "dct = {}\n",
    "\n",
    "for key,value in d.items():\n",
    "    if isinstance(value,str):\n",
    "        dct[key] = value[::-1]\n",
    "    elif isinstance (value,int):\n",
    "        dct[key] = value+10\n",
    "    else:\n",
    "        dct[key] = value\n",
    "print(dct)"
   ]
  },
  {
   "cell_type": "code",
   "execution_count": 187,
   "id": "bd48b1b3-00aa-47cd-987d-15530131d3c8",
   "metadata": {},
   "outputs": [
    {
     "data": {
      "text/plain": [
       "{'a': 'hello', 'b': 100, 'c': 10.2, 'd': 'world', 'e': '121'}"
      ]
     },
     "execution_count": 187,
     "metadata": {},
     "output_type": "execute_result"
    }
   ],
   "source": [
    "# 6)create a dictionary with duplicate word with count pair                                                                                                         \n",
    "# string = \"python is a language python program is easy\"   \n",
    "# # o/p = {'python':2,\"is\":2}\n",
    "\n"
   ]
  },
  {
   "cell_type": "code",
   "execution_count": 189,
   "id": "d0ddd097-fcc3-424d-918c-4fe329d6c263",
   "metadata": {},
   "outputs": [
    {
     "name": "stdout",
     "output_type": "stream",
     "text": [
      "duplicate word counts: {'python': 2, 'is': 2}\n"
     ]
    }
   ],
   "source": [
    "string = \"python is a language python program is easy\"\n",
    "\n",
    "words = string.split()\n",
    "word_counts = {}\n",
    "for word in words:\n",
    "        word_counts[word] = word_counts.get(word, 0) + 1\n",
    "duplicates = {word: count for word, count in word_counts.items() if count > 1}\n",
    "print(\"duplicate word counts:\", duplicates)"
   ]
  },
  {
   "cell_type": "code",
   "execution_count": 192,
   "id": "2658bd27-4fbb-483a-81b3-af7066d9363c",
   "metadata": {},
   "outputs": [
    {
     "name": "stdout",
     "output_type": "stream",
     "text": [
      "{'a': 1, 'b': 2, 'c': 3, 'd': 4}\n"
     ]
    }
   ],
   "source": [
    "# Create a dictionary by using two lists                                                                                                                                       \n",
    "l1 = ['a','b','c','d']\n",
    "l2 = [1,2,3,4]\n",
    "\n",
    "z = dict(zip(l1,l2))\n",
    "print(z)"
   ]
  },
  {
   "cell_type": "code",
   "execution_count": 193,
   "id": "6474402f-46b3-49f5-9d25-28af7f0574e1",
   "metadata": {},
   "outputs": [
    {
     "name": "stdout",
     "output_type": "stream",
     "text": [
      "Unique values: ['S005', 'S009', 'S002', 'S007', 'S001']\n"
     ]
    }
   ],
   "source": [
    "# 8)Write a Python program to print all unique values in a dictionary.  \n",
    "li = [{\"V\":\"S001\"}, {\"V\": \"S002\"}, {\"VI\": \"S001\"}, {\"VI\": \"S005\"}, {\"VII\":\"S005\"}, {\"V\":\"S009\"},{\"VIII\":\"S007\"}]\n",
    "unique_values = set()\n",
    "for d in li:\n",
    "    for value in d.values():\n",
    "        unique_values.add(value)\n",
    "unique_values_list = list(unique_values)\n",
    "print(\"Unique values:\", unique_values_list)"
   ]
  },
  {
   "cell_type": "code",
   "execution_count": 199,
   "id": "4e44b0ac-7d5d-4fd0-a251-463f417ff791",
   "metadata": {},
   "outputs": [
    {
     "name": "stdout",
     "output_type": "stream",
     "text": [
      "600\n"
     ]
    }
   ],
   "source": [
    "#9)Find sum of all the values in a dictionary                                                                                                                                 \n",
    "Input = {'a': 100, 'b':200, 'c':300}\n",
    "\n",
    "total_sum = sum(Input.values())\n",
    "print(total_sum)"
   ]
  },
  {
   "cell_type": "code",
   "execution_count": null,
   "id": "fce17bd0-a108-4e0c-8c79-17d235f127ab",
   "metadata": {},
   "outputs": [],
   "source": []
  },
  {
   "cell_type": "code",
   "execution_count": null,
   "id": "10f2e7ba-3877-4db6-9b24-5ee1273d37c6",
   "metadata": {},
   "outputs": [],
   "source": []
  }
 ],
 "metadata": {
  "kernelspec": {
   "display_name": "Python 3 (ipykernel)",
   "language": "python",
   "name": "python3"
  },
  "language_info": {
   "codemirror_mode": {
    "name": "ipython",
    "version": 3
   },
   "file_extension": ".py",
   "mimetype": "text/x-python",
   "name": "python",
   "nbconvert_exporter": "python",
   "pygments_lexer": "ipython3",
   "version": "3.11.7"
  }
 },
 "nbformat": 4,
 "nbformat_minor": 5
}
