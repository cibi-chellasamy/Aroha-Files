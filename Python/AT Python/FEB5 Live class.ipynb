{
 "cells": [
  {
   "cell_type": "code",
   "execution_count": 1,
   "id": "3fd593bf",
   "metadata": {},
   "outputs": [],
   "source": [
    "set1 = { 23,4,(50,12,9),18,(5,2,-6,-19,27),-18,-50,(-3,15,-10),25 }"
   ]
  },
  {
   "cell_type": "code",
   "execution_count": null,
   "id": "75a6c7d0",
   "metadata": {},
   "outputs": [],
   "source": []
  },
  {
   "cell_type": "code",
   "execution_count": 3,
   "id": "03cd1150",
   "metadata": {
    "scrolled": true
   },
   "outputs": [
    {
     "data": {
      "text/plain": [
       "[4, (50, 12, 9), (-3, 15, -10), -50, -18, 18, 23, 25, (5, 2, -6, -19, 27)]"
      ]
     },
     "execution_count": 3,
     "metadata": {},
     "output_type": "execute_result"
    }
   ],
   "source": [
    "lst = list(set1)\n",
    "lst"
   ]
  },
  {
   "cell_type": "code",
   "execution_count": 16,
   "id": "1548951f",
   "metadata": {},
   "outputs": [],
   "source": [
    "lst = [23, 4, [50, 12, 9], 18, [5, 2, -6, -19, 27], -18, -50, [-3, 15, -10], 25]"
   ]
  },
  {
   "cell_type": "code",
   "execution_count": 23,
   "id": "a8519fb3",
   "metadata": {},
   "outputs": [],
   "source": [
    "new_lst=[]\n",
    "for i in lst:\n",
    "    if type(i) == list:\n",
    "        for j in i:\n",
    "            if j > 0:\n",
    "                new_lst.append(j)\n",
    "    elif i > 0:\n",
    "         new_lst.append(i)"
   ]
  },
  {
   "cell_type": "code",
   "execution_count": 24,
   "id": "907dcba6",
   "metadata": {},
   "outputs": [
    {
     "data": {
      "text/plain": [
       "[23, 4, 50, 12, 9, 18, 5, 2, 27, 15, 25]"
      ]
     },
     "execution_count": 24,
     "metadata": {},
     "output_type": "execute_result"
    }
   ],
   "source": [
    "new_lst"
   ]
  },
  {
   "cell_type": "code",
   "execution_count": null,
   "id": "723eb711",
   "metadata": {},
   "outputs": [],
   "source": []
  }
 ],
 "metadata": {
  "kernelspec": {
   "display_name": "Python 3 (ipykernel)",
   "language": "python",
   "name": "python3"
  },
  "language_info": {
   "codemirror_mode": {
    "name": "ipython",
    "version": 3
   },
   "file_extension": ".py",
   "mimetype": "text/x-python",
   "name": "python",
   "nbconvert_exporter": "python",
   "pygments_lexer": "ipython3",
   "version": "3.11.4"
  }
 },
 "nbformat": 4,
 "nbformat_minor": 5
}
