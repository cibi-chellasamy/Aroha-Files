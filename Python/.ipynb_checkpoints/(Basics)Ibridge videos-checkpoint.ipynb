{
 "cells": [
  {
   "cell_type": "markdown",
   "id": "80a11a31-958a-4eae-ae26-7c9f1b834977",
   "metadata": {},
   "source": [
    "## Ibridge videos\n",
    "## If-else"
   ]
  },
  {
   "cell_type": "code",
   "execution_count": 4,
   "id": "cf281eb7-5847-4864-97e4-d08adbe6e0b2",
   "metadata": {},
   "outputs": [
    {
     "name": "stdout",
     "output_type": "stream",
     "text": [
      "profit\n"
     ]
    }
   ],
   "source": [
    "cp = 90\n",
    "sp = 100\n",
    "\n",
    "if cp < sp:\n",
    "    print('profit')\n",
    "else:\n",
    "    print('loss')"
   ]
  },
  {
   "cell_type": "code",
   "execution_count": 5,
   "id": "b09f6bad-8ec9-467e-acac-949940ef82a9",
   "metadata": {},
   "outputs": [
    {
     "name": "stdout",
     "output_type": "stream",
     "text": [
      "loss\n"
     ]
    }
   ],
   "source": [
    "cp = 100\n",
    "sp = 100\n",
    "\n",
    "if cp < sp:\n",
    "    print('profit')\n",
    "else:\n",
    "    print('loss')"
   ]
  },
  {
   "cell_type": "code",
   "execution_count": 9,
   "id": "055fa4ee-b1be-494f-be9d-2ab9587dbed4",
   "metadata": {},
   "outputs": [
    {
     "name": "stdout",
     "output_type": "stream",
     "text": [
      "how_much 10\n"
     ]
    }
   ],
   "source": [
    "cp = 100\n",
    "sp = 110\n",
    "\n",
    "if sp > cp:\n",
    "    how_much = sp-cp\n",
    "    print('how_much',how_much)\n",
    "else:\n",
    "    how_much = cp - sp\n",
    "    print('loss',how_much)"
   ]
  },
  {
   "cell_type": "code",
   "execution_count": 10,
   "id": "7a1e9bcc-c566-4487-bb03-64a2c04f1d24",
   "metadata": {},
   "outputs": [
    {
     "name": "stdout",
     "output_type": "stream",
     "text": [
      "sec\n"
     ]
    }
   ],
   "source": [
    "stp = 58\n",
    "\n",
    "if stp >79:\n",
    "    print('dist')\n",
    "elif stp >59:\n",
    "    print('fis')\n",
    "elif stp > 49:\n",
    "    print('sec')\n",
    "elif stp > 39:\n",
    "    print('pass')\n",
    "else:\n",
    "    print('fail')"
   ]
  },
  {
   "cell_type": "markdown",
   "id": "2c51e2f3-f5ba-4820-9cfa-34a23c327443",
   "metadata": {},
   "source": [
    "## Nested if"
   ]
  },
  {
   "cell_type": "code",
   "execution_count": 23,
   "id": "7c025b24-a109-44d2-bae0-eeb1b649da0c",
   "metadata": {},
   "outputs": [
    {
     "name": "stdout",
     "output_type": "stream",
     "text": [
      "eligble\n"
     ]
    }
   ],
   "source": [
    "avg = 56\n",
    "pcm = 80\n",
    "rank = 2999\n",
    "\n",
    "if avg >= 50:\n",
    "    if pcm >=70 :\n",
    "        if rank < 3000:\n",
    "            print('eligble')\n",
    "        else:\n",
    "            print('rank eligble')\n",
    "    else:\n",
    "        print('pcm not enough')\n",
    "else:\n",
    "    print('avg not enough')"
   ]
  },
  {
   "cell_type": "markdown",
   "id": "094af2db-a9ec-4ace-9b54-b9047093906b",
   "metadata": {},
   "source": [
    "## While loop"
   ]
  },
  {
   "cell_type": "code",
   "execution_count": 2,
   "id": "e306eefd-b506-44d5-9bc4-06fd3f138b1b",
   "metadata": {},
   "outputs": [
    {
     "name": "stdin",
     "output_type": "stream",
     "text": [
      " 11\n",
      " 25\n"
     ]
    },
    {
     "name": "stdout",
     "output_type": "stream",
     "text": [
      "11\n",
      "12\n",
      "13\n",
      "14\n",
      "15\n",
      "16\n",
      "17\n",
      "18\n",
      "19\n",
      "20\n",
      "21\n",
      "22\n",
      "23\n",
      "24\n"
     ]
    }
   ],
   "source": [
    "n = int(input(''))\n",
    "m = int(input(''))\n",
    "while n < m:\n",
    "    print(n)\n",
    "    n = n+1"
   ]
  },
  {
   "cell_type": "code",
   "execution_count": 7,
   "id": "705243d4-fb8a-4f61-98e1-e640f0b37e0d",
   "metadata": {},
   "outputs": [
    {
     "name": "stdin",
     "output_type": "stream",
     "text": [
      " 10\n",
      " 23\n",
      " 44\n",
      " 54\n",
      " -1\n"
     ]
    },
    {
     "name": "stdout",
     "output_type": "stream",
     "text": [
      "out\n",
      "input count 4\n",
      "total 131\n",
      "avg 32.75\n"
     ]
    }
   ],
   "source": [
    "n = 1\n",
    "total = 0\n",
    "count = 0\n",
    "\n",
    "while n > 0:\n",
    "    n = int(input(''))\n",
    "    if n>= 0:\n",
    "        total = total + n\n",
    "        count = count + 1\n",
    "print('out')\n",
    "print('input count',count)\n",
    "print('total',total)\n",
    "print('avg',(total/count))"
   ]
  },
  {
   "cell_type": "code",
   "execution_count": 14,
   "id": "d6ac5798-c280-45b8-95de-e1f5a7d5dcfb",
   "metadata": {},
   "outputs": [
    {
     "name": "stdin",
     "output_type": "stream",
     "text": [
      " 12\n",
      " 33\n",
      " 44\n",
      " 55\n",
      " -1\n"
     ]
    },
    {
     "name": "stdout",
     "output_type": "stream",
     "text": [
      "exiting\n",
      "4\n",
      "144\n",
      "36.0\n"
     ]
    }
   ],
   "source": [
    "n = 1\n",
    "total = 0\n",
    "count = 0\n",
    "\n",
    "while True :\n",
    "    n = int(input())\n",
    "    if n < 0:\n",
    "        print('exiting')\n",
    "        break\n",
    "    if not(n > 9 and n < 100):\n",
    "        continue\n",
    "    total = total + n\n",
    "    count = count + 1\n",
    "\n",
    "print(count)\n",
    "\n",
    "print(total)\n",
    "print(total/count)"
   ]
  },
  {
   "cell_type": "markdown",
   "id": "a45085b8-bdad-44fc-a5f9-2c5dd06a4f6b",
   "metadata": {},
   "source": [
    "## For loop"
   ]
  },
  {
   "cell_type": "code",
   "execution_count": 21,
   "id": "8e1fcbd3-f706-4e35-a191-31584aee7d04",
   "metadata": {},
   "outputs": [
    {
     "name": "stdin",
     "output_type": "stream",
     "text": [
      " 15\n",
      " 40\n",
      " 2\n"
     ]
    },
    {
     "name": "stdout",
     "output_type": "stream",
     "text": [
      "15\n",
      "17\n",
      "19\n",
      "21\n",
      "23\n",
      "25\n",
      "27\n",
      "29\n",
      "31\n",
      "33\n",
      "35\n",
      "37\n",
      "39\n"
     ]
    }
   ],
   "source": [
    "n = int(input())\n",
    "m = int(input())\n",
    "stp = int(input())\n",
    "for i in range(n,m,stp):\n",
    "    print(i)"
   ]
  },
  {
   "cell_type": "code",
   "execution_count": 31,
   "id": "a1428f86-9cd6-4268-9435-2b8e8ca446b8",
   "metadata": {},
   "outputs": [
    {
     "name": "stdin",
     "output_type": "stream",
     "text": [
      " 10\n",
      " 10\n"
     ]
    },
    {
     "name": "stdout",
     "output_type": "stream",
     "text": [
      "10 x  1 = 10\n",
      "10 x  2 = 10\n",
      "10 x  3 = 10\n",
      "10 x  4 = 10\n",
      "10 x  5 = 10\n",
      "10 x  6 = 10\n",
      "10 x  7 = 10\n",
      "10 x  8 = 10\n",
      "10 x  9 = 10\n",
      "10 x  10 = 10\n"
     ]
    }
   ],
   "source": [
    "n = int(input())\n",
    "times = int(input())\n",
    "times = times+1\n",
    "for i in range(1,times,1):\n",
    "    result = (n*1)\n",
    "    print(n,'x ',i ,'=' ,result)"
   ]
  },
  {
   "cell_type": "code",
   "execution_count": 39,
   "id": "0356cbcf-ee48-487c-b0ce-841b52e2f473",
   "metadata": {},
   "outputs": [
    {
     "name": "stdin",
     "output_type": "stream",
     "text": [
      " aroha\n"
     ]
    },
    {
     "name": "stdout",
     "output_type": "stream",
     "text": [
      "a r o h a "
     ]
    }
   ],
   "source": [
    "name = input()\n",
    "\n",
    "for i in name:\n",
    "    print(i,end = \" \")"
   ]
  },
  {
   "cell_type": "code",
   "execution_count": 40,
   "id": "5863b6b6-d575-4cc4-a164-278b841d2462",
   "metadata": {},
   "outputs": [
    {
     "name": "stdout",
     "output_type": "stream",
     "text": [
      "count 3\n"
     ]
    }
   ],
   "source": [
    "vo_count = 0\n",
    "st = 'all the best'\n",
    "\n",
    "for i in st:\n",
    "    if i in 'aeiou':\n",
    "        vo_count = vo_count+1\n",
    "print('count',vo_count)"
   ]
  },
  {
   "cell_type": "markdown",
   "id": "6d03e7df-7d61-408c-8d3c-ab7d39bb3cdf",
   "metadata": {},
   "source": [
    "## String"
   ]
  },
  {
   "cell_type": "code",
   "execution_count": 41,
   "id": "93d2c95f-99a6-4a33-9277-4b5dcaea9b10",
   "metadata": {},
   "outputs": [
    {
     "data": {
      "text/plain": [
       "'12'"
      ]
     },
     "execution_count": 41,
     "metadata": {},
     "output_type": "execute_result"
    }
   ],
   "source": [
    "'1'+'2'"
   ]
  },
  {
   "cell_type": "code",
   "execution_count": 44,
   "id": "ad39281e-162a-43b6-bece-3a9a80bf3b06",
   "metadata": {},
   "outputs": [
    {
     "ename": "TypeError",
     "evalue": "'str' object does not support item assignment",
     "output_type": "error",
     "traceback": [
      "\u001b[1;31m---------------------------------------------------------------------------\u001b[0m",
      "\u001b[1;31mTypeError\u001b[0m                                 Traceback (most recent call last)",
      "Cell \u001b[1;32mIn[44], line 2\u001b[0m\n\u001b[0;32m      1\u001b[0m st \u001b[38;5;241m=\u001b[39m \u001b[38;5;124m'\u001b[39m\u001b[38;5;124mpython\u001b[39m\u001b[38;5;124m'\u001b[39m\n\u001b[1;32m----> 2\u001b[0m st[\u001b[38;5;241m0\u001b[39m] \u001b[38;5;241m=\u001b[39m \u001b[38;5;124m'\u001b[39m\u001b[38;5;124me\u001b[39m\u001b[38;5;124m'\u001b[39m\n",
      "\u001b[1;31mTypeError\u001b[0m: 'str' object does not support item assignment"
     ]
    }
   ],
   "source": [
    "# immutable data\n",
    "st = 'python'\n",
    "stst[0] = 'e'"
   ]
  },
  {
   "cell_type": "code",
   "execution_count": 48,
   "id": "136503a6-ede4-4789-a86c-d40ae63ba937",
   "metadata": {},
   "outputs": [
    {
     "name": "stdout",
     "output_type": "stream",
     "text": [
      "<class 'str'>\n",
      "<class 'str'>\n"
     ]
    }
   ],
   "source": [
    "st = str()\n",
    "s = ''\n",
    "print(type(st))\n",
    "print(type(s))"
   ]
  },
  {
   "cell_type": "code",
   "execution_count": 58,
   "id": "37e3297a-81d2-4a9e-ba6f-48d7f324002b",
   "metadata": {},
   "outputs": [
    {
     "name": "stdout",
     "output_type": "stream",
     "text": [
      "tython\n"
     ]
    }
   ],
   "source": [
    "st = 'python'\n",
    "st1 = \"\"\n",
    "for i in st:\n",
    "    if i == 'p':\n",
    "        st1 += 't'\n",
    "    else :\n",
    "        st1 += i\n",
    "print(st1)"
   ]
  },
  {
   "cell_type": "code",
   "execution_count": 65,
   "id": "12a830e7-a135-4fbb-b429-93f7996a9972",
   "metadata": {},
   "outputs": [
    {
     "data": {
      "text/plain": [
       "'g'"
      ]
     },
     "execution_count": 65,
     "metadata": {},
     "output_type": "execute_result"
    }
   ],
   "source": [
    "a = 'python prog'\n",
    "a[-1]"
   ]
  },
  {
   "cell_type": "code",
   "execution_count": 67,
   "id": "4ebacf60-5a0e-40c3-b0a3-a5543079eb22",
   "metadata": {},
   "outputs": [
    {
     "data": {
      "text/plain": [
       "'th'"
      ]
     },
     "execution_count": 67,
     "metadata": {},
     "output_type": "execute_result"
    }
   ],
   "source": [
    "a[2:4:1]"
   ]
  },
  {
   "cell_type": "code",
   "execution_count": 70,
   "id": "2e862744-6a4c-404f-8f53-b3656158262d",
   "metadata": {},
   "outputs": [
    {
     "data": {
      "text/plain": [
       "'pto rg'"
      ]
     },
     "execution_count": 70,
     "metadata": {},
     "output_type": "execute_result"
    }
   ],
   "source": [
    "a[::2]"
   ]
  },
  {
   "cell_type": "code",
   "execution_count": 71,
   "id": "f4fc3a27-23b8-4353-9741-56ac6d751c89",
   "metadata": {},
   "outputs": [
    {
     "name": "stdout",
     "output_type": "stream",
     "text": [
      "my anme josha and age is 34\n"
     ]
    }
   ],
   "source": [
    "name = 'josha'\n",
    "age = 34\n",
    "\n",
    "print('my anme %s and age is %d'%(name,age)) # place holder"
   ]
  },
  {
   "cell_type": "code",
   "execution_count": 75,
   "id": "49ad67a7-a600-44b3-96d1-c1055da2c5be",
   "metadata": {},
   "outputs": [
    {
     "name": "stdout",
     "output_type": "stream",
     "text": [
      "my anme josha and age is 34\n"
     ]
    }
   ],
   "source": [
    "print('my anme {0} and age is {1}'.format(name,age))"
   ]
  },
  {
   "cell_type": "code",
   "execution_count": 77,
   "id": "a4c53e8e-f99b-4fb6-9eb8-570e13c80f72",
   "metadata": {},
   "outputs": [
    {
     "name": "stdout",
     "output_type": "stream",
     "text": [
      "my anme ram and age is 25\n"
     ]
    }
   ],
   "source": [
    "print('my anme {name} and age is {age}'.format(name = 'ram' ,age = 25))"
   ]
  },
  {
   "cell_type": "code",
   "execution_count": 79,
   "id": "5cbffc73-a740-42bc-aebe-015fc4a2f951",
   "metadata": {},
   "outputs": [
    {
     "name": "stdout",
     "output_type": "stream",
     "text": [
      "my anme josha and age is 34\n"
     ]
    }
   ],
   "source": [
    "print(f'my anme {name} and age is {age}')"
   ]
  },
  {
   "cell_type": "code",
   "execution_count": 132,
   "id": "fef300f9-15f5-4f6b-8e58-57bc09d17e61",
   "metadata": {},
   "outputs": [
    {
     "data": {
      "text/plain": [
       "'Hello world'"
      ]
     },
     "execution_count": 132,
     "metadata": {},
     "output_type": "execute_result"
    }
   ],
   "source": [
    "s = 'helLo world'\n",
    "\n",
    "s.capitalize()"
   ]
  },
  {
   "cell_type": "code",
   "execution_count": 133,
   "id": "3785f84b-4b2a-4565-991a-6907f69125f8",
   "metadata": {},
   "outputs": [
    {
     "data": {
      "text/plain": [
       "'hello world'"
      ]
     },
     "execution_count": 133,
     "metadata": {},
     "output_type": "execute_result"
    }
   ],
   "source": [
    "s.lower()"
   ]
  },
  {
   "cell_type": "code",
   "execution_count": 134,
   "id": "4821c8ae-a368-4fae-9f1d-a29ee727072b",
   "metadata": {},
   "outputs": [
    {
     "data": {
      "text/plain": [
       "'HELLO WORLD'"
      ]
     },
     "execution_count": 134,
     "metadata": {},
     "output_type": "execute_result"
    }
   ],
   "source": [
    "s.upper()"
   ]
  },
  {
   "cell_type": "code",
   "execution_count": 135,
   "id": "5db48c60-bfb7-435b-b8c1-8433f7ca5478",
   "metadata": {},
   "outputs": [
    {
     "data": {
      "text/plain": [
       "'HELlO WORLD'"
      ]
     },
     "execution_count": 135,
     "metadata": {},
     "output_type": "execute_result"
    }
   ],
   "source": [
    "s.swapcase()"
   ]
  },
  {
   "cell_type": "code",
   "execution_count": 136,
   "id": "b230ffbf-6c30-4541-98d0-2a988465f27c",
   "metadata": {},
   "outputs": [
    {
     "data": {
      "text/plain": [
       "'Hello World'"
      ]
     },
     "execution_count": 136,
     "metadata": {},
     "output_type": "execute_result"
    }
   ],
   "source": [
    "s.title()"
   ]
  },
  {
   "cell_type": "code",
   "execution_count": 137,
   "id": "3d2c7bf3-2102-4e50-8388-96ff38584614",
   "metadata": {},
   "outputs": [
    {
     "data": {
      "text/plain": [
       "1"
      ]
     },
     "execution_count": 137,
     "metadata": {},
     "output_type": "execute_result"
    }
   ],
   "source": [
    "s.count('L')"
   ]
  },
  {
   "cell_type": "code",
   "execution_count": 138,
   "id": "3b21784e-8743-4574-9970-66cd4dd3bafb",
   "metadata": {},
   "outputs": [
    {
     "data": {
      "text/plain": [
       "9"
      ]
     },
     "execution_count": 138,
     "metadata": {},
     "output_type": "execute_result"
    }
   ],
   "source": [
    "s.find('l',5,11) # can alo add index"
   ]
  },
  {
   "cell_type": "code",
   "execution_count": 139,
   "id": "50cbee6f-510b-4494-a17e-6ea945e06593",
   "metadata": {},
   "outputs": [
    {
     "data": {
      "text/plain": [
       "2"
      ]
     },
     "execution_count": 139,
     "metadata": {},
     "output_type": "execute_result"
    }
   ],
   "source": [
    "s.find('l')"
   ]
  },
  {
   "cell_type": "code",
   "execution_count": 140,
   "id": "5c95d6e8-155d-4d6f-8aca-6d0215e179f3",
   "metadata": {},
   "outputs": [
    {
     "data": {
      "text/plain": [
       "9"
      ]
     },
     "execution_count": 140,
     "metadata": {},
     "output_type": "execute_result"
    }
   ],
   "source": [
    "s.rfind('l')"
   ]
  },
  {
   "cell_type": "code",
   "execution_count": 141,
   "id": "124cf474-e3c1-44d6-a6d2-ed864b2fdcad",
   "metadata": {},
   "outputs": [
    {
     "data": {
      "text/plain": [
       "2"
      ]
     },
     "execution_count": 141,
     "metadata": {},
     "output_type": "execute_result"
    }
   ],
   "source": [
    "s.index('l')"
   ]
  },
  {
   "cell_type": "code",
   "execution_count": 142,
   "id": "501e32d6-2d64-47b5-9da3-b0b9158ecb12",
   "metadata": {},
   "outputs": [
    {
     "data": {
      "text/plain": [
       "9"
      ]
     },
     "execution_count": 142,
     "metadata": {},
     "output_type": "execute_result"
    }
   ],
   "source": [
    "s.rindex('l')"
   ]
  },
  {
   "cell_type": "code",
   "execution_count": 143,
   "id": "d470dd44-b75d-49da-938b-333dee4cf86f",
   "metadata": {},
   "outputs": [
    {
     "data": {
      "text/plain": [
       "'helLo universe'"
      ]
     },
     "execution_count": 143,
     "metadata": {},
     "output_type": "execute_result"
    }
   ],
   "source": [
    "s.replace('world','universe')"
   ]
  },
  {
   "cell_type": "code",
   "execution_count": 144,
   "id": "b33a9096-fa47-4d8b-a02c-c04232684c42",
   "metadata": {},
   "outputs": [
    {
     "data": {
      "text/plain": [
       "'helLo universe'"
      ]
     },
     "execution_count": 144,
     "metadata": {},
     "output_type": "execute_result"
    }
   ],
   "source": [
    "s.replace('world','universe')"
   ]
  },
  {
   "cell_type": "code",
   "execution_count": 146,
   "id": "80eee4d7-bafb-4327-a8f4-524eced46bf9",
   "metadata": {},
   "outputs": [
    {
     "data": {
      "text/plain": [
       "'heLLo worLd'"
      ]
     },
     "execution_count": 146,
     "metadata": {},
     "output_type": "execute_result"
    }
   ],
   "source": [
    "s.replace('l','L')"
   ]
  },
  {
   "cell_type": "code",
   "execution_count": 147,
   "id": "949b86ee-2baf-4820-9086-d335ffd03efa",
   "metadata": {},
   "outputs": [
    {
     "data": {
      "text/plain": [
       "'heLLo world'"
      ]
     },
     "execution_count": 147,
     "metadata": {},
     "output_type": "execute_result"
    }
   ],
   "source": [
    "s.replace('l','L',1)"
   ]
  },
  {
   "cell_type": "code",
   "execution_count": 150,
   "id": "0ba31c06-c37d-4edb-9f8e-3a246994c1bb",
   "metadata": {},
   "outputs": [
    {
     "data": {
      "text/plain": [
       "True"
      ]
     },
     "execution_count": 150,
     "metadata": {},
     "output_type": "execute_result"
    }
   ],
   "source": [
    "s.startswith('he')"
   ]
  },
  {
   "cell_type": "code",
   "execution_count": 154,
   "id": "93b605a7-524e-4330-9f33-a83dcaafc86e",
   "metadata": {},
   "outputs": [
    {
     "data": {
      "text/plain": [
       "True"
      ]
     },
     "execution_count": 154,
     "metadata": {},
     "output_type": "execute_result"
    }
   ],
   "source": [
    "s.endswith('d')"
   ]
  },
  {
   "cell_type": "code",
   "execution_count": 157,
   "id": "1a514e3a-9a23-44c3-9d52-79688fd85a62",
   "metadata": {},
   "outputs": [
    {
     "data": {
      "text/plain": [
       "\"['py', 'pro', 'lang']\""
      ]
     },
     "execution_count": 157,
     "metadata": {},
     "output_type": "execute_result"
    }
   ],
   "source": [
    "li = ['py','pro','lang']\n",
    "str(li)"
   ]
  },
  {
   "cell_type": "code",
   "execution_count": 161,
   "id": "fbc3f890-8226-4b9a-add0-4916d72fc3d1",
   "metadata": {},
   "outputs": [],
   "source": [
    "st = ' ,'.join(li) # used to convert list to string"
   ]
  },
  {
   "cell_type": "code",
   "execution_count": 162,
   "id": "75de6d43-5abe-47c1-97f0-e44a638840f3",
   "metadata": {},
   "outputs": [
    {
     "data": {
      "text/plain": [
       "'py ,pro ,lang'"
      ]
     },
     "execution_count": 162,
     "metadata": {},
     "output_type": "execute_result"
    }
   ],
   "source": [
    "st"
   ]
  },
  {
   "cell_type": "code",
   "execution_count": 174,
   "id": "2c0d8106-5441-48f7-82be-d8b67015a5a3",
   "metadata": {},
   "outputs": [
    {
     "name": "stdout",
     "output_type": "stream",
     "text": [
      "p$y$,$p$r$o$g$,$l$a$n$g\n"
     ]
    }
   ],
   "source": [
    "s = 'py,prog,lang'\n",
    "print('$'.join(s))"
   ]
  },
  {
   "cell_type": "code",
   "execution_count": 177,
   "id": "1e96e270-06ba-4050-80de-628e58bc506a",
   "metadata": {},
   "outputs": [
    {
     "data": {
      "text/plain": [
       "['py,prog,lang']"
      ]
     },
     "execution_count": 177,
     "metadata": {},
     "output_type": "execute_result"
    }
   ],
   "source": [
    "x = s.split()  # used to convet str to list\n",
    "x"
   ]
  },
  {
   "cell_type": "code",
   "execution_count": 170,
   "id": "40766f80-6072-4216-9fde-c84c94d3c6a7",
   "metadata": {},
   "outputs": [
    {
     "data": {
      "text/plain": [
       "2"
      ]
     },
     "execution_count": 170,
     "metadata": {},
     "output_type": "execute_result"
    }
   ],
   "source": [
    "len(x)"
   ]
  },
  {
   "cell_type": "code",
   "execution_count": 179,
   "id": "34717e96-e41b-400f-aa09-167ec50b5647",
   "metadata": {},
   "outputs": [
    {
     "data": {
      "text/plain": [
       "['py,pr', 'g,lang']"
      ]
     },
     "execution_count": 179,
     "metadata": {},
     "output_type": "execute_result"
    }
   ],
   "source": [
    "s.split('o')"
   ]
  },
  {
   "cell_type": "code",
   "execution_count": 181,
   "id": "1c8ffa39-391a-4c7a-9447-7db6b16d5a3f",
   "metadata": {},
   "outputs": [],
   "source": [
    "z = '***hello==='"
   ]
  },
  {
   "cell_type": "code",
   "execution_count": 182,
   "id": "0d3fca71-b599-4e1d-80ce-65dd09f7c5e0",
   "metadata": {},
   "outputs": [
    {
     "data": {
      "text/plain": [
       "'hello'"
      ]
     },
     "execution_count": 182,
     "metadata": {},
     "output_type": "execute_result"
    }
   ],
   "source": [
    "z.strip('*=')"
   ]
  },
  {
   "cell_type": "code",
   "execution_count": 187,
   "id": "fe22f6ec-781d-49eb-8e62-af8a8cd4a306",
   "metadata": {},
   "outputs": [
    {
     "data": {
      "text/plain": [
       "'hello==='"
      ]
     },
     "execution_count": 187,
     "metadata": {},
     "output_type": "execute_result"
    }
   ],
   "source": [
    "z.lstrip('*')"
   ]
  },
  {
   "cell_type": "code",
   "execution_count": 191,
   "id": "a5397894-23cb-434c-9c8f-8fdb96ca10d2",
   "metadata": {},
   "outputs": [
    {
     "data": {
      "text/plain": [
       "False"
      ]
     },
     "execution_count": 191,
     "metadata": {},
     "output_type": "execute_result"
    }
   ],
   "source": [
    "z = '123a'\n",
    "z.isnumeric()"
   ]
  },
  {
   "cell_type": "code",
   "execution_count": 192,
   "id": "e440c1b2-2d20-4eda-95e5-42941d629120",
   "metadata": {},
   "outputs": [
    {
     "data": {
      "text/plain": [
       "False"
      ]
     },
     "execution_count": 192,
     "metadata": {},
     "output_type": "execute_result"
    }
   ],
   "source": [
    "z.isdigit()"
   ]
  },
  {
   "cell_type": "code",
   "execution_count": 193,
   "id": "b43766eb-d8aa-4b11-92cf-43cc8340e7ed",
   "metadata": {},
   "outputs": [
    {
     "data": {
      "text/plain": [
       "False"
      ]
     },
     "execution_count": 193,
     "metadata": {},
     "output_type": "execute_result"
    }
   ],
   "source": [
    "z.isalpha()"
   ]
  },
  {
   "cell_type": "code",
   "execution_count": 194,
   "id": "6aa04ea8-f4de-4a81-9d4a-ace3742c08c0",
   "metadata": {},
   "outputs": [
    {
     "data": {
      "text/plain": [
       "True"
      ]
     },
     "execution_count": 194,
     "metadata": {},
     "output_type": "execute_result"
    }
   ],
   "source": [
    "z.isalnum()"
   ]
  },
  {
   "cell_type": "code",
   "execution_count": 195,
   "id": "ae19734c-7b93-4d23-a18c-b0106e58d881",
   "metadata": {},
   "outputs": [
    {
     "name": "stdout",
     "output_type": "stream",
     "text": [
      "vo 1\n",
      "co 5\n",
      "ot 0\n"
     ]
    }
   ],
   "source": [
    "vowels = 0\n",
    "conso = 0\n",
    "st = 'python'\n",
    "other = 0\n",
    "for element in st:\n",
    "    if 'a'<=element<='z' or 'A'<='Z':\n",
    "        if element in 'aeiouAEIOU':\n",
    "            vowels = vowels+1\n",
    "        else:\n",
    "            conso = conso+1\n",
    "    else :\n",
    "        other = other+1\n",
    "print('vo',vowels)\n",
    "print('co',conso)\n",
    "print('ot',other)"
   ]
  },
  {
   "cell_type": "code",
   "execution_count": null,
   "id": "65d180d7-0d36-45f1-9d5b-8edef6677d1d",
   "metadata": {},
   "outputs": [],
   "source": []
  },
  {
   "cell_type": "markdown",
   "id": "85d98345-58c7-4867-90ba-9e35de13629f",
   "metadata": {},
   "source": [
    "# Solved Questions"
   ]
  },
  {
   "cell_type": "code",
   "execution_count": 197,
   "id": "0bedb3e2-ec4a-4faa-abb9-39a4fbdc6915",
   "metadata": {},
   "outputs": [
    {
     "data": {
      "text/plain": [
       "2"
      ]
     },
     "execution_count": 197,
     "metadata": {},
     "output_type": "execute_result"
    }
   ],
   "source": [
    "# count the no of words in sentence\n",
    "\n",
    "sent = 'hi everyone'\n",
    "words = sent.split()\n",
    "len(words)"
   ]
  },
  {
   "cell_type": "code",
   "execution_count": 204,
   "id": "bb818ca2-0533-4fba-a248-b37587f2b216",
   "metadata": {},
   "outputs": [
    {
     "name": "stdout",
     "output_type": "stream",
     "text": [
      "2 8 3 3 "
     ]
    }
   ],
   "source": [
    "# count the len of each word\n",
    "\n",
    "sent = 'hi everyone how are'\n",
    "words = sent.split()\n",
    "\n",
    "\n",
    "for word in words:\n",
    "    print(len(word),end = ' ')"
   ]
  },
  {
   "cell_type": "code",
   "execution_count": 210,
   "id": "6a49c15b-b207-49dd-bcee-b49e732bafd7",
   "metadata": {},
   "outputs": [
    {
     "name": "stdout",
     "output_type": "stream",
     "text": [
      "no of spaces 5\n"
     ]
    }
   ],
   "source": [
    "# count the number of spaces\n",
    "\n",
    "sent = 'hi everyone how are you fun'\n",
    "count = 0\n",
    "\n",
    "for ele in sent:\n",
    "    if ele == ' ':\n",
    "        count = count+1\n",
    "print('no of spaces',count)"
   ]
  },
  {
   "cell_type": "code",
   "execution_count": 211,
   "id": "eac191dd-6833-43f6-997d-d3cc34266546",
   "metadata": {},
   "outputs": [
    {
     "name": "stdout",
     "output_type": "stream",
     "text": [
      "hi 2\n",
      "everyone 8\n"
     ]
    }
   ],
   "source": [
    "# eve len string\n",
    "sent = 'hi everyone how are you fun'\n",
    "words = sent.split()\n",
    "\n",
    "for word in words:\n",
    "    if len(word)%2 == 0:\n",
    "        print(word,len(word))"
   ]
  },
  {
   "cell_type": "code",
   "execution_count": 215,
   "id": "67829452-f5f2-4500-9260-bc3e4368bbfc",
   "metadata": {},
   "outputs": [
    {
     "name": "stdout",
     "output_type": "stream",
     "text": [
      "vywlcmtupg\n"
     ]
    }
   ],
   "source": [
    "# remove duplicates in a string\n",
    "sent = 'hi everyone welcome to hi fun of prog'\n",
    "st = ''\n",
    "\n",
    "for ele in sent:\n",
    "    if sent.count(ele)>1:\n",
    "        pass\n",
    "    else:\n",
    "        st = st+ele\n",
    "print(st)"
   ]
  },
  {
   "cell_type": "code",
   "execution_count": 217,
   "id": "07c7360c-d1d4-4fdd-94be-972ea80a6585",
   "metadata": {},
   "outputs": [
    {
     "name": "stdout",
     "output_type": "stream",
     "text": [
      "4\n"
     ]
    }
   ],
   "source": [
    "# count no of digits inside string\n",
    "\n",
    "st = 'hello 98 # kk 78'\n",
    "count_digit = 0\n",
    "\n",
    "for ele in st:\n",
    "    if '0'<=ele<='9':\n",
    "        count_digit = count_digit+1\n",
    "print(count_digit)"
   ]
  },
  {
   "cell_type": "code",
   "execution_count": 219,
   "id": "bd631f29-9811-41f9-a08e-8a41d1cc6685",
   "metadata": {},
   "outputs": [
    {
     "name": "stdout",
     "output_type": "stream",
     "text": [
      "1\n",
      "2\n",
      "8\n",
      "5\n",
      "2\n",
      "0\n"
     ]
    }
   ],
   "source": [
    "# count caps and lower in str\n",
    "\n",
    "sent = 'Hello Wordl HOW'\n",
    "sm = 0\n",
    "cp = 0\n",
    "sp = 0\n",
    "nu = 0\n",
    "\n",
    "for ele in sent:\n",
    "    if 'a'<=ele<='z':\n",
    "        sm = sm+1\n",
    "    elif 'A'<=ele<='Z':\n",
    "        cp = cp+1\n",
    "    elif '0'<=ele<='9':\n",
    "        num = num+1\n",
    "    else:\n",
    "        sp = sp+1\n",
    "print(sm)\n",
    "print(cp)\n",
    "print(sp)\n",
    "print(nu)"
   ]
  },
  {
   "cell_type": "code",
   "execution_count": 234,
   "id": "9069328c-07c7-4e77-9d5d-5e190f12fe45",
   "metadata": {},
   "outputs": [
    {
     "name": "stdout",
     "output_type": "stream",
     "text": [
      " \n",
      "n\n",
      "o\n",
      "h\n",
      "t\n",
      "y\n",
      "p\n"
     ]
    }
   ],
   "source": [
    "# reverse a string\n",
    "\n",
    "st = 'python '\n",
    "\n",
    "for ele in range(-1,-(len(st)+1),-1):\n",
    "    print(st[ele])"
   ]
  },
  {
   "cell_type": "code",
   "execution_count": 237,
   "id": "c4fee43f-5292-4752-8efa-6629d3c0e0ea",
   "metadata": {},
   "outputs": [
    {
     "name": "stdout",
     "output_type": "stream",
     "text": [
      "palin\n"
     ]
    }
   ],
   "source": [
    "#palindrom or not\n",
    "\n",
    "st1 = 'malayalam'\n",
    "\n",
    "if st1 == st1[::-1]:\n",
    "    print('palin')\n",
    "else:\n",
    "    print('no')"
   ]
  },
  {
   "cell_type": "markdown",
   "id": "a3c7fc8c-62c5-4096-b798-afdb5f535721",
   "metadata": {},
   "source": [
    "## List"
   ]
  },
  {
   "cell_type": "code",
   "execution_count": 243,
   "id": "de44a4f7-b379-43f8-a8e0-b352441a446e",
   "metadata": {},
   "outputs": [
    {
     "data": {
      "text/plain": [
       "'hello'"
      ]
     },
     "execution_count": 243,
     "metadata": {},
     "output_type": "execute_result"
    }
   ],
   "source": [
    "l = [1,3,3,4,2,3,[1,'hello']]\n",
    "# indexing\n",
    "l[-1][1]"
   ]
  },
  {
   "cell_type": "code",
   "execution_count": 245,
   "id": "d0309074-30e9-4f9c-ba5b-1e9d56293d7b",
   "metadata": {},
   "outputs": [
    {
     "data": {
      "text/plain": [
       "'ello'"
      ]
     },
     "execution_count": 245,
     "metadata": {},
     "output_type": "execute_result"
    }
   ],
   "source": [
    "l[-1][1][1:] # slicing"
   ]
  },
  {
   "cell_type": "code",
   "execution_count": 251,
   "id": "78386543-c4e9-47c8-b4fe-15beb837d0de",
   "metadata": {},
   "outputs": [
    {
     "data": {
      "text/plain": [
       "[1, 2, 3, 4, [5, 6], 1]"
      ]
     },
     "execution_count": 251,
     "metadata": {},
     "output_type": "execute_result"
    }
   ],
   "source": [
    "l = [1,2,3,4]\n",
    "l.append([5,6]) # adds data in last to original list\n",
    "l\n",
    "\n",
    "l.append(1)\n",
    "l"
   ]
  },
  {
   "cell_type": "code",
   "execution_count": 253,
   "id": "fa9c9a88-f881-48c8-a28a-cc8a895ad7d1",
   "metadata": {},
   "outputs": [
    {
     "data": {
      "text/plain": [
       "[1, 2, 3, 4, [5, 6], 1, {1, 2}, {1, 2}]"
      ]
     },
     "execution_count": 253,
     "metadata": {},
     "output_type": "execute_result"
    }
   ],
   "source": [
    "l.append({1,2})\n",
    "l"
   ]
  },
  {
   "cell_type": "code",
   "execution_count": 256,
   "id": "7e509eb6-8e28-443a-9811-648a8e11e274",
   "metadata": {},
   "outputs": [
    {
     "data": {
      "text/plain": [
       "[1, 2, 3, 4, [5, 6], 1, {1, 2}, {1, 2}, 90, 90, 90, 2]"
      ]
     },
     "execution_count": 256,
     "metadata": {},
     "output_type": "execute_result"
    }
   ],
   "source": [
    "l.extend([90,2])\n",
    "l"
   ]
  },
  {
   "cell_type": "code",
   "execution_count": 259,
   "id": "2f705bd0-0be3-428c-82c1-666c9157d032",
   "metadata": {},
   "outputs": [
    {
     "data": {
      "text/plain": [
       "2"
      ]
     },
     "execution_count": 259,
     "metadata": {},
     "output_type": "execute_result"
    }
   ],
   "source": [
    "l.extend({1,2})\n"
   ]
  },
  {
   "cell_type": "code",
   "execution_count": 263,
   "id": "dac69c79-d2f4-4f62-a0ff-1ffefa8bb8be",
   "metadata": {},
   "outputs": [
    {
     "data": {
      "text/plain": [
       "[1, 2, 3, 'hi', 4]"
      ]
     },
     "execution_count": 263,
     "metadata": {},
     "output_type": "execute_result"
    }
   ],
   "source": [
    "l = [1,2,3,4,]\n",
    "\n",
    "l.insert(3,'hi')\n",
    "l"
   ]
  },
  {
   "cell_type": "code",
   "execution_count": 264,
   "id": "6b12739a-88d4-45dc-ad8a-e19365e962c0",
   "metadata": {},
   "outputs": [
    {
     "data": {
      "text/plain": [
       "4"
      ]
     },
     "execution_count": 264,
     "metadata": {},
     "output_type": "execute_result"
    }
   ],
   "source": [
    "l.pop(-1)"
   ]
  },
  {
   "cell_type": "code",
   "execution_count": 265,
   "id": "6a770759-efa9-49c1-b9af-166e29ee7c5b",
   "metadata": {},
   "outputs": [],
   "source": [
    "l.remove('hi')"
   ]
  },
  {
   "cell_type": "code",
   "execution_count": 266,
   "id": "fb11f34d-789a-4e12-960c-6664cffa77ba",
   "metadata": {},
   "outputs": [
    {
     "data": {
      "text/plain": [
       "[1, 2, 3]"
      ]
     },
     "execution_count": 266,
     "metadata": {},
     "output_type": "execute_result"
    }
   ],
   "source": [
    "l"
   ]
  },
  {
   "cell_type": "code",
   "execution_count": 272,
   "id": "471ee17d-f240-4ea2-a523-53f6bbcd5a69",
   "metadata": {},
   "outputs": [],
   "source": [
    "del l[1] #pos arguments"
   ]
  },
  {
   "cell_type": "code",
   "execution_count": 273,
   "id": "ada2937c-957f-45d2-8ea5-f25efebf68fc",
   "metadata": {},
   "outputs": [
    {
     "data": {
      "text/plain": [
       "[1]"
      ]
     },
     "execution_count": 273,
     "metadata": {},
     "output_type": "execute_result"
    }
   ],
   "source": [
    "l"
   ]
  },
  {
   "cell_type": "code",
   "execution_count": 284,
   "id": "cf191bd5-576d-4993-be66-80e1c654a6e1",
   "metadata": {},
   "outputs": [
    {
     "data": {
      "text/plain": [
       "['ab', 'bvsssd', 'cfe', 'zfsd']"
      ]
     },
     "execution_count": 284,
     "metadata": {},
     "output_type": "execute_result"
    }
   ],
   "source": [
    "l = ['ab','bvsssd','zfsd','cfe',]\n",
    "l.sort()\n",
    "l"
   ]
  },
  {
   "cell_type": "code",
   "execution_count": 280,
   "id": "f618e1c2-3483-4c31-b342-f8bcb7b92e70",
   "metadata": {},
   "outputs": [
    {
     "data": {
      "text/plain": [
       "['ab', 'bvd', 'cfe', 'zfd']"
      ]
     },
     "execution_count": 280,
     "metadata": {},
     "output_type": "execute_result"
    }
   ],
   "source": [
    "sorted(l)"
   ]
  },
  {
   "cell_type": "code",
   "execution_count": 286,
   "id": "0ee98bfb-b2f0-451f-99dc-7e24b2c7651d",
   "metadata": {},
   "outputs": [
    {
     "data": {
      "text/plain": [
       "['bvsssd', 'zfsd', 'cfe', 'ab']"
      ]
     },
     "execution_count": 286,
     "metadata": {},
     "output_type": "execute_result"
    }
   ],
   "source": [
    "l.sort(key=len,reverse=True)\n",
    "l"
   ]
  },
  {
   "cell_type": "code",
   "execution_count": 293,
   "id": "dbc35a3a-ee29-4767-931b-0a0b607abc30",
   "metadata": {},
   "outputs": [
    {
     "data": {
      "text/plain": [
       "1"
      ]
     },
     "execution_count": 293,
     "metadata": {},
     "output_type": "execute_result"
    }
   ],
   "source": [
    "l = ['amazon','flipkart','myntra','myntra']\n",
    "l.index('flipkart')"
   ]
  },
  {
   "cell_type": "code",
   "execution_count": 294,
   "id": "cb83cc32-0f2f-4920-9b8f-6f7f40b7bbb8",
   "metadata": {},
   "outputs": [
    {
     "data": {
      "text/plain": [
       "2"
      ]
     },
     "execution_count": 294,
     "metadata": {},
     "output_type": "execute_result"
    }
   ],
   "source": [
    "l.count('myntra')"
   ]
  },
  {
   "cell_type": "code",
   "execution_count": 295,
   "id": "7501f57c-7103-4116-8820-6469bc5bf564",
   "metadata": {},
   "outputs": [
    {
     "data": {
      "text/plain": [
       "[[1, 2, 3], [4, 5, 6], [7, 8, 9]]"
      ]
     },
     "execution_count": 295,
     "metadata": {},
     "output_type": "execute_result"
    }
   ],
   "source": [
    "l1 = [[1,2,3],[4,5,6],[7,8,9]]\n",
    "l2 = l1\n",
    "l2"
   ]
  },
  {
   "cell_type": "code",
   "execution_count": 296,
   "id": "42c3c31e-1db0-432a-bd0b-ef50149f7f36",
   "metadata": {},
   "outputs": [
    {
     "name": "stdout",
     "output_type": "stream",
     "text": [
      "[[1, 2, 3], [4, 5, 8], [7, 8, 9]]\n",
      "[[1, 2, 3], [4, 5, 8], [7, 8, 9]]\n"
     ]
    }
   ],
   "source": [
    "l1[1][2] = 8\n",
    "print(l1)\n",
    "print(l2)"
   ]
  },
  {
   "cell_type": "code",
   "execution_count": 297,
   "id": "42460250-3a12-49f0-a1f0-8ff2f27827ef",
   "metadata": {},
   "outputs": [
    {
     "name": "stdout",
     "output_type": "stream",
     "text": [
      "1965180456832\n",
      "1965180456832\n"
     ]
    }
   ],
   "source": [
    "print(id(l1))\n",
    "print(id(l2))"
   ]
  },
  {
   "cell_type": "code",
   "execution_count": 302,
   "id": "f3e1ca2a-6dfd-4fea-be8c-498a4d5d2fb4",
   "metadata": {},
   "outputs": [
    {
     "name": "stdout",
     "output_type": "stream",
     "text": [
      "[[1, 2, 3], [4, 5, 9], [7, 8, 9]]\n",
      "[[1, 2, 3], [4, 5, 9], [7, 8, 9]]\n"
     ]
    },
    {
     "data": {
      "text/plain": [
       "[[1, 2, 3], [4, 5, 9], [7, 8, 9]]"
      ]
     },
     "execution_count": 302,
     "metadata": {},
     "output_type": "execute_result"
    }
   ],
   "source": [
    "l1 = [[1,2,3],[4,5,6],[7,8,9]]\n",
    "l2 = l1.copy()\n",
    "l1[1][2] = 9\n",
    "print(l1)\n",
    "print(l2)\n",
    "l2"
   ]
  },
  {
   "cell_type": "code",
   "execution_count": 303,
   "id": "f8cef0f9-6ed0-45a6-9b7a-788291232f4c",
   "metadata": {},
   "outputs": [
    {
     "name": "stdout",
     "output_type": "stream",
     "text": [
      "1965179716864\n",
      "1965177150784\n"
     ]
    }
   ],
   "source": [
    "print(id(l1))\n",
    "print(id(l2))"
   ]
  },
  {
   "cell_type": "code",
   "execution_count": 304,
   "id": "d3bb1b5e-eab7-46f5-8588-7e8634b31615",
   "metadata": {},
   "outputs": [],
   "source": [
    "from copy import deepcopy"
   ]
  },
  {
   "cell_type": "code",
   "execution_count": 305,
   "id": "ffb3fcb2-b8ef-4452-a6da-42cfb62e3710",
   "metadata": {},
   "outputs": [],
   "source": [
    "l1 = [[1,2,3],[4,5,6],[7,8,9]]\n",
    "l2 = deepcopy(l1)\n"
   ]
  },
  {
   "cell_type": "code",
   "execution_count": 306,
   "id": "470c8660-5b42-4595-b10e-4448c053484c",
   "metadata": {},
   "outputs": [
    {
     "name": "stdout",
     "output_type": "stream",
     "text": [
      "[[1, 2, 3], [4, 5, 6], [7, 8, 9]]\n",
      "[[1, 2, 3], [4, 5, 6], [7, 8, 9]]\n"
     ]
    }
   ],
   "source": [
    "print(l1)\n",
    "print(l2)"
   ]
  },
  {
   "cell_type": "code",
   "execution_count": 307,
   "id": "3c15daa5-699f-4b04-b5be-32d031dabb0b",
   "metadata": {},
   "outputs": [
    {
     "name": "stdout",
     "output_type": "stream",
     "text": [
      "1965182896512\n",
      "1965181852800\n"
     ]
    }
   ],
   "source": [
    "print(id(l1))\n",
    "print(id(l2))"
   ]
  },
  {
   "cell_type": "code",
   "execution_count": 308,
   "id": "9abd82c8-be2a-49f5-a4f8-8da8dba745fc",
   "metadata": {},
   "outputs": [],
   "source": [
    "l1[1][2] = 10\n"
   ]
  },
  {
   "cell_type": "code",
   "execution_count": 309,
   "id": "539936d9-fd29-4235-b2e0-c1e1f95a96a8",
   "metadata": {},
   "outputs": [
    {
     "name": "stdout",
     "output_type": "stream",
     "text": [
      "[[1, 2, 3], [4, 5, 10], [7, 8, 9]]\n",
      "[[1, 2, 3], [4, 5, 6], [7, 8, 9]]\n"
     ]
    }
   ],
   "source": [
    "print(l1)\n",
    "print(l2)"
   ]
  },
  {
   "cell_type": "markdown",
   "id": "e7487c24-4d92-4ed5-b44c-30f79f79f69b",
   "metadata": {},
   "source": [
    "## Tuple"
   ]
  },
  {
   "cell_type": "code",
   "execution_count": 310,
   "id": "4ce273a9-0703-4508-808c-ccaf0a49cb21",
   "metadata": {},
   "outputs": [
    {
     "name": "stdout",
     "output_type": "stream",
     "text": [
      "(1,)\n"
     ]
    }
   ],
   "source": [
    "a = (1,)\n",
    "print(a)"
   ]
  },
  {
   "cell_type": "code",
   "execution_count": 311,
   "id": "e0fb17ca-5c65-49f6-b115-1ee80ba3016b",
   "metadata": {},
   "outputs": [
    {
     "data": {
      "text/plain": [
       "('h', 'e', 'l', 'l', 'o')"
      ]
     },
     "execution_count": 311,
     "metadata": {},
     "output_type": "execute_result"
    }
   ],
   "source": [
    "tu = ('hello')\n",
    "tu = tuple(tu)\n",
    "tu"
   ]
  },
  {
   "cell_type": "code",
   "execution_count": 312,
   "id": "7d2ca2ff-c61f-4f57-94fe-1a11ec32e653",
   "metadata": {},
   "outputs": [],
   "source": [
    "n = ('flip','zep','ama')"
   ]
  },
  {
   "cell_type": "code",
   "execution_count": 313,
   "id": "fa83fcc1-f1c0-4c48-87c4-29313b5c7fa2",
   "metadata": {},
   "outputs": [
    {
     "data": {
      "text/plain": [
       "1"
      ]
     },
     "execution_count": 313,
     "metadata": {},
     "output_type": "execute_result"
    }
   ],
   "source": [
    "n.count('flip')"
   ]
  },
  {
   "cell_type": "code",
   "execution_count": 314,
   "id": "4e88aac9-4622-4ee1-85db-201bb18db0c4",
   "metadata": {},
   "outputs": [
    {
     "data": {
      "text/plain": [
       "0"
      ]
     },
     "execution_count": 314,
     "metadata": {},
     "output_type": "execute_result"
    }
   ],
   "source": [
    "n.index('flip')"
   ]
  },
  {
   "cell_type": "code",
   "execution_count": 315,
   "id": "77b9c0a0-2269-45d4-8b1d-2bf7cab23313",
   "metadata": {},
   "outputs": [
    {
     "ename": "ValueError",
     "evalue": "tuple.index(x): x not in tuple",
     "output_type": "error",
     "traceback": [
      "\u001b[1;31m---------------------------------------------------------------------------\u001b[0m",
      "\u001b[1;31mValueError\u001b[0m                                Traceback (most recent call last)",
      "Cell \u001b[1;32mIn[315], line 1\u001b[0m\n\u001b[1;32m----> 1\u001b[0m n\u001b[38;5;241m.\u001b[39mindex(\u001b[38;5;124m'\u001b[39m\u001b[38;5;124mapple\u001b[39m\u001b[38;5;124m'\u001b[39m)\n",
      "\u001b[1;31mValueError\u001b[0m: tuple.index(x): x not in tuple"
     ]
    }
   ],
   "source": [
    "n.index('apple')"
   ]
  },
  {
   "cell_type": "markdown",
   "id": "ef34dcd9-1b7b-4d84-bbf9-be22b3f19dc1",
   "metadata": {},
   "source": [
    "# Set"
   ]
  },
  {
   "cell_type": "code",
   "execution_count": 321,
   "id": "25d19f78-ac94-4746-a220-1dce6df45691",
   "metadata": {},
   "outputs": [
    {
     "data": {
      "text/plain": [
       "{1, 2, 3, 4, 'java', 'py'}"
      ]
     },
     "execution_count": 321,
     "metadata": {},
     "output_type": "execute_result"
    }
   ],
   "source": [
    "s = {'java',1,2,3,'py',4}\n",
    "s"
   ]
  },
  {
   "cell_type": "code",
   "execution_count": 322,
   "id": "7794447f-3563-4619-a2e0-df03a370523f",
   "metadata": {},
   "outputs": [
    {
     "name": "stdout",
     "output_type": "stream",
     "text": [
      "1\n",
      "2\n",
      "3\n",
      "java\n",
      "4\n",
      "py\n"
     ]
    }
   ],
   "source": [
    "for ele in s:\n",
    "    print(ele)"
   ]
  },
  {
   "cell_type": "code",
   "execution_count": 329,
   "id": "7aff0368-9659-45b2-b8ef-c576f6ebce32",
   "metadata": {},
   "outputs": [
    {
     "ename": "TypeError",
     "evalue": "unhashable type: 'set'",
     "output_type": "error",
     "traceback": [
      "\u001b[1;31m---------------------------------------------------------------------------\u001b[0m",
      "\u001b[1;31mTypeError\u001b[0m                                 Traceback (most recent call last)",
      "Cell \u001b[1;32mIn[329], line 1\u001b[0m\n\u001b[1;32m----> 1\u001b[0m s \u001b[38;5;241m=\u001b[39m {\u001b[38;5;241m1\u001b[39m,\u001b[38;5;241m1.2\u001b[39m,\u001b[38;5;241m3\u001b[39m,\u001b[38;5;241m4\u001b[39m,\u001b[38;5;124m'\u001b[39m\u001b[38;5;124mpy\u001b[39m\u001b[38;5;124m'\u001b[39m,{\u001b[38;5;241m12\u001b[39m,\u001b[38;5;241m34\u001b[39m,\u001b[38;5;241m5\u001b[39m}}\n\u001b[0;32m      2\u001b[0m s\n",
      "\u001b[1;31mTypeError\u001b[0m: unhashable type: 'set'"
     ]
    }
   ],
   "source": [
    "s = {1,1.2,3,4,'py',{12,34,5}}\n",
    "s\n",
    "# elements inside set should be immutable\n"
   ]
  },
  {
   "cell_type": "code",
   "execution_count": 330,
   "id": "16414e11-5dbc-4951-b69a-88fea0f3bdea",
   "metadata": {},
   "outputs": [
    {
     "data": {
      "text/plain": [
       "{(12, 34, 5), 1, 1.2, 3, 4, 'py'}"
      ]
     },
     "execution_count": 330,
     "metadata": {},
     "output_type": "execute_result"
    }
   ],
   "source": [
    "s = {1,1.2,3,4,'py',(12,34,5)}\n",
    "s"
   ]
  },
  {
   "cell_type": "markdown",
   "id": "b722775f-9fac-4a4d-b0a5-17d56d4e8a5b",
   "metadata": {},
   "source": [
    "# Dict"
   ]
  },
  {
   "cell_type": "code",
   "execution_count": null,
   "id": "2f6adcdf-189a-4538-baec-d66917e7d583",
   "metadata": {},
   "outputs": [],
   "source": []
  }
 ],
 "metadata": {
  "kernelspec": {
   "display_name": "Python 3 (ipykernel)",
   "language": "python",
   "name": "python3"
  },
  "language_info": {
   "codemirror_mode": {
    "name": "ipython",
    "version": 3
   },
   "file_extension": ".py",
   "mimetype": "text/x-python",
   "name": "python",
   "nbconvert_exporter": "python",
   "pygments_lexer": "ipython3",
   "version": "3.11.7"
  }
 },
 "nbformat": 4,
 "nbformat_minor": 5
}
