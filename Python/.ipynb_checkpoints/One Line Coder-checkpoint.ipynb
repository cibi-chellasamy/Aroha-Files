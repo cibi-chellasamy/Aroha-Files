{
 "cells": [
  {
   "cell_type": "markdown",
   "id": "1f9fb314-4c08-4fae-81e1-3bb81a48f17e",
   "metadata": {},
   "source": [
    "# List Comprehension"
   ]
  },
  {
   "cell_type": "code",
   "execution_count": 1,
   "id": "d7db9283-5d0f-4647-9ffe-cf72bf8a7759",
   "metadata": {},
   "outputs": [
    {
     "name": "stdout",
     "output_type": "stream",
     "text": [
      "['java', 'selenium_', 3.2, 10, 'python']\n"
     ]
    }
   ],
   "source": [
    "#1)create list comprehension to print the value in reverse order\n",
    "li = ['python',10, 3.2, 'selenium_', 'java']\n",
    "\n",
    "l = [i for i in li[::-1] ]\n",
    "print(l)"
   ]
  },
  {
   "cell_type": "code",
   "execution_count": 2,
   "id": "85ce679f-d36b-491d-ab4e-7560961d2727",
   "metadata": {},
   "outputs": [
    {
     "name": "stdout",
     "output_type": "stream",
     "text": [
      "['python', 1.2, 100, 'selenium_', 'java', 'abc', 1, 12, 13, 14]\n"
     ]
    }
   ],
   "source": [
    "#2) print only single value data types in list\n",
    "li = ['python',1.2,100,'selenium_', 'java','abc',1,12,13,14,3+4j]\n",
    "\n",
    "l = [i for i in li if isinstance(i,(int,float,str))]\n",
    "print(l)"
   ]
  },
  {
   "cell_type": "code",
   "execution_count": 5,
   "id": "f82e6229-cc6f-43ae-920a-b4079484974b",
   "metadata": {},
   "outputs": [
    {
     "name": "stdout",
     "output_type": "stream",
     "text": [
      "['nohtyp', 'avaj', 'muiles', 'abc', 'abcde']\n"
     ]
    }
   ],
   "source": [
    "#3)print odd length as it is even length reverse it\n",
    "li = ['python', 'java', 'selium', 'abc', 'abcde']\n",
    "\n",
    "l = [i if len(i)%2 != 0 else i[::-1] for i in li]\n",
    "print(l)"
   ]
  },
  {
   "cell_type": "code",
   "execution_count": 13,
   "id": "cf02c611-826a-4637-b7b5-2f3e11a2f655",
   "metadata": {
    "scrolled": true
   },
   "outputs": [
    {
     "name": "stdout",
     "output_type": "stream",
     "text": [
      "[('python', 6), ('selenium_', 9), ('java', 4), ('abc', 3)]\n"
     ]
    }
   ],
   "source": [
    "#4)print word with length\n",
    "li = ['python','selenium_', 'java','abc']\n",
    "\n",
    "l = [(i,len(i)) for i in li]\n",
    "print(l)"
   ]
  },
  {
   "cell_type": "code",
   "execution_count": 2,
   "id": "7720efeb-eab5-457c-be64-fd60e44aa5b6",
   "metadata": {},
   "outputs": [
    {
     "name": "stdout",
     "output_type": "stream",
     "text": [
      "['python', '_muineles', 'java', 'cba']\n"
     ]
    }
   ],
   "source": [
    "#5)odd lengh print as it is even length reverse it\n",
    "li = ['python','selenium_', 'java','abc']\n",
    "\n",
    "l = [i if len(i) % 2 ==0 else i[::-1] for i in li]\n",
    "print(l)"
   ]
  },
  {
   "cell_type": "code",
   "execution_count": 5,
   "id": "2e6df76d-1154-48bd-9bb9-606ab00c9519",
   "metadata": {},
   "outputs": [
    {
     "name": "stdout",
     "output_type": "stream",
     "text": [
      "4\n",
      "13\n"
     ]
    }
   ],
   "source": [
    "# 6)Find vowel and consonant count in a string\n",
    "input_str = \"python programming\"\n",
    "\n",
    "\n",
    "vowels = \"aeiouAEIOU\"\n",
    "\n",
    "v = len([i for i in input_str if i in vowels])\n",
    "c = len([i for i in input_str if i.isalpha() and i not in vowels])\n",
    "\n",
    "print(v)\n",
    "print(c)"
   ]
  },
  {
   "cell_type": "code",
   "execution_count": 9,
   "id": "ce619d99-170d-4cb9-9091-37dcea34544d",
   "metadata": {},
   "outputs": [
    {
     "name": "stdout",
     "output_type": "stream",
     "text": [
      "python rgami\n"
     ]
    }
   ],
   "source": [
    "# 7)Remove duplicate in string and create new string\n",
    "input_str = \"python programming\"\n",
    "\n",
    "new = \"\"\n",
    "\n",
    "n = \"\".join([char for i, char in enumerate(input_str) if char not in input_str[:i]])\n",
    "print(n)"
   ]
  },
  {
   "cell_type": "code",
   "execution_count": 10,
   "id": "1eaf9529-1620-4a7f-968f-089ff7514ed5",
   "metadata": {},
   "outputs": [
    {
     "name": "stdout",
     "output_type": "stream",
     "text": [
      "['com', 'in', 'com']\n"
     ]
    }
   ],
   "source": [
    "#8)print only extension in list\n",
    "li = ['gmail.com','yahoo.in','google.com']\n",
    "\n",
    "n = [i.split('.')[-1] for i in li]\n",
    "print(n)"
   ]
  },
  {
   "cell_type": "code",
   "execution_count": 11,
   "id": "f5c3a6fe-b652-4c9e-9745-6673612dfa6c",
   "metadata": {},
   "outputs": [
    {
     "name": "stdout",
     "output_type": "stream",
     "text": [
      "['axa', 'amma', '1221']\n"
     ]
    }
   ],
   "source": [
    "#9)first and last character should be same\n",
    "li = ['axa','amma','xyz','1221']\n",
    "\n",
    "n = [i for i in li if i[0] == i[-1]]\n",
    "print(n)"
   ]
  },
  {
   "cell_type": "code",
   "execution_count": 13,
   "id": "31d01a11-be28-4a95-884f-59b52a828837",
   "metadata": {},
   "outputs": [
    {
     "name": "stdout",
     "output_type": "stream",
     "text": [
      "1 x 1 = 1\n",
      "1 x 2 = 2\n",
      "1 x 3 = 3\n",
      "1 x 4 = 4\n",
      "1 x 5 = 5\n",
      "1 x 6 = 6\n",
      "1 x 7 = 7\n",
      "1 x 8 = 8\n",
      "1 x 9 = 9\n",
      "1 x 10 = 10\n",
      "\n",
      "2 x 1 = 2\n",
      "2 x 2 = 4\n",
      "2 x 3 = 6\n",
      "2 x 4 = 8\n",
      "2 x 5 = 10\n",
      "2 x 6 = 12\n",
      "2 x 7 = 14\n",
      "2 x 8 = 16\n",
      "2 x 9 = 18\n",
      "2 x 10 = 20\n",
      "\n",
      "3 x 1 = 3\n",
      "3 x 2 = 6\n",
      "3 x 3 = 9\n",
      "3 x 4 = 12\n",
      "3 x 5 = 15\n",
      "3 x 6 = 18\n",
      "3 x 7 = 21\n",
      "3 x 8 = 24\n",
      "3 x 9 = 27\n",
      "3 x 10 = 30\n",
      "\n",
      "4 x 1 = 4\n",
      "4 x 2 = 8\n",
      "4 x 3 = 12\n",
      "4 x 4 = 16\n",
      "4 x 5 = 20\n",
      "4 x 6 = 24\n",
      "4 x 7 = 28\n",
      "4 x 8 = 32\n",
      "4 x 9 = 36\n",
      "4 x 10 = 40\n",
      "\n",
      "5 x 1 = 5\n",
      "5 x 2 = 10\n",
      "5 x 3 = 15\n",
      "5 x 4 = 20\n",
      "5 x 5 = 25\n",
      "5 x 6 = 30\n",
      "5 x 7 = 35\n",
      "5 x 8 = 40\n",
      "5 x 9 = 45\n",
      "5 x 10 = 50\n",
      "\n"
     ]
    }
   ],
   "source": [
    "# 10)Print multiplication table 2 to 5 \n",
    "\n",
    "t = [[f\"{i} x {j} = {i * j}\" for j in range(1,11)] for i in range(1,6)]\n",
    "for table in t:\n",
    "    for line in table:\n",
    "        print(line)\n",
    "    print()"
   ]
  },
  {
   "cell_type": "markdown",
   "id": "3c6214ab-37f0-4584-bf2e-dd74b051cb6b",
   "metadata": {},
   "source": [
    "# Set Comprehension"
   ]
  },
  {
   "cell_type": "code",
   "execution_count": 15,
   "id": "ffc36a61-4edd-473e-9b1a-d70c3b5376ef",
   "metadata": {},
   "outputs": [
    {
     "name": "stdout",
     "output_type": "stream",
     "text": [
      "{1, 2, 3, 4, 6, 7}\n"
     ]
    }
   ],
   "source": [
    "#1) create a set comprehension to show unique values\n",
    "li = [1,1,2,3,4,6,7,2,1,3]\n",
    "\n",
    "uv = {i for i in li}\n",
    "print(uv)"
   ]
  },
  {
   "cell_type": "code",
   "execution_count": 16,
   "id": "07b8b5b3-311d-4458-ba7e-e66c9d17d291",
   "metadata": {},
   "outputs": [
    {
     "name": "stdout",
     "output_type": "stream",
     "text": [
      "{('n', 110), ('o', 111), ('h', 104), ('p', 112), ('y', 121), ('t', 116)}\n"
     ]
    }
   ],
   "source": [
    "#2)create a set comprehension to show char and ascii value of that character in a tuple\n",
    "st = 'python'\n",
    "\n",
    "a = {(i,ord(i)) for i in st}\n",
    "\n",
    "print(a)"
   ]
  },
  {
   "cell_type": "code",
   "execution_count": 17,
   "id": "5769deae-058c-4890-8b3c-141d493955de",
   "metadata": {},
   "outputs": [
    {
     "name": "stdout",
     "output_type": "stream",
     "text": [
      "{45, 30, 15}\n"
     ]
    }
   ],
   "source": [
    "# 3)create a set comprehension to show how many numbers are completely divisible by 3,5 in the range of 1 to 50\n",
    "\n",
    "a = {i for i in range(1,51) if i%3==0 and i%5==0}\n",
    "print(a)"
   ]
  },
  {
   "cell_type": "code",
   "execution_count": 21,
   "id": "b02dc92e-ec54-4fa3-90fe-2d5d29fb8df0",
   "metadata": {},
   "outputs": [
    {
     "name": "stdout",
     "output_type": "stream",
     "text": [
      "{'others', 'False', 'True'}\n"
     ]
    }
   ],
   "source": [
    "#4) create set comprehension to replace 0 with \"False\" 1 with \"True\" other number as \"others\"\n",
    "\n",
    "li = [0,1,2,3,4,0,1]\n",
    "\n",
    "a = {\"False\" if x == 0 else \"True\" if x == 1 else \"others\" for x in li}\n",
    "print(a)"
   ]
  },
  {
   "cell_type": "code",
   "execution_count": 23,
   "id": "947ce1aa-7a7c-478e-ac69-904ba95d3816",
   "metadata": {},
   "outputs": [
    {
     "name": "stdout",
     "output_type": "stream",
     "text": [
      "{'avaj', 'abc', 'muineles', 'abcde', 'nohtyp'}\n"
     ]
    }
   ],
   "source": [
    "# 5)create set comprehension to show odd length string as it is even length string reverse it\n",
    "\n",
    "li = ['python', 'java', 'selenium', 'abc', 'abcde']\n",
    "\n",
    "l = {i if len(i) % 2 != 0 else i[::-1] for i in li }\n",
    "\n",
    "print(l)"
   ]
  },
  {
   "cell_type": "code",
   "execution_count": 24,
   "id": "2ee6a98a-2e28-45cc-b158-efd9737cbc42",
   "metadata": {},
   "outputs": [
    {
     "name": "stdout",
     "output_type": "stream",
     "text": [
      "{'e', 'a', 'i', 'o'}\n"
     ]
    }
   ],
   "source": [
    "#6)st = \"hai hello welcome to python\" create set comprehension show available vowels in a given string\n",
    "\n",
    "st = \"hai hello welcome to python\"\n",
    "\n",
    "vowels = \"aeiouAEIOU\"\n",
    "\n",
    "d = {i for i in st if i in vowels}\n",
    "\n",
    "print(d)"
   ]
  },
  {
   "cell_type": "markdown",
   "id": "570cba4b-5dbe-45c1-a2ba-16e3fe3e2e10",
   "metadata": {},
   "source": [
    "# Dictionary Comprehension"
   ]
  },
  {
   "cell_type": "code",
   "execution_count": 25,
   "id": "afed475d-5efe-4e8b-bc1e-550a38d46b2d",
   "metadata": {},
   "outputs": [
    {
     "name": "stdout",
     "output_type": "stream",
     "text": [
      "{'apple': 0, 'banana': 1, 'cherry': 2, 'date': 3}\n"
     ]
    }
   ],
   "source": [
    "# 1)WAP to create a dictionary with item and its index pair\n",
    "\n",
    "items = ['apple', 'banana', 'cherry', 'date']\n",
    "\n",
    "s = {items:index for index,items in enumerate(items)}\n",
    "print(s)"
   ]
  },
  {
   "cell_type": "code",
   "execution_count": 32,
   "id": "a3c9a598-314a-46c6-8ec9-b500ee187a88",
   "metadata": {},
   "outputs": [
    {
     "name": "stdout",
     "output_type": "stream",
     "text": [
      "{'apple': 5, 'banana': 6, 'cherry': 6, 'date': 4}\n"
     ]
    }
   ],
   "source": [
    "#2)WAP to create a dictionary with word and its length pair\n",
    "\n",
    "items = ['apple', 'banana', 'cherry', 'date']\n",
    "\n",
    "s = {items:len(items) for items in items}\n",
    "print(s)"
   ]
  },
  {
   "cell_type": "code",
   "execution_count": 36,
   "id": "d22871da-f193-478c-88de-26b55eace27d",
   "metadata": {},
   "outputs": [
    {
     "name": "stdout",
     "output_type": "stream",
     "text": [
      "{'h': 1, 'e': 1, 'l': 3, 'o': 2, ' ': 1, 'w': 1, 'r': 1, 'd': 1}\n"
     ]
    }
   ],
   "source": [
    "#3) create a dictionary of character and its count\n",
    "st = \"hello world\"\n",
    "\n",
    "n = {i:st.count(i) for i in st}\n",
    "\n",
    "print(n)"
   ]
  },
  {
   "cell_type": "code",
   "execution_count": 40,
   "id": "d6653730-3e42-4d9d-8ac3-dc5921714bc1",
   "metadata": {},
   "outputs": [
    {
     "name": "stdout",
     "output_type": "stream",
     "text": [
      "{'python': 6, 'is': 2, 'a': 1, 'language,': 9, 'programming': 11, 'easy': 4}\n"
     ]
    }
   ],
   "source": [
    "#4) create a dictionary of word and its count\n",
    "sentence = \"python is a language, python programming is easy\"\n",
    "sentence = sentence.split()\n",
    "s = {i:len(i) for i in sentence}\n",
    "print(s)"
   ]
  },
  {
   "cell_type": "code",
   "execution_count": 50,
   "id": "42bc3b65-5f85-48fa-9e39-e6e978065490",
   "metadata": {},
   "outputs": [
    {
     "name": "stdout",
     "output_type": "stream",
     "text": [
      "{0: 'python', 1: 'is', 2: 'a', 3: ',egaugnal', 4: 'python', 5: 'gnimmargorp', 6: 'is', 7: 'easy'}\n"
     ]
    }
   ],
   "source": [
    "#6)Dictionary with index and word pair if the word is of odd length reverse it, else keep it as is\n",
    "sentence = \"python is a language, python programming is easy\"\n",
    "l = list(sentence.split())\n",
    "\n",
    "a = {char:l[::-1] if len(l) % 2 != 0 else l for char,l in enumerate(l)}\n",
    "print(a)"
   ]
  },
  {
   "cell_type": "code",
   "execution_count": 5,
   "id": "96e4c59c-6134-4cc6-aac1-653933c390bf",
   "metadata": {},
   "outputs": [
    {
     "name": "stdout",
     "output_type": "stream",
     "text": [
      "{'is': 2, 'a': 1, 'easy': 4}\n"
     ]
    }
   ],
   "source": [
    "# 7)Word and length pair only if the word is starting with vowel\n",
    "\n",
    "vowels = \"aeiouAEIOU\"\n",
    "sentence = \"python is a language, python programming is easy\"\n",
    "words = list(sentence.split())\n",
    "\n",
    "a ={word:len(word) for word in words if word[0] in vowels}\n",
    "\n",
    "print(a)"
   ]
  },
  {
   "cell_type": "code",
   "execution_count": 6,
   "id": "6fbb4e7e-e0c1-4b67-8c6d-c1ce3c96c06d",
   "metadata": {},
   "outputs": [
    {
     "name": "stdout",
     "output_type": "stream",
     "text": [
      "{0: 'nohtyp', 1: 'si', 2: '9', 3: 'language,', 4: 'nohtyp', 5: 'gnimmargorp', 6: '8', 7: 'ysae'}\n"
     ]
    }
   ],
   "source": [
    "# 8)index and word pair if word is of type string reverse it \n",
    "sentence = \"python is 9 language, python programming 8 easy\"\n",
    "words = list(sentence.split())\n",
    "\n",
    "a = {index:word[::-1] if word.isalpha() else word for index,word in enumerate(words)}\n",
    "\n",
    "print(a)"
   ]
  },
  {
   "cell_type": "code",
   "execution_count": 9,
   "id": "97dfd245-9ec9-4f5b-860d-e713406248ae",
   "metadata": {},
   "outputs": [
    {
     "name": "stdout",
     "output_type": "stream",
     "text": [
      "{'nohtyp': 4, 'si': 1, '9': 2, 'language,': 3, 'gnimmargorp': 5, '8': 6, 'ysae': 7}\n"
     ]
    }
   ],
   "source": [
    "#9)Flip keys and values in a dictionary\n",
    "a = {0: 'nohtyp', 1: 'si', 2: '9', 3: 'language,', 4: 'nohtyp', 5: 'gnimmargorp', 6: '8', 7: 'ysae'}\n",
    "\n",
    "d = {values:key for key,values in a.items()}\n",
    "\n",
    "print(d)"
   ]
  },
  {
   "cell_type": "code",
   "execution_count": 10,
   "id": "d98080da-68f4-4d51-8989-986c4ac89dcb",
   "metadata": {},
   "outputs": [
    {
     "name": "stdout",
     "output_type": "stream",
     "text": [
      "{'e': 101, 'x': 120, 'a': 97, 'm': 109, 'p': 112, 'l': 108}\n"
     ]
    }
   ],
   "source": [
    "# 10)create a dict comprehension to show char and ascii value pair\n",
    "\n",
    "st = \"example\"\n",
    "\n",
    "x = {i:ord(i) for i in st}\n",
    "\n",
    "print(x)"
   ]
  },
  {
   "cell_type": "code",
   "execution_count": null,
   "id": "2f540506-0a6a-4787-9620-8ffa95558601",
   "metadata": {},
   "outputs": [],
   "source": []
  }
 ],
 "metadata": {
  "kernelspec": {
   "display_name": "Python 3 (ipykernel)",
   "language": "python",
   "name": "python3"
  },
  "language_info": {
   "codemirror_mode": {
    "name": "ipython",
    "version": 3
   },
   "file_extension": ".py",
   "mimetype": "text/x-python",
   "name": "python",
   "nbconvert_exporter": "python",
   "pygments_lexer": "ipython3",
   "version": "3.11.7"
  }
 },
 "nbformat": 4,
 "nbformat_minor": 5
}
