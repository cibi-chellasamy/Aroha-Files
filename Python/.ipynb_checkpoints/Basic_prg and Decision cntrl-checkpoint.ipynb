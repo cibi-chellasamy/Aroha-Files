{
 "cells": [
  {
   "cell_type": "markdown",
   "id": "381623d3-a90b-45e4-aef6-dd4e2ef4d467",
   "metadata": {},
   "source": [
    "Domain: Basic Programs\n",
    "\n",
    "Function: Operators\n",
    "\n",
    "Scenario: Programs on Operator"
   ]
  },
  {
   "cell_type": "code",
   "execution_count": 1,
   "id": "42512496-b87e-412f-aac4-d781b9ebc0c5",
   "metadata": {},
   "outputs": [
    {
     "name": "stdin",
     "output_type": "stream",
     "text": [
      "Enter the product price:  500\n",
      "Enter the quantity:  5\n",
      "Enter the GST percentage:  3\n"
     ]
    },
    {
     "name": "stdout",
     "output_type": "stream",
     "text": [
      "Total Amount including GST: 2575.0\n"
     ]
    }
   ],
   "source": [
    "def calculate_total_amount(product_price, quantity, gst_percentage):\n",
    "    total_price_without_gst = product_price * quantity\n",
    "    \n",
    "    gst_amount = total_price_without_gst * gst_percentage / 100\n",
    "    \n",
    "    total_amount = total_price_without_gst + gst_amount\n",
    "    \n",
    "    return total_amount\n",
    "\n",
    "product_price = float(input(\"Enter the product price: \"))\n",
    "quantity = int(input(\"Enter the quantity: \"))\n",
    "gst_percentage = float(input(\"Enter the GST percentage: \"))\n",
    "\n",
    "total_amount = calculate_total_amount(product_price, quantity, gst_percentage)\n",
    "\n",
    "print(\"Total Amount including GST:\", total_amount)"
   ]
  },
  {
   "cell_type": "code",
   "execution_count": 2,
   "id": "fa03bca2-4abe-42b3-8600-b8dccef73f12",
   "metadata": {},
   "outputs": [
    {
     "name": "stdin",
     "output_type": "stream",
     "text": [
      "Enter the marks 50\n",
      "Enter the marks 70\n",
      "Enter the marks 80\n",
      "Enter the marks 95\n",
      "Enter the marks 76\n",
      "Enter the marks 87\n"
     ]
    },
    {
     "name": "stdout",
     "output_type": "stream",
     "text": [
      " total marks is 458.0\n",
      "percentage is 76.33333333333333\n"
     ]
    }
   ],
   "source": [
    "#3)\tEnter  6 Subjects Marks find the total Marks, and Percentage\n",
    "\n",
    "\n",
    "marks = []\n",
    "\n",
    "for i in range(6):\n",
    "    mark = float(input('Enter the marks'))\n",
    "    marks.append(mark)\n",
    "\n",
    "total_mark = sum(marks)\n",
    "\n",
    "percentage = (total_mark/(6 * 100)) * 100\n",
    "\n",
    "print(f\" total marks is {total_mark}\")\n",
    "print(f\"percentage is {percentage}\")"
   ]
  },
  {
   "cell_type": "code",
   "execution_count": 8,
   "id": "8bce90a7-4dbb-4ca9-bd5d-9a792d181260",
   "metadata": {},
   "outputs": [
    {
     "name": "stdin",
     "output_type": "stream",
     "text": [
      "enter weight 82\n",
      "enter height 1.56\n"
     ]
    },
    {
     "name": "stdout",
     "output_type": "stream",
     "text": [
      "33.694937541091385\n"
     ]
    }
   ],
   "source": [
    "#4)\tBased on user entered Height and Weight calculate BMI \n",
    "\n",
    "weight = int(input('enter weight'))\n",
    "height = float(input('enter height'))\n",
    "\n",
    "bmi = weight/(height**2)\n",
    "print(bmi)"
   ]
  },
  {
   "cell_type": "code",
   "execution_count": 9,
   "id": "0600f3fa-aa8e-47cc-a666-5f3f491f144b",
   "metadata": {},
   "outputs": [
    {
     "name": "stdin",
     "output_type": "stream",
     "text": [
      "Enter the value :  5000\n",
      "Enter the final investmen 4000\n"
     ]
    },
    {
     "name": "stdout",
     "output_type": "stream",
     "text": [
      "Rate of intrest :  20.0\n"
     ]
    }
   ],
   "source": [
    "#5)\tEnter Intial_investment and final_value write program to calculate ROI\n",
    "\n",
    "initial_investment = float(input('Enter the value : '))\n",
    "final_investment = float(input('Enter the final investmen'))\n",
    "\n",
    "roi = ((initial_investment - final_investment)/initial_investment) *100\n",
    "\n",
    "print('Rate of intrest : ',roi)"
   ]
  },
  {
   "cell_type": "code",
   "execution_count": 11,
   "id": "6187b92f-8ba6-4382-825a-4484ae292d64",
   "metadata": {},
   "outputs": [
    {
     "name": "stdin",
     "output_type": "stream",
     "text": [
      "Enter celcius:  53\n"
     ]
    },
    {
     "name": "stdout",
     "output_type": "stream",
     "text": [
      "Farenheit:  61.44444444444444\n"
     ]
    }
   ],
   "source": [
    "#6)\tWrite a program convert celcius to Farenheit\n",
    "\n",
    "celcius = float(input('Enter celcius: '))\n",
    "\n",
    "farenheit = (celcius/(9/5)) +32\n",
    "\n",
    "print('Farenheit: ',farenheit)"
   ]
  },
  {
   "cell_type": "code",
   "execution_count": 12,
   "id": "89ffe8a6-8225-4200-91db-cbd152d5943c",
   "metadata": {},
   "outputs": [
    {
     "name": "stdin",
     "output_type": "stream",
     "text": [
      "Enter farenheit:  54\n"
     ]
    },
    {
     "name": "stdout",
     "output_type": "stream",
     "text": [
      "celcius:  39.6\n"
     ]
    }
   ],
   "source": [
    "\n",
    "\n",
    "farenheit = float(input('Enter farenheit: '))\n",
    "\n",
    "celcius = (farenheit - 32) * 9/5\n",
    "print('celcius: ',celcius)"
   ]
  },
  {
   "cell_type": "code",
   "execution_count": 13,
   "id": "204e76e4-2e9b-48e8-9271-72f54095703a",
   "metadata": {},
   "outputs": [
    {
     "name": "stdin",
     "output_type": "stream",
     "text": [
      "Enter length:  4\n",
      "Enter breath 5\n"
     ]
    },
    {
     "name": "stdout",
     "output_type": "stream",
     "text": [
      "area_of_rectangulae:  18\n"
     ]
    }
   ],
   "source": [
    "#8)\tWrite a program to find Area and Perimeter of rectangular\n",
    "\n",
    "length = int(input('Enter length: '))\n",
    "breath = int(input('Enter breath'))\n",
    "\n",
    "area_of_rectangule = 2*(length+breath)\n",
    "\n",
    "print('area_of_rectangulae: ',area_of_rectangule)"
   ]
  },
  {
   "cell_type": "code",
   "execution_count": 14,
   "id": "9787deff-7bfe-4ff4-a95c-2509df23eb41",
   "metadata": {},
   "outputs": [
    {
     "name": "stdin",
     "output_type": "stream",
     "text": [
      "Enter base salary :  15000\n"
     ]
    },
    {
     "name": "stdout",
     "output_type": "stream",
     "text": [
      "Total salary :  22500.0\n"
     ]
    }
   ],
   "source": [
    "#9)\tCalculate the total salary by considering commission amount extra 5%\n",
    "\n",
    "base_sal = float(input('Enter base salary : '))\n",
    "commision = base_sal * 0.5\n",
    "\n",
    "total_salary = base_sal + commision\n",
    "\n",
    "print('Total salary : ',total_salary)"
   ]
  },
  {
   "cell_type": "code",
   "execution_count": 18,
   "id": "301eb0f5-9083-448d-9825-ac7610220d03",
   "metadata": {},
   "outputs": [
    {
     "name": "stdin",
     "output_type": "stream",
     "text": [
      "Enter the bill amount :  4000\n"
     ]
    },
    {
     "name": "stdout",
     "output_type": "stream",
     "text": [
      "final bill amount after discount and GST: 4342.5\n"
     ]
    }
   ],
   "source": [
    "#Ask the user to assign the bill amount to a variable bill_Amountif the bill amount is above 1000 then give a 3.5% discount otherwise NIL discount. \n",
    "#Add 12.5% GST and display the final bill amount.NOTE:: discount is given before adding the GST.\n",
    "# Input the bill amount\n",
    "\n",
    "bill_amt = float(input('Enter the bill amount : '))\n",
    "\n",
    "if bill_amt >1000:\n",
    "    discount = bill_amt * 0.035\n",
    "else:\n",
    "    discount = 0\n",
    "\n",
    "amt_after_discount = bill_amt - discount\n",
    "\n",
    "gst = amt_after_discount * 0.125\n",
    "\n",
    "final_bill_amt = amt_after_discount + gst \n",
    "\n",
    "print(f\"final bill amount after discount and GST: {final_bill_amt}\")"
   ]
  },
  {
   "cell_type": "code",
   "execution_count": 19,
   "id": "95edbb41-2409-4fcf-b31f-2330502eff55",
   "metadata": {},
   "outputs": [
    {
     "name": "stdout",
     "output_type": "stream",
     "text": [
      "lesser 90\n"
     ]
    }
   ],
   "source": [
    "#Assign a number to a variable and display whether the number is less than 100 or not\n",
    "\n",
    "a = int(input('Enter a number : '))\n",
    "\n",
    "if a < 100 :\n",
    "    print('lesser' , a)\n",
    "else:\n",
    "    print('Greate than 100')"
   ]
  },
  {
   "cell_type": "code",
   "execution_count": null,
   "id": "288b5098-24b7-4897-83bf-2f2930326102",
   "metadata": {},
   "outputs": [],
   "source": []
  },
  {
   "cell_type": "markdown",
   "id": "10613ec1-4cce-406e-887f-3b0c6a8a4da6",
   "metadata": {},
   "source": [
    "Domain: Decision/ctrl statements\n",
    "\r\n",
    "Function: Conditional Statement\n",
    "\n",
    "s\r\n",
    "Scenario: If-elif programs"
   ]
  },
  {
   "cell_type": "code",
   "execution_count": 30,
   "id": "f646d451-1566-4d8e-8d92-701e42376b57",
   "metadata": {},
   "outputs": [
    {
     "name": "stdin",
     "output_type": "stream",
     "text": [
      "Enter a number :  0\n"
     ]
    },
    {
     "name": "stdout",
     "output_type": "stream",
     "text": [
      "Zero\n"
     ]
    }
   ],
   "source": [
    "#1)write a program to check given number is positive, negative or zero\n",
    "\n",
    "num = int(input('Enter a number : '))\n",
    "\n",
    "if num > 0:\n",
    "    print('Positive')\n",
    "elif num < 0 : \n",
    "    print('Negative')\n",
    "else :\n",
    "    print('Zero')\n",
    "    "
   ]
  },
  {
   "cell_type": "code",
   "execution_count": 32,
   "id": "e69a3b3e-efeb-4a39-8aa3-34899b21e209",
   "metadata": {},
   "outputs": [
    {
     "name": "stdin",
     "output_type": "stream",
     "text": [
      "Enter the mark 39\n"
     ]
    },
    {
     "name": "stdout",
     "output_type": "stream",
     "text": [
      "E\n"
     ]
    }
   ],
   "source": [
    "#2) write a program to calculate the grade based on a student's score\n",
    "\n",
    "mark = int(input('Enter the mark'))\n",
    "\n",
    "if mark > 90 :\n",
    "    print('A')\n",
    "elif mark > 75:\n",
    "    print('B')\n",
    "elif mark > 50 :\n",
    "    print('C')\n",
    "elif mark > 40 :\n",
    "    print('D')\n",
    "else :\n",
    "    print('E')"
   ]
  },
  {
   "cell_type": "code",
   "execution_count": 33,
   "id": "953718ed-ce3b-4ba8-ae76-26e38443f37b",
   "metadata": {},
   "outputs": [
    {
     "name": "stdin",
     "output_type": "stream",
     "text": [
      "Enter the number 3\n",
      "Enter the number 4\n",
      "Enter the number 5\n"
     ]
    },
    {
     "name": "stdout",
     "output_type": "stream",
     "text": [
      "5\n"
     ]
    }
   ],
   "source": [
    "# 3)find the greatest of 3 numbers\n",
    "\n",
    "a = int(input('Enter the number'))\n",
    "b = int(input('Enter the number'))\n",
    "c = int(input('Enter the number'))\n",
    "\n",
    "if a > b and a > c :\n",
    "    print(a)\n",
    "elif b > a and b> c:\n",
    "    print(b)\n",
    "elif c > a and c> b:\n",
    "    print(c)\n"
   ]
  },
  {
   "cell_type": "code",
   "execution_count": 41,
   "id": "1b8d6979-bec3-48a7-b6f1-3c57d9b10448",
   "metadata": {},
   "outputs": [
    {
     "name": "stdin",
     "output_type": "stream",
     "text": [
      "Enter the age 25\n"
     ]
    },
    {
     "name": "stdout",
     "output_type": "stream",
     "text": [
      "Adult\n"
     ]
    }
   ],
   "source": [
    "#4) A program that asks the user to enter their age and prints a message based on whether they are a child, teenager, adult, or senior citizen\n",
    "\n",
    "age = int(input('Enter the age'))\n",
    "\n",
    "if age < 14:\n",
    "    print('Child')\n",
    "elif age >= 14 and age <= 19:\n",
    "    print('Teenager')\n",
    "elif age > 19 and age < 60:\n",
    "    print('Adult')\n",
    "else:\n",
    "    print('Senior citizen')"
   ]
  },
  {
   "cell_type": "code",
   "execution_count": 46,
   "id": "d273c931-5c86-4d40-8116-408b5006bfc6",
   "metadata": {},
   "outputs": [
    {
     "name": "stdin",
     "output_type": "stream",
     "text": [
      "Enter the salary 6\n",
      "Enter the rating 6\n"
     ]
    },
    {
     "name": "stdout",
     "output_type": "stream",
     "text": [
      "Bonus + salary :  12\n"
     ]
    }
   ],
   "source": [
    "#5) write a program that calculates an employee's bonus based on their performance rating.\n",
    "\n",
    "salary = int(input('Enter the salary'))\n",
    "\n",
    "rating  = int(input('Enter the rating'))\n",
    "\n",
    "if rating <= 5 :\n",
    "    final_sal = salary * 1.25\n",
    "elif rating > 6 and rating < 8:\n",
    "    final_sal = salary * 1.5\n",
    "else:\n",
    "    final_sal = salary * 2\n",
    "print('Bonus + salary : ',final_sal)"
   ]
  },
  {
   "cell_type": "code",
   "execution_count": 49,
   "id": "dc4348db-3807-46e9-ba4d-c4137b51fe9f",
   "metadata": {},
   "outputs": [
    {
     "name": "stdin",
     "output_type": "stream",
     "text": [
      "enter weight 85\n",
      "enter height 160\n"
     ]
    },
    {
     "name": "stdout",
     "output_type": "stream",
     "text": [
      "Condition Underweight\n"
     ]
    }
   ],
   "source": [
    "#6) Calculate BMI based on BMI value display the conditions\n",
    "weight = int(input('enter weight'))\n",
    "height = float(input('enter height'))\n",
    "\n",
    "bmi = weight / (height ** 2)\n",
    "if bmi < 18.5:\n",
    "    condition = \"Underweight\"\n",
    "elif 18.5 <= bmi < 24.9:\n",
    "    condition = \"Normal weight\"\n",
    "elif 25 <= bmi < 29.9:\n",
    "    condition = \"Overweight\"\n",
    "else:\n",
    "    condition = \"Obesity\"\n",
    "print('Condition',condition)\n"
   ]
  },
  {
   "cell_type": "code",
   "execution_count": 52,
   "id": "f6cffb48-24bd-49a6-820a-6150541609a6",
   "metadata": {},
   "outputs": [
    {
     "name": "stdin",
     "output_type": "stream",
     "text": [
      "enter number 99\n"
     ]
    },
    {
     "name": "stdout",
     "output_type": "stream",
     "text": [
      "Double digit\n"
     ]
    }
   ],
   "source": [
    "# 7) Input any number find out is it single digit or double digit or triple digit number ex input is 22 print two digit number\n",
    "\n",
    "num = int(input('enter number'))\n",
    "\n",
    "if num <=9 :\n",
    "    print('Single digit')\n",
    "elif num <= 99:\n",
    "    print('Double digit')\n",
    "else :\n",
    "    print('Triple digit')"
   ]
  },
  {
   "cell_type": "code",
   "execution_count": 61,
   "id": "16c9c47d-7606-48e7-88a9-599549af2fde",
   "metadata": {},
   "outputs": [
    {
     "name": "stdin",
     "output_type": "stream",
     "text": [
      "Enter the sales made:  5000\n"
     ]
    },
    {
     "name": "stdout",
     "output_type": "stream",
     "text": [
      "Commission Amount: 0.0\n",
      "Total Salary after Commission: 8000.0\n"
     ]
    }
   ],
   "source": [
    "#8) Display total salary after commission. Basic_salary is 8000.If Sales_made  greater than 10000 give 5% commission on basic salary \n",
    "#if its greater that 5000 then give 3% commission else no commission \n",
    "\n",
    "basic_salary = 8000\n",
    "sales_made = float(input(\"Enter the sales made: \"))\n",
    "if sales_made > 10000:\n",
    "    commission_percentage = 5\n",
    "elif sales_made > 5000:\n",
    "    commission_percentage = 3\n",
    "else:\n",
    "    commission_percentage = 0\n",
    "commission_amount = basic_salary * (commission_percentage / 100)\n",
    "total_salary = basic_salary + commission_amount\n",
    "print(f\"Commission Amount: {commission_amount:}\")\n",
    "print(f\"Total Salary after Commission: {total_salary:}\")"
   ]
  },
  {
   "cell_type": "code",
   "execution_count": 63,
   "id": "bbf54a2e-6fa9-4cad-9d99-762232ecc9bb",
   "metadata": {},
   "outputs": [
    {
     "name": "stdin",
     "output_type": "stream",
     "text": [
      "Enter the balance 1\n"
     ]
    },
    {
     "name": "stdout",
     "output_type": "stream",
     "text": [
      "Postitive balance\n"
     ]
    }
   ],
   "source": [
    "# 9)write  program that asks the user for their account balance and prints a message based on whether they have a positive or negative balance.\n",
    "\n",
    "balance = float(input('Enter the balance'))\n",
    "\n",
    "if balance < 1:\n",
    "    print('Negtive balance')\n",
    "else :\n",
    "    print('Postitive balance')"
   ]
  },
  {
   "cell_type": "code",
   "execution_count": 69,
   "id": "54a45061-186c-4a14-a52d-b59f5f4a7dd5",
   "metadata": {},
   "outputs": [
    {
     "name": "stdin",
     "output_type": "stream",
     "text": [
      "Enter the fare 1000\n",
      "Enter the age :  66\n"
     ]
    },
    {
     "name": "stdout",
     "output_type": "stream",
     "text": [
      "Age: 66, Bus charge after 25% discount: 750.0\n"
     ]
    }
   ],
   "source": [
    "# 10)Display the Bus charges by considering the age of person…if person AGE > 65 give 25% discount on the price of ticket. Below 5 years no bus charge\n",
    "\n",
    "bus_fare = int(input('Enter the fare'))\n",
    "age = int(input(\"Enter the age : \"))\n",
    "\n",
    "if age > 65:\n",
    "    discount = bus_fare * 0.25\n",
    "    bus_charge = bus_fare - discount\n",
    "    print(f\"Age: {age}, Bus charge after 25% discount: {bus_charge:}\")\n",
    "elif age < 5:\n",
    "    bus_charge = 0\n",
    "    print(f\"Age: {age}, No bus charge for children under 5 years.\")\n",
    "else:\n",
    "    bus_charge = bus_fare\n",
    "    print(f\"Age: {age}, Regular bus charge: {bus_fare:.2f}\")"
   ]
  },
  {
   "cell_type": "markdown",
   "id": "092b5d63-bfd4-400b-90d7-b5ba58a21847",
   "metadata": {},
   "source": [
    "Domain: Decision/ctrl statements\n",
    "\n",
    "Function: Conditional Statements\n",
    "\n",
    "Scenario: Nested if else programs"
   ]
  },
  {
   "cell_type": "code",
   "execution_count": 71,
   "id": "48a1c660-bd47-4b14-ad48-4ed0a79d3889",
   "metadata": {},
   "outputs": [
    {
     "name": "stdin",
     "output_type": "stream",
     "text": [
      "Enter a year:  2005\n"
     ]
    },
    {
     "name": "stdout",
     "output_type": "stream",
     "text": [
      "2005 is not a leap year.\n"
     ]
    }
   ],
   "source": [
    "#1)Check the given year is leap year or not\n",
    "\n",
    "def is_leap_year(year):\n",
    "    if year % 4 == 0:\n",
    "        if year % 100 == 0:\n",
    "            if year % 400 == 0:\n",
    "                return True\n",
    "            else:\n",
    "                return False\n",
    "        else:\n",
    "            return True\n",
    "    else:\n",
    "        return False\n",
    "\n",
    "year = int(input(\"Enter a year: \"))\n",
    "if is_leap_year(year):\n",
    "    print(f\"{year} is a leap year.\")\n",
    "else:\n",
    "    print(f\"{year} is not a leap year.\")\n",
    "        "
   ]
  },
  {
   "cell_type": "code",
   "execution_count": 75,
   "id": "e7f666a9-19c6-4f06-93cf-2600083fa234",
   "metadata": {},
   "outputs": [
    {
     "name": "stdin",
     "output_type": "stream",
     "text": [
      "Enter the position (Manager/Engineer):  Engineer\n",
      "Enter years of experience:  2\n"
     ]
    },
    {
     "name": "stdout",
     "output_type": "stream",
     "text": [
      "The salary for a Engineer with 2 years of experience is 30000.\n"
     ]
    }
   ],
   "source": [
    "# #2)Write a program that calculates the salary of an employee based on their position and years of experience.\n",
    "# a) Manager yoe>5 then 50000 salary else 40000b)\n",
    "# Engineer yoe>4 then 40000 salary else 30000\n",
    "\n",
    "def calculate_salary(pos,yoe):\n",
    "    if pos == 'Manager':\n",
    "        if yoe >= 5:\n",
    "            salary = 50000\n",
    "        else:\n",
    "            salary = 40000\n",
    "    elif pos == 'Engineer':\n",
    "        if yoe > 4:\n",
    "            salary = 40000\n",
    "        else:\n",
    "            salary = 30000\n",
    "    else:\n",
    "        salary = 0\n",
    "    return salary\n",
    "\n",
    "pos = input(\"Enter the position (Manager/Engineer): \")\n",
    "yoe = int(input(\"Enter years of experience: \"))\n",
    "\n",
    "salary = calculate_salary(pos, yoe)\n",
    "print(f\"The salary for a {pos} with {yoe} years of experience is {salary}.\")"
   ]
  },
  {
   "cell_type": "code",
   "execution_count": 98,
   "id": "3230eeee-3e28-497c-bcea-e73a0a98c34b",
   "metadata": {},
   "outputs": [
    {
     "name": "stdin",
     "output_type": "stream",
     "text": [
      "Enter cust:  Regular\n",
      "Enter amount:  1020\n"
     ]
    },
    {
     "name": "stdout",
     "output_type": "stream",
     "text": [
      "Total purchase amount after discount: 867.0\n"
     ]
    }
   ],
   "source": [
    "# 3)write a program to give based regular customer and premium customer\n",
    "# a)regular customer if purchase amount is less than 1000rs no discount greater than 1000 means give 15% discount\n",
    "# b)Premium customer if purchase amount is less than 1000rs give 20% discount greater than 1000 means give 30% discount\n",
    "\n",
    "\n",
    "def cust_based_discount(customer,amount):\n",
    "    if customer == 'Premium':\n",
    "        if amount > 1000:\n",
    "            discount = amount * 0.30\n",
    "            total_purchase = amount - discount\n",
    "\n",
    "        else:\n",
    "            discount = amount * 0.2\n",
    "            total_purchase = amount - discount\n",
    "    elif customer == 'Regular':\n",
    "        if amount > 1000:\n",
    "            discount = amount * 0.15\n",
    "            total_purchase = amount - discount\n",
    "        else:\n",
    "            total_purchase = amount\n",
    "            \n",
    "    return total_purchase\n",
    "\n",
    "customer = input('Enter cust: ')\n",
    "amount = float(input('Enter amount: '))\n",
    "\n",
    "total_purchase = cust_based_discount(customer, amount)\n",
    "print(\"Total purchase amount after discount:\", total_purchase)"
   ]
  },
  {
   "cell_type": "code",
   "execution_count": 99,
   "id": "d286115b-5925-460c-9710-5d1f27aecc0a",
   "metadata": {},
   "outputs": [
    {
     "name": "stdin",
     "output_type": "stream",
     "text": [
      "Enter marks 70\n"
     ]
    },
    {
     "name": "stdout",
     "output_type": "stream",
     "text": [
      "Grade II - Very Good\n"
     ]
    }
   ],
   "source": [
    "# # #4)Enter a subject mark display his/her performance based on the marks\n",
    "# a) marks should be greater than 0 and less than 100\n",
    "# b)marks less than 50 then faild)\n",
    "# # marks >= 50 then grade i )50-60 \"good\" ii)60-80 \"very good\" iii) 80 above \"excellent\"\n",
    "\n",
    "\n",
    "def perfomance_cal(marks):\n",
    "    if marks < 0 and marks > 100:\n",
    "        print('invalid marks')\n",
    "    elif marks < 50:\n",
    "        print(\"Failed\")\n",
    "    elif marks >= 50 and marks < 60:\n",
    "        print(\"Grade I - Good\")\n",
    "    elif marks >= 60 and marks < 80:\n",
    "        print(\"Grade II - Very Good\")\n",
    "    else:\n",
    "        print(\"Grade III - Excellent\")\n",
    "\n",
    "marks = int(input('Enter marks'))\n",
    "perfomance_cal(marks)\n"
   ]
  },
  {
   "cell_type": "code",
   "execution_count": 109,
   "id": "d702b649-6bd6-4219-9539-093528cbc690",
   "metadata": {},
   "outputs": [
    {
     "name": "stdin",
     "output_type": "stream",
     "text": [
      "Enter the product name:  Widget\n",
      "Enter the quantity:  2000\n"
     ]
    },
    {
     "name": "stdout",
     "output_type": "stream",
     "text": [
      "total price for 2000 units of Widget: 4000.0\n"
     ]
    }
   ],
   "source": [
    "# 5)we have a product called \"Widget\" and a price per unit of $10. \n",
    "# We want to calculate the total price with any applicable discounts based on the quantity.\n",
    "# First checks if the product is a \"Widget\". If it is, then quantity to determine the appropriate discount. \n",
    "# If the quantity is greater than 1000, we apply a discount of 20%. \n",
    "# If the quantity is greater than 500 but less than or equal to 1000, we apply a discount of 10%. \n",
    "# Otherwise, if the quantity is less than or equal to 500, we apply no discount.\n",
    "\n",
    "\n",
    "def calculate_total_price(product, qty):\n",
    "    if product == 'Widget':\n",
    "        price_per_unit = 10\n",
    "        total_price = price_per_unit * qty\n",
    "\n",
    "        if qty > 1000 :\n",
    "            discount = 0.20\n",
    "        elif qty > 500 :\n",
    "            discount = 0.10\n",
    "        else:\n",
    "            discount = 0\n",
    "\n",
    "        total_price = total_price * discount\n",
    "        return total_price\n",
    "    else:\n",
    "        return 'Wrong product'\n",
    "        \n",
    "product = input(\"Enter the product name: \")\n",
    "qty = int(input(\"Enter the quantity: \"))\n",
    "\n",
    "\n",
    "total_price = calculate_total_price(product, qty)\n",
    "print(f\"total price for {qty} units of {product}: {total_price:}\")\n",
    "        "
   ]
  },
  {
   "cell_type": "code",
   "execution_count": null,
   "id": "409f66ed-4b53-4882-beb3-c296c81f9333",
   "metadata": {},
   "outputs": [],
   "source": []
  },
  {
   "cell_type": "markdown",
   "id": "f015b7d9-aa0d-4536-9d00-c86319fc9647",
   "metadata": {},
   "source": [
    "Domain: Decision/ctrl statements\n",
    "\n",
    "Function: Loop Control Statements\n",
    "\n",
    "Scenario: For loop Programs"
   ]
  },
  {
   "cell_type": "code",
   "execution_count": 114,
   "id": "d31e7e24-68ea-4a83-8869-e274563fa5ac",
   "metadata": {},
   "outputs": [
    {
     "name": "stdout",
     "output_type": "stream",
     "text": [
      "sum of the numbers: 4900\n",
      "average of the numbers: 122.5\n"
     ]
    }
   ],
   "source": [
    "#1) use the for loop   use this range(25,500,5)   use break when the value is 225   till then sum all the numbers generated, find the avg also\n",
    "\n",
    "total_sum = 0\n",
    "count = 0\n",
    "\n",
    "for i in range(25,500,5):\n",
    "    if i == 225:\n",
    "        break\n",
    "    total_sum = total_sum + i\n",
    "    count = count +1\n",
    "\n",
    "if count > 0:\n",
    "    avg = total_sum/count\n",
    "else:\n",
    "    avg = 0\n",
    "\n",
    "print(f\"sum of the numbers: {total_sum}\")\n",
    "print(f\"average of the numbers: {avg}\")"
   ]
  },
  {
   "cell_type": "code",
   "execution_count": 116,
   "id": "e05ee873-6c81-4ff8-9cb6-50f9a4b4832c",
   "metadata": {},
   "outputs": [
    {
     "data": {
      "text/plain": [
       "[1, 4, 9, 16]"
      ]
     },
     "execution_count": 116,
     "metadata": {},
     "output_type": "execute_result"
    }
   ],
   "source": [
    "#2)Calculate the square of each number of list ex = [1,2,3,4] \n",
    "\n",
    "ex = [1,2,3,4] \n",
    "x = []\n",
    "\n",
    "for i in ex:\n",
    "    x.append(i**2)\n",
    "x"
   ]
  },
  {
   "cell_type": "code",
   "execution_count": 118,
   "id": "cb5dae7c-d4fc-4bd9-8eed-5a4ce7ac821b",
   "metadata": {},
   "outputs": [
    {
     "name": "stdout",
     "output_type": "stream",
     "text": [
      "sum: 300\n",
      "average: 60.0\n"
     ]
    }
   ],
   "source": [
    "#3)calculate li = [25,67,88,45,75] sum and avg \n",
    "# Define the list\n",
    "li = [25, 67, 88, 45, 75]\n",
    "\n",
    "total_sum = 0\n",
    "count = 0\n",
    "\n",
    "for value in li:\n",
    "    total_sum += value\n",
    "    count =count + 1\n",
    "\n",
    "if count > 0:\n",
    "    average = total_sum / count\n",
    "else:\n",
    "    average = 0\n",
    "\n",
    "print(f\"sum: {total_sum}\")\n",
    "print(f\"average: {average}\")"
   ]
  },
  {
   "cell_type": "code",
   "execution_count": 119,
   "id": "6c7c53fb-dbe1-4679-8c02-c5af04ac054b",
   "metadata": {},
   "outputs": [
    {
     "name": "stdout",
     "output_type": "stream",
     "text": [
      "10\n",
      "12\n",
      "14\n",
      "16\n",
      "18\n",
      "20\n",
      "22\n",
      "24\n",
      "26\n",
      "28\n",
      "30\n",
      "32\n",
      "34\n",
      "36\n",
      "38\n",
      "40\n",
      "42\n",
      "44\n",
      "46\n",
      "48\n",
      "50\n"
     ]
    }
   ],
   "source": [
    "#4)display all the even number in range 10 to 50\n",
    "\n",
    "for i in range(10,51,2):\n",
    "    print(i)"
   ]
  },
  {
   "cell_type": "code",
   "execution_count": 120,
   "id": "1604728e-6a0a-4658-a626-2f0d9e581184",
   "metadata": {},
   "outputs": [
    {
     "name": "stdout",
     "output_type": "stream",
     "text": [
      "35\n",
      "36\n",
      "37\n",
      "38\n",
      "39\n",
      "40\n",
      "41\n",
      "42\n",
      "43\n",
      "44\n",
      "45\n",
      "46\n",
      "47\n",
      "48\n",
      "49\n",
      "50\n",
      "51\n",
      "52\n",
      "53\n",
      "54\n",
      "55\n",
      "56\n",
      "57\n",
      "58\n",
      "59\n",
      "60\n"
     ]
    }
   ],
   "source": [
    "#5) use for loop range()   display all the numbers from 35 to 60\n",
    "\n",
    "for i in range (35,61):\n",
    "    print(i)"
   ]
  },
  {
   "cell_type": "code",
   "execution_count": 124,
   "id": "0130654e-2cf9-47de-854d-e755bccbdc57",
   "metadata": {},
   "outputs": [
    {
     "name": "stdout",
     "output_type": "stream",
     "text": [
      "2\n"
     ]
    }
   ],
   "source": [
    "#5)Count how many 'P' characters are there in a given stringstring = 'Python is Programming language'\n",
    "s = 'Python is Programming language'\n",
    "\n",
    "count = 0\n",
    "\n",
    "for i in s:\n",
    "    if i == 'P':\n",
    "        count = count+1\n",
    "print(count)"
   ]
  },
  {
   "cell_type": "code",
   "execution_count": 128,
   "id": "998a682c-47e5-4794-9943-4ed11ffca0b2",
   "metadata": {},
   "outputs": [
    {
     "name": "stdout",
     "output_type": "stream",
     "text": [
      "[199, 195, 191, 187, 183, 179, 175, 171, 167, 163, 159, 155, 151, 147, 143, 139, 135]\n"
     ]
    }
   ],
   "source": [
    "#6) use for loop range()   display all the numbers from 135 to 200 , step value is 4 \n",
    "\n",
    "l = []\n",
    "for i in range(135,201,4):\n",
    "    l.append(i)\n",
    "\n",
    "print(l[::-1])"
   ]
  },
  {
   "cell_type": "code",
   "execution_count": 129,
   "id": "c5ff2f1e-8ccd-4cdb-bc56-6a4ed03e8ab6",
   "metadata": {},
   "outputs": [
    {
     "name": "stdout",
     "output_type": "stream",
     "text": [
      "50\n",
      "44\n",
      "38\n",
      "32\n",
      "26\n",
      "20\n",
      "14\n",
      "8\n",
      "2\n",
      "-4\n",
      "-10\n",
      "-16\n",
      "-22\n",
      "-28\n"
     ]
    }
   ],
   "source": [
    "#7) use for loop range()   display all the numbers from 50 to -33   step value -6   sum the printed number\n",
    "for i in range(50,-33,-6):\n",
    "    print(i)\n"
   ]
  },
  {
   "cell_type": "code",
   "execution_count": 132,
   "id": "79d7ab85-b806-426c-8a99-ad3acc3f9c3f",
   "metadata": {},
   "outputs": [
    {
     "name": "stdout",
     "output_type": "stream",
     "text": [
      "string: pYTHON IS pROGRAMMING5 LANGUAGE$\n"
     ]
    }
   ],
   "source": [
    "#7) Convert Upper to lower lower to upper case in a string if it is a number or spl character print as it is\n",
    "\n",
    "s = 'Python is Programming5 language$'\n",
    "\n",
    "string = \"\"\n",
    "\n",
    "for char in s:\n",
    "    if char.isalpha():\n",
    "        if char.isupper():\n",
    "            string += char.lower()\n",
    "        else:\n",
    "            string += char.upper()\n",
    "    else:\n",
    "        string += char\n",
    "print(\"string:\", string)\n"
   ]
  },
  {
   "cell_type": "code",
   "execution_count": 133,
   "id": "29adca2a-6854-4a18-b704-625f0be1159f",
   "metadata": {},
   "outputs": [
    {
     "name": "stdout",
     "output_type": "stream",
     "text": [
      "pYTHON IS pROGRAMMING5 LANGUAGE$\n"
     ]
    }
   ],
   "source": [
    "s = 'Python is Programming5 language$'\n",
    "ms = ''\n",
    "\n",
    "for i in s:\n",
    "    if i.isalpha():\n",
    "        if i.isupper():\n",
    "            ms = ms + i.lower()\n",
    "        else:\n",
    "            ms = ms +i.upper()\n",
    "    else:\n",
    "        ms = ms+i\n",
    "print(ms)"
   ]
  },
  {
   "cell_type": "code",
   "execution_count": 135,
   "id": "fdc39035-fa42-465f-9073-3ff365c84f7e",
   "metadata": {},
   "outputs": [
    {
     "name": "stdout",
     "output_type": "stream",
     "text": [
      "2668\n"
     ]
    }
   ],
   "source": [
    "# #8) use for loop range()  \n",
    "# display all the numbers from 50 to 135   step value 3   sum all the EVEN numbers   50 53 56 59 62 65 68 71 74 77 80 .....and so one \n",
    "\n",
    "x = []\n",
    "\n",
    "for i in range(50,136,3):\n",
    "    x.append(i)\n",
    "print(sum(x))"
   ]
  },
  {
   "cell_type": "code",
   "execution_count": 136,
   "id": "912a3abd-25ce-4674-a06d-22e65633ca27",
   "metadata": {},
   "outputs": [
    {
     "name": "stdout",
     "output_type": "stream",
     "text": [
      "9\n",
      "21\n"
     ]
    }
   ],
   "source": [
    "#8) Count how many Vowels and consonants in a string\n",
    "s = 'Python is Programming language'\n",
    "\n",
    "vowels_cnt = 0\n",
    "consonants_cnt = 0\n",
    "\n",
    "for i in s:\n",
    "    if i in 'aeiouAEIOU':\n",
    "        vowels_cnt = vowels_cnt +1\n",
    "    else:\n",
    "        consonants_cnt = consonants_cnt +1\n",
    "print(vowels_cnt)\n",
    "print(consonants_cnt)"
   ]
  },
  {
   "cell_type": "code",
   "execution_count": 137,
   "id": "4dc8481b-bf85-4553-b710-9a4e01cd8136",
   "metadata": {},
   "outputs": [
    {
     "name": "stdin",
     "output_type": "stream",
     "text": [
      "Enter a number:  5\n",
      "Enter a number:  5\n",
      "Enter a number:  4\n",
      "Enter a number:  34\n",
      "Enter a number:  54\n"
     ]
    },
    {
     "name": "stdout",
     "output_type": "stream",
     "text": [
      "sum of numbers in the range 15 to 30: 0\n",
      "Count of numbers out of the range 15 to 30: 5\n"
     ]
    }
   ],
   "source": [
    "#9)input 5 numbers, if entered number is in the range of 15 to 30 then add those numbers else count the numbers which are not in range 15 to 30\n",
    "\n",
    "sum_in_range = 0\n",
    "count_out_of_range = 0\n",
    "\n",
    "for i in range(5):\n",
    "    num = int(input(\"enter a number: \"))\n",
    "    if num >= 15 and num <= 30:\n",
    "        sum_in_range  = sum_in_range + num\n",
    "    else:\n",
    "        count_out_of_range = count_out_of_range 1\n",
    "print(\"sum of numbers in the range 15 to 30:\", sum_in_range)\n",
    "print(\"Count of numbers out of the range 15 to 30:\", count_out_of_range)"
   ]
  },
  {
   "cell_type": "code",
   "execution_count": 139,
   "id": "78b339ac-caeb-49d4-be06-a86530c6345c",
   "metadata": {},
   "outputs": [
    {
     "name": "stdin",
     "output_type": "stream",
     "text": [
      "Enter a number:  10\n"
     ]
    },
    {
     "name": "stdout",
     "output_type": "stream",
     "text": [
      "1 x 10 = 10\n",
      "2 x 10 = 20\n",
      "3 x 10 = 30\n",
      "4 x 10 = 40\n",
      "5 x 10 = 50\n",
      "6 x 10 = 60\n",
      "7 x 10 = 70\n",
      "8 x 10 = 80\n",
      "9 x 10 = 90\n",
      "10 x 10 = 100\n"
     ]
    }
   ],
   "source": [
    "#10)print multiplication table based on the user input\n",
    "\n",
    "number = int(input(\"enter a number: \"))\n",
    "\n",
    "for i in range(1, 11):\n",
    "    print(f\"{i} x {number} = {number * i}\")"
   ]
  },
  {
   "cell_type": "code",
   "execution_count": null,
   "id": "8f7e2220-48e8-496b-b449-7fe232e0bf87",
   "metadata": {},
   "outputs": [],
   "source": []
  },
  {
   "cell_type": "markdown",
   "id": "a15f7acf-f8ff-4124-b03c-d1452c0e02a8",
   "metadata": {},
   "source": [
    "Domain: Decision/ctrl statements\n",
    "\n",
    "Function: Loop Control Statements\n",
    "\n",
    "Scenario: While loop program-set1"
   ]
  },
  {
   "cell_type": "code",
   "execution_count": 142,
   "id": "2af9c110-4457-4a5e-aa3d-dc0eb0813017",
   "metadata": {},
   "outputs": [
    {
     "name": "stdout",
     "output_type": "stream",
     "text": [
      "Sum: 4900\n",
      "average: 122.5\n"
     ]
    }
   ],
   "source": [
    "#1) use the while loop   use this range(25,500,5)   use break when the value is 225   till then sum all the numbers generated, find the avg also\n",
    "\n",
    "start = 25\n",
    "end = 500\n",
    "step = 5\n",
    "total_sum = 0\n",
    "count = 0\n",
    "\n",
    "\n",
    "current_val = start\n",
    "\n",
    "while current_val < end:\n",
    "    if current_val == 225:\n",
    "        break\n",
    "    total_sum = total_sum + current_val\n",
    "    count = count +1\n",
    "    current_val = current_val + step\n",
    "\n",
    "if count > 0:\n",
    "    average = total_sum / count\n",
    "else:\n",
    "    average = 0\n",
    "print(f\"Sum: {total_sum}\")\n",
    "print(f\"average: {average}\")"
   ]
  },
  {
   "cell_type": "code",
   "execution_count": 143,
   "id": "84694062-c349-4312-902c-7dd1c1c65cbb",
   "metadata": {},
   "outputs": [
    {
     "name": "stdout",
     "output_type": "stream",
     "text": [
      "75\n",
      "76\n",
      "77\n",
      "78\n",
      "79\n",
      "80\n",
      "81\n",
      "82\n",
      "83\n",
      "84\n",
      "85\n",
      "86\n",
      "87\n",
      "88\n",
      "89\n",
      "90\n",
      "91\n",
      "92\n",
      "93\n",
      "94\n",
      "95\n",
      "96\n",
      "97\n",
      "98\n",
      "99\n"
     ]
    }
   ],
   "source": [
    "#1) use while loop   print all the numbers from 75 to 99\n",
    "num = 75\n",
    "while num <= 99:\n",
    "    print(num)\n",
    "    num = num+1"
   ]
  },
  {
   "cell_type": "code",
   "execution_count": 149,
   "id": "b4d9f9f9-102e-4dcc-8257-3533a903089d",
   "metadata": {},
   "outputs": [
    {
     "name": "stdout",
     "output_type": "stream",
     "text": [
      "205\n"
     ]
    }
   ],
   "source": [
    "#1)add number from 15 to 25\n",
    "\n",
    "num = 15\n",
    "n = []\n",
    "while num < 25:\n",
    "    num = num + 1\n",
    "    n.append(num)\n",
    "print(sum(n))"
   ]
  },
  {
   "cell_type": "code",
   "execution_count": 150,
   "id": "af8c92c3-6d2d-48a6-bd25-451afaf7eca5",
   "metadata": {},
   "outputs": [
    {
     "name": "stdout",
     "output_type": "stream",
     "text": [
      "Sum of the numbers: 1520\n"
     ]
    }
   ],
   "source": [
    "# #2) use this range in the for loop   range(300,20,-20)   when the value is 80 break out   \n",
    "# when the value are 220 200 140 120 - just continue  sum all the values (which are not part of break and continue , the numbers generated)\n",
    "\n",
    "\n",
    "total_sum = 0\n",
    "\n",
    "for value in range(300, 20, -20):\n",
    "    if value == 80:\n",
    "        break\n",
    "    elif value in [220, 200, 140, 120]:\n",
    "        continue\n",
    "    total_sum += value\n",
    "\n",
    "print(\"sum of the numbers:\", total_sum)\n"
   ]
  },
  {
   "cell_type": "code",
   "execution_count": 152,
   "id": "cc981625-37ee-4d40-920b-9c664e748391",
   "metadata": {},
   "outputs": [
    {
     "name": "stdout",
     "output_type": "stream",
     "text": [
      "145 148 151 154 157 160 163 166 169 172 175 178 181 184 187 190 193 196 199 202 205 208 211 214 217 220 223 226 229 232 "
     ]
    }
   ],
   "source": [
    "#2) use while loop   print all the numbers from 145 to 233   skipping in steps of 3   o/p should be    145 148 151 154 ....\n",
    "\n",
    "number = 145\n",
    "while number <= 233:\n",
    "    print(number, end=\" \")\n",
    "    number = number + 3"
   ]
  },
  {
   "cell_type": "code",
   "execution_count": 153,
   "id": "bf383a85-c285-49ec-b5bd-996db799c301",
   "metadata": {},
   "outputs": [
    {
     "name": "stdin",
     "output_type": "stream",
     "text": [
      "Enter number 1\n",
      "Enter number 2\n",
      "Enter number 3\n",
      "Enter number 4\n",
      "Enter number 5\n",
      "Enter number 6\n",
      "Enter number 7\n",
      "Enter number 8\n",
      "Enter number 9\n",
      "Enter number 10\n"
     ]
    },
    {
     "name": "stdout",
     "output_type": "stream",
     "text": [
      "even sum 30\n",
      "Odd sum 25\n"
     ]
    }
   ],
   "source": [
    "#2)Enter 10 numbers count number of even numbers and odd numbers and sum of even and odd number\n",
    "\n",
    "sum_odd = 0\n",
    "sum_even = 0\n",
    "for i in range (10):\n",
    "    num = int(input('Enter number'))\n",
    "    if num % 2 == 0:\n",
    "        sum_even = sum_even + num\n",
    "    else:\n",
    "        sum_odd = sum_odd + num\n",
    "print('even sum',sum_even)\n",
    "print('Odd sum',sum_odd)"
   ]
  },
  {
   "cell_type": "code",
   "execution_count": 158,
   "id": "e765b0dc-8f5f-4c07-8bb5-d772f12ad9e6",
   "metadata": {},
   "outputs": [
    {
     "name": "stdout",
     "output_type": "stream",
     "text": [
      "18 15 12 9 6 3 0 -3 -6 -9 -12 -15 -18 -21 -24 "
     ]
    }
   ],
   "source": [
    "#3) use while loop    print all the numbers from  18 to -25    stepping reverse in step of -4   18 14 10 \n",
    "\n",
    "num = 18\n",
    "while num >= -25:\n",
    "    print(num, end=\" \")\n",
    "    num = num - 3"
   ]
  },
  {
   "cell_type": "code",
   "execution_count": 159,
   "id": "5db982d6-ca74-455e-a647-449ff8fe10e5",
   "metadata": {},
   "outputs": [
    {
     "name": "stdin",
     "output_type": "stream",
     "text": [
      "Enter number 1:  5\n",
      "Enter number 2:  10\n",
      "Enter number 3:  15\n",
      "Enter number 4:  20\n",
      "Enter number 5:  25\n"
     ]
    },
    {
     "name": "stdout",
     "output_type": "stream",
     "text": [
      "sum of numbers : 75\n"
     ]
    }
   ],
   "source": [
    "#3)input 5 numbers check its completerly divisible by 5 add those numbersex = input 1 = 5 ,input 1 = 10,input 1 = 3,input 1 = 25,input1 = 22sum = 40\n",
    "total_sum = 0\n",
    "for i in range(5):\n",
    "    num = int(input(f\"Enter number {i+1}: \"))\n",
    "    if num % 5 == 0:\n",
    "        total_sum += num\n",
    "\n",
    "print(\"sum of numbers :\", total_sum)"
   ]
  },
  {
   "cell_type": "code",
   "execution_count": 160,
   "id": "72a9b44b-19ae-403c-8e5b-787e493a5a8d",
   "metadata": {},
   "outputs": [
    {
     "name": "stdin",
     "output_type": "stream",
     "text": [
      "Enter number 1:  2\n",
      "Enter number 2:  3\n",
      "Enter number 3:  4\n",
      "Enter number 4:  5\n",
      "Enter number 5:  6\n",
      "Enter number 6:  7\n",
      "Enter number 7:  8\n",
      "Enter number 8:  8\n",
      "Enter number 9:  9\n",
      "Enter number 10:  8\n"
     ]
    },
    {
     "name": "stdout",
     "output_type": "stream",
     "text": [
      "sum of odd numbers less than 441: 24\n",
      "average of odd numbers less than 441: 6.0\n"
     ]
    }
   ],
   "source": [
    "# 4) use for loop - input any 10 numbers   find out the sum and avg of ODD numbers    \n",
    "# consider ODD numbers which are less than 441   if the inputted number is above 441 like 551 1001 - \n",
    "# ignore themonly change is if the count of numbers above 441 is 3 then break out   meaning if the input is          \n",
    "# 661  --- ignore          705  --- ignore         881  --- ignore , then break out...\n",
    "\n",
    "\n",
    "total_sum = 0\n",
    "count = 0\n",
    "count_above_441 = 0\n",
    "\n",
    "for i in range(10):\n",
    "    num = int(input(f\"Enter number {i+1}: \"))\n",
    "    if num % 2 != 0 and num < 441:\n",
    "        total_sum += num\n",
    "        count += 1\n",
    "    elif num > 441:\n",
    "        count_above_441 += 1\n",
    "        if count_above_441 == 3:\n",
    "            break\n",
    "\n",
    "if count > 0:\n",
    "    average = total_sum / count\n",
    "else:\n",
    "    average = 0\n",
    "\n",
    "\n",
    "print(\"sum of odd numbers less than 441:\", total_sum)\n",
    "print(\"average of odd numbers less than 441:\", average)"
   ]
  },
  {
   "cell_type": "code",
   "execution_count": 161,
   "id": "04963963-f2df-48fd-ac11-42a1bec3abb9",
   "metadata": {},
   "outputs": [
    {
     "name": "stdout",
     "output_type": "stream",
     "text": [
      "33\n",
      "38\n",
      "43\n",
      "48\n",
      "53\n",
      "58\n",
      "63\n",
      "68\n",
      "73\n",
      "78\n",
      "83\n",
      "sum of numbers 638\n"
     ]
    }
   ],
   "source": [
    "#4) use while loop    print all the numbers from  28 to 80   step at 5   add those numbers and finally print the sum   28 33 38 43.....\n",
    "\n",
    "num = 28\n",
    "n = []\n",
    "\n",
    "while num <= 80:\n",
    "    num = num+5\n",
    "    n.append(num)\n",
    "    print(num)\n",
    "print('sum of numbers' ,sum(n))"
   ]
  },
  {
   "cell_type": "code",
   "execution_count": 163,
   "id": "b03882d6-39bd-4611-9288-506a24b08146",
   "metadata": {},
   "outputs": [
    {
     "name": "stdin",
     "output_type": "stream",
     "text": [
      "Enter marks for subject 1:  50\n",
      "Enter marks for subject 2:  50\n",
      "Enter marks for subject 3:  76\n",
      "Enter marks for subject 4:  54\n",
      "Enter marks for subject 5:  65\n"
     ]
    },
    {
     "name": "stdout",
     "output_type": "stream",
     "text": [
      "total marks: 295.0\n",
      "average marks: 59.0\n",
      "number of subjects passed: 5\n",
      "number of subjects failed: 0\n"
     ]
    }
   ],
   "source": [
    "#4)input 5 subjects marks find total, average marks, \n",
    "#if marks greater than 35 pass less than 35 fail count how many subjects are passes and how many are failed\n",
    "total_marks = 0\n",
    "count_pass = 0\n",
    "count_fail = 0\n",
    "\n",
    "for i in range(5):\n",
    "    marks = float(input(f\"Enter marks for subject: \"))\n",
    "    total_marks += marks\n",
    "    if marks > 35:\n",
    "        count_pass += 1\n",
    "    else:\n",
    "        count_fail += 1\n",
    "average_marks = total_marks / 5\n",
    "\n",
    "print(\"total marks:\", total_marks)\n",
    "print(\"average marks:\", average_marks)\n",
    "print(\"number of subjects passed:\", count_pass)\n",
    "print(\"number of subjects failed:\", count_fail)\n"
   ]
  },
  {
   "cell_type": "code",
   "execution_count": 164,
   "id": "bfc0dd0e-7dd9-4b8f-8651-08eabaaa2369",
   "metadata": {},
   "outputs": [
    {
     "name": "stdin",
     "output_type": "stream",
     "text": [
      "Enter number 1:  5\n",
      "Enter number 2:  4\n",
      "Enter number 3:  3\n",
      "Enter number 4:  4\n",
      "Enter number 5:  3\n"
     ]
    },
    {
     "name": "stdout",
     "output_type": "stream",
     "text": [
      "sum of numbers within the range 25 to 75: 0\n",
      "count of numbers outside the range 25 to 75: 5\n"
     ]
    }
   ],
   "source": [
    "# # 5)input 5 numbers, if entered number is in the range of 25 to 75 then add those numbers else count the numbers which are not in range of 25 to 75\n",
    "# input =5,6,88,25,35\n",
    "# sum = 60 (25+35)\n",
    "# count = 3 (5,6,88)\n",
    "\n",
    "total_sum = 0\n",
    "count_out_of_range = 0\n",
    "\n",
    "for i in range(5):\n",
    "    num = int(input(f\"Enter number : \"))\n",
    "    if 25 <= num <= 75:\n",
    "        total_sum += num\n",
    "    else:\n",
    "        count_out_of_range += 1\n",
    "\n",
    "print(\"sum of numbers within the range 25 to 75:\", total_sum)\n",
    "print(\"count of numbers outside the range 25 to 75:\", count_out_of_range)\n"
   ]
  },
  {
   "cell_type": "code",
   "execution_count": 165,
   "id": "9dea7034-f803-4df7-a2fa-fd70a4e5a1b1",
   "metadata": {},
   "outputs": [
    {
     "name": "stdout",
     "output_type": "stream",
     "text": [
      "9\n"
     ]
    }
   ],
   "source": [
    "\n",
    "s = 'Python is Programming language'\n",
    "\n",
    "vowels_cnt = 0\n",
    "consonants_cnt = 0\n",
    "\n",
    "for i in s:\n",
    "    if i in 'aeiouAEIOU':\n",
    "        vowels_cnt = vowels_cnt +1\n",
    "print(vowels_cnt)\n"
   ]
  },
  {
   "cell_type": "code",
   "execution_count": 167,
   "id": "133f9df0-372a-4be5-8a9d-6400921c40ee",
   "metadata": {},
   "outputs": [
    {
     "name": "stdout",
     "output_type": "stream",
     "text": [
      "Reversed string: egaugnal gnimmargorP si nohtyP\n"
     ]
    }
   ],
   "source": [
    "#9)write a program to Reverse a string\n",
    "s = 'Python is Programming language'\n",
    "\n",
    "def reverse_string(s):\n",
    "    reversed_s = \"\"\n",
    "    for char in s:\n",
    "        reversed_s = char + reversed_s\n",
    "    return reversed_s\n",
    "reversed_s = reverse_string(s)\n",
    "print(\"Reversed string:\", reversed_s)\n"
   ]
  },
  {
   "cell_type": "code",
   "execution_count": 168,
   "id": "bac98a5b-7ff7-4647-a571-c990de2ff830",
   "metadata": {},
   "outputs": [
    {
     "name": "stdin",
     "output_type": "stream",
     "text": [
      "Enter an integer:  123433\n"
     ]
    },
    {
     "name": "stdout",
     "output_type": "stream",
     "text": [
      "Number of digits: 6\n"
     ]
    }
   ],
   "source": [
    "#10)Count the number of digits in a given integer\n",
    "\n",
    "def count_digits(number):\n",
    "    num_str = str(number)\n",
    "    return len(num_str)\n",
    "\n",
    "number = int(input(\"Enter an integer: \"))\n",
    "\n",
    "num_digits = count_digits(number)\n",
    "\n",
    "print(\"Number of digits:\", num_digits)\n"
   ]
  },
  {
   "cell_type": "code",
   "execution_count": null,
   "id": "b9e2ede4-00a7-462f-b192-fac71eb29427",
   "metadata": {},
   "outputs": [],
   "source": []
  }
 ],
 "metadata": {
  "kernelspec": {
   "display_name": "Python 3 (ipykernel)",
   "language": "python",
   "name": "python3"
  },
  "language_info": {
   "codemirror_mode": {
    "name": "ipython",
    "version": 3
   },
   "file_extension": ".py",
   "mimetype": "text/x-python",
   "name": "python",
   "nbconvert_exporter": "python",
   "pygments_lexer": "ipython3",
   "version": "3.11.7"
  }
 },
 "nbformat": 4,
 "nbformat_minor": 5
}
