{
 "cells": [
  {
   "cell_type": "code",
   "execution_count": 15,
   "id": "3d55f57b-501d-4165-8a99-91f7d20cd093",
   "metadata": {},
   "outputs": [
    {
     "name": "stdout",
     "output_type": "stream",
     "text": [
      "Three digits are [100, 199, 205, 145, 155]\n",
      "Average 160.8\n",
      "Highest 205\n",
      "Lowest 100\n"
     ]
    }
   ],
   "source": [
    "# 1) data1 = {12,45,56,78,99,100,2,145,155,13,3,6,199,205}\n",
    "# Iterate the set and display all the elements which are THREE digit numbers \n",
    "#Find the sum. \n",
    "# find the avg. Find the highest , find the lowest\n",
    "\n",
    "\n",
    "data1 = {12,45,56,78,99,100,2,145,155,13,3,6,199,205}\n",
    "d = []\n",
    "for i in data1:\n",
    "    if i > 99:\n",
    "        d.append(i)\n",
    "print('Three digits are',d)\n",
    "print('Average',sum(d)/len(d))\n",
    "print('Highest',max(d))\n",
    "print('Lowest',min(d))"
   ]
  },
  {
   "cell_type": "code",
   "execution_count": 18,
   "id": "15cfeb7b-28e8-4dfe-a30d-895c0862ede9",
   "metadata": {},
   "outputs": [
    {
     "name": "stdout",
     "output_type": "stream",
     "text": [
      "[12, 455, 189, 230, 144, 155]\n"
     ]
    }
   ],
   "source": [
    "#1. Given roll = [12,455,189,230,144] Add a new roll number my_roll = 155 to the roll list.\n",
    "\n",
    "roll = [12,455,189,230,144]\n",
    "\n",
    "roll.append(155)\n",
    "print(roll)"
   ]
  },
  {
   "cell_type": "code",
   "execution_count": 30,
   "id": "734a9377-b83a-47f5-bf2d-e829be0de490",
   "metadata": {},
   "outputs": [
    {
     "name": "stdout",
     "output_type": "stream",
     "text": [
      "189 found and removed\n"
     ]
    }
   ],
   "source": [
    " #Find whether the roll number 189 exists if it is so then delete it otherwise display a message no such roll number found.\n",
    "\n",
    "roll = [125,55,17,189,95,100]\n",
    "num = 189\n",
    "if num in roll:\n",
    "    roll.remove(num)\n",
    "    print('189 found and removed')\n",
    "else:\n",
    "    print('no such roll number found')"
   ]
  },
  {
   "cell_type": "code",
   "execution_count": null,
   "id": "42b7fc54-b0ae-4281-9634-137098cf8fd6",
   "metadata": {},
   "outputs": [],
   "source": [
    "#3. Given You could add few more names to the list - names.\n",
    "#Display all the names starting with 'A' or 'V'Display all the names not starting with 'S', or 'G', or 'K'\n",
    "\n",
    "names = ['Deepak','Ajay','Dinesh','Ganesh','Divya','Suma','Vijay','Vino','Aravindh','Jiva']\n",
    "names_withAV = []\n",
    "names_witoutAV = []\n",
    "\n",
    "for i in names:\n",
    "    if i.startswith(\"A\") or i.startswith(\"V\"):\n",
    "        names_withAV.append(i)\n",
    "        \n",
    "    else:\n",
    "        names_witoutAV.append(i)\n",
    "        \n",
    "print('names_with A, V',names_withAV)\n",
    "print('names_without A, V',names_witoutAV)\n",
    "\n"
   ]
  },
  {
   "cell_type": "code",
   "execution_count": null,
   "id": "60ce3df1-af9b-4e0b-ae2b-950fb611ed73",
   "metadata": {},
   "outputs": [],
   "source": [
    "#4) Find out whether the product Id 19 exists or not?If it exists then print the position of it in the List.\n",
    "#If it DOES not exists then print the message Number DOES not exists in the product list.\n",
    "\n",
    "prod_list = [120,34,888,199,202,33,31,19,20]\n",
    "id = 19\n",
    "\n",
    "if id in prod_list:\n",
    "    print(prod_list.index(id))\n",
    "else:\n",
    "    print('DOES not exists in the product list')"
   ]
  },
  {
   "cell_type": "markdown",
   "id": "7e65dd7c-8c5a-4645-8368-5262ffb90712",
   "metadata": {},
   "source": [
    "Domain: One Line Coder\n",
    "\n",
    "Function: Comprehension\n",
    "\n",
    "Scenario: List Comprehension"
   ]
  },
  {
   "cell_type": "code",
   "execution_count": 43,
   "id": "765fdbee-57fc-4eed-a0f2-13772d6a3e1f",
   "metadata": {},
   "outputs": [
    {
     "data": {
      "text/plain": [
       "['java', 'selenium_', 3.2, 10, 'python']"
      ]
     },
     "execution_count": 43,
     "metadata": {},
     "output_type": "execute_result"
    }
   ],
   "source": [
    "#1)create list comprehension to print the value in reverse orderli = ['python',10, 3.2, 'selenium_', 'java']\n",
    "\n",
    "l = ['python',10, 3.2, 'selenium_', 'java']\n",
    "l = [i for i in l[::-1]]\n",
    "l"
   ]
  },
  {
   "cell_type": "code",
   "execution_count": 45,
   "id": "cbfae53b-5212-4e7b-afe1-d057549427ae",
   "metadata": {},
   "outputs": [
    {
     "name": "stdout",
     "output_type": "stream",
     "text": [
      "1 x 2 = 2\n",
      "2 x 2 = 4\n",
      "3 x 2 = 6\n",
      "4 x 2 = 8\n",
      "5 x 2 = 10\n",
      "6 x 2 = 12\n",
      "7 x 2 = 14\n",
      "8 x 2 = 16\n",
      "9 x 2 = 18\n",
      "10 x 2 = 20\n",
      "1 x 3 = 3\n",
      "2 x 3 = 6\n",
      "3 x 3 = 9\n",
      "4 x 3 = 12\n",
      "5 x 3 = 15\n",
      "6 x 3 = 18\n",
      "7 x 3 = 21\n",
      "8 x 3 = 24\n",
      "9 x 3 = 27\n",
      "10 x 3 = 30\n",
      "1 x 4 = 4\n",
      "2 x 4 = 8\n",
      "3 x 4 = 12\n",
      "4 x 4 = 16\n",
      "5 x 4 = 20\n",
      "6 x 4 = 24\n",
      "7 x 4 = 28\n",
      "8 x 4 = 32\n",
      "9 x 4 = 36\n",
      "10 x 4 = 40\n",
      "1 x 5 = 5\n",
      "2 x 5 = 10\n",
      "3 x 5 = 15\n",
      "4 x 5 = 20\n",
      "5 x 5 = 25\n",
      "6 x 5 = 30\n",
      "7 x 5 = 35\n",
      "8 x 5 = 40\n",
      "9 x 5 = 45\n",
      "10 x 5 = 50\n"
     ]
    }
   ],
   "source": [
    "#10)Print multiplication table 2 to 5 \n",
    "\n",
    "table = [[f\"{i} x {j} = {i*j}\" for i in range (1,11)]for j in range(2,6)]\n",
    "\n",
    "for t in table:\n",
    "    for line in t:\n",
    "        print(line)\n"
   ]
  },
  {
   "cell_type": "code",
   "execution_count": 46,
   "id": "62cf08b2-01ec-4ddf-8ce0-d8fcc49a12c5",
   "metadata": {},
   "outputs": [
    {
     "name": "stdout",
     "output_type": "stream",
     "text": [
      "[1.2, 100, 1, 12, 13, 14, (3+4j)]\n"
     ]
    }
   ],
   "source": [
    "#2) print only single value data types in listli = ['python',1.2,100,'selenium_', 'java','abc',1,12,13,14,3+4j\n",
    "\n",
    "li = ['python',1.2,100,'selenium_', 'java','abc',1,12,13,14,3+4j]\n",
    "\n",
    "ls = [i for i in li if isinstance(i,(int,float,complex))]\n",
    "print(ls)"
   ]
  },
  {
   "cell_type": "code",
   "execution_count": 51,
   "id": "cfcf6ca0-2bb4-49f6-b1ed-f10294bc509f",
   "metadata": {},
   "outputs": [
    {
     "name": "stdout",
     "output_type": "stream",
     "text": [
      "['nohtyp', 'avaj', 'muiles', 'abc', 'abcde']\n"
     ]
    }
   ],
   "source": [
    "#3)print odd length as it is even length reverse itli = ['python', 'java', 'selium', 'abc', 'abcde']\n",
    "\n",
    "li = ['python', 'java', 'selium', 'abc', 'abcde']\n",
    "\n",
    "lc = [i if len(i)%2 != 0 else i[::-1] for i in li ]\n",
    "print(lc)"
   ]
  },
  {
   "cell_type": "code",
   "execution_count": 54,
   "id": "25f7614f-04c5-492c-944c-cf2330b1bd1d",
   "metadata": {},
   "outputs": [
    {
     "name": "stdout",
     "output_type": "stream",
     "text": [
      "['python (6) ', 'selenium_ (9) ', 'java (4) ', 'abc (3) ']\n"
     ]
    }
   ],
   "source": [
    "# 4)print word with length\n",
    "\n",
    "li = ['python','selenium_', 'java','abc']\n",
    "\n",
    "lc = [f\"{i} ({len(i)}) \" for i in li]\n",
    "print(lc)"
   ]
  },
  {
   "cell_type": "code",
   "execution_count": 55,
   "id": "c5f5e671-e7d6-4a52-91f9-38e8479cd138",
   "metadata": {},
   "outputs": [
    {
     "name": "stdout",
     "output_type": "stream",
     "text": [
      "['python', 'selenium_', 'java', 'abc']\n"
     ]
    }
   ],
   "source": [
    "#5)odd lengh print as it is even length reverse it\n",
    "\n",
    "li = ['python','selenium_', 'java','abc']\n",
    "lc = [i if len(i)%2!= 0 else i[::-1] for i in li]\n",
    "print(li)\n"
   ]
  },
  {
   "cell_type": "code",
   "execution_count": 60,
   "id": "f5cbee91-53b3-4410-b305-8b74b1c601e2",
   "metadata": {},
   "outputs": [
    {
     "name": "stdout",
     "output_type": "stream",
     "text": [
      "6\n",
      "8\n"
     ]
    }
   ],
   "source": [
    "#6)Find vowel and consonant count in a string\n",
    "\n",
    "a = 'Hi how are you'\n",
    "vo = set('aeiouAEIOU')\n",
    "\n",
    "voc = len([i for i in a if i in vo])\n",
    "coc = len([i for i in a if i not in vo])\n",
    "print(voc)\n",
    "print(coc)"
   ]
  },
  {
   "cell_type": "code",
   "execution_count": null,
   "id": "57f02bf4-4785-4f6e-ac59-6045db480208",
   "metadata": {},
   "outputs": [],
   "source": [
    "seen = set()\n",
    "new_string = ''.join([char for char in input_string if not (char in seen or seen.add(char))])\n",
    "\n",
    "# Printing the new string\n",
    "print(new_string)"
   ]
  },
  {
   "cell_type": "code",
   "execution_count": 68,
   "id": "a3748680-4bde-4202-8e69-2544ecfc9335",
   "metadata": {},
   "outputs": [
    {
     "name": "stdout",
     "output_type": "stream",
     "text": [
      "Hi howareyuvn\n"
     ]
    }
   ],
   "source": [
    "#7)Remove duplicate in string and create new string\n",
    "\n",
    "a = 'Hi how are you how are everyone'\n",
    "b = set()\n",
    "\n",
    "lc = ''.join([i for i in a if not (i in b or b.add(i))])\n",
    "print(lc)"
   ]
  },
  {
   "cell_type": "code",
   "execution_count": 70,
   "id": "6e671372-ed7e-4cfb-8d27-f7424631888b",
   "metadata": {},
   "outputs": [
    {
     "name": "stdout",
     "output_type": "stream",
     "text": [
      "['com', 'in', 'com']\n"
     ]
    }
   ],
   "source": [
    "#8)print only extension in list\n",
    "li = ['gmail.com','yahoo.in','google.com']\n",
    "\n",
    "lc = [i.split('.')[-1] for i in li]\n",
    "print(lc)"
   ]
  },
  {
   "cell_type": "code",
   "execution_count": 71,
   "id": "08ceac65-0952-4e5f-9835-dfbc51ea17fd",
   "metadata": {},
   "outputs": [
    {
     "name": "stdout",
     "output_type": "stream",
     "text": [
      "['axa', 'amma', '1221']\n"
     ]
    }
   ],
   "source": [
    "#9)first and last character should be same\n",
    "li = ['axa','amma','xyz','1221']\n",
    "\n",
    "lc = [i for i in li if i[0] == i[-1] ]\n",
    "print(lc)"
   ]
  },
  {
   "cell_type": "code",
   "execution_count": null,
   "id": "216c0feb-587d-4d6f-bb0c-65e11938bfcb",
   "metadata": {},
   "outputs": [],
   "source": []
  },
  {
   "cell_type": "markdown",
   "id": "896def50-5e29-40a2-9411-e280d43e05fd",
   "metadata": {},
   "source": [
    "Domain: One Line Coder\n",
    "\n",
    "Function: Comprehension\n",
    "\n",
    "Scenario: Set Comprehension"
   ]
  },
  {
   "cell_type": "code",
   "execution_count": 74,
   "id": "66557fe1-6286-49ac-bf49-a5943fd13378",
   "metadata": {},
   "outputs": [
    {
     "name": "stdout",
     "output_type": "stream",
     "text": [
      "{1, 2, 3, 4, 6, 7}\n"
     ]
    }
   ],
   "source": [
    "#1) create a set comprehension to show unique values\n",
    "li = [1,1,2,3,4,6,7,2,1,3]\n",
    "\n",
    "st = {i for i in li}\n",
    "print(st)"
   ]
  },
  {
   "cell_type": "code",
   "execution_count": 81,
   "id": "a8257ca4-c2f0-4fbb-9565-20a170cad013",
   "metadata": {},
   "outputs": [
    {
     "name": "stdout",
     "output_type": "stream",
     "text": [
      "{('t', 116), ('h', 104), ('n', 110), ('p', 112), ('o', 111), ('y', 121)}\n"
     ]
    }
   ],
   "source": [
    "#2)create a set comprehension to show char and ascii value of that character in a tuple\n",
    "st = 'python'\n",
    "ch = {(i,ord(i)) for i in st}\n",
    "print(ch)"
   ]
  },
  {
   "cell_type": "code",
   "execution_count": 86,
   "id": "d2a8a384-debe-4cf5-aa66-fc8230b23b06",
   "metadata": {},
   "outputs": [
    {
     "name": "stdout",
     "output_type": "stream",
     "text": [
      "3\n"
     ]
    }
   ],
   "source": [
    "#3)create a set comprehension to show how many numbers are completely divisible by 3,5 in the range of 1 to 50\n",
    "\n",
    "st = {i for i in range(1,51) if i%3 == 0 and i % 5 ==0}\n",
    "print(len(st))"
   ]
  },
  {
   "cell_type": "code",
   "execution_count": 88,
   "id": "2199fb8c-b1b3-42d9-b964-ad54ec6847af",
   "metadata": {},
   "outputs": [
    {
     "name": "stdout",
     "output_type": "stream",
     "text": [
      "{False, True, 'Others'}\n"
     ]
    }
   ],
   "source": [
    "#4)create set comprehension to replace 0 with \"False\" 1 with \"True\" other number as \"others\"\n",
    "li = [0,1,2,3,4,0,1]\n",
    "\n",
    "st = {(False if i == 0 else True if i == 1 else 'Others')for i in li}\n",
    "print(st)"
   ]
  },
  {
   "cell_type": "code",
   "execution_count": 90,
   "id": "87ef052a-3b11-4a35-af1c-8045ed8ac6c9",
   "metadata": {},
   "outputs": [
    {
     "name": "stdout",
     "output_type": "stream",
     "text": [
      "{'abc', 'avaj', 'muiles', 'nohtyp', 'abcde'}\n"
     ]
    }
   ],
   "source": [
    "#5)create set comprehension to show odd length string as it is even length string reverse it\n",
    "\n",
    "sl = ['python', 'java', 'selium', 'abc', 'abcde']\n",
    "\n",
    "s = {i if len(i) % 2 != 0 else i[::-1] for i in sl}\n",
    "print(s)"
   ]
  },
  {
   "cell_type": "code",
   "execution_count": 96,
   "id": "db47583d-b8c7-4570-8b0f-302f35c391f1",
   "metadata": {},
   "outputs": [
    {
     "name": "stdout",
     "output_type": "stream",
     "text": [
      "{'o', 'e', 'i', 'a'}\n"
     ]
    }
   ],
   "source": [
    "#6)create set comprehension show available vowels in a given string\n",
    "\n",
    "st = \"hai hello welcome to python\" \n",
    "st = {i for i in st if i in 'aeiouAEIOIU'}\n",
    "print(st)"
   ]
  },
  {
   "cell_type": "markdown",
   "id": "084c4e88-fcf5-42c2-95db-5c53324cab43",
   "metadata": {},
   "source": [
    "Domain: One Line Coder\n",
    "\n",
    "Function: Comprehension\n",
    "\n",
    "Scenario: Dictionary Comprehension"
   ]
  },
  {
   "cell_type": "code",
   "execution_count": 102,
   "id": "44af4cd0-0e5d-48cb-b41a-72b7efe7f52b",
   "metadata": {},
   "outputs": [
    {
     "name": "stdout",
     "output_type": "stream",
     "text": [
      "{'apple': 0, 'banana': 1, 'orange': 2, 'grapes': 3}\n"
     ]
    }
   ],
   "source": [
    "#1)WAP to create a dictionary with item and its index pair\n",
    "\n",
    "items = ['apple', 'banana', 'orange', 'grapes']\n",
    "\n",
    "d = {i:index for index,i in enumerate(items)}\n",
    "print(d)"
   ]
  },
  {
   "cell_type": "code",
   "execution_count": 104,
   "id": "6a9a55a1-2662-4871-aad0-cdc9553fc428",
   "metadata": {},
   "outputs": [
    {
     "name": "stdout",
     "output_type": "stream",
     "text": [
      "{'h': 104, 'i': 105, ' ': 32, 'e': 101, 'l': 108, 'o': 111}\n"
     ]
    }
   ],
   "source": [
    "# 10)create a dict comprehension to show char and ascii value pairit = [1,2,3,4,5]\n",
    "st = 'hi hello'\n",
    "\n",
    "d = {i:ord(i) for i in st}\n",
    "print(d)"
   ]
  },
  {
   "cell_type": "code",
   "execution_count": 105,
   "id": "f84e68d3-b00e-4d9c-9929-fcfd40989aed",
   "metadata": {},
   "outputs": [
    {
     "name": "stdout",
     "output_type": "stream",
     "text": [
      "{'apple': 5, 'banana': 6, 'orange': 6, 'grapes': 6}\n"
     ]
    }
   ],
   "source": [
    "#2) WAP to create a dictionary with word and its length pair\n",
    "\n",
    "items = ['apple', 'banana', 'orange', 'grapes']\n",
    "\n",
    "d = {i:len(i) for i in items}\n",
    "print(d)"
   ]
  },
  {
   "cell_type": "code",
   "execution_count": 106,
   "id": "bc5aacc2-fbf9-433a-a228-4dfb5369ccec",
   "metadata": {},
   "outputs": [
    {
     "name": "stdout",
     "output_type": "stream",
     "text": [
      "{'h': 1, 'e': 1, 'l': 3, 'o': 2, ' ': 1, 'w': 1, 'r': 1, 'd': 1}\n"
     ]
    }
   ],
   "source": [
    "#3) create a dictionary of character and its countst = \"hello world\"\n",
    "st = \"hello world\"\n",
    "\n",
    "d = {i:st.count(i) for i in st}\n",
    "print(d)"
   ]
  },
  {
   "cell_type": "code",
   "execution_count": 109,
   "id": "5dde3f96-c155-4695-9b5e-269b236957aa",
   "metadata": {},
   "outputs": [
    {
     "name": "stdout",
     "output_type": "stream",
     "text": [
      "{'python': 1, 'is': 1, 'a': 1, 'language,': 1, 'programming': 1, 'easy': 1}\n"
     ]
    }
   ],
   "source": [
    "#4) create a dictionary of word and its countsentence = \"python is a language, python programming is easy\"\n",
    "st = \"python is a language, python programming is easy\"\n",
    "\n",
    "d = {i:i.split().count(i) for i in st.split()}\n",
    "print(d)\n"
   ]
  },
  {
   "cell_type": "code",
   "execution_count": 112,
   "id": "f0737668-787c-445d-9f49-a163021a2a20",
   "metadata": {},
   "outputs": [
    {
     "name": "stdout",
     "output_type": "stream",
     "text": [
      "{'python': 2, 'is': 2, 'easy': 1}\n"
     ]
    }
   ],
   "source": [
    "# ) dictionary with word and its count pair only if the word is of even length\n",
    "\n",
    "st = \"python is a language, python programming is easy\"\n",
    "\n",
    "\n",
    "d = {word:st.split().count(word) for word in st.split() if len(word)%2 ==0}\n",
    "print(d)"
   ]
  },
  {
   "cell_type": "code",
   "execution_count": 114,
   "id": "08e35acd-743d-43c6-95c1-b0488ca1336c",
   "metadata": {},
   "outputs": [
    {
     "name": "stdout",
     "output_type": "stream",
     "text": [
      "{0: 'python', 1: 'is', 2: 'a', 3: ',egaugnal', 4: 'python', 5: 'gnimmargorp', 6: 'is', 7: 'easy'}\n"
     ]
    }
   ],
   "source": [
    "#6)Dictionary with index and word pair if the word is of odd length reverse it,else keep it as is\n",
    "\n",
    "st = \"python is a language, python programming is easy\"\n",
    "\n",
    "d = {index: word[::-1] if len(word)%2 != 0 else word for index,word in enumerate(st.split())}\n",
    "print(d)"
   ]
  },
  {
   "cell_type": "code",
   "execution_count": 116,
   "id": "ce4c5090-f2b2-40b6-a29f-d7297d098437",
   "metadata": {},
   "outputs": [
    {
     "name": "stdout",
     "output_type": "stream",
     "text": [
      "{'is': 2, 'a': 1, 'easy': 4}\n"
     ]
    }
   ],
   "source": [
    "#7)Word and length pair only if the word is starting with vowel\n",
    "\n",
    "st = \"python is a language, python programming is easy\"\n",
    "d = {word: len(word) for word in st.split() if word[0].lower() in {'a', 'e', 'i', 'o', 'u'} }\n",
    "print(d)"
   ]
  },
  {
   "cell_type": "code",
   "execution_count": 119,
   "id": "04cacfdf-8f0e-4369-85b2-07e98c0c33eb",
   "metadata": {},
   "outputs": [
    {
     "name": "stdout",
     "output_type": "stream",
     "text": [
      "{0: 'nohtyp', 1: 'si', 2: 'a', 3: ',egaugnal', 4: 'nohtyp', 5: 'gnimmargorp', 6: 'si', 7: '4'}\n"
     ]
    }
   ],
   "source": [
    "#8)index and word pair if word is of type string reverse it \n",
    "st = \"python is a language, python programming is easy\"\n",
    "\n",
    "d = {index: word[::-1] if isinstance(word, str) else word for index, word in enumerate(st.split())}\n",
    "print(d)"
   ]
  },
  {
   "cell_type": "code",
   "execution_count": 125,
   "id": "d8935a44-7516-4d68-ab42-3170823c2a42",
   "metadata": {},
   "outputs": [
    {
     "name": "stdout",
     "output_type": "stream",
     "text": [
      "{0: 'apple', 1: 'banana', 2: 'orange', 3: 'grapes'}\n"
     ]
    }
   ],
   "source": [
    "#9)Flip keys and values in a dictionary\n",
    "\n",
    "a = {'apple': 0, 'banana': 1, 'orange': 2, 'grapes': 3}\n",
    "\n",
    "d= {value: key for key, value in a.items()}\n",
    "print(d)"
   ]
  },
  {
   "cell_type": "markdown",
   "id": "e086fed7-6470-4c0d-8eb3-277d60660da1",
   "metadata": {},
   "source": [
    "Domain: Conditional Statement\n",
    "\n",
    "Function: If else Condition\n",
    "\n",
    "Scenario: If else condition"
   ]
  },
  {
   "cell_type": "code",
   "execution_count": 129,
   "id": "16c151d3-31e8-4f57-a568-c3505107df48",
   "metadata": {},
   "outputs": [
    {
     "name": "stdin",
     "output_type": "stream",
     "text": [
      " 9\n"
     ]
    },
    {
     "name": "stdout",
     "output_type": "stream",
     "text": [
      "odd\n"
     ]
    }
   ],
   "source": [
    "# 1)Check the given number is even or odd\n",
    "a = int(input())\n",
    "\n",
    "if a % 2 == 0:\n",
    "  print('even')\n",
    "else:\n",
    "  print('odd')"
   ]
  },
  {
   "cell_type": "code",
   "execution_count": 137,
   "id": "6d692edb-17d2-4224-bf53-e503744effb6",
   "metadata": {},
   "outputs": [
    {
     "name": "stdin",
     "output_type": "stream",
     "text": [
      " 450\n"
     ]
    },
    {
     "name": "stdout",
     "output_type": "stream",
     "text": [
      "450 product_cost + 50 shipping cost = 500 totat_cost\n"
     ]
    }
   ],
   "source": [
    "#10)Write a program to print total amount for the product including shipping charge\n",
    "#If the product cost is less than 500Rs then add 50rs as shipping charge greater than 50Rs no shipping charge\n",
    "\n",
    "\n",
    "product_cost = int(input())\n",
    "total_cost = 0\n",
    "if product_cost < 500:\n",
    "    total_cost = product_cost+50\n",
    "    print(f\"{product_cost} product_cost + 50 shipping cost = {total_cost} totat_cost\" )\n",
    "else:\n",
    "    print(f\"no shipping charge {total_cost}\")\n"
   ]
  },
  {
   "cell_type": "code",
   "execution_count": 142,
   "id": "c87cddce-bbb3-4f5a-94ee-629338cc66fd",
   "metadata": {},
   "outputs": [
    {
     "name": "stdin",
     "output_type": "stream",
     "text": [
      " 2\n"
     ]
    },
    {
     "name": "stdout",
     "output_type": "stream",
     "text": [
      "7\n"
     ]
    }
   ],
   "source": [
    "#2) Enter a number if number completely divisible by 5 then add 10 to it else 5 to it\n",
    "\n",
    "a = int(input())\n",
    "\n",
    "if a %5 ==0:\n",
    "    a = a+10\n",
    "    print(a)\n",
    "else:\n",
    "    a = a+5\n",
    "    print(a)"
   ]
  },
  {
   "cell_type": "code",
   "execution_count": 144,
   "id": "b380956b-dc73-43d3-820c-33bbaad259c4",
   "metadata": {},
   "outputs": [
    {
     "name": "stdin",
     "output_type": "stream",
     "text": [
      "enter a product:  ban\n"
     ]
    },
    {
     "name": "stdout",
     "output_type": "stream",
     "text": [
      "no\n"
     ]
    }
   ],
   "source": [
    "# 3)create a list of products check the particular product looking is available in stock or not\n",
    "\n",
    "products = ['apple', 'banana', 'orange', 'grapes']\n",
    "\n",
    "avail = input('enter a product: ')\n",
    "\n",
    "if avail in products:\n",
    "    print('yes')\n",
    "else:\n",
    "    print('no')"
   ]
  },
  {
   "cell_type": "code",
   "execution_count": 147,
   "id": "ad58c4d0-94e4-477e-ab47-33816b9a09f4",
   "metadata": {},
   "outputs": [
    {
     "name": "stdin",
     "output_type": "stream",
     "text": [
      "enter a number 50\n",
      "enter a number 22\n"
     ]
    },
    {
     "name": "stdout",
     "output_type": "stream",
     "text": [
      "n1 50\n"
     ]
    }
   ],
   "source": [
    "# 4)Write a program two find smallest number between two numbers\n",
    "\n",
    "n1 = int(input('enter a number'))\n",
    "n2 = int(input('enter a number'))\n",
    "\n",
    "if n1 > n2:\n",
    "    print('n1',n1)\n",
    "else:\n",
    "    print('n2',n2)"
   ]
  },
  {
   "cell_type": "code",
   "execution_count": 149,
   "id": "8493de49-8f78-41ca-9e48-129a322a37da",
   "metadata": {},
   "outputs": [
    {
     "name": "stdin",
     "output_type": "stream",
     "text": [
      "enter a number :  3\n"
     ]
    },
    {
     "name": "stdout",
     "output_type": "stream",
     "text": [
      "no\n"
     ]
    }
   ],
   "source": [
    "#5)Check the number is completely divisible by 3 and 2\n",
    "\n",
    "num = int(input('enter a number : '))\n",
    "\n",
    "if num % 3 == 0  and num % 2 == 0:\n",
    "    print('completely divisible by 3 and 2')\n",
    "else:\n",
    "    print('no')"
   ]
  },
  {
   "cell_type": "code",
   "execution_count": 156,
   "id": "c633a013-4624-4d39-bc94-9eea27fcb72a",
   "metadata": {},
   "outputs": [
    {
     "name": "stdin",
     "output_type": "stream",
     "text": [
      "enter the quantity:  1\n"
     ]
    },
    {
     "name": "stdout",
     "output_type": "stream",
     "text": [
      "total cost: 100\n"
     ]
    }
   ],
   "source": [
    "# 6)A shop will give discount of 10% if the cost of purchased amount is 10000.\n",
    "# Ask user for quantitySuppose, one unit will cost 100.Judge and print total cost for user.\n",
    "quantity = int(input(\"enter the quantity: \"))\n",
    "\n",
    "unit_cost = 100\n",
    "total_cost = quantity * unit_cost\n",
    "\n",
    "if total_cost >= 10000:\n",
    "    discount = 0.1 * total_cost\n",
    "    total_cost = total_cost - discount\n",
    "print(\"total cost:\", total_cost)"
   ]
  },
  {
   "cell_type": "code",
   "execution_count": 158,
   "id": "ad35cc66-cc96-4da6-b846-ddf683a32054",
   "metadata": {},
   "outputs": [
    {
     "name": "stdin",
     "output_type": "stream",
     "text": [
      "enter a l 4\n",
      "enter a b 4\n"
     ]
    },
    {
     "name": "stdout",
     "output_type": "stream",
     "text": [
      "it is a square\n"
     ]
    }
   ],
   "source": [
    "#7)Take values of length and breadth of a rectangle from user and check if it is square or not.\n",
    "\n",
    "l = int(input('enter a l'))\n",
    "b = int(input('enter a b'))\n",
    "\n",
    "if l == b :\n",
    "    print('it is a square')\n",
    "else:\n",
    "    print('it is rectangle')"
   ]
  },
  {
   "cell_type": "code",
   "execution_count": 159,
   "id": "683a248e-81c3-4bb0-ab31-dcc06e229b40",
   "metadata": {},
   "outputs": [
    {
     "name": "stdin",
     "output_type": "stream",
     "text": [
      "enter the no classes held:  50\n",
      "enter the no of classes attended:  40\n"
     ]
    },
    {
     "name": "stdout",
     "output_type": "stream",
     "text": [
      "percentage of classes attended: 80.0 %\n",
      "student is allowed to sit in the exam.\n"
     ]
    }
   ],
   "source": [
    "# 8)A student will not be allowed to sit in exam if his/her attendance is less than 75%.\n",
    "# Take following input from user Number of classes held, Number of classes attended. \n",
    "# And printpercentage of class attended. Is student is allowed to sit in exam or not.\n",
    "\n",
    "classes_held = int(input(\"enter the no classes held: \"))\n",
    "classes_attended = int(input(\"enter the no of classes attended: \"))\n",
    "\n",
    "\n",
    "atte_per= (classes_attended / classes_held) * 100\n",
    "if atte_per >= 75:\n",
    "    print(\"percentage of classes attended:\", atte_per, \"%\")\n",
    "    print(\"student is allowed to sit in the exam.\")\n",
    "else:\n",
    "    print(\"percentage of classes attended:\", atte_per, \"%\")\n",
    "    print(\"student is not allowed to sit in the exam.\")\n"
   ]
  },
  {
   "cell_type": "code",
   "execution_count": 165,
   "id": "53cb97cd-0dad-48b4-8d26-7bf4e0a803f6",
   "metadata": {},
   "outputs": [
    {
     "name": "stdin",
     "output_type": "stream",
     "text": [
      "enter the year 3\n",
      "enter education mtech\n"
     ]
    },
    {
     "name": "stdout",
     "output_type": "stream",
     "text": [
      "no\n"
     ]
    }
   ],
   "source": [
    "#9)Candidate will be selected for the particular job if he/she met \n",
    "# following expectationYear_of_ experience > 5 Education = MTECH\n",
    "\n",
    "year_of_exp = int(input('enter the year'))\n",
    "education  = input('enter education')\n",
    "education = education.upper()\n",
    "if year_of_exp >= 5 and education == 'MTECH':\n",
    "    print('allowed')\n",
    "else:\n",
    "    print('no')"
   ]
  },
  {
   "cell_type": "code",
   "execution_count": 167,
   "id": "79bb55a8-33f6-4e58-a9ea-b1676c866a54",
   "metadata": {},
   "outputs": [
    {
     "name": "stdin",
     "output_type": "stream",
     "text": [
      "enter the year 5\n",
      "enter you preference office\n"
     ]
    },
    {
     "name": "stdout",
     "output_type": "stream",
     "text": [
      "rejeced\n"
     ]
    }
   ],
   "source": [
    "# if the candidate is graduate and has 5+ years of experience and is ready to work fromoffice - \n",
    "# send the interview letter otherwise say rejected.(write nested if else...code)\n",
    "year_of_exp = int(input('enter the year'))\n",
    "work_from  = input('enter you preference')\n",
    "work_from = work_from.lower()\n",
    "\n",
    "if year_of_exp > 5 and work_from == 'office':\n",
    "    print('selected')\n",
    "else:\n",
    "    print('rejeced')"
   ]
  },
  {
   "cell_type": "code",
   "execution_count": 168,
   "id": "a834c6ef-3e7f-44b7-81b0-e53ec74d7a1d",
   "metadata": {},
   "outputs": [
    {
     "name": "stdout",
     "output_type": "stream",
     "text": [
      "Discount: 36.0\n",
      "Amount after discount: 1164.0\n"
     ]
    }
   ],
   "source": [
    "# if the price of the item is more than 1000 then the discount is 3% otherwise it is 2%. \n",
    "# given the purchase item cost is 1200 what is the discount? what is the amt after discount?\n",
    "item_cost = 1200\n",
    "\n",
    "if item_cost > 1000:\n",
    "    discount_percentage = 0.03  \n",
    "else:\n",
    "    discount_percentage = 0.02\n",
    "discount = discount_percentage * item_cost\n",
    "amount_after_discount = item_cost - discount\n",
    "print(\"Discount:\", discount)\n",
    "print(\"Amount after discount:\", amount_after_discount)\n"
   ]
  },
  {
   "cell_type": "code",
   "execution_count": 169,
   "id": "5438248b-5135-4a31-9a68-8455c0a3097c",
   "metadata": {},
   "outputs": [
    {
     "name": "stdin",
     "output_type": "stream",
     "text": [
      "enter a number 80000\n"
     ]
    },
    {
     "name": "stdout",
     "output_type": "stream",
     "text": [
      "salary: 80000\n",
      "tax amount: 7200.0\n",
      "salary_after_tax: 72800.0\n"
     ]
    }
   ],
   "source": [
    "# if the salary of the employee is above 75000 then there is 9% tax  \n",
    "# if the salary of the employee is above 60000 (less than 75000) then there is 7% tax   \n",
    "# if the salary of the employee is above 48000 (less than 60000) then there is 5.5% tax  \n",
    "#otherwise it is 2% tax   \n",
    "# print the salary, tax amount, salary after tax [you need to deduct tax from salary]\n",
    "\n",
    "\n",
    "salary = int(input('enter salary'))\n",
    "tax_percentage = 0\n",
    "\n",
    "\n",
    "if salary > 75000:\n",
    "    tax_percentage = 0.09\n",
    "elif salary > 60000:\n",
    "    tax_percentage = 0.07\n",
    "elif salary > 48000:\n",
    "    tax_percentage = 0.055\n",
    "else:\n",
    "    tax_percentage = 0.02\n",
    "\n",
    "tax_amount = tax_percentage * salary\n",
    "salary_after_tax = salary - tax_amount\n",
    "print(\"salary:\", salary)\n",
    "print(\"tax amount:\", tax_amount)\n",
    "print(\"salary_after_tax:\", salary_after_tax)"
   ]
  },
  {
   "cell_type": "code",
   "execution_count": 170,
   "id": "cff4c730-786d-47b0-be2f-df8c21904b72",
   "metadata": {},
   "outputs": [
    {
     "name": "stdout",
     "output_type": "stream",
     "text": [
      "same\n"
     ]
    }
   ],
   "source": [
    "# name1 = \"Ramesh Kumar\"name2 = 'Ramesh' + ' Kumar'how to check whether the names are same?\n",
    "name1 = \"Ramesh Kumar\"\n",
    "name2 = 'Ramesh' + ' Kumar'\n",
    "\n",
    "if name1 == name2:\n",
    "    print('same')\n",
    "else:\n",
    "    print('no')"
   ]
  },
  {
   "cell_type": "code",
   "execution_count": 171,
   "id": "ece4f32e-e802-44ae-8183-9f313e202fe8",
   "metadata": {},
   "outputs": [
    {
     "name": "stdin",
     "output_type": "stream",
     "text": [
      "enter the salary of the employee:  50000\n",
      "enter the last drawn salary:  40000\n"
     ]
    },
    {
     "name": "stdout",
     "output_type": "stream",
     "text": [
      "salary: 50000\n",
      "tax amt: 2750.0\n",
      "salary after tax: 47250.0\n"
     ]
    }
   ],
   "source": [
    "# once solution 5 is there let say the client say to add the condition that the last salary drawn should not be above 60000 \n",
    "# then only the candidate is to be shortlisted otherwise not.\n",
    "\n",
    "\n",
    "salary = int(input(\"enter the salary of the employee: \"))\n",
    "last_drawn_salary = int(input(\"enter the last drawn salary: \"))\n",
    "\n",
    "if salary > 75000 and last_drawn_salary <= 60000:\n",
    "    tax_percentage = 0.09\n",
    "elif salary > 60000 and salary <= 75000 and last_drawn_salary <= 60000:\n",
    "    tax_percentage = 0.07\n",
    "elif salary > 48000 and salary <= 60000 and last_drawn_salary <= 60000:\n",
    "    tax_percentage = 0.055\n",
    "elif salary <= 48000 and last_drawn_salary <= 60000:\n",
    "    tax_percentage = 0.02\n",
    "else:\n",
    "    print(\"employee not matched the criteria.\")\n",
    "\n",
    "if tax_percentage != 0:\n",
    "    tax_amount = tax_percentage * salary\n",
    "\n",
    "    salary_after_tax = salary - tax_amount\n",
    "\n",
    "    print(\"salary:\", salary)\n",
    "    print(\"tax amt:\", tax_amount)\n",
    "    print(\"salary after tax:\", salary_after_tax)"
   ]
  },
  {
   "cell_type": "code",
   "execution_count": null,
   "id": "dbdfa57c-1356-4f04-b697-100088d828d6",
   "metadata": {},
   "outputs": [],
   "source": []
  },
  {
   "cell_type": "markdown",
   "id": "1ebfae61-93de-4b90-ab25-d6ab0563ab9a",
   "metadata": {},
   "source": [
    "6)Domain: Basic Programs\n",
    "\n",
    "Function: Operators\n",
    "\n",
    "Scenario: Programs on Operator"
   ]
  },
  {
   "cell_type": "code",
   "execution_count": 173,
   "id": "64d40f88-09bf-4099-a06e-c13d32cd8321",
   "metadata": {},
   "outputs": [
    {
     "name": "stdin",
     "output_type": "stream",
     "text": [
      "enter cost_price:  500\n",
      "enter profit percentage:  30\n"
     ]
    },
    {
     "name": "stdout",
     "output_type": "stream",
     "text": [
      "selling Price: 550.0\n"
     ]
    }
   ],
   "source": [
    "#1)\tEnter cost price, Enter desired profit percentage and find selling price\n",
    "\n",
    "def calculate_selling_price(cost_price,profit_percentage):\n",
    "    selling_price = cost_price +(cost_price*profit_precentage/100)\n",
    "    return selling_price\n",
    "\n",
    "cost_price = int(input('enter cost_price: '))\n",
    "profit_percentage = int(input('enter profit percentage: '))\n",
    "selling_price = calculate_selling_price(cost_price, profit_percentage)\n",
    "print(\"selling Price:\", selling_price)"
   ]
  },
  {
   "cell_type": "code",
   "execution_count": 174,
   "id": "20b6faeb-1454-437c-ac48-aa1764d87129",
   "metadata": {},
   "outputs": [
    {
     "name": "stdin",
     "output_type": "stream",
     "text": [
      "enter the product price:  5000\n"
     ]
    },
    {
     "name": "stdout",
     "output_type": "stream",
     "text": [
      "4900.0\n"
     ]
    }
   ],
   "source": [
    "#0)\tEnter the product price, calculate the total amount of the product by considering 2% Discount\n",
    "\n",
    "def calculate_discout(original_price,discount_percentage):\n",
    "    discount_price = original_price - (original_price*discount_percentage/100)\n",
    "    return discount_price\n",
    "\n",
    "original_price = float(input(\"enter the product price: \"))\n",
    "discount_percentage = 2.0\n",
    "\n",
    "discounted_price = calculate_discout(original_price,discount_percentage)\n",
    "\n",
    "print(discounted_price)\n"
   ]
  },
  {
   "cell_type": "code",
   "execution_count": null,
   "id": "9e3a1d32-8021-4199-b373-14dc323b0abd",
   "metadata": {},
   "outputs": [],
   "source": [
    "#2)\tEnter the product price, Qty, Gst in percentage find the total amount of the product\n",
    "\n",
    "def total_amt(product_price,qty,gst_p):\n",
    "    total_price_without_gst = product_price * qty\n",
    "    gst_amount = total_price_without_gst * gst_p / 100\n",
    "    total_amount = total_price_without_gst + gst_amount\n",
    "    return total_amount\n",
    "\n",
    "product_price = float(input(\"Enter the product price: \"))\n",
    "qty = int(input(\"Enter the qty: \"))\n",
    "gst = float(input(\"Enter the GST percentage: \"))"
   ]
  },
  {
   "cell_type": "code",
   "execution_count": null,
   "id": "f14493c6-18fa-4355-ba79-71021752d412",
   "metadata": {},
   "outputs": [],
   "source": []
  },
  {
   "cell_type": "markdown",
   "id": "b324fad4-5581-41f5-a1c9-9baf03110426",
   "metadata": {},
   "source": [
    "# Practice Questions"
   ]
  },
  {
   "cell_type": "code",
   "execution_count": 194,
   "id": "7b87f891-cedb-4e7c-b9a5-3e6435592840",
   "metadata": {},
   "outputs": [],
   "source": [
    "#1. Write a Python function that takes a list of integers as input and returns a new list containing only the prime numbers.\n",
    "\n",
    "nums= [2,3,4,5,6,7,8,9,10,11,12]\n",
    "def return_prime(nums):\n",
    "    prime_nums=[]\n",
    "    for i in nums:\n",
    "        if i>=2:\n",
    "            for j in range(2,i):\n",
    "                if i%j==0:\n",
    "                    break\n",
    "            else:\n",
    "                prime_nums.append(i)\n",
    "    return prime_nums"
   ]
  },
  {
   "cell_type": "code",
   "execution_count": 195,
   "id": "3ffd7f84-897c-4031-bb64-a0809a1a988a",
   "metadata": {},
   "outputs": [
    {
     "data": {
      "text/plain": [
       "[2, 3, 5, 7, 11]"
      ]
     },
     "execution_count": 195,
     "metadata": {},
     "output_type": "execute_result"
    }
   ],
   "source": [
    "return_prime(nums)"
   ]
  },
  {
   "cell_type": "code",
   "execution_count": 196,
   "id": "11f0c440-5df5-459e-8273-0d260ca1cde5",
   "metadata": {},
   "outputs": [
    {
     "name": "stdout",
     "output_type": "stream",
     "text": [
      "[4, 5]\n"
     ]
    }
   ],
   "source": [
    "#2. Implement a function that accepts two lists of integers and returns a new list containing elements that are common to both lists.\n",
    "\n",
    "def find_common(l1,l2):\n",
    "    set1 = set(l1)\n",
    "    set2 = set(l2)\n",
    "    common_ele = set1.intersection(set2)\n",
    "    return list(common_ele)\n",
    "\n",
    "l1 = [1, 2, 3, 4, 5]\n",
    "l2 = [4, 5, 6, 7, 8]\n",
    "\n",
    "common_elements = find_common(l1, l2)\n",
    "print( common_elements)"
   ]
  },
  {
   "cell_type": "code",
   "execution_count": 197,
   "id": "ff45e74d-7dd7-4223-80c9-be8ce62b3c23",
   "metadata": {},
   "outputs": [
    {
     "name": "stdout",
     "output_type": "stream",
     "text": [
      "(2, 1, 5, 4, 3, 2, 1)\n"
     ]
    }
   ],
   "source": [
    "#3. Write a Python code to reverse a tuple without using the [: : -1] slicing.\n",
    "\n",
    "\n",
    "def rev_tup(a):\n",
    "    rev_it = reversed(a)\n",
    "    rev_tup = tuple(rev_it)\n",
    "    return rev_tup\n",
    "    \n",
    "a = (1,2,3,4,5,1,2)\n",
    "\n",
    "reversed_tuple = rev_tup(a)\n",
    "print(reversed_tuple)\n"
   ]
  },
  {
   "cell_type": "code",
   "execution_count": 202,
   "id": "3da0ff55-fa93-45d4-8d92-d234e6177d36",
   "metadata": {},
   "outputs": [],
   "source": [
    "#4. Create a dictionary representing a student database with information such as name, age, subjects, and grades. \n",
    "#Implement a function that calculates and returns the average grade of the student.\n",
    "\n",
    "\n",
    "student = {\n",
    "    \"name\": \"John Doe\",\n",
    "    \"age\": 20,\n",
    "    \"subjects\": [\"Math\", \"Science\", \"History\", \"English\"],\n",
    "    \"grades\": [85, 90, 78, 92]  }\n",
    "\n",
    "def avg_marks_cal(student):\n",
    "    grades = student['grades']\n",
    "    avg_grade = sum(grades)/len(grades)\n",
    "    return avg_grade\n",
    "\n",
    "avg_grade = avg_marks_cal(student)\n",
    "avg_grade"
   ]
  },
  {
   "cell_type": "code",
   "execution_count": 206,
   "id": "220e6faa-eed8-444e-8e83-2d98ee336371",
   "metadata": {},
   "outputs": [
    {
     "name": "stdout",
     "output_type": "stream",
     "text": [
      "{'a': 100, 'b': 500, 'c': 700, 'd': 500}\n"
     ]
    }
   ],
   "source": [
    "#5. Write a Python code to merge two dictionaries. If there are common keys, sum the values.\n",
    "d1 = {'a': 100, 'b': 200, 'c': 300}\n",
    "d2 = {'b': 300, 'c': 400, 'd': 500}\n",
    "\n",
    "merged_dict = d1.copy()\n",
    "\n",
    "for key, value in d2.items():\n",
    "    if key in merged_dict:\n",
    "        merged_dict[key] += value  \n",
    "    else:\n",
    "        merged_dict[key] = value  \n",
    "\n",
    "print(merged_dict)"
   ]
  },
  {
   "cell_type": "code",
   "execution_count": 208,
   "id": "df61297b-1d0f-49dd-922e-d49bd4f3355c",
   "metadata": {},
   "outputs": [],
   "source": [
    "#6. Consider a list of integers named data. Write a Python program that accomplishes the following tasks:\n"
   ]
  },
  {
   "cell_type": "code",
   "execution_count": 210,
   "id": "381f2d5f-4244-43df-ac7b-58611b1d4d39",
   "metadata": {},
   "outputs": [
    {
     "name": "stdout",
     "output_type": "stream",
     "text": [
      "[22, 32, 1, 3, 5, 322, 5, 65, 54, 344, 655, 43, 11]\n"
     ]
    }
   ],
   "source": [
    "# a) Initialize the data list with a minimum of 10 integer values.\n",
    "data = [22,32,1,3,5,322,5,65,54,344,655,43,11]\n",
    "print(data)"
   ]
  },
  {
   "cell_type": "code",
   "execution_count": 215,
   "id": "d3f40a5b-a6ff-4883-9830-dbe8155ee68b",
   "metadata": {},
   "outputs": [
    {
     "name": "stdout",
     "output_type": "stream",
     "text": [
      "[22, 32, 1, 3, 5, 322, 5, 65, 54, 344, 655, 43, 11]\n"
     ]
    }
   ],
   "source": [
    "#b) Implement a loop to calculate the square of each element in the data list.\n",
    "new = []\n",
    "for i in data:\n",
    "    i**2\n",
    "    new.append(i)\n",
    "print(new)"
   ]
  },
  {
   "cell_type": "code",
   "execution_count": 217,
   "id": "330a2a9c-586c-45b3-908f-b4ef2520c521",
   "metadata": {},
   "outputs": [
    {
     "data": {
      "text/plain": [
       "[484, 1024, 1, 9, 25, 103684, 25, 4225, 2916, 118336, 429025, 1849, 121]"
      ]
     },
     "execution_count": 217,
     "metadata": {},
     "output_type": "execute_result"
    }
   ],
   "source": [
    "#c) Use list comprehension to create a new list named squared_data containing the squared values of the original list.\n",
    "\n",
    "data = [22,32,1,3,5,322,5,65,54,344,655,43,11]\n",
    "\n",
    "lc = [i**2 for i in data]\n",
    "lc"
   ]
  },
  {
   "cell_type": "code",
   "execution_count": 222,
   "id": "cd76db10-dc4d-4495-879a-2373625fc8e1",
   "metadata": {},
   "outputs": [
    {
     "name": "stdout",
     "output_type": "stream",
     "text": [
      "[322, 65, 54, 344, 655]\n"
     ]
    }
   ],
   "source": [
    "#d) Write a function named filter_data that takes a list as input and returns a new list containing only the elements greater than 50.\n",
    "\n",
    "\n",
    "def filter_data(l):\n",
    "    filtered_list = [x for x in input_list if x > 50]\n",
    "    return filtered_list\n",
    "\n",
    "data = [22, 32, 1, 3, 5, 322, 5, 65, 54, 344, 655, 43, 11]\n",
    "\n",
    "filtered_data = filter_data(data)\n",
    "\n",
    "print(filtered_data)"
   ]
  },
  {
   "cell_type": "code",
   "execution_count": 224,
   "id": "ada079e4-c59a-4f2d-b07a-696dac9463ba",
   "metadata": {},
   "outputs": [
    {
     "name": "stdout",
     "output_type": "stream",
     "text": [
      "[322, 65, 54, 344, 655]\n"
     ]
    }
   ],
   "source": [
    "#e) Use the filter_data function to create a new list named filtered_data from the squared_data list.\n",
    "def fil_data(l):\n",
    "    filtered_list = [x for x in l if x > 50]\n",
    "    return filtered_list\n",
    "new\n",
    "\n",
    "filtered_data = fil_data(new)\n",
    "\n",
    "print(filtered_data)\n"
   ]
  },
  {
   "cell_type": "code",
   "execution_count": 234,
   "id": "d7fb9f8f-5997-4618-9931-c5bfe2e6c8b8",
   "metadata": {},
   "outputs": [
    {
     "name": "stdout",
     "output_type": "stream",
     "text": [
      "index 0: 322\n",
      "index 1: 65\n",
      "index 2: 54\n",
      "index 3: 344\n",
      "index 4: 655\n"
     ]
    }
   ],
   "source": [
    "#f) Implement a loop to iterate through the filtered_data list and print each element along with its index in the list.\n",
    "filtered_data\n",
    "\n",
    "for index, element in enumerate(filtered_data):\n",
    "    print(f\"index {index}: {element}\")"
   ]
  },
  {
   "cell_type": "code",
   "execution_count": 240,
   "id": "31ed5383-3b77-4679-9955-eb6261a1f48b",
   "metadata": {},
   "outputs": [
    {
     "data": {
      "text/plain": [
       "[54, 65, 322, 344, 655]"
      ]
     },
     "execution_count": 240,
     "metadata": {},
     "output_type": "execute_result"
    }
   ],
   "source": [
    "#g) Finally, sort the filtered_data list in descending order and print the sorted list.\n",
    "\n",
    "sorted_l = sorted(filtered_data)\n",
    "sorted_l"
   ]
  },
  {
   "cell_type": "code",
   "execution_count": 238,
   "id": "dc2621c3-7f42-4351-b606-12b18edc5744",
   "metadata": {},
   "outputs": [
    {
     "data": {
      "text/plain": [
       "[54, 65, 322, 344, 655]"
      ]
     },
     "execution_count": 238,
     "metadata": {},
     "output_type": "execute_result"
    }
   ],
   "source": [
    "\\"
   ]
  },
  {
   "cell_type": "code",
   "execution_count": null,
   "id": "c4e33217-ab97-4072-9d82-331d90ce92eb",
   "metadata": {},
   "outputs": [],
   "source": []
  }
 ],
 "metadata": {
  "kernelspec": {
   "display_name": "Python 3 (ipykernel)",
   "language": "python",
   "name": "python3"
  },
  "language_info": {
   "codemirror_mode": {
    "name": "ipython",
    "version": 3
   },
   "file_extension": ".py",
   "mimetype": "text/x-python",
   "name": "python",
   "nbconvert_exporter": "python",
   "pygments_lexer": "ipython3",
   "version": "3.11.7"
  }
 },
 "nbformat": 4,
 "nbformat_minor": 5
}
