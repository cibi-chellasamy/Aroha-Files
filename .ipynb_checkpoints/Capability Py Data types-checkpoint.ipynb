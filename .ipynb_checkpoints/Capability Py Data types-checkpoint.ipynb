{
 "cells": [
  {
   "cell_type": "markdown",
   "id": "4c1b5353-113b-47be-82ea-06cd8d535aee",
   "metadata": {},
   "source": [
    "# List\n"
   ]
  },
  {
   "cell_type": "code",
   "execution_count": 5,
   "id": "f798d286-1746-492c-a61c-b5976fc9b564",
   "metadata": {},
   "outputs": [
    {
     "name": "stdout",
     "output_type": "stream",
     "text": [
      "1\n",
      "[1, 2, 3, 4, 5]\n"
     ]
    }
   ],
   "source": [
    "#1)print index number and element in the list\n",
    "\n",
    "a = [1,2,3,4,5]\n",
    "\n",
    "print(a.index(2))\n",
    "print(a)"
   ]
  },
  {
   "cell_type": "code",
   "execution_count": 13,
   "id": "62ceec2d-9bd5-4299-ae74-886c8e27e970",
   "metadata": {},
   "outputs": [
    {
     "name": "stdout",
     "output_type": "stream",
     "text": [
      "[2, 4]\n"
     ]
    }
   ],
   "source": [
    "# 2)print even indexed element in list\n",
    "\n",
    "a = [1,2,3,4,5]\n",
    "b = []\n",
    "\n",
    "for i in a:\n",
    "    if i%2==0:\n",
    "        b.append(i)\n",
    "\n",
    "print(b)"
   ]
  },
  {
   "cell_type": "code",
   "execution_count": 18,
   "id": "cc062eeb-9179-4048-ba92-e070564dfb87",
   "metadata": {},
   "outputs": [
    {
     "name": "stdout",
     "output_type": "stream",
     "text": [
      "1\n",
      "5\n"
     ]
    }
   ],
   "source": [
    "#3)Print integers in a list\n",
    "li = [1,'java',2.3,'5',5,'python']\n",
    "\n",
    "for i in li:\n",
    "    if isinstance(i,int):\n",
    "        print(i)"
   ]
  },
  {
   "cell_type": "code",
   "execution_count": 20,
   "id": "e16114bb-5ac9-4f02-a1fd-02e3186952f7",
   "metadata": {},
   "outputs": [
    {
     "name": "stdout",
     "output_type": "stream",
     "text": [
      "com\n",
      "in\n",
      "com\n"
     ]
    }
   ],
   "source": [
    "#4)print only extension in list\n",
    "li = ['gmail.com','yahoo.in','google.com']\n",
    "\n",
    "for i in li:\n",
    "    print(i.split(\".\")[-1])"
   ]
  },
  {
   "cell_type": "code",
   "execution_count": 24,
   "id": "db6e0372-5252-4236-ba78-44d4a0e58dd6",
   "metadata": {},
   "outputs": [
    {
     "name": "stdout",
     "output_type": "stream",
     "text": [
      "5\n"
     ]
    }
   ],
   "source": [
    "#5)find the largest number in the list\n",
    "\n",
    "a =[1,2,3,4,5]\n",
    "print(max(a))"
   ]
  },
  {
   "cell_type": "code",
   "execution_count": 36,
   "id": "3a87cc5d-a3ea-43b0-a859-7062cdbcead1",
   "metadata": {},
   "outputs": [
    {
     "name": "stdout",
     "output_type": "stream",
     "text": [
      "['axa', 'amma', 'xyz', '1221']\n"
     ]
    }
   ],
   "source": [
    "# 6)print char\n",
    "# a) length char should be > 2\n",
    "# b) first and last charcter should be same\n",
    "# li = ['axa','amma','xyz','1221']\n",
    "# op = 'axa' 'amma','1221'\n",
    "\n",
    "li = ['axa','amma','xyz','1221']\n",
    "\n",
    "if len(li)>2 :\n",
    "    print(li)"
   ]
  },
  {
   "cell_type": "code",
   "execution_count": 40,
   "id": "53763c7e-3e4d-4800-8b4b-4ee08b2bb669",
   "metadata": {},
   "outputs": [
    {
     "name": "stdout",
     "output_type": "stream",
     "text": [
      "axa\n",
      "amma\n",
      "1221\n"
     ]
    }
   ],
   "source": [
    "for i in li:\n",
    "    if i[0] == i[-1]:\n",
    "        print(i)"
   ]
  },
  {
   "cell_type": "code",
   "execution_count": 43,
   "id": "a2864731-adcc-4c61-823a-f4ad13fa6118",
   "metadata": {},
   "outputs": [
    {
     "name": "stdin",
     "output_type": "stream",
     "text": [
      "Enter the prds a\n",
      "Enter the prds d\n"
     ]
    },
    {
     "name": "stdout",
     "output_type": "stream",
     "text": [
      "['a', 'd']\n"
     ]
    }
   ],
   "source": [
    "#7)Create a product list based on user input\n",
    "\n",
    "prd = []\n",
    "\n",
    "for i in range(1,3):\n",
    "    a = input(\"Enter the prds\")\n",
    "    prd.append(a)\n",
    "print(prd)"
   ]
  },
  {
   "cell_type": "code",
   "execution_count": 46,
   "id": "a930d7ff-7074-46aa-a16d-fa8369ac1634",
   "metadata": {},
   "outputs": [
    {
     "name": "stdout",
     "output_type": "stream",
     "text": [
      "['axa', 'amma', 'xyz', '1221']\n"
     ]
    }
   ],
   "source": [
    "#8)Remove duplicate element available in list\n",
    "\n",
    "li = ['axa','amma','xyz','1221','axa']\n",
    "l = []\n",
    "for i in li:\n",
    "    if i not in l:\n",
    "        l.append(i)\n",
    "\n",
    "print(l)"
   ]
  },
  {
   "cell_type": "code",
   "execution_count": 53,
   "id": "f368a1ab-b869-4b12-a431-4b8f17840be0",
   "metadata": {},
   "outputs": [
    {
     "name": "stdout",
     "output_type": "stream",
     "text": [
      "['xa', 'mma', 'zyx', 1223, 45]\n"
     ]
    }
   ],
   "source": [
    "#9)If list contains string reverse the string else keep as it is\n",
    "\n",
    "li = ['ax','amm','xyz',1223,45]\n",
    "\n",
    "l = []\n",
    "\n",
    "for x in li:\n",
    "    if isinstance(x,str):\n",
    "        l.append(x[::-1])\n",
    "    else:\n",
    "        l.append(x)\n",
    "print(l)"
   ]
  },
  {
   "cell_type": "code",
   "execution_count": 61,
   "id": "d87254c6-1f2d-49f3-86bc-62c7d18bb850",
   "metadata": {},
   "outputs": [
    {
     "name": "stdout",
     "output_type": "stream",
     "text": [
      "['1221', 'xyz', 'amma', 'axa']\n"
     ]
    }
   ],
   "source": [
    "#10)Print list in reverse order\n",
    "\n",
    "li = ['axa','amma','xyz','1221']\n",
    "\n",
    "li.reverse()\n",
    "print(li)"
   ]
  },
  {
   "cell_type": "markdown",
   "id": "7394410c-b744-4008-9ada-357fcae1eb39",
   "metadata": {},
   "source": [
    "# Tuple"
   ]
  },
  {
   "cell_type": "code",
   "execution_count": 65,
   "id": "48f1e4da-1c44-408a-9a5c-165645ce8a32",
   "metadata": {},
   "outputs": [
    {
     "name": "stdout",
     "output_type": "stream",
     "text": [
      "15\n"
     ]
    }
   ],
   "source": [
    "#1)Print sum of elements in tuple\n",
    "\n",
    "a = (1,2,3,4,5)\n",
    "\n",
    "print(sum(a))"
   ]
  },
  {
   "cell_type": "code",
   "execution_count": 66,
   "id": "5a86f680-07b5-4598-81c1-1062406794db",
   "metadata": {},
   "outputs": [
    {
     "data": {
      "text/plain": [
       "(5, 4, 3, 2, 1)"
      ]
     },
     "execution_count": 66,
     "metadata": {},
     "output_type": "execute_result"
    }
   ],
   "source": [
    "#2)Print elements inside the tuple in reverse order\n",
    "\n",
    "a = (1,2,3,4,5)\n",
    "a[::-1]"
   ]
  },
  {
   "cell_type": "code",
   "execution_count": 68,
   "id": "f1730484-747d-4891-a8f4-de3d12f43c52",
   "metadata": {},
   "outputs": [
    {
     "name": "stdout",
     "output_type": "stream",
     "text": [
      "{1, 2, 3, 4, 5, 6, 7, 8}\n",
      "{2, 3, 5}\n"
     ]
    }
   ],
   "source": [
    "#3)Print duplicate element in tuple\n",
    "\n",
    "tup = (1, 2, 3, 2, 4, 5, 6, 3, 7, 8, 5)\n",
    "seen = set()\n",
    "dup = set()\n",
    "\n",
    "for i in tup:\n",
    "    if i in seen:\n",
    "        dup.add(i)\n",
    "    else:\n",
    "        seen.add(i)\n",
    "print(seen)\n",
    "print(dup)"
   ]
  },
  {
   "cell_type": "code",
   "execution_count": 69,
   "id": "89f639a7-4019-41bf-9b42-789bdc043453",
   "metadata": {},
   "outputs": [
    {
     "name": "stdout",
     "output_type": "stream",
     "text": [
      "15\n"
     ]
    }
   ],
   "source": [
    "#4)if num devisible by both 3 and 5 print that number\n",
    "\n",
    "tu = (5,14,15,18,21,25) \n",
    "\n",
    "for i in tu:\n",
    "    if i%3 == 0 and i % 5 == 0:\n",
    "        print(i)"
   ]
  },
  {
   "cell_type": "code",
   "execution_count": 71,
   "id": "109d5bf5-e23a-4c8f-91cd-9aaee9acf860",
   "metadata": {},
   "outputs": [
    {
     "data": {
      "text/plain": [
       "5"
      ]
     },
     "execution_count": 71,
     "metadata": {},
     "output_type": "execute_result"
    }
   ],
   "source": [
    "#5)Print Highest and lowerst number in tuple\n",
    "tu = (5,14,15,18,21,25) \n",
    "max(tu)\n",
    "min(tu)"
   ]
  },
  {
   "cell_type": "code",
   "execution_count": 74,
   "id": "38607337-5f2a-4e79-8487-0ba108c76c70",
   "metadata": {},
   "outputs": [
    {
     "name": "stdout",
     "output_type": "stream",
     "text": [
      "(5, 15, 21)\n"
     ]
    }
   ],
   "source": [
    "#6)Print even indexed elements in the tuple\n",
    "tu = (5,14,15,18,21,25) \n",
    "\n",
    "print(tu[::2])"
   ]
  },
  {
   "cell_type": "code",
   "execution_count": 75,
   "id": "e65731c8-25c7-465b-afb0-6116fd0c8d0d",
   "metadata": {},
   "outputs": [
    {
     "data": {
      "text/plain": [
       "2"
      ]
     },
     "execution_count": 75,
     "metadata": {},
     "output_type": "execute_result"
    }
   ],
   "source": [
    "#7)tuple1 = (50, 10, 60, 70, 50) find number of occurrence of 50\n",
    "\n",
    "tuple1 = (50, 10, 60, 70, 50)\n",
    "\n",
    "tuple1.count(50)"
   ]
  },
  {
   "cell_type": "code",
   "execution_count": 77,
   "id": "66d6c28b-d8aa-4076-a5ff-24ba4dec77eb",
   "metadata": {},
   "outputs": [
    {
     "name": "stdout",
     "output_type": "stream",
     "text": [
      "Amazon\n"
     ]
    }
   ],
   "source": [
    "#8)print if the element is starting with vowel \n",
    "files = (\"Amazon\", \"flipkart\", \"walmart\", \"gmail\", \"yahoo\")\n",
    "\n",
    "for i in files:\n",
    "    if i[0] in \"aeiouAEIOU\":\n",
    "        print(i)"
   ]
  },
  {
   "cell_type": "code",
   "execution_count": 79,
   "id": "245c7b69-3b16-4544-bf3e-05abcc0f85a0",
   "metadata": {},
   "outputs": [
    {
     "name": "stdout",
     "output_type": "stream",
     "text": [
      "dad\n",
      "malayalam\n",
      "madam\n",
      "mom\n"
     ]
    }
   ],
   "source": [
    "#9) print polindrome in tuple\n",
    "tu = (\"python\", \"dad\", \"hai\", \"malayalam\", \"madam\", \"mom\")\n",
    "\n",
    "for i in tu:\n",
    "    if i == i[::-1]:\n",
    "        print(i)"
   ]
  },
  {
   "cell_type": "code",
   "execution_count": 85,
   "id": "176506f0-b282-4770-b44d-15a4dcb40d66",
   "metadata": {},
   "outputs": [
    {
     "name": "stdout",
     "output_type": "stream",
     "text": [
      "True\n"
     ]
    }
   ],
   "source": [
    "#10)Check if all items in the tuple are the same\n",
    "tu = (33,33,33,33)\n",
    "\n",
    "all_same = True\n",
    "\n",
    "for i in tu:\n",
    "    if i!= tu[0]:\n",
    "        all_same = False\n",
    "        break\n",
    "\n",
    "print(all_same)"
   ]
  },
  {
   "cell_type": "markdown",
   "id": "5dcde8e8-82bf-452d-8832-2ba1f35e6b4a",
   "metadata": {},
   "source": [
    "# Set"
   ]
  },
  {
   "cell_type": "code",
   "execution_count": 93,
   "id": "5ea50d1c-28a4-49cb-8a5a-97a24be7b161",
   "metadata": {},
   "outputs": [
    {
     "data": {
      "text/plain": [
       "{'dad', 'hai', 'madam', 'malayalam', 'python'}"
      ]
     },
     "execution_count": 93,
     "metadata": {},
     "output_type": "execute_result"
    }
   ],
   "source": [
    "#1) Remove the element from the set \n",
    "st = {\"python\", \"dad\", \"hai\", \"malayalam\", \"madam\", \"mom\"}\n",
    "st.remove(\"mom\")\n",
    "st"
   ]
  },
  {
   "cell_type": "code",
   "execution_count": 96,
   "id": "c1c65184-9709-4f6d-96fb-f917dbd517ae",
   "metadata": {},
   "outputs": [
    {
     "data": {
      "text/plain": [
       "{'c++', 'hello'}"
      ]
     },
     "execution_count": 96,
     "metadata": {},
     "output_type": "execute_result"
    }
   ],
   "source": [
    "#2)Display non common element from 2 set\n",
    "set_1 = {\"python\", \"dad\", \"hai\", \"malayalam\", \"madam\", \"mom\"}\n",
    "set_2 = {\"python\", \"dad\", \"hello\",\"hai\", \"malayalam\", \"madam\", \"mom\",\"c++\"}\n",
    "\n",
    "s = set_1.symmetric_difference(set_2)\n",
    "s"
   ]
  },
  {
   "cell_type": "code",
   "execution_count": 98,
   "id": "83680209-07d5-4660-8c1f-e6927b961b30",
   "metadata": {},
   "outputs": [
    {
     "data": {
      "text/plain": [
       "{'Dinga', 'Radha', 'Rama', 'Seetha', 'swapna', 'swathi'}"
      ]
     },
     "execution_count": 98,
     "metadata": {},
     "output_type": "execute_result"
    }
   ],
   "source": [
    "#3)Remove duplicate customer details and display final customer details by considering 2 sets\n",
    "set1 = {'Rama','Dinga','Seetha','Radha'}\n",
    "set2 = {'Rama','swapna','Seetha','swathi'}\n",
    "\n",
    "set1.union(set2)"
   ]
  },
  {
   "cell_type": "code",
   "execution_count": 100,
   "id": "18eb40a9-7f1d-4836-8594-6a175d7b3f34",
   "metadata": {},
   "outputs": [
    {
     "data": {
      "text/plain": [
       "{20, 80}"
      ]
     },
     "execution_count": 100,
     "metadata": {},
     "output_type": "execute_result"
    }
   ],
   "source": [
    "#4)find common elements in three list using sets\n",
    "num1 = [1, 5, 10, 20, 40, 80]\n",
    "num2 = [6, 7, 20, 80, 100]\n",
    "num3 = [3, 4, 15, 20, 30, 70, 80, 120]\n",
    "\n",
    "set1 = set(num1)\n",
    "set2 = set(num2)\n",
    "set3 = set(num3)\n",
    "\n",
    "set1.intersection(set2).intersection(set3)"
   ]
  },
  {
   "cell_type": "code",
   "execution_count": 104,
   "id": "62730164-3434-4f9b-afb0-c664abaa3845",
   "metadata": {},
   "outputs": [
    {
     "data": {
      "text/plain": [
       "{1, 5, 10, 20, 40, 80}"
      ]
     },
     "execution_count": 104,
     "metadata": {},
     "output_type": "execute_result"
    }
   ],
   "source": [
    "#5)Find minimum and maximum in value in set\n",
    "set1 = {1, 5, 10, 20, 40, 80}\n",
    "max(set1)\n",
    "min(set1)"
   ]
  },
  {
   "cell_type": "code",
   "execution_count": 105,
   "id": "2c04e39e-6e0f-4194-9f85-c460ece5ec2d",
   "metadata": {},
   "outputs": [
    {
     "name": "stdout",
     "output_type": "stream",
     "text": [
      "world\n",
      "python\n",
      "hello\n"
     ]
    }
   ],
   "source": [
    "#6)write a program to print strings in the set\n",
    "\n",
    "my_set = {1, 'hello', 3.14, 'world', 42, 'python'}\n",
    "\n",
    "for i in my_set:\n",
    "    if isinstance(i,str):\n",
    "        print(i)"
   ]
  },
  {
   "cell_type": "code",
   "execution_count": 106,
   "id": "ac67347e-f5cc-4ae1-b794-b7e709e48618",
   "metadata": {},
   "outputs": [
    {
     "name": "stdout",
     "output_type": "stream",
     "text": [
      "{'Rama', 'Seetha'}\n"
     ]
    }
   ],
   "source": [
    "#7) print only if common elements are greater than 1\n",
    "\n",
    "set1 = {'Rama','Dinga','Seetha','Radha'}\n",
    "set2 = {'Rama','swapna','Seetha','swathi'}\n",
    "\n",
    "ce = set1.intersection(set2)\n",
    "if len(ce) > 1:\n",
    "    print(ce)\n",
    "else:\n",
    "    print(\"less than 2 common elements.\")\n"
   ]
  },
  {
   "cell_type": "code",
   "execution_count": 107,
   "id": "38e59042-b9bc-4787-bd5c-6240fe16cd12",
   "metadata": {},
   "outputs": [
    {
     "name": "stdout",
     "output_type": "stream",
     "text": [
      "Missing values in list1 = {8, 7}\n",
      "Additional values in list1 = {1, 2, 3}\n",
      "Missing values in list2 = {1, 2, 3}\n",
      "Additional values in list2 = {8, 7}\n"
     ]
    }
   ],
   "source": [
    "# 8)Output : Missing values in list1 = {8, 7} \n",
    "#          Additional values in list1 = {1, 2, 3} \n",
    "#          Missing values in list2 = {1, 2, 3} \n",
    "#          Additional values in list2 = {7, 8} \n",
    "\n",
    "list1 = [1, 2, 3, 4, 5, 6]\n",
    "list2 = [4, 5, 6, 7, 8]\n",
    "\n",
    "\n",
    "set1 = set(list1)\n",
    "set2 = set(list2)\n",
    "\n",
    "missing_in_list1 = set2 - set1\n",
    "additional_in_list1 = set1 - set2\n",
    "missing_in_list2 = set1 - set2\n",
    "additional_in_list2 = set2 - set1\n",
    "\n",
    "print(f\"Missing values in list1 = {missing_in_list1}\")\n",
    "print(f\"Additional values in list1 = {additional_in_list1}\")\n",
    "print(f\"Missing values in list2 = {missing_in_list2}\")\n",
    "print(f\"Additional values in list2 = {additional_in_list2}\")"
   ]
  },
  {
   "cell_type": "code",
   "execution_count": 108,
   "id": "a40fcf1d-00b5-416d-919d-482d0e269688",
   "metadata": {},
   "outputs": [
    {
     "name": "stdout",
     "output_type": "stream",
     "text": [
      "7\n"
     ]
    }
   ],
   "source": [
    "#9)Python program to count number of vowels using sets in given string\n",
    "\n",
    "vowels = {'a', 'e', 'i', 'o', 'u'}\n",
    "cnt = 0\n",
    "s = \"Hello How are you\"\n",
    "\n",
    "for i in s.lower():\n",
    "    if i in vowels:\n",
    "        cnt = cnt+1\n",
    "print(cnt)"
   ]
  },
  {
   "cell_type": "code",
   "execution_count": 111,
   "id": "3be592d2-a8a3-4613-8659-e5a17138cff0",
   "metadata": {},
   "outputs": [
    {
     "data": {
      "text/plain": [
       "False"
      ]
     },
     "execution_count": 111,
     "metadata": {},
     "output_type": "execute_result"
    }
   ],
   "source": [
    "#10)Python | Check if a given string is binary string or not\n",
    "st1 = \"0101010101010\" \n",
    "st2 = '1200' \n",
    "\n",
    "s1 = set(st1)\n",
    "s2 = set(st2)\n",
    "\n",
    "s1.issubset({'0','1'})\n",
    "s2.issubset({'0','1'})"
   ]
  },
  {
   "cell_type": "markdown",
   "id": "ead75cab-7c35-427c-b086-672d6c40f534",
   "metadata": {},
   "source": [
    "# Dict"
   ]
  },
  {
   "cell_type": "code",
   "execution_count": 121,
   "id": "850cbaf2-746a-4d8b-a4bf-15d32cb7b232",
   "metadata": {},
   "outputs": [
    {
     "name": "stdout",
     "output_type": "stream",
     "text": [
      "{'a': 'olleh', 'b': 100, 'c': 10.2, 'd': 'dlrow', 'e': '121'}\n"
     ]
    }
   ],
   "source": [
    "#1)Reverse the values in the dictionary if the value is of type string\n",
    "d = {\"a\": \"hello\", \"b\": 100, \"c\": 10.2, \"d\": \"world\",\"e\":'121'}\n",
    "reversed_dict = {}\n",
    "for key,values in d.items():\n",
    "    if isinstance(values,str):\n",
    "        reversed_dict[key] = values[::-1]\n",
    "    else:\n",
    "        reversed_dict[key] = values\n",
    "\n",
    "print(reversed_dict)"
   ]
  },
  {
   "cell_type": "code",
   "execution_count": 122,
   "id": "99e90e15-d545-47e0-85d2-f90da58c1151",
   "metadata": {},
   "outputs": [
    {
     "name": "stdout",
     "output_type": "stream",
     "text": [
      "{'apple': 2, 'google': 2, 'gmail': 3, 'yahoo': 1}\n"
     ]
    }
   ],
   "source": [
    "#2)create a dictionary with duplicate items and its count pair \n",
    "names = [\"apple\", \"google\", \"gmail\", \"yahoo\", \"gmail\", \"apple\", \"gmail\", \"google\"]\n",
    "\n",
    "count_dict = {}\n",
    "\n",
    "for name in names:\n",
    "    if name in count_dict:\n",
    "        count_dict[name] = count_dict[name]+1\n",
    "    else:\n",
    "        count_dict[name] = 1\n",
    "\n",
    "print(count_dict)"
   ]
  },
  {
   "cell_type": "code",
   "execution_count": 124,
   "id": "4fc989e5-905d-45e9-bc7b-3dce8e0c1829",
   "metadata": {},
   "outputs": [
    {
     "name": "stdout",
     "output_type": "stream",
     "text": [
      "{2: ['apple', 'google'], 3: ['gmail'], 1: ['yahoo']}\n"
     ]
    }
   ],
   "source": [
    "#3)Flip key and value pair in a dictionary\n",
    "d = {'apple': 2, 'google': 2, 'gmail': 3, 'yahoo': 1}\n",
    "flipped_dict = {}\n",
    "\n",
    "for key,values in d.items():\n",
    "    if values in flipped_dict:\n",
    "        flipped_dict[values].append(key)\n",
    "    else:\n",
    "        flipped_dict[values] = [key]\n",
    "\n",
    "print(flipped_dict)\n",
    "\n"
   ]
  },
  {
   "cell_type": "code",
   "execution_count": 127,
   "id": "f9afa1cb-6be0-4c1a-8338-3095384db9b9",
   "metadata": {},
   "outputs": [
    {
     "data": {
      "text/plain": [
       "{0: 0, 1: 1, 2: 4, 3: 9, 4: 16, 5: 25, 6: 36, 7: 49, 8: 64, 9: 81}"
      ]
     },
     "execution_count": 127,
     "metadata": {},
     "output_type": "execute_result"
    }
   ],
   "source": [
    "# 4)Create a dictionary for the range 10 \n",
    "# store n as key square of n as value\n",
    "\n",
    "a = {n:n**2 for n in range(10)}\n",
    "a"
   ]
  },
  {
   "cell_type": "code",
   "execution_count": 130,
   "id": "f46e89c7-875e-4d06-a07d-3c8e7c6b9d45",
   "metadata": {},
   "outputs": [
    {
     "name": "stdout",
     "output_type": "stream",
     "text": [
      "{'a': 'olleh', 'b': 110, 'c': 10.2, 'd': 'dlrow', 'e': 60}\n"
     ]
    }
   ],
   "source": [
    "#5)Reveres the values in dictionary if type of value is string, if integer add 10,if float keep as it is \n",
    "d = {\"a\": \"hello\", \"b\": 100, \"c\": 10.2, \"d\": \"world\", \"e\": 50}\n",
    "modified_dict = {}\n",
    "\n",
    "for key,values in d.items():\n",
    "    if isinstance(values,str):\n",
    "        modified_dict[key] = values[::-1]\n",
    "    elif isinstance(values,int):\n",
    "        modified_dict[key] = values +10\n",
    "    elif isinstance(values, float):\n",
    "        modified_dict[key] = values\n",
    "    else:\n",
    "        modified_dict[key] = values\n",
    "print(modified_dict)"
   ]
  },
  {
   "cell_type": "code",
   "execution_count": 131,
   "id": "573bcc08-8dbb-43d1-9b03-adc4ae226b79",
   "metadata": {},
   "outputs": [
    {
     "name": "stdout",
     "output_type": "stream",
     "text": [
      "{'python': 2, 'is': 2}\n"
     ]
    }
   ],
   "source": [
    "# 6)create a dictionary with duplicate word with count pair                                                                                                        \n",
    "#   string = \"python is a language python program is easy\"\n",
    "#    o/p = {'python':2,\"is\":2}\n",
    "\n",
    "string = \"python is a language python program is easy\"\n",
    "\n",
    "\n",
    "words = string.split()\n",
    "word_count = {}\n",
    "\n",
    "for word in words:\n",
    "    if word in word_count:\n",
    "        word_count[word] += 1\n",
    "    else:\n",
    "        word_count[word] = 1\n",
    "\n",
    "duplicates = {word: count for word, count in word_count.items() if count > 1}\n",
    "\n",
    "print(duplicates)"
   ]
  },
  {
   "cell_type": "code",
   "execution_count": 134,
   "id": "5c937158-8c90-47e3-b214-a8d829bd0843",
   "metadata": {},
   "outputs": [
    {
     "data": {
      "text/plain": [
       "{'a': 1, 'b': 2, 'c': 3, 'd': 4}"
      ]
     },
     "execution_count": 134,
     "metadata": {},
     "output_type": "execute_result"
    }
   ],
   "source": [
    "#7) Create a dictionary by using two lists                                                                                                                                        \n",
    "l2 = [1,2,3,4]\n",
    "l1 = ['a','b','c','d']\n",
    "d = {}\n",
    "\n",
    "d = dict(zip(l1,l2))\n",
    "d"
   ]
  },
  {
   "cell_type": "code",
   "execution_count": 136,
   "id": "d34480f8-b64e-4292-a932-1251fbec6bc1",
   "metadata": {},
   "outputs": [
    {
     "name": "stdout",
     "output_type": "stream",
     "text": [
      "['S007', 'S009', 'S001', 'S002', 'S005']\n"
     ]
    }
   ],
   "source": [
    "#8)Write a Python program to print all unique values in a dictionary. \n",
    "li = [{\"V\":\"S001\"}, {\"V\": \"S002\"}, {\"VI\": \"S001\"}, {\"VI\": \"S005\"}, {\"VII\":\"S005\"}, {\"V\":\"S009\"},{\"VIII\":\"S007\"}]\n",
    "\n",
    "uq_val = set()\n",
    "\n",
    "for dic in li:\n",
    "    for value in dic.values():\n",
    "        uq_val.add(value)\n",
    "\n",
    "unique_values_list = list(uq_val)\n",
    "\n",
    "print(unique_values_list)"
   ]
  },
  {
   "cell_type": "code",
   "execution_count": 140,
   "id": "61a75975-d34a-4a25-9eed-4d946229c58e",
   "metadata": {},
   "outputs": [
    {
     "name": "stdout",
     "output_type": "stream",
     "text": [
      "600\n"
     ]
    }
   ],
   "source": [
    "#9)Find sum of all the values in a dictionary                                                                                                                              \n",
    "Input  = {'a': 100, 'b':200, 'c':300}\n",
    "\n",
    "su = 0\n",
    "for key,value in Input.items():\n",
    "    su = su + value\n",
    "\n",
    "print(su)"
   ]
  },
  {
   "cell_type": "code",
   "execution_count": 142,
   "id": "3ead49c0-8aad-4b0b-925c-4b0b1389404a",
   "metadata": {},
   "outputs": [
    {
     "name": "stdin",
     "output_type": "stream",
     "text": [
      "Enter the student's name:  s\n",
      "Enter the student's marks separated by spaces:  12\n",
      "Enter the student's name:  w\n",
      "Enter the student's marks separated by spaces:  23\n",
      "Enter the student's name:  d\n",
      "Enter the student's marks separated by spaces:  22\n",
      "Enter the student's name:  f\n",
      "Enter the student's marks separated by spaces:  44\n",
      "Enter the student's name:  f\n",
      "Enter the student's marks separated by spaces:  32\n"
     ]
    },
    {
     "name": "stdout",
     "output_type": "stream",
     "text": [
      "{'s': 'E', 'w': 'E', 'd': 'E', 'f': 'E'}\n"
     ]
    }
   ],
   "source": [
    "#10)Input 5 students name and 5 students marks if they score \n",
    "# 1. score >= 90 : \"A\"\n",
    "# 2. score >= 80 : \"B\"\n",
    "# 3. score >= 70 : \"C\"\n",
    "# 4. score >= 60 : \"D\"\n",
    "# 4. score < 60 : \"E\"\n",
    "# show it in dictionary\n",
    "# EXAMPLE\n",
    "# NAME = 'joy'\n",
    "# MARKS = [85,55,78,66,75]\n",
    "# D = {'joy':'B'.............}\n",
    "\n",
    "grades_dict = {}\n",
    "\n",
    "for _ in range(5):\n",
    "    name = input(\"Enter the student's name: \")\n",
    "\n",
    "    marks = list(map(int, input(\"Enter the student's marks separated by spaces: \").split()))\n",
    "    average_score = sum(marks) / len(marks)\n",
    "    if average_score >= 90:\n",
    "        grade = \"A\"\n",
    "    elif average_score >= 80:\n",
    "        grade = \"B\"\n",
    "    elif average_score >= 70:\n",
    "        grade = \"C\"\n",
    "    elif average_score >= 60:\n",
    "        grade = \"D\"\n",
    "    else:\n",
    "        grade = \"E\"\n",
    "    \n",
    "    grades_dict[name] = grade\n",
    "print(grades_dict)\n"
   ]
  },
  {
   "cell_type": "code",
   "execution_count": null,
   "id": "90eecb57-f0fa-403f-b148-cb6cbd365877",
   "metadata": {},
   "outputs": [],
   "source": []
  }
 ],
 "metadata": {
  "kernelspec": {
   "display_name": "Python 3 (ipykernel)",
   "language": "python",
   "name": "python3"
  },
  "language_info": {
   "codemirror_mode": {
    "name": "ipython",
    "version": 3
   },
   "file_extension": ".py",
   "mimetype": "text/x-python",
   "name": "python",
   "nbconvert_exporter": "python",
   "pygments_lexer": "ipython3",
   "version": "3.11.7"
  }
 },
 "nbformat": 4,
 "nbformat_minor": 5
}
